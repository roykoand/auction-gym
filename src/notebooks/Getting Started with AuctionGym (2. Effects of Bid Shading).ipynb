{
 "cells": [
  {
   "cell_type": "markdown",
   "id": "090120de",
   "metadata": {},
   "source": [
    "# Getting Started with AuctionGym\n",
    "## Effects of Bid Shading in First-Price Auctions"
   ]
  },
  {
   "cell_type": "markdown",
   "id": "f321a488",
   "metadata": {},
   "source": [
    "AuctionGym has several configuration options that detail the type of auction, how bidders behave, and how confounded the contextual information is that bidders observe. To avoid clutter, we define these in configuration files.\n",
    "For the purposes of this introductory notebook, we will ignore some aspects such as repeated runs.\n",
    "\n",
    "We parse an existing file, detailing a first-price auction with oracle bidders.\n",
    "We will look into the effects of bid shading on the auctioneer's revenue, social welfare and surplus.\n",
    "For this, we repeat simulated experiments with the same set of bidders, changing how their bidding strategy."
   ]
  },
  {
   "cell_type": "code",
   "execution_count": 9,
   "id": "ca8aeae4",
   "metadata": {},
   "outputs": [],
   "source": [
    "import matplotlib.pyplot as plt\n",
    "import numpy as np\n",
    "from collections import defaultdict\n",
    "from main import parse_config, instantiate_agents, instantiate_auction\n",
    "from tqdm.notebook import tqdm"
   ]
  },
  {
   "cell_type": "code",
   "execution_count": 11,
   "id": "af5fa209",
   "metadata": {},
   "outputs": [
    {
     "name": "stdout",
     "output_type": "stream",
     "text": [
      "agents2item_values.shape =  {'DR 1': array([1.06087655, 0.89711427, 1.24935151, 1.06176653, 1.01270638,\n",
      "       1.22625934, 1.00469518, 1.45906526, 1.18564984, 1.0051466 ,\n",
      "       0.74912232, 0.85082345]), 'DR 2': array([1.3735054 , 1.0940421 , 1.04432943, 1.53518412, 0.85510599,\n",
      "       0.98301435, 1.00549752, 1.24267642, 0.96782205, 0.97757177,\n",
      "       0.80169273, 1.27873317]), 'DR 3': array([1.29852353, 1.00473583, 1.14187082, 0.85339802, 1.00565329,\n",
      "       1.45585039, 1.13558297, 1.75430488, 0.94417991, 1.24117298,\n",
      "       1.06279139, 1.23758707])}\n"
     ]
    }
   ],
   "source": [
    "# Parse configuration file\n",
    "rng, config, agent_configs, agents2items, agents2item_values,\\\n",
    "num_runs, max_slots, embedding_size, embedding_variance,\\\n",
    "obs_embedding_size = parse_config('../config/FP_DR_TS.json')"
   ]
  },
  {
   "cell_type": "code",
   "execution_count": 12,
   "id": "b88ff916-aebf-42cf-8d92-dbf373a9b2fd",
   "metadata": {
    "scrolled": true
   },
   "outputs": [
    {
     "name": "stdout",
     "output_type": "stream",
     "text": [
      "agents2item_values.shape =  {'DR 1': array([1.06087655, 0.89711427, 1.24935151, 1.06176653, 1.01270638,\n",
      "       1.22625934, 1.00469518, 1.45906526, 1.18564984, 1.0051466 ,\n",
      "       0.74912232, 0.85082345]), 'DR 2': array([1.3735054 , 1.0940421 , 1.04432943, 1.53518412, 0.85510599,\n",
      "       0.98301435, 1.00549752, 1.24267642, 0.96782205, 0.97757177,\n",
      "       0.80169273, 1.27873317]), 'DR 3': array([1.29852353, 1.00473583, 1.14187082, 0.85339802, 1.00565329,\n",
      "       1.45585039, 1.13558297, 1.75430488, 0.94417991, 1.24117298,\n",
      "       1.06279139, 1.23758707])}\n"
     ]
    },
    {
     "data": {
      "text/plain": [
       "(Generator(PCG64) at 0x16C8504A0,\n",
       " {'random_seed': 0,\n",
       "  'num_runs': 5,\n",
       "  'num_iter': 30,\n",
       "  'rounds_per_iter': 10000,\n",
       "  'num_participants_per_round': 2,\n",
       "  'embedding_size': 5,\n",
       "  'embedding_variance': 1.0,\n",
       "  'obs_embedding_size': 4,\n",
       "  'allocation': 'FirstPrice',\n",
       "  'agents': [{'name': 'DR',\n",
       "    'num_copies': 3,\n",
       "    'num_items': 12,\n",
       "    'allocator': {'type': 'PyTorchLogisticRegressionAllocator',\n",
       "     'kwargs': {'embedding_size': 4, 'num_items': 12}},\n",
       "    'bidder': {'type': 'DoublyRobustBidder',\n",
       "     'kwargs': {'gamma_sigma': 0.02, 'init_gamma': 1.0}}}],\n",
       "  'output_dir': 'results/FP_DR_TS/'},\n",
       " [{'name': 'DR 1',\n",
       "   'num_copies': 3,\n",
       "   'num_items': 12,\n",
       "   'allocator': {'type': 'PyTorchLogisticRegressionAllocator',\n",
       "    'kwargs': {'embedding_size': 4, 'num_items': 12}},\n",
       "   'bidder': {'type': 'DoublyRobustBidder',\n",
       "    'kwargs': {'gamma_sigma': 0.02, 'init_gamma': 1.0}}},\n",
       "  {'name': 'DR 2',\n",
       "   'num_copies': 3,\n",
       "   'num_items': 12,\n",
       "   'allocator': {'type': 'PyTorchLogisticRegressionAllocator',\n",
       "    'kwargs': {'embedding_size': 4, 'num_items': 12}},\n",
       "   'bidder': {'type': 'DoublyRobustBidder',\n",
       "    'kwargs': {'gamma_sigma': 0.02, 'init_gamma': 1.0}}},\n",
       "  {'name': 'DR 3',\n",
       "   'num_copies': 3,\n",
       "   'num_items': 12,\n",
       "   'allocator': {'type': 'PyTorchLogisticRegressionAllocator',\n",
       "    'kwargs': {'embedding_size': 4, 'num_items': 12}},\n",
       "   'bidder': {'type': 'DoublyRobustBidder',\n",
       "    'kwargs': {'gamma_sigma': 0.02, 'init_gamma': 1.0}}}],\n",
       " {'DR 1': array([[ 0.12573022, -0.13210486,  0.64042265,  0.10490012, -0.53566937,\n",
       "          -3.12740301],\n",
       "         [ 0.36159505,  1.30400005,  0.94708096, -0.70373524, -1.26542147,\n",
       "          -3.07356291],\n",
       "         [-0.62327446,  0.04132598, -2.32503077, -0.21879166, -1.24591095,\n",
       "          -3.07032625],\n",
       "         [-0.73226735, -0.54425898, -0.31630016,  0.41163054,  1.04251337,\n",
       "          -3.86885429],\n",
       "         [-0.12853466,  1.36646347, -0.66519467,  0.35151007,  0.90347018,\n",
       "          -3.63406998],\n",
       "         [ 0.0940123 , -0.74349925, -0.92172538, -0.45772583,  0.22019512,\n",
       "          -3.49657169],\n",
       "         [-1.00961818, -0.20917557, -0.15922501,  0.54084558,  0.21465912,\n",
       "          -3.16354342],\n",
       "         [ 0.35537271, -0.65382861, -0.12961363,  0.78397547,  1.49343115,\n",
       "          -3.67373344],\n",
       "         [-1.25906553,  1.51392377,  1.34587542,  0.7813114 ,  0.26445563,\n",
       "          -3.31801739],\n",
       "         [-0.31392281,  1.45802068,  1.96025832,  1.80163487,  1.31510376,\n",
       "          -3.71087986],\n",
       "         [ 0.35738041, -1.20831863, -0.00445413,  0.65647494, -1.28836146,\n",
       "          -3.46035533],\n",
       "         [ 0.39512206,  0.42986369,  0.69604272, -1.18411797, -0.66170257,\n",
       "          -3.50746986]]),\n",
       "  'DR 2': array([[-0.43643525, -1.16980191,  1.73936788, -0.49591073,  0.32896963,\n",
       "          -3.78966573],\n",
       "         [-0.25857255,  1.58347288,  1.32036099,  0.63335262, -2.20350988,\n",
       "          -3.09274548],\n",
       "         [ 0.05202897,  0.68368619,  1.00396158, -0.61790704,  1.82201136,\n",
       "          -3.5787585 ],\n",
       "         [-1.32043097, -0.66152802,  0.93504999,  0.04905461,  2.00239258,\n",
       "          -3.19723495],\n",
       "         [ 0.18851919, -0.63319409, -0.37756351, -1.09114612, -1.27768017,\n",
       "          -3.80813675],\n",
       "         [ 0.63041149,  0.58116581,  1.29455882, -0.75460579,  1.68910745,\n",
       "          -3.48884604],\n",
       "         [-0.28738771,  1.57440828, -0.43278585, -0.73548329,  0.24978537,\n",
       "          -3.98869533],\n",
       "         [ 1.03145308,  0.16100958, -0.58552882, -1.34121971, -1.40152021,\n",
       "          -3.18294332],\n",
       "         [ 0.50268285,  0.98971303, -0.16429459, -1.07436486,  0.87304215,\n",
       "          -3.96301914],\n",
       "         [-1.28039394, -0.7130681 ,  0.62101785, -2.25014117,  0.3863696 ,\n",
       "          -3.80091704],\n",
       "         [-0.58164084,  0.1092797 , -0.07570153,  0.2021144 ,  0.69417194,\n",
       "          -3.4812605 ],\n",
       "         [-0.75836975,  1.42098202,  0.72609379,  0.84373266,  1.16486398,\n",
       "          -3.81353406]]),\n",
       "  'DR 3': array([[ 0.78758822,  0.84407868,  0.07559361, -1.42677385, -0.1350451 ,\n",
       "          -3.60284891],\n",
       "         [-0.76951464, -1.42274177,  0.25845279, -0.56854945, -1.02980444,\n",
       "          -3.65512106],\n",
       "         [-1.04300108,  0.26841708,  0.35867195,  1.32245747, -0.01391467,\n",
       "          -3.91369076],\n",
       "         [ 1.04183976,  1.40226483,  1.15016564, -2.36530391,  1.22868372,\n",
       "          -3.06527042],\n",
       "         [ 0.33962001,  0.42377135,  0.37122742,  0.38275716,  0.31941422,\n",
       "          -3.8349882 ],\n",
       "         [-0.35891331, -1.9016353 , -0.10891473, -0.80373185,  1.08016341,\n",
       "          -3.38181478],\n",
       "         [-0.28876651,  0.08347536, -0.84960596, -0.51062247, -0.01153306,\n",
       "          -3.32554562],\n",
       "         [-1.48537518,  0.30068511, -0.10607225, -1.18571981, -2.39823287,\n",
       "          -3.99402677],\n",
       "         [ 0.51305213, -0.29758404, -0.53000841, -0.23615463,  1.81647594,\n",
       "          -3.7811905 ],\n",
       "         [-0.04980097,  0.08661926, -1.48707287,  1.64733907,  0.91748798,\n",
       "          -3.48553514],\n",
       "         [ 1.06693487,  0.04767273,  0.91665479,  0.37094684,  0.61318908,\n",
       "          -3.4226284 ],\n",
       "         [-0.15219296, -1.47388795,  1.02885435, -1.93495964, -0.23993667,\n",
       "          -3.87752891]])},\n",
       " {'DR 1': array([1.06087655, 0.89711427, 1.24935151, 1.06176653, 1.01270638,\n",
       "         1.22625934, 1.00469518, 1.45906526, 1.18564984, 1.0051466 ,\n",
       "         0.74912232, 0.85082345]),\n",
       "  'DR 2': array([1.3735054 , 1.0940421 , 1.04432943, 1.53518412, 0.85510599,\n",
       "         0.98301435, 1.00549752, 1.24267642, 0.96782205, 0.97757177,\n",
       "         0.80169273, 1.27873317]),\n",
       "  'DR 3': array([1.29852353, 1.00473583, 1.14187082, 0.85339802, 1.00565329,\n",
       "         1.45585039, 1.13558297, 1.75430488, 0.94417991, 1.24117298,\n",
       "         1.06279139, 1.23758707])},\n",
       " 5,\n",
       " 1,\n",
       " 5,\n",
       " 1.0,\n",
       " 4)"
      ]
     },
     "execution_count": 12,
     "metadata": {},
     "output_type": "execute_result"
    }
   ],
   "source": [
    "parse_config('../config/FP_DR_TS.json')"
   ]
  },
  {
   "cell_type": "code",
   "execution_count": 13,
   "id": "e105767c",
   "metadata": {},
   "outputs": [],
   "source": [
    "def run_repeated_auctions():\n",
    "    # Placeholders for output\n",
    "    auction_revenue = []\n",
    "    social_welfare = []\n",
    "    social_surplus = []\n",
    "    \n",
    "    # Instantiate Agent and Auction objects\n",
    "    agents = instantiate_agents(rng, agent_configs, agents2item_values, agents2items)\n",
    "\n",
    "    # Instantiate Auction object\n",
    "    auction, num_iter, rounds_per_iter, output_dir =\\\n",
    "        instantiate_auction(rng,\n",
    "                            config,\n",
    "                            agents2items,\n",
    "                            agents2item_values,\n",
    "                            agents,\n",
    "                            max_slots,\n",
    "                            embedding_size,\n",
    "                            embedding_variance,\n",
    "                            obs_embedding_size)\n",
    "\n",
    "    # Run repeated auctions\n",
    "    # This logic is encoded in the `simulation_run()` method in main.py\n",
    "    for i in tqdm(range(num_iter)):\n",
    "\n",
    "        # Simulate impression opportunities\n",
    "        for _ in range(rounds_per_iter):\n",
    "            auction.simulate_opportunity()\n",
    "\n",
    "        # Log 'Gross utility' or welfare\n",
    "        social_welfare.append(sum([agent.gross_utility for agent in auction.agents]))\n",
    "\n",
    "        # Log 'Net utility' or surplus\n",
    "        social_surplus.append(sum([agent.net_utility for agent in auction.agents]))\n",
    "        \n",
    "        # Update agents (does nothing in this example, as we have truthful oracles)\n",
    "        # Clear running metrics\n",
    "        for agent_id, agent in enumerate(auction.agents):\n",
    "            agent.update(iteration=i)\n",
    "            agent.clear_utility()\n",
    "            agent.clear_logs()\n",
    "\n",
    "        # Log revenue\n",
    "        auction_revenue.append(auction.revenue)\n",
    "        auction.clear_revenue()\n",
    "        \n",
    "    # Rescale metrics per auction round\n",
    "    auction_revenue = np.array(auction_revenue) / rounds_per_iter\n",
    "    social_welfare = np.array(social_welfare) / rounds_per_iter\n",
    "    social_surplus = np.array(social_surplus) / rounds_per_iter\n",
    "    \n",
    "    return auction_revenue, social_welfare, social_surplus"
   ]
  },
  {
   "cell_type": "code",
   "execution_count": 14,
   "id": "624db1ca",
   "metadata": {},
   "outputs": [
    {
     "name": "stdout",
     "output_type": "stream",
     "text": [
      "self.item_values.shape =  (12,)\n",
      "self.item_values.shape =  (12,)\n",
      "self.item_values.shape =  (12,)\n"
     ]
    },
    {
     "data": {
      "application/vnd.jupyter.widget-view+json": {
       "model_id": "b4464a28b3704371858b9a7646b5b947",
       "version_major": 2,
       "version_minor": 0
      },
      "text/plain": [
       "  0%|          | 0/30 [00:00<?, ?it/s]"
      ]
     },
     "metadata": {},
     "output_type": "display_data"
    },
    {
     "name": "stderr",
     "output_type": "stream",
     "text": [
      "\n",
      " ... (more hidden) ...\u001b[A\n",
      " ... (more hidden) ...\u001b[A\n",
      " ... (more hidden) ...\u001b[A\n",
      " ... (more hidden) ...\u001b[A\n",
      " ... (more hidden) ...\u001b[A\n",
      " ... (more hidden) ...\u001b[A\n",
      " ... (more hidden) ...\u001b[A\n",
      " ... (more hidden) ...\u001b[A\n",
      " ... (more hidden) ...\u001b[A\n",
      " ... (more hidden) ...\u001b[A\n",
      " ... (more hidden) ...\u001b[A\n",
      " ... (more hidden) ...\u001b[A\n",
      " ... (more hidden) ...\u001b[A\n",
      " ... (more hidden) ...\u001b[A\n",
      "DR 1:  43%|████████████████████████████████████████████████                                                                | 7034/16384 [00:01<00:02, 4667.28it/s]\n",
      "/Users/AndriiRoiko/auction-gym/src/Models.py:43: UserWarning: The use of `x.T` on tensors of dimension other than 2 to reverse their shape is deprecated and it will throw an error in a future release. Consider `x.mT` to transpose batches of matrices or `x.permute(*torch.arange(x.ndim - 1, -1, -1))` to reverse the dimensions of a tensor. (Triggered internally at /Users/runner/work/pytorch/pytorch/pytorch/aten/src/ATen/native/TensorShape.cpp:3679.)\n",
      "  P = (1 + torch.exp(1 - X.matmul(self.m[item, :].T))) ** (-1)\n",
      "/opt/homebrew/lib/python3.11/site-packages/torch/optim/lr_scheduler.py:28: UserWarning: The verbose parameter is deprecated. Please use get_last_lr() to access the learning rate.\n",
      "  warnings.warn(\"The verbose parameter is deprecated. Please use get_last_lr() \"\n"
     ]
    },
    {
     "name": "stdout",
     "output_type": "stream",
     "text": [
      "Stopping at Epoch 7034\n"
     ]
    },
    {
     "name": "stderr",
     "output_type": "stream",
     "text": [
      "\n",
      " ... (more hidden) ...\u001b[A\n",
      " ... (more hidden) ...\u001b[A\n",
      " ... (more hidden) ...\u001b[A\n",
      " ... (more hidden) ...\u001b[A\n",
      " ... (more hidden) ...\u001b[A\n",
      " ... (more hidden) ...\u001b[A\n",
      " ... (more hidden) ...\u001b[A\n",
      " ... (more hidden) ...\u001b[A\n",
      " ... (more hidden) ...\u001b[A\n",
      " ... (more hidden) ...\u001b[A\n",
      " ... (more hidden) ...\u001b[A\n",
      " ... (more hidden) ...\u001b[A\n",
      " ... (more hidden) ...\u001b[A\n",
      " ... (more hidden) ...\u001b[A\n",
      " ... (more hidden) ...\u001b[A\n",
      " ... (more hidden) ...\u001b[A\n",
      " ... (more hidden) ...\u001b[A\n",
      " ... (more hidden) ...\u001b[A\n",
      " ... (more hidden) ...\u001b[A\n",
      " ... (more hidden) ...\u001b[A\n",
      " ... (more hidden) ...\u001b[A\n",
      " ... (more hidden) ...\u001b[A\n",
      " ... (more hidden) ...\u001b[A\n",
      " ... (more hidden) ...\u001b[A\n",
      " ... (more hidden) ...\u001b[A\n",
      " ... (more hidden) ...\u001b[A\n",
      " ... (more hidden) ...\u001b[A\n",
      " ... (more hidden) ...\u001b[A\n",
      " ... (more hidden) ...\u001b[A\n",
      " ... (more hidden) ...\u001b[A\n",
      " ... (more hidden) ...\u001b[A\n",
      " ... (more hidden) ...\u001b[A\n",
      " ... (more hidden) ...\u001b[A\n",
      " ... (more hidden) ...\u001b[A\n",
      " ... (more hidden) ...\u001b[A\n",
      " ... (more hidden) ...\u001b[A\n",
      " ... (more hidden) ...\u001b[A\n",
      " ... (more hidden) ...\u001b[A\n",
      " ... (more hidden) ...\u001b[A\n",
      " ... (more hidden) ...\u001b[A\n",
      " ... (more hidden) ...\u001b[A\n",
      " ... (more hidden) ...\u001b[A\n",
      " ... (more hidden) ...\u001b[A\n",
      " ... (more hidden) ...\u001b[A\n",
      " ... (more hidden) ...\u001b[A\n",
      " ... (more hidden) ...\u001b[A\n",
      " ... (more hidden) ...\u001b[A\n",
      " ... (more hidden) ...\u001b[A\n",
      " ... (more hidden) ...\u001b[A\n",
      " ... (more hidden) ...\u001b[A\n",
      " ... (more hidden) ...\u001b[A\n",
      " ... (more hidden) ...\u001b[A\n",
      " ... (more hidden) ...\u001b[A\n",
      " ... (more hidden) ...\u001b[A\n",
      " ... (more hidden) ...\u001b[A\n",
      " ... (more hidden) ...\u001b[A\n",
      " ... (more hidden) ...\u001b[A\n",
      " ... (more hidden) ...\u001b[A\n",
      " ... (more hidden) ...\u001b[A\n",
      " ... (more hidden) ...\u001b[A\n",
      " ... (more hidden) ...\u001b[A\n",
      " ... (more hidden) ...\u001b[A\n",
      " ... (more hidden) ...\u001b[A\n",
      " ... (more hidden) ...\u001b[A\n",
      " ... (more hidden) ...\u001b[A\n",
      " ... (more hidden) ...\u001b[A\n",
      " ... (more hidden) ...\u001b[A\n",
      " ... (more hidden) ...\u001b[A\n",
      " ... (more hidden) ...\u001b[A\n",
      " ... (more hidden) ...\u001b[A\n",
      " ... (more hidden) ...\u001b[A\n",
      " ... (more hidden) ...\u001b[A\n",
      " ... (more hidden) ...\u001b[A\n",
      " ... (more hidden) ...\u001b[A\n",
      " ... (more hidden) ...\u001b[A\n",
      " ... (more hidden) ...\u001b[A\n",
      " ... (more hidden) ...\u001b[A\n",
      " ... (more hidden) ...\u001b[A\n",
      " ... (more hidden) ...\u001b[A\n",
      "DR 1: 100%|███████████████████████████████████████████████████████████████████████████████████████████████████████████████| 32768/32768 [00:08<00:00, 3847.17it/s]\n"
     ]
    },
    {
     "name": "stdout",
     "output_type": "stream",
     "text": [
      "AUC predicting P(win):\t\t\t\t 0.6673449200278774\n",
      "Estimated Utility\t Mean Error:\t\t\t 0.12675749300529268\n",
      "Estimated Utility\t Mean Absolute Error:\t 0.1385047985597364\n"
     ]
    },
    {
     "name": "stderr",
     "output_type": "stream",
     "text": [
      "\n",
      " ... (more hidden) ...\u001b[A\n",
      " ... (more hidden) ...\u001b[A\n",
      " ... (more hidden) ...\u001b[A\n",
      " ... (more hidden) ...\u001b[A\n",
      " ... (more hidden) ...\u001b[A\n",
      " ... (more hidden) ...\u001b[A\n",
      " ... (more hidden) ...\u001b[A\n",
      " ... (more hidden) ...\u001b[A\n",
      " ... (more hidden) ...\u001b[A\n",
      " ... (more hidden) ...\u001b[A\n",
      " ... (more hidden) ...\u001b[A\n",
      " ... (more hidden) ...\u001b[A\n",
      " ... (more hidden) ...\u001b[A\n",
      " ... (more hidden) ...\u001b[A\n",
      " ... (more hidden) ...\u001b[A\n",
      " ... (more hidden) ...\u001b[A\n",
      " ... (more hidden) ...\u001b[A\n",
      " ... (more hidden) ...\u001b[A\n",
      " ... (more hidden) ...\u001b[A\n",
      " ... (more hidden) ...\u001b[A\n",
      " ... (more hidden) ...\u001b[A\n",
      " ... (more hidden) ...\u001b[A\n",
      " ... (more hidden) ...\u001b[A\n",
      " ... (more hidden) ...\u001b[A\n",
      " ... (more hidden) ...\u001b[A\n",
      " ... (more hidden) ...\u001b[A\n",
      " ... (more hidden) ...\u001b[A\n",
      " ... (more hidden) ...\u001b[A\n",
      " ... (more hidden) ...\u001b[A\n",
      " ... (more hidden) ...\u001b[A\n",
      " ... (more hidden) ...\u001b[A\n",
      " ... (more hidden) ...\u001b[A\n",
      " ... (more hidden) ...\u001b[A\n",
      " ... (more hidden) ...\u001b[A\n",
      " ... (more hidden) ...\u001b[A\n",
      " ... (more hidden) ...\u001b[A\n",
      " ... (more hidden) ...\u001b[A\n",
      " ... (more hidden) ...\u001b[A\n",
      " ... (more hidden) ...\u001b[A\n",
      " ... (more hidden) ...\u001b[A\n",
      " ... (more hidden) ...\u001b[A\n",
      " ... (more hidden) ...\u001b[A\n",
      " ... (more hidden) ...\u001b[A\n",
      " ... (more hidden) ...\u001b[A\n",
      " ... (more hidden) ...\u001b[A\n",
      " ... (more hidden) ...\u001b[A\n",
      " ... (more hidden) ...\u001b[A\n",
      " ... (more hidden) ...\u001b[A\n",
      " ... (more hidden) ...\u001b[A\n",
      " ... (more hidden) ...\u001b[A\n",
      " ... (more hidden) ...\u001b[A\n",
      " ... (more hidden) ...\u001b[A\n",
      " ... (more hidden) ...\u001b[A\n",
      " ... (more hidden) ...\u001b[A\n",
      " ... (more hidden) ...\u001b[A\n",
      " ... (more hidden) ...\u001b[A\n",
      " ... (more hidden) ...\u001b[A\n",
      " ... (more hidden) ...\u001b[A\n",
      " ... (more hidden) ...\u001b[A\n",
      " ... (more hidden) ...\u001b[A\n",
      " ... (more hidden) ...\u001b[A\n",
      " ... (more hidden) ...\u001b[A\n",
      " ... (more hidden) ...\u001b[A\n",
      " ... (more hidden) ...\u001b[A\n",
      " ... (more hidden) ...\u001b[A\n",
      " ... (more hidden) ...\u001b[A\n",
      " ... (more hidden) ...\u001b[A\n",
      " ... (more hidden) ...\u001b[A\n",
      " ... (more hidden) ...\u001b[A\n",
      " ... (more hidden) ...\u001b[A\n",
      " ... (more hidden) ...\u001b[A\n",
      " ... (more hidden) ...\u001b[A\n",
      " ... (more hidden) ...\u001b[A\n",
      " ... (more hidden) ...\u001b[A\n",
      " ... (more hidden) ...\u001b[A\n",
      " ... (more hidden) ...\u001b[A\n",
      " ... (more hidden) ...\u001b[A\n",
      " ... (more hidden) ...\u001b[A\n",
      " ... (more hidden) ...\u001b[A\n",
      " ... (more hidden) ...\u001b[A\n",
      " ... (more hidden) ...\u001b[A\n",
      " ... (more hidden) ...\u001b[A\n",
      " ... (more hidden) ...\u001b[A\n",
      " ... (more hidden) ...\u001b[A\n",
      " ... (more hidden) ...\u001b[A\n",
      " ... (more hidden) ...\u001b[A\n",
      " ... (more hidden) ...\u001b[A\n",
      " ... (more hidden) ...\u001b[A\n",
      " ... (more hidden) ...\u001b[A\n",
      " ... (more hidden) ...\u001b[A\n",
      " ... (more hidden) ...\u001b[A\n",
      " ... (more hidden) ...\u001b[A\n",
      " ... (more hidden) ...\u001b[A\n",
      " ... (more hidden) ...\u001b[A\n",
      " ... (more hidden) ...\u001b[A\n",
      " ... (more hidden) ...\u001b[A\n",
      " ... (more hidden) ...\u001b[A\n",
      " ... (more hidden) ...\u001b[A\n",
      " ... (more hidden) ...\u001b[A\n",
      " ... (more hidden) ...\u001b[A\n",
      " ... (more hidden) ...\u001b[A\n",
      " ... (more hidden) ...\u001b[A\n",
      " ... (more hidden) ...\u001b[A\n",
      " ... (more hidden) ...\u001b[A\n",
      " ... (more hidden) ...\u001b[A\n",
      " ... (more hidden) ...\u001b[A\n",
      " ... (more hidden) ...\u001b[A\n",
      " ... (more hidden) ...\u001b[A\n",
      " ... (more hidden) ...\u001b[A\n",
      " ... (more hidden) ...\u001b[A\n",
      " ... (more hidden) ...\u001b[A\n",
      " ... (more hidden) ...\u001b[A\n",
      " ... (more hidden) ...\u001b[A\n",
      " ... (more hidden) ...\u001b[A\n",
      " ... (more hidden) ...\u001b[A\n",
      " ... (more hidden) ...\u001b[A\n",
      " ... (more hidden) ...\u001b[A\n",
      " ... (more hidden) ...\u001b[A\n",
      " ... (more hidden) ...\u001b[A\n",
      " ... (more hidden) ...\u001b[A\n",
      " ... (more hidden) ...\u001b[A\n",
      " ... (more hidden) ...\u001b[A\n",
      " ... (more hidden) ...\u001b[A\n",
      " ... (more hidden) ...\u001b[A\n",
      " ... (more hidden) ...\u001b[A\n",
      "Initialising Policy: 100%|████████████████████████████████████████████████████████████████████████████████████████████████| 16384/16384 [00:12<00:00, 1272.15it/s]\n",
      "/opt/homebrew/lib/python3.11/site-packages/torch/optim/lr_scheduler.py:28: UserWarning: The verbose parameter is deprecated. Please use get_last_lr() to access the learning rate.\n",
      "  warnings.warn(\"The verbose parameter is deprecated. Please use get_last_lr() \"\n"
     ]
    },
    {
     "name": "stdout",
     "output_type": "stream",
     "text": [
      "Predicted mu Gammas:  tensor(0.9745, grad_fn=<MinBackward1>) tensor(1.0191, grad_fn=<MaxBackward1>) tensor(0.9997, grad_fn=<MeanBackward0>)\n",
      "Predicted sigma Gammas:  tensor(0.0389, grad_fn=<MinBackward1>) tensor(0.0752, grad_fn=<MaxBackward1>) tensor(0.0512, grad_fn=<MeanBackward0>)\n"
     ]
    },
    {
     "name": "stderr",
     "output_type": "stream",
     "text": [
      "\n",
      " ... (more hidden) ...\u001b[A\n",
      " ... (more hidden) ...\u001b[A\n",
      " ... (more hidden) ...\u001b[A\n",
      " ... (more hidden) ...\u001b[A\n",
      " ... (more hidden) ...\u001b[A\n",
      " ... (more hidden) ...\u001b[A\n",
      " ... (more hidden) ...\u001b[A\n",
      " ... (more hidden) ...\u001b[A\n",
      " ... (more hidden) ...\u001b[A\n",
      " ... (more hidden) ...\u001b[A\n",
      " ... (more hidden) ...\u001b[A\n",
      " ... (more hidden) ...\u001b[A\n",
      " ... (more hidden) ...\u001b[A\n",
      " ... (more hidden) ...\u001b[A\n",
      " ... (more hidden) ...\u001b[A\n",
      " ... (more hidden) ...\u001b[A\n",
      " ... (more hidden) ...\u001b[A\n",
      " ... (more hidden) ...\u001b[A\n",
      " ... (more hidden) ...\u001b[A\n",
      " ... (more hidden) ...\u001b[A\n",
      " ... (more hidden) ...\u001b[A\n",
      " ... (more hidden) ...\u001b[A\n",
      " ... (more hidden) ...\u001b[A\n",
      " ... (more hidden) ...\u001b[A\n",
      " ... (more hidden) ...\u001b[A\n",
      " ... (more hidden) ...\u001b[A\n",
      " ... (more hidden) ...\u001b[A\n",
      " ... (more hidden) ...\u001b[A\n",
      " ... (more hidden) ...\u001b[A\n",
      " ... (more hidden) ...\u001b[A\n",
      " ... (more hidden) ...\u001b[A\n",
      " ... (more hidden) ...\u001b[A\n",
      " ... (more hidden) ...\u001b[A\n",
      " ... (more hidden) ...\u001b[A\n",
      " ... (more hidden) ...\u001b[A\n",
      " ... (more hidden) ...\u001b[A\n",
      " ... (more hidden) ...\u001b[A\n",
      " ... (more hidden) ...\u001b[A\n",
      " ... (more hidden) ...\u001b[A\n",
      " ... (more hidden) ...\u001b[A\n",
      " ... (more hidden) ...\u001b[A\n",
      " ... (more hidden) ...\u001b[A\n",
      " ... (more hidden) ...\u001b[A\n",
      " ... (more hidden) ...\u001b[A\n",
      " ... (more hidden) ...\u001b[A\n",
      " ... (more hidden) ...\u001b[A\n",
      " ... (more hidden) ...\u001b[A\n",
      " ... (more hidden) ...\u001b[A\n",
      " ... (more hidden) ...\u001b[A\n",
      " ... (more hidden) ...\u001b[A\n",
      " ... (more hidden) ...\u001b[A\n",
      " ... (more hidden) ...\u001b[A\n",
      " ... (more hidden) ...\u001b[A\n",
      " ... (more hidden) ...\u001b[A\n",
      " ... (more hidden) ...\u001b[A\n",
      " ... (more hidden) ...\u001b[A\n",
      "DR 1:  14%|███████████████▌                                                                                                 | 4499/32768 [00:05<00:36, 769.27it/s]\n"
     ]
    },
    {
     "name": "stdout",
     "output_type": "stream",
     "text": [
      "Stopping at Epoch 4499\n",
      "DR 1 Number of samples:  torch.Size([6673, 2])\n",
      "DR 1 Predicted Gammas:  0.61452997 0.7945045 0.7046397\n"
     ]
    },
    {
     "name": "stderr",
     "output_type": "stream",
     "text": [
      "\n",
      " ... (more hidden) ...\u001b[A\n",
      " ... (more hidden) ...\u001b[A\n",
      " ... (more hidden) ...\u001b[A\n",
      " ... (more hidden) ...\u001b[A\n",
      " ... (more hidden) ...\u001b[A\n",
      " ... (more hidden) ...\u001b[A\n",
      " ... (more hidden) ...\u001b[A\n",
      " ... (more hidden) ...\u001b[A\n",
      " ... (more hidden) ...\u001b[A\n",
      " ... (more hidden) ...\u001b[A\n",
      " ... (more hidden) ...\u001b[A\n",
      " ... (more hidden) ...\u001b[A\n",
      " ... (more hidden) ...\u001b[A\n",
      " ... (more hidden) ...\u001b[A\n",
      "DR 2:  29%|████████████████████████████████▋                                                                               | 4783/16384 [00:01<00:03, 3251.78it/s]\n"
     ]
    },
    {
     "name": "stdout",
     "output_type": "stream",
     "text": [
      "Stopping at Epoch 4783\n"
     ]
    },
    {
     "name": "stderr",
     "output_type": "stream",
     "text": [
      "\n",
      " ... (more hidden) ...\u001b[A\n",
      " ... (more hidden) ...\u001b[A\n",
      " ... (more hidden) ...\u001b[A\n",
      " ... (more hidden) ...\u001b[A\n",
      " ... (more hidden) ...\u001b[A\n",
      " ... (more hidden) ...\u001b[A\n",
      " ... (more hidden) ...\u001b[A\n",
      " ... (more hidden) ...\u001b[A\n",
      " ... (more hidden) ...\u001b[A\n",
      " ... (more hidden) ...\u001b[A\n",
      " ... (more hidden) ...\u001b[A\n",
      " ... (more hidden) ...\u001b[A\n",
      " ... (more hidden) ...\u001b[A\n",
      " ... (more hidden) ...\u001b[A\n",
      " ... (more hidden) ...\u001b[A\n",
      " ... (more hidden) ...\u001b[A\n",
      " ... (more hidden) ...\u001b[A\n",
      " ... (more hidden) ...\u001b[A\n",
      " ... (more hidden) ...\u001b[A\n",
      " ... (more hidden) ...\u001b[A\n",
      " ... (more hidden) ...\u001b[A\n",
      " ... (more hidden) ...\u001b[A\n",
      " ... (more hidden) ...\u001b[A\n",
      " ... (more hidden) ...\u001b[A\n",
      " ... (more hidden) ...\u001b[A\n",
      " ... (more hidden) ...\u001b[A\n",
      " ... (more hidden) ...\u001b[A\n",
      " ... (more hidden) ...\u001b[A\n",
      " ... (more hidden) ...\u001b[A\n",
      " ... (more hidden) ...\u001b[A\n",
      " ... (more hidden) ...\u001b[A\n",
      " ... (more hidden) ...\u001b[A\n",
      " ... (more hidden) ...\u001b[A\n",
      " ... (more hidden) ...\u001b[A\n",
      " ... (more hidden) ...\u001b[A\n",
      " ... (more hidden) ...\u001b[A\n",
      " ... (more hidden) ...\u001b[A\n",
      " ... (more hidden) ...\u001b[A\n",
      " ... (more hidden) ...\u001b[A\n",
      " ... (more hidden) ...\u001b[A\n",
      " ... (more hidden) ...\u001b[A\n",
      " ... (more hidden) ...\u001b[A\n",
      " ... (more hidden) ...\u001b[A\n",
      " ... (more hidden) ...\u001b[A\n",
      " ... (more hidden) ...\u001b[A\n",
      " ... (more hidden) ...\u001b[A\n",
      " ... (more hidden) ...\u001b[A\n",
      " ... (more hidden) ...\u001b[A\n",
      " ... (more hidden) ...\u001b[A\n",
      " ... (more hidden) ...\u001b[A\n",
      " ... (more hidden) ...\u001b[A\n",
      " ... (more hidden) ...\u001b[A\n",
      " ... (more hidden) ...\u001b[A\n",
      " ... (more hidden) ...\u001b[A\n",
      " ... (more hidden) ...\u001b[A\n",
      "DR 2:  69%|█████████████████████████████████████████████████████████████████████████████                                  | 22755/32768 [00:05<00:02, 4091.52it/s]\n"
     ]
    },
    {
     "name": "stdout",
     "output_type": "stream",
     "text": [
      "Stopping at Epoch 22755\n",
      "AUC predicting P(win):\t\t\t\t 0.7667866805444246\n",
      "Estimated Utility\t Mean Error:\t\t\t 0.7130562326036638\n",
      "Estimated Utility\t Mean Absolute Error:\t 0.7518195279016044\n"
     ]
    },
    {
     "name": "stderr",
     "output_type": "stream",
     "text": [
      "\n",
      " ... (more hidden) ...\u001b[A\n",
      " ... (more hidden) ...\u001b[A\n",
      " ... (more hidden) ...\u001b[A\n",
      " ... (more hidden) ...\u001b[A\n",
      " ... (more hidden) ...\u001b[A\n",
      " ... (more hidden) ...\u001b[A\n",
      " ... (more hidden) ...\u001b[A\n",
      " ... (more hidden) ...\u001b[A\n",
      " ... (more hidden) ...\u001b[A\n",
      " ... (more hidden) ...\u001b[A\n",
      " ... (more hidden) ...\u001b[A\n",
      " ... (more hidden) ...\u001b[A\n",
      " ... (more hidden) ...\u001b[A\n",
      " ... (more hidden) ...\u001b[A\n",
      " ... (more hidden) ...\u001b[A\n",
      " ... (more hidden) ...\u001b[A\n",
      " ... (more hidden) ...\u001b[A\n",
      " ... (more hidden) ...\u001b[A\n",
      " ... (more hidden) ...\u001b[A\n",
      " ... (more hidden) ...\u001b[A\n",
      " ... (more hidden) ...\u001b[A\n",
      " ... (more hidden) ...\u001b[A\n",
      " ... (more hidden) ...\u001b[A\n",
      " ... (more hidden) ...\u001b[A\n",
      " ... (more hidden) ...\u001b[A\n",
      " ... (more hidden) ...\u001b[A\n",
      " ... (more hidden) ...\u001b[A\n",
      " ... (more hidden) ...\u001b[A\n",
      " ... (more hidden) ...\u001b[A\n",
      " ... (more hidden) ...\u001b[A\n",
      " ... (more hidden) ...\u001b[A\n",
      " ... (more hidden) ...\u001b[A\n",
      " ... (more hidden) ...\u001b[A\n",
      " ... (more hidden) ...\u001b[A\n",
      " ... (more hidden) ...\u001b[A\n",
      " ... (more hidden) ...\u001b[A\n",
      " ... (more hidden) ...\u001b[A\n",
      " ... (more hidden) ...\u001b[A\n",
      " ... (more hidden) ...\u001b[A\n",
      " ... (more hidden) ...\u001b[A\n",
      " ... (more hidden) ...\u001b[A\n",
      " ... (more hidden) ...\u001b[A\n",
      " ... (more hidden) ...\u001b[A\n",
      " ... (more hidden) ...\u001b[A\n",
      " ... (more hidden) ...\u001b[A\n",
      " ... (more hidden) ...\u001b[A\n",
      " ... (more hidden) ...\u001b[A\n",
      " ... (more hidden) ...\u001b[A\n",
      " ... (more hidden) ...\u001b[A\n",
      " ... (more hidden) ...\u001b[A\n",
      " ... (more hidden) ...\u001b[A\n",
      " ... (more hidden) ...\u001b[A\n",
      " ... (more hidden) ...\u001b[A\n",
      " ... (more hidden) ...\u001b[A\n",
      " ... (more hidden) ...\u001b[A\n",
      " ... (more hidden) ...\u001b[A\n",
      " ... (more hidden) ...\u001b[A\n",
      " ... (more hidden) ...\u001b[A\n",
      " ... (more hidden) ...\u001b[A\n",
      " ... (more hidden) ...\u001b[A\n",
      " ... (more hidden) ...\u001b[A\n",
      " ... (more hidden) ...\u001b[A\n",
      " ... (more hidden) ...\u001b[A\n",
      " ... (more hidden) ...\u001b[A\n",
      " ... (more hidden) ...\u001b[A\n",
      " ... (more hidden) ...\u001b[A\n",
      " ... (more hidden) ...\u001b[A\n",
      " ... (more hidden) ...\u001b[A\n",
      " ... (more hidden) ...\u001b[A\n",
      " ... (more hidden) ...\u001b[A\n",
      " ... (more hidden) ...\u001b[A\n",
      " ... (more hidden) ...\u001b[A\n",
      " ... (more hidden) ...\u001b[A\n",
      " ... (more hidden) ...\u001b[A\n",
      " ... (more hidden) ...\u001b[A\n",
      " ... (more hidden) ...\u001b[A\n",
      " ... (more hidden) ...\u001b[A\n",
      " ... (more hidden) ...\u001b[A\n",
      " ... (more hidden) ...\u001b[A\n",
      " ... (more hidden) ...\u001b[A\n",
      " ... (more hidden) ...\u001b[A\n",
      " ... (more hidden) ...\u001b[A\n",
      " ... (more hidden) ...\u001b[A\n",
      " ... (more hidden) ...\u001b[A\n",
      " ... (more hidden) ...\u001b[A\n",
      " ... (more hidden) ...\u001b[A\n",
      " ... (more hidden) ...\u001b[A\n",
      " ... (more hidden) ...\u001b[A\n",
      " ... (more hidden) ...\u001b[A\n",
      " ... (more hidden) ...\u001b[A\n",
      " ... (more hidden) ...\u001b[A\n",
      " ... (more hidden) ...\u001b[A\n",
      " ... (more hidden) ...\u001b[A\n",
      " ... (more hidden) ...\u001b[A\n",
      " ... (more hidden) ...\u001b[A\n",
      " ... (more hidden) ...\u001b[A\n",
      " ... (more hidden) ...\u001b[A\n",
      " ... (more hidden) ...\u001b[A\n",
      " ... (more hidden) ...\u001b[A\n",
      " ... (more hidden) ...\u001b[A\n",
      " ... (more hidden) ...\u001b[A\n",
      " ... (more hidden) ...\u001b[A\n",
      " ... (more hidden) ...\u001b[A\n",
      " ... (more hidden) ...\u001b[A\n",
      " ... (more hidden) ...\u001b[A\n",
      " ... (more hidden) ...\u001b[A\n",
      " ... (more hidden) ...\u001b[A\n",
      " ... (more hidden) ...\u001b[A\n",
      " ... (more hidden) ...\u001b[A\n",
      " ... (more hidden) ...\u001b[A\n",
      " ... (more hidden) ...\u001b[A\n",
      " ... (more hidden) ...\u001b[A\n",
      " ... (more hidden) ...\u001b[A\n",
      " ... (more hidden) ...\u001b[A\n",
      " ... (more hidden) ...\u001b[A\n",
      " ... (more hidden) ...\u001b[A\n",
      " ... (more hidden) ...\u001b[A\n",
      " ... (more hidden) ...\u001b[A\n",
      " ... (more hidden) ...\u001b[A\n",
      " ... (more hidden) ...\u001b[A\n",
      " ... (more hidden) ...\u001b[A\n",
      " ... (more hidden) ...\u001b[A\n",
      " ... (more hidden) ...\u001b[A\n",
      " ... (more hidden) ...\u001b[A\n",
      " ... (more hidden) ...\u001b[A\n",
      " ... (more hidden) ...\u001b[A\n",
      " ... (more hidden) ...\u001b[A\n",
      " ... (more hidden) ...\u001b[A\n",
      " ... (more hidden) ...\u001b[A\n",
      " ... (more hidden) ...\u001b[A\n",
      " ... (more hidden) ...\u001b[A\n",
      "Initialising Policy: 100%|████████████████████████████████████████████████████████████████████████████████████████████████| 16384/16384 [00:13<00:00, 1182.12it/s]\n",
      "/opt/homebrew/lib/python3.11/site-packages/torch/optim/lr_scheduler.py:28: UserWarning: The verbose parameter is deprecated. Please use get_last_lr() to access the learning rate.\n",
      "  warnings.warn(\"The verbose parameter is deprecated. Please use get_last_lr() \"\n"
     ]
    },
    {
     "name": "stdout",
     "output_type": "stream",
     "text": [
      "Predicted mu Gammas:  tensor(0.9968, grad_fn=<MinBackward1>) tensor(1.0029, grad_fn=<MaxBackward1>) tensor(0.9998, grad_fn=<MeanBackward0>)\n",
      "Predicted sigma Gammas:  tensor(0.0374, grad_fn=<MinBackward1>) tensor(0.1305, grad_fn=<MaxBackward1>) tensor(0.0489, grad_fn=<MeanBackward0>)\n"
     ]
    },
    {
     "name": "stderr",
     "output_type": "stream",
     "text": [
      "\n",
      " ... (more hidden) ...\u001b[A\n",
      " ... (more hidden) ...\u001b[A\n",
      " ... (more hidden) ...\u001b[A\n",
      " ... (more hidden) ...\u001b[A\n",
      " ... (more hidden) ...\u001b[A\n",
      " ... (more hidden) ...\u001b[A\n",
      "DR 2:   2%|█▊                                                                                                                | 532/32768 [00:00<00:40, 802.45it/s]\n"
     ]
    },
    {
     "name": "stdout",
     "output_type": "stream",
     "text": [
      "Stopping at Epoch 532\n",
      "DR 2 Number of samples:  torch.Size([6689, 2])\n",
      "DR 2 Predicted Gammas:  1.0 1.0 1.0\n"
     ]
    },
    {
     "name": "stderr",
     "output_type": "stream",
     "text": [
      "\n",
      " ... (more hidden) ...\u001b[A\n",
      " ... (more hidden) ...\u001b[A\n",
      " ... (more hidden) ...\u001b[A\n",
      " ... (more hidden) ...\u001b[A\n",
      " ... (more hidden) ...\u001b[A\n",
      " ... (more hidden) ...\u001b[A\n",
      " ... (more hidden) ...\u001b[A\n",
      " ... (more hidden) ...\u001b[A\n",
      " ... (more hidden) ...\u001b[A\n",
      " ... (more hidden) ...\u001b[A\n",
      " ... (more hidden) ...\u001b[A\n",
      " ... (more hidden) ...\u001b[A\n",
      " ... (more hidden) ...\u001b[A\n",
      " ... (more hidden) ...\u001b[A\n",
      " ... (more hidden) ...\u001b[A\n",
      " ... (more hidden) ...\u001b[A\n",
      " ... (more hidden) ...\u001b[A\n",
      "DR 3:  38%|██████████████████████████████████████████                                                                      | 6144/16384 [00:01<00:03, 3303.41it/s]\n"
     ]
    },
    {
     "name": "stdout",
     "output_type": "stream",
     "text": [
      "Stopping at Epoch 6144\n"
     ]
    },
    {
     "name": "stderr",
     "output_type": "stream",
     "text": [
      "\n",
      " ... (more hidden) ...\u001b[A\n",
      " ... (more hidden) ...\u001b[A\n",
      " ... (more hidden) ...\u001b[A\n",
      " ... (more hidden) ...\u001b[A\n",
      " ... (more hidden) ...\u001b[A\n",
      " ... (more hidden) ...\u001b[A\n",
      " ... (more hidden) ...\u001b[A\n",
      " ... (more hidden) ...\u001b[A\n",
      " ... (more hidden) ...\u001b[A\n",
      " ... (more hidden) ...\u001b[A\n",
      " ... (more hidden) ...\u001b[A\n",
      " ... (more hidden) ...\u001b[A\n",
      " ... (more hidden) ...\u001b[A\n",
      " ... (more hidden) ...\u001b[A\n",
      " ... (more hidden) ...\u001b[A\n",
      " ... (more hidden) ...\u001b[A\n",
      " ... (more hidden) ...\u001b[A\n",
      " ... (more hidden) ...\u001b[A\n",
      " ... (more hidden) ...\u001b[A\n",
      " ... (more hidden) ...\u001b[A\n",
      " ... (more hidden) ...\u001b[A\n",
      " ... (more hidden) ...\u001b[A\n",
      " ... (more hidden) ...\u001b[A\n",
      " ... (more hidden) ...\u001b[A\n",
      " ... (more hidden) ...\u001b[A\n",
      " ... (more hidden) ...\u001b[A\n",
      " ... (more hidden) ...\u001b[A\n",
      " ... (more hidden) ...\u001b[A\n",
      " ... (more hidden) ...\u001b[A\n",
      " ... (more hidden) ...\u001b[A\n",
      " ... (more hidden) ...\u001b[A\n",
      " ... (more hidden) ...\u001b[A\n",
      " ... (more hidden) ...\u001b[A\n",
      " ... (more hidden) ...\u001b[A\n",
      " ... (more hidden) ...\u001b[A\n",
      " ... (more hidden) ...\u001b[A\n",
      " ... (more hidden) ...\u001b[A\n",
      " ... (more hidden) ...\u001b[A\n",
      " ... (more hidden) ...\u001b[A\n",
      " ... (more hidden) ...\u001b[A\n",
      " ... (more hidden) ...\u001b[A\n",
      " ... (more hidden) ...\u001b[A\n",
      " ... (more hidden) ...\u001b[A\n",
      " ... (more hidden) ...\u001b[A\n",
      " ... (more hidden) ...\u001b[A\n",
      " ... (more hidden) ...\u001b[A\n",
      " ... (more hidden) ...\u001b[A\n",
      " ... (more hidden) ...\u001b[A\n",
      " ... (more hidden) ...\u001b[A\n",
      " ... (more hidden) ...\u001b[A\n",
      " ... (more hidden) ...\u001b[A\n",
      " ... (more hidden) ...\u001b[A\n",
      " ... (more hidden) ...\u001b[A\n",
      " ... (more hidden) ...\u001b[A\n",
      " ... (more hidden) ...\u001b[A\n",
      " ... (more hidden) ...\u001b[A\n",
      " ... (more hidden) ...\u001b[A\n",
      " ... (more hidden) ...\u001b[A\n",
      " ... (more hidden) ...\u001b[A\n",
      " ... (more hidden) ...\u001b[A\n",
      " ... (more hidden) ...\u001b[A\n",
      " ... (more hidden) ...\u001b[A\n",
      " ... (more hidden) ...\u001b[A\n",
      " ... (more hidden) ...\u001b[A\n",
      "DR 3:  83%|████████████████████████████████████████████████████████████████████████████████████████████▍                  | 27300/32768 [00:06<00:01, 4022.83it/s]\n"
     ]
    },
    {
     "name": "stdout",
     "output_type": "stream",
     "text": [
      "Stopping at Epoch 27300\n",
      "AUC predicting P(win):\t\t\t\t 0.8028956716170352\n",
      "Estimated Utility\t Mean Error:\t\t\t 0.8353035189485284\n",
      "Estimated Utility\t Mean Absolute Error:\t 0.8559053325399376\n"
     ]
    },
    {
     "name": "stderr",
     "output_type": "stream",
     "text": [
      "\n",
      " ... (more hidden) ...\u001b[A\n",
      " ... (more hidden) ...\u001b[A\n",
      " ... (more hidden) ...\u001b[A\n",
      " ... (more hidden) ...\u001b[A\n",
      " ... (more hidden) ...\u001b[A\n",
      " ... (more hidden) ...\u001b[A\n",
      " ... (more hidden) ...\u001b[A\n",
      " ... (more hidden) ...\u001b[A\n",
      " ... (more hidden) ...\u001b[A\n",
      " ... (more hidden) ...\u001b[A\n",
      " ... (more hidden) ...\u001b[A\n",
      " ... (more hidden) ...\u001b[A\n",
      " ... (more hidden) ...\u001b[A\n",
      " ... (more hidden) ...\u001b[A\n",
      " ... (more hidden) ...\u001b[A\n",
      " ... (more hidden) ...\u001b[A\n",
      " ... (more hidden) ...\u001b[A\n",
      " ... (more hidden) ...\u001b[A\n",
      " ... (more hidden) ...\u001b[A\n",
      " ... (more hidden) ...\u001b[A\n",
      " ... (more hidden) ...\u001b[A\n",
      " ... (more hidden) ...\u001b[A\n",
      " ... (more hidden) ...\u001b[A\n",
      " ... (more hidden) ...\u001b[A\n",
      " ... (more hidden) ...\u001b[A\n",
      " ... (more hidden) ...\u001b[A\n",
      " ... (more hidden) ...\u001b[A\n",
      " ... (more hidden) ...\u001b[A\n",
      " ... (more hidden) ...\u001b[A\n",
      " ... (more hidden) ...\u001b[A\n",
      " ... (more hidden) ...\u001b[A\n",
      " ... (more hidden) ...\u001b[A\n",
      " ... (more hidden) ...\u001b[A\n",
      " ... (more hidden) ...\u001b[A\n",
      " ... (more hidden) ...\u001b[A\n",
      " ... (more hidden) ...\u001b[A\n",
      " ... (more hidden) ...\u001b[A\n",
      " ... (more hidden) ...\u001b[A\n",
      " ... (more hidden) ...\u001b[A\n",
      " ... (more hidden) ...\u001b[A\n",
      " ... (more hidden) ...\u001b[A\n",
      " ... (more hidden) ...\u001b[A\n",
      " ... (more hidden) ...\u001b[A\n",
      " ... (more hidden) ...\u001b[A\n",
      " ... (more hidden) ...\u001b[A\n",
      " ... (more hidden) ...\u001b[A\n",
      " ... (more hidden) ...\u001b[A\n",
      " ... (more hidden) ...\u001b[A\n",
      " ... (more hidden) ...\u001b[A\n",
      " ... (more hidden) ...\u001b[A\n",
      " ... (more hidden) ...\u001b[A\n",
      " ... (more hidden) ...\u001b[A\n",
      " ... (more hidden) ...\u001b[A\n",
      " ... (more hidden) ...\u001b[A\n",
      " ... (more hidden) ...\u001b[A\n",
      " ... (more hidden) ...\u001b[A\n",
      " ... (more hidden) ...\u001b[A\n",
      " ... (more hidden) ...\u001b[A\n",
      " ... (more hidden) ...\u001b[A\n",
      " ... (more hidden) ...\u001b[A\n",
      " ... (more hidden) ...\u001b[A\n",
      " ... (more hidden) ...\u001b[A\n",
      " ... (more hidden) ...\u001b[A\n",
      " ... (more hidden) ...\u001b[A\n",
      " ... (more hidden) ...\u001b[A\n",
      " ... (more hidden) ...\u001b[A\n",
      " ... (more hidden) ...\u001b[A\n",
      " ... (more hidden) ...\u001b[A\n",
      " ... (more hidden) ...\u001b[A\n",
      " ... (more hidden) ...\u001b[A\n",
      " ... (more hidden) ...\u001b[A\n",
      " ... (more hidden) ...\u001b[A\n",
      " ... (more hidden) ...\u001b[A\n",
      " ... (more hidden) ...\u001b[A\n",
      " ... (more hidden) ...\u001b[A\n",
      " ... (more hidden) ...\u001b[A\n",
      " ... (more hidden) ...\u001b[A\n",
      " ... (more hidden) ...\u001b[A\n",
      " ... (more hidden) ...\u001b[A\n",
      " ... (more hidden) ...\u001b[A\n",
      " ... (more hidden) ...\u001b[A\n",
      " ... (more hidden) ...\u001b[A\n",
      " ... (more hidden) ...\u001b[A\n",
      " ... (more hidden) ...\u001b[A\n",
      " ... (more hidden) ...\u001b[A\n",
      " ... (more hidden) ...\u001b[A\n",
      " ... (more hidden) ...\u001b[A\n",
      " ... (more hidden) ...\u001b[A\n",
      " ... (more hidden) ...\u001b[A\n",
      " ... (more hidden) ...\u001b[A\n",
      " ... (more hidden) ...\u001b[A\n",
      " ... (more hidden) ...\u001b[A\n",
      " ... (more hidden) ...\u001b[A\n",
      " ... (more hidden) ...\u001b[A\n",
      " ... (more hidden) ...\u001b[A\n",
      " ... (more hidden) ...\u001b[A\n",
      " ... (more hidden) ...\u001b[A\n",
      " ... (more hidden) ...\u001b[A\n",
      " ... (more hidden) ...\u001b[A\n",
      " ... (more hidden) ...\u001b[A\n",
      " ... (more hidden) ...\u001b[A\n",
      " ... (more hidden) ...\u001b[A\n",
      " ... (more hidden) ...\u001b[A\n",
      " ... (more hidden) ...\u001b[A\n",
      " ... (more hidden) ...\u001b[A\n",
      " ... (more hidden) ...\u001b[A\n",
      " ... (more hidden) ...\u001b[A\n",
      " ... (more hidden) ...\u001b[A\n",
      " ... (more hidden) ...\u001b[A\n",
      " ... (more hidden) ...\u001b[A\n",
      " ... (more hidden) ...\u001b[A\n",
      " ... (more hidden) ...\u001b[A\n",
      " ... (more hidden) ...\u001b[A\n",
      " ... (more hidden) ...\u001b[A\n",
      " ... (more hidden) ...\u001b[A\n",
      " ... (more hidden) ...\u001b[A\n",
      " ... (more hidden) ...\u001b[A\n",
      " ... (more hidden) ...\u001b[A\n",
      " ... (more hidden) ...\u001b[A\n",
      " ... (more hidden) ...\u001b[A\n",
      " ... (more hidden) ...\u001b[A\n",
      " ... (more hidden) ...\u001b[A\n",
      " ... (more hidden) ...\u001b[A\n",
      " ... (more hidden) ...\u001b[A\n",
      " ... (more hidden) ...\u001b[A\n",
      "Initialising Policy: 100%|████████████████████████████████████████████████████████████████████████████████████████████████| 16384/16384 [00:13<00:00, 1183.65it/s]\n",
      "/opt/homebrew/lib/python3.11/site-packages/torch/optim/lr_scheduler.py:28: UserWarning: The verbose parameter is deprecated. Please use get_last_lr() to access the learning rate.\n",
      "  warnings.warn(\"The verbose parameter is deprecated. Please use get_last_lr() \"\n"
     ]
    },
    {
     "name": "stdout",
     "output_type": "stream",
     "text": [
      "Predicted mu Gammas:  tensor(0.9619, grad_fn=<MinBackward1>) tensor(1.0353, grad_fn=<MaxBackward1>) tensor(0.9988, grad_fn=<MeanBackward0>)\n",
      "Predicted sigma Gammas:  tensor(0.0311, grad_fn=<MinBackward1>) tensor(0.1333, grad_fn=<MaxBackward1>) tensor(0.0493, grad_fn=<MeanBackward0>)\n"
     ]
    },
    {
     "name": "stderr",
     "output_type": "stream",
     "text": [
      "\n",
      " ... (more hidden) ...\u001b[A\n",
      " ... (more hidden) ...\u001b[A\n",
      " ... (more hidden) ...\u001b[A\n",
      " ... (more hidden) ...\u001b[A\n",
      " ... (more hidden) ...\u001b[A\n",
      " ... (more hidden) ...\u001b[A\n",
      " ... (more hidden) ...\u001b[A\n",
      "DR 3:   2%|█▊                                                                                                                | 533/32768 [00:00<00:51, 631.08it/s]\n"
     ]
    },
    {
     "name": "stdout",
     "output_type": "stream",
     "text": [
      "Stopping at Epoch 533\n",
      "DR 3 Number of samples:  torch.Size([6638, 2])\n",
      "DR 3 Predicted Gammas:  1.0 1.0 1.0\n"
     ]
    },
    {
     "name": "stderr",
     "output_type": "stream",
     "text": [
      "\n",
      " ... (more hidden) ...\u001b[A\n",
      " ... (more hidden) ...\u001b[A\n",
      " ... (more hidden) ...\u001b[A\n",
      " ... (more hidden) ...\u001b[A\n",
      " ... (more hidden) ...\u001b[A\n",
      " ... (more hidden) ...\u001b[A\n",
      "DR 1:  16%|██████████████████▏                                                                                             | 2657/16384 [00:00<00:03, 3898.03it/s]\n",
      "/opt/homebrew/lib/python3.11/site-packages/torch/optim/lr_scheduler.py:28: UserWarning: The verbose parameter is deprecated. Please use get_last_lr() to access the learning rate.\n",
      "  warnings.warn(\"The verbose parameter is deprecated. Please use get_last_lr() \"\n"
     ]
    },
    {
     "name": "stdout",
     "output_type": "stream",
     "text": [
      "Stopping at Epoch 2657\n",
      "AUC predicting P(win):\t\t\t\t 0.67372465128112\n",
      "Estimated Utility\t Mean Error:\t\t\t 0.008038914808953312\n",
      "Estimated Utility\t Mean Absolute Error:\t 0.1337809898409414\n"
     ]
    },
    {
     "name": "stderr",
     "output_type": "stream",
     "text": [
      "\n",
      " ... (more hidden) ...\u001b[A\n",
      " ... (more hidden) ...\u001b[A\n",
      " ... (more hidden) ...\u001b[A\n",
      " ... (more hidden) ...\u001b[A\n",
      " ... (more hidden) ...\u001b[A\n",
      " ... (more hidden) ...\u001b[A\n",
      " ... (more hidden) ...\u001b[A\n",
      " ... (more hidden) ...\u001b[A\n",
      " ... (more hidden) ...\u001b[A\n",
      " ... (more hidden) ...\u001b[A\n",
      " ... (more hidden) ...\u001b[A\n",
      " ... (more hidden) ...\u001b[A\n",
      " ... (more hidden) ...\u001b[A\n",
      " ... (more hidden) ...\u001b[A\n",
      " ... (more hidden) ...\u001b[A\n",
      " ... (more hidden) ...\u001b[A\n",
      " ... (more hidden) ...\u001b[A\n",
      " ... (more hidden) ...\u001b[A\n",
      " ... (more hidden) ...\u001b[A\n",
      " ... (more hidden) ...\u001b[A\n",
      " ... (more hidden) ...\u001b[A\n",
      " ... (more hidden) ...\u001b[A\n",
      " ... (more hidden) ...\u001b[A\n",
      " ... (more hidden) ...\u001b[A\n",
      " ... (more hidden) ...\u001b[A\n",
      " ... (more hidden) ...\u001b[A\n",
      " ... (more hidden) ...\u001b[A\n",
      " ... (more hidden) ...\u001b[A\n",
      " ... (more hidden) ...\u001b[A\n",
      " ... (more hidden) ...\u001b[A\n",
      " ... (more hidden) ...\u001b[A\n",
      " ... (more hidden) ...\u001b[A\n",
      " ... (more hidden) ...\u001b[A\n",
      " ... (more hidden) ...\u001b[A\n",
      " ... (more hidden) ...\u001b[A\n",
      " ... (more hidden) ...\u001b[A\n",
      " ... (more hidden) ...\u001b[A\n",
      " ... (more hidden) ...\u001b[A\n",
      " ... (more hidden) ...\u001b[A\n",
      " ... (more hidden) ...\u001b[A\n",
      " ... (more hidden) ...\u001b[A\n",
      " ... (more hidden) ...\u001b[A\n",
      " ... (more hidden) ...\u001b[A\n",
      " ... (more hidden) ...\u001b[A\n",
      " ... (more hidden) ...\u001b[A\n",
      " ... (more hidden) ...\u001b[A\n",
      "DR 1:  60%|██████████████████████████████████████████████████████████████████▏                                            | 19536/32768 [00:04<00:03, 4050.28it/s]\n",
      "/opt/homebrew/lib/python3.11/site-packages/torch/optim/lr_scheduler.py:28: UserWarning: The verbose parameter is deprecated. Please use get_last_lr() to access the learning rate.\n",
      "  warnings.warn(\"The verbose parameter is deprecated. Please use get_last_lr() \"\n"
     ]
    },
    {
     "name": "stdout",
     "output_type": "stream",
     "text": [
      "Stopping at Epoch 19536\n",
      "AUC predicting P(win):\t\t\t\t 0.7096374599971218\n",
      "Estimated Utility\t Mean Error:\t\t\t 0.04760860834014561\n",
      "Estimated Utility\t Mean Absolute Error:\t 0.15449334315454438\n"
     ]
    },
    {
     "name": "stderr",
     "output_type": "stream",
     "text": [
      "\n",
      " ... (more hidden) ...\u001b[A\n",
      " ... (more hidden) ...\u001b[A\n",
      " ... (more hidden) ...\u001b[A\n",
      " ... (more hidden) ...\u001b[A\n",
      " ... (more hidden) ...\u001b[A\n",
      " ... (more hidden) ...\u001b[A\n",
      " ... (more hidden) ...\u001b[A\n",
      " ... (more hidden) ...\u001b[A\n",
      " ... (more hidden) ...\u001b[A\n",
      " ... (more hidden) ...\u001b[A\n",
      " ... (more hidden) ...\u001b[A\n",
      " ... (more hidden) ...\u001b[A\n",
      " ... (more hidden) ...\u001b[A\n",
      " ... (more hidden) ...\u001b[A\n",
      " ... (more hidden) ...\u001b[A\n",
      " ... (more hidden) ...\u001b[A\n",
      " ... (more hidden) ...\u001b[A\n",
      " ... (more hidden) ...\u001b[A\n",
      " ... (more hidden) ...\u001b[A\n",
      " ... (more hidden) ...\u001b[A\n",
      " ... (more hidden) ...\u001b[A\n",
      " ... (more hidden) ...\u001b[A\n",
      " ... (more hidden) ...\u001b[A\n",
      " ... (more hidden) ...\u001b[A\n",
      " ... (more hidden) ...\u001b[A\n",
      " ... (more hidden) ...\u001b[A\n",
      " ... (more hidden) ...\u001b[A\n",
      " ... (more hidden) ...\u001b[A\n",
      " ... (more hidden) ...\u001b[A\n",
      " ... (more hidden) ...\u001b[A\n",
      " ... (more hidden) ...\u001b[A\n",
      " ... (more hidden) ...\u001b[A\n",
      " ... (more hidden) ...\u001b[A\n",
      " ... (more hidden) ...\u001b[A\n",
      " ... (more hidden) ...\u001b[A\n",
      " ... (more hidden) ...\u001b[A\n",
      " ... (more hidden) ...\u001b[A\n",
      " ... (more hidden) ...\u001b[A\n",
      " ... (more hidden) ...\u001b[A\n",
      " ... (more hidden) ...\u001b[A\n",
      " ... (more hidden) ...\u001b[A\n",
      " ... (more hidden) ...\u001b[A\n",
      " ... (more hidden) ...\u001b[A\n",
      " ... (more hidden) ...\u001b[A\n",
      " ... (more hidden) ...\u001b[A\n",
      " ... (more hidden) ...\u001b[A\n",
      " ... (more hidden) ...\u001b[A\n",
      " ... (more hidden) ...\u001b[A\n",
      " ... (more hidden) ...\u001b[A\n",
      " ... (more hidden) ...\u001b[A\n",
      " ... (more hidden) ...\u001b[A\n",
      " ... (more hidden) ...\u001b[A\n",
      " ... (more hidden) ...\u001b[A\n",
      " ... (more hidden) ...\u001b[A\n",
      " ... (more hidden) ...\u001b[A\n",
      " ... (more hidden) ...\u001b[A\n",
      " ... (more hidden) ...\u001b[A\n",
      " ... (more hidden) ...\u001b[A\n",
      " ... (more hidden) ...\u001b[A\n",
      " ... (more hidden) ...\u001b[A\n",
      " ... (more hidden) ...\u001b[A\n",
      " ... (more hidden) ...\u001b[A\n",
      " ... (more hidden) ...\u001b[A\n",
      " ... (more hidden) ...\u001b[A\n",
      " ... (more hidden) ...\u001b[A\n",
      " ... (more hidden) ...\u001b[A\n",
      " ... (more hidden) ...\u001b[A\n",
      " ... (more hidden) ...\u001b[A\n",
      " ... (more hidden) ...\u001b[A\n",
      "DR 1:  17%|██████████████████▊                                                                                              | 5453/32768 [00:07<00:37, 734.08it/s]\n"
     ]
    },
    {
     "name": "stdout",
     "output_type": "stream",
     "text": [
      "Stopping at Epoch 5453\n",
      "DR 1 Number of samples:  torch.Size([6671, 2])\n",
      "DR 1 Predicted Gammas:  0.51977706 0.70759356 0.6080508\n"
     ]
    },
    {
     "name": "stderr",
     "output_type": "stream",
     "text": [
      "\n",
      " ... (more hidden) ...\u001b[A\n",
      " ... (more hidden) ...\u001b[A\n",
      " ... (more hidden) ...\u001b[A\n",
      " ... (more hidden) ...\u001b[A\n",
      " ... (more hidden) ...\u001b[A\n",
      " ... (more hidden) ...\u001b[A\n",
      " ... (more hidden) ...\u001b[A\n",
      " ... (more hidden) ...\u001b[A\n",
      " ... (more hidden) ...\u001b[A\n",
      "DR 2:  19%|█████████████████████▏                                                                                          | 3103/16384 [00:01<00:04, 3078.88it/s]\n",
      "/opt/homebrew/lib/python3.11/site-packages/torch/optim/lr_scheduler.py:28: UserWarning: The verbose parameter is deprecated. Please use get_last_lr() to access the learning rate.\n",
      "  warnings.warn(\"The verbose parameter is deprecated. Please use get_last_lr() \"\n"
     ]
    },
    {
     "name": "stdout",
     "output_type": "stream",
     "text": [
      "Stopping at Epoch 3103\n",
      "AUC predicting P(win):\t\t\t\t 0.8048052286768116\n",
      "Estimated Utility\t Mean Error:\t\t\t 0.21712252095967716\n",
      "Estimated Utility\t Mean Absolute Error:\t 0.3768569880909473\n"
     ]
    },
    {
     "name": "stderr",
     "output_type": "stream",
     "text": [
      "\n",
      " ... (more hidden) ...\u001b[A\n",
      " ... (more hidden) ...\u001b[A\n",
      " ... (more hidden) ...\u001b[A\n",
      " ... (more hidden) ...\u001b[A\n",
      " ... (more hidden) ...\u001b[A\n",
      " ... (more hidden) ...\u001b[A\n",
      " ... (more hidden) ...\u001b[A\n",
      " ... (more hidden) ...\u001b[A\n",
      " ... (more hidden) ...\u001b[A\n",
      " ... (more hidden) ...\u001b[A\n",
      " ... (more hidden) ...\u001b[A\n",
      " ... (more hidden) ...\u001b[A\n",
      " ... (more hidden) ...\u001b[A\n",
      " ... (more hidden) ...\u001b[A\n",
      " ... (more hidden) ...\u001b[A\n",
      " ... (more hidden) ...\u001b[A\n",
      " ... (more hidden) ...\u001b[A\n",
      " ... (more hidden) ...\u001b[A\n",
      " ... (more hidden) ...\u001b[A\n",
      " ... (more hidden) ...\u001b[A\n",
      " ... (more hidden) ...\u001b[A\n",
      " ... (more hidden) ...\u001b[A\n",
      " ... (more hidden) ...\u001b[A\n",
      " ... (more hidden) ...\u001b[A\n",
      " ... (more hidden) ...\u001b[A\n",
      " ... (more hidden) ...\u001b[A\n",
      " ... (more hidden) ...\u001b[A\n",
      " ... (more hidden) ...\u001b[A\n",
      " ... (more hidden) ...\u001b[A\n",
      " ... (more hidden) ...\u001b[A\n",
      " ... (more hidden) ...\u001b[A\n",
      " ... (more hidden) ...\u001b[A\n",
      " ... (more hidden) ...\u001b[A\n",
      " ... (more hidden) ...\u001b[A\n",
      " ... (more hidden) ...\u001b[A\n",
      " ... (more hidden) ...\u001b[A\n",
      " ... (more hidden) ...\u001b[A\n",
      "DR 2:  49%|█████████████████████████████████████████████████████▉                                                         | 15921/32768 [00:03<00:04, 4188.76it/s]\n",
      "/opt/homebrew/lib/python3.11/site-packages/torch/optim/lr_scheduler.py:28: UserWarning: The verbose parameter is deprecated. Please use get_last_lr() to access the learning rate.\n",
      "  warnings.warn(\"The verbose parameter is deprecated. Please use get_last_lr() \"\n"
     ]
    },
    {
     "name": "stdout",
     "output_type": "stream",
     "text": [
      "Stopping at Epoch 15921\n",
      "AUC predicting P(win):\t\t\t\t 0.8212753552867984\n",
      "Estimated Utility\t Mean Error:\t\t\t 0.2171225416574986\n",
      "Estimated Utility\t Mean Absolute Error:\t 0.37685700878876877\n"
     ]
    },
    {
     "name": "stderr",
     "output_type": "stream",
     "text": [
      "\n",
      " ... (more hidden) ...\u001b[A\n",
      " ... (more hidden) ...\u001b[A\n",
      " ... (more hidden) ...\u001b[A\n",
      " ... (more hidden) ...\u001b[A\n",
      " ... (more hidden) ...\u001b[A\n",
      " ... (more hidden) ...\u001b[A\n",
      "DR 2:   2%|█▊                                                                                                                | 517/32768 [00:00<00:41, 769.69it/s]\n"
     ]
    },
    {
     "name": "stdout",
     "output_type": "stream",
     "text": [
      "Stopping at Epoch 517\n",
      "DR 2 Number of samples:  torch.Size([6721, 2])\n",
      "DR 2 Predicted Gammas:  1.0 1.0 1.0\n"
     ]
    },
    {
     "name": "stderr",
     "output_type": "stream",
     "text": [
      "\n",
      " ... (more hidden) ...\u001b[A\n",
      " ... (more hidden) ...\u001b[A\n",
      " ... (more hidden) ...\u001b[A\n",
      " ... (more hidden) ...\u001b[A\n",
      " ... (more hidden) ...\u001b[A\n",
      " ... (more hidden) ...\u001b[A\n",
      "DR 3:  16%|█████████████████▉                                                                                              | 2623/16384 [00:00<00:03, 3913.56it/s]\n",
      "/opt/homebrew/lib/python3.11/site-packages/torch/optim/lr_scheduler.py:28: UserWarning: The verbose parameter is deprecated. Please use get_last_lr() to access the learning rate.\n",
      "  warnings.warn(\"The verbose parameter is deprecated. Please use get_last_lr() \"\n"
     ]
    },
    {
     "name": "stdout",
     "output_type": "stream",
     "text": [
      "Stopping at Epoch 2623\n",
      "AUC predicting P(win):\t\t\t\t 0.8072116975444699\n",
      "Estimated Utility\t Mean Error:\t\t\t 0.12917598220029944\n",
      "Estimated Utility\t Mean Absolute Error:\t 0.23354265484951758\n"
     ]
    },
    {
     "name": "stderr",
     "output_type": "stream",
     "text": [
      "\n",
      " ... (more hidden) ...\u001b[A\n",
      " ... (more hidden) ...\u001b[A\n",
      " ... (more hidden) ...\u001b[A\n",
      " ... (more hidden) ...\u001b[A\n",
      " ... (more hidden) ...\u001b[A\n",
      " ... (more hidden) ...\u001b[A\n",
      " ... (more hidden) ...\u001b[A\n",
      " ... (more hidden) ...\u001b[A\n",
      " ... (more hidden) ...\u001b[A\n",
      " ... (more hidden) ...\u001b[A\n",
      " ... (more hidden) ...\u001b[A\n",
      " ... (more hidden) ...\u001b[A\n",
      " ... (more hidden) ...\u001b[A\n",
      " ... (more hidden) ...\u001b[A\n",
      " ... (more hidden) ...\u001b[A\n",
      " ... (more hidden) ...\u001b[A\n",
      " ... (more hidden) ...\u001b[A\n",
      " ... (more hidden) ...\u001b[A\n",
      " ... (more hidden) ...\u001b[A\n",
      " ... (more hidden) ...\u001b[A\n",
      " ... (more hidden) ...\u001b[A\n",
      " ... (more hidden) ...\u001b[A\n",
      " ... (more hidden) ...\u001b[A\n",
      " ... (more hidden) ...\u001b[A\n",
      " ... (more hidden) ...\u001b[A\n",
      " ... (more hidden) ...\u001b[A\n",
      " ... (more hidden) ...\u001b[A\n",
      " ... (more hidden) ...\u001b[A\n",
      " ... (more hidden) ...\u001b[A\n",
      " ... (more hidden) ...\u001b[A\n",
      " ... (more hidden) ...\u001b[A\n",
      " ... (more hidden) ...\u001b[A\n",
      " ... (more hidden) ...\u001b[A\n",
      " ... (more hidden) ...\u001b[A\n",
      " ... (more hidden) ...\u001b[A\n",
      " ... (more hidden) ...\u001b[A\n",
      " ... (more hidden) ...\u001b[A\n",
      " ... (more hidden) ...\u001b[A\n",
      " ... (more hidden) ...\u001b[A\n",
      " ... (more hidden) ...\u001b[A\n",
      " ... (more hidden) ...\u001b[A\n",
      " ... (more hidden) ...\u001b[A\n",
      "DR 3:  54%|███████████████████████████████████████████████████████████▋                                                   | 17613/32768 [00:04<00:03, 3973.15it/s]\n",
      "/opt/homebrew/lib/python3.11/site-packages/torch/optim/lr_scheduler.py:28: UserWarning: The verbose parameter is deprecated. Please use get_last_lr() to access the learning rate.\n",
      "  warnings.warn(\"The verbose parameter is deprecated. Please use get_last_lr() \"\n"
     ]
    },
    {
     "name": "stdout",
     "output_type": "stream",
     "text": [
      "Stopping at Epoch 17613\n",
      "AUC predicting P(win):\t\t\t\t 0.8154589090514671\n",
      "Estimated Utility\t Mean Error:\t\t\t 0.12917851227637955\n",
      "Estimated Utility\t Mean Absolute Error:\t 0.23354402383168135\n"
     ]
    },
    {
     "name": "stderr",
     "output_type": "stream",
     "text": [
      "\n",
      " ... (more hidden) ...\u001b[A\n",
      " ... (more hidden) ...\u001b[A\n",
      " ... (more hidden) ...\u001b[A\n",
      " ... (more hidden) ...\u001b[A\n",
      " ... (more hidden) ...\u001b[A\n",
      " ... (more hidden) ...\u001b[A\n",
      "DR 3:   2%|█▊                                                                                                                | 519/32768 [00:00<00:38, 837.54it/s]\n"
     ]
    },
    {
     "name": "stdout",
     "output_type": "stream",
     "text": [
      "Stopping at Epoch 519\n",
      "DR 3 Number of samples:  torch.Size([6608, 2])\n",
      "DR 3 Predicted Gammas:  1.0 1.0 1.0\n"
     ]
    },
    {
     "name": "stderr",
     "output_type": "stream",
     "text": [
      "\n",
      " ... (more hidden) ...\u001b[A\n",
      " ... (more hidden) ...\u001b[A\n",
      "DR 1:   6%|███████                                                                                                         | 1025/16384 [00:00<00:03, 4764.05it/s]\n",
      "/opt/homebrew/lib/python3.11/site-packages/torch/optim/lr_scheduler.py:28: UserWarning: The verbose parameter is deprecated. Please use get_last_lr() to access the learning rate.\n",
      "  warnings.warn(\"The verbose parameter is deprecated. Please use get_last_lr() \"\n"
     ]
    },
    {
     "name": "stdout",
     "output_type": "stream",
     "text": [
      "Stopping at Epoch 1025\n",
      "AUC predicting P(win):\t\t\t\t 0.8680085773720227\n",
      "Estimated Utility\t Mean Error:\t\t\t -0.016874617291249023\n",
      "Estimated Utility\t Mean Absolute Error:\t 0.12364966105167022\n"
     ]
    },
    {
     "name": "stderr",
     "output_type": "stream",
     "text": [
      "\n",
      " ... (more hidden) ...\u001b[A\n",
      " ... (more hidden) ...\u001b[A\n",
      " ... (more hidden) ...\u001b[A\n",
      " ... (more hidden) ...\u001b[A\n",
      " ... (more hidden) ...\u001b[A\n",
      " ... (more hidden) ...\u001b[A\n",
      " ... (more hidden) ...\u001b[A\n",
      " ... (more hidden) ...\u001b[A\n",
      " ... (more hidden) ...\u001b[A\n",
      " ... (more hidden) ...\u001b[A\n",
      " ... (more hidden) ...\u001b[A\n",
      " ... (more hidden) ...\u001b[A\n",
      " ... (more hidden) ...\u001b[A\n",
      " ... (more hidden) ...\u001b[A\n",
      " ... (more hidden) ...\u001b[A\n",
      " ... (more hidden) ...\u001b[A\n",
      "DR 1:  21%|██████████████████████▉                                                                                         | 6727/32768 [00:01<00:06, 4030.71it/s]\n",
      "/opt/homebrew/lib/python3.11/site-packages/torch/optim/lr_scheduler.py:28: UserWarning: The verbose parameter is deprecated. Please use get_last_lr() to access the learning rate.\n",
      "  warnings.warn(\"The verbose parameter is deprecated. Please use get_last_lr() \"\n"
     ]
    },
    {
     "name": "stdout",
     "output_type": "stream",
     "text": [
      "Stopping at Epoch 6727\n",
      "AUC predicting P(win):\t\t\t\t 0.8664879481788421\n",
      "Estimated Utility\t Mean Error:\t\t\t -0.004892293643394479\n",
      "Estimated Utility\t Mean Absolute Error:\t 0.1231600745873361\n"
     ]
    },
    {
     "name": "stderr",
     "output_type": "stream",
     "text": [
      "\n",
      " ... (more hidden) ...\u001b[A\n",
      " ... (more hidden) ...\u001b[A\n",
      " ... (more hidden) ...\u001b[A\n",
      " ... (more hidden) ...\u001b[A\n",
      " ... (more hidden) ...\u001b[A\n",
      " ... (more hidden) ...\u001b[A\n",
      " ... (more hidden) ...\u001b[A\n",
      " ... (more hidden) ...\u001b[A\n",
      " ... (more hidden) ...\u001b[A\n",
      " ... (more hidden) ...\u001b[A\n",
      " ... (more hidden) ...\u001b[A\n",
      " ... (more hidden) ...\u001b[A\n",
      " ... (more hidden) ...\u001b[A\n",
      " ... (more hidden) ...\u001b[A\n",
      " ... (more hidden) ...\u001b[A\n",
      " ... (more hidden) ...\u001b[A\n",
      " ... (more hidden) ...\u001b[A\n",
      " ... (more hidden) ...\u001b[A\n",
      " ... (more hidden) ...\u001b[A\n",
      " ... (more hidden) ...\u001b[A\n",
      " ... (more hidden) ...\u001b[A\n",
      " ... (more hidden) ...\u001b[A\n",
      " ... (more hidden) ...\u001b[A\n",
      " ... (more hidden) ...\u001b[A\n",
      " ... (more hidden) ...\u001b[A\n",
      " ... (more hidden) ...\u001b[A\n",
      " ... (more hidden) ...\u001b[A\n",
      " ... (more hidden) ...\u001b[A\n",
      " ... (more hidden) ...\u001b[A\n",
      " ... (more hidden) ...\u001b[A\n",
      " ... (more hidden) ...\u001b[A\n",
      " ... (more hidden) ...\u001b[A\n",
      " ... (more hidden) ...\u001b[A\n",
      " ... (more hidden) ...\u001b[A\n",
      " ... (more hidden) ...\u001b[A\n",
      " ... (more hidden) ...\u001b[A\n",
      " ... (more hidden) ...\u001b[A\n",
      " ... (more hidden) ...\u001b[A\n",
      " ... (more hidden) ...\u001b[A\n",
      "DR 1:  10%|███████████▎                                                                                                     | 3282/32768 [00:04<00:36, 807.24it/s]\n"
     ]
    },
    {
     "name": "stdout",
     "output_type": "stream",
     "text": [
      "Stopping at Epoch 3282\n",
      "DR 1 Number of samples:  torch.Size([6657, 2])\n",
      "DR 1 Predicted Gammas:  0.5656402 0.7009872 0.6440445\n"
     ]
    },
    {
     "name": "stderr",
     "output_type": "stream",
     "text": [
      "\n",
      " ... (more hidden) ...\u001b[A\n",
      " ... (more hidden) ...\u001b[A\n",
      "DR 2:   6%|███████                                                                                                         | 1025/16384 [00:00<00:04, 3531.22it/s]\n",
      "/opt/homebrew/lib/python3.11/site-packages/torch/optim/lr_scheduler.py:28: UserWarning: The verbose parameter is deprecated. Please use get_last_lr() to access the learning rate.\n",
      "  warnings.warn(\"The verbose parameter is deprecated. Please use get_last_lr() \"\n"
     ]
    },
    {
     "name": "stdout",
     "output_type": "stream",
     "text": [
      "Stopping at Epoch 1025\n",
      "AUC predicting P(win):\t\t\t\t 0.7036991340844085\n",
      "Estimated Utility\t Mean Error:\t\t\t 0.00783502127472048\n",
      "Estimated Utility\t Mean Absolute Error:\t 0.31324826381008897\n"
     ]
    },
    {
     "name": "stderr",
     "output_type": "stream",
     "text": [
      "\n",
      " ... (more hidden) ...\u001b[A\n",
      " ... (more hidden) ...\u001b[A\n",
      " ... (more hidden) ...\u001b[A\n",
      " ... (more hidden) ...\u001b[A\n",
      " ... (more hidden) ...\u001b[A\n",
      " ... (more hidden) ...\u001b[A\n",
      " ... (more hidden) ...\u001b[A\n",
      "DR 2:   9%|██████████▏                                                                                                     | 2966/32768 [00:00<00:07, 3729.94it/s]\n",
      "/opt/homebrew/lib/python3.11/site-packages/torch/optim/lr_scheduler.py:28: UserWarning: The verbose parameter is deprecated. Please use get_last_lr() to access the learning rate.\n",
      "  warnings.warn(\"The verbose parameter is deprecated. Please use get_last_lr() \"\n"
     ]
    },
    {
     "name": "stdout",
     "output_type": "stream",
     "text": [
      "Stopping at Epoch 2966\n",
      "AUC predicting P(win):\t\t\t\t 0.6991580830894204\n",
      "Estimated Utility\t Mean Error:\t\t\t 0.00783502127472048\n",
      "Estimated Utility\t Mean Absolute Error:\t 0.31324826381008897\n"
     ]
    },
    {
     "name": "stderr",
     "output_type": "stream",
     "text": [
      "\n",
      " ... (more hidden) ...\u001b[A\n",
      " ... (more hidden) ...\u001b[A\n",
      " ... (more hidden) ...\u001b[A\n",
      " ... (more hidden) ...\u001b[A\n",
      " ... (more hidden) ...\u001b[A\n",
      " ... (more hidden) ...\u001b[A\n",
      " ... (more hidden) ...\u001b[A\n",
      " ... (more hidden) ...\u001b[A\n",
      " ... (more hidden) ...\u001b[A\n",
      " ... (more hidden) ...\u001b[A\n",
      " ... (more hidden) ...\u001b[A\n",
      " ... (more hidden) ...\u001b[A\n",
      " ... (more hidden) ...\u001b[A\n",
      " ... (more hidden) ...\u001b[A\n",
      " ... (more hidden) ...\u001b[A\n",
      " ... (more hidden) ...\u001b[A\n",
      " ... (more hidden) ...\u001b[A\n",
      " ... (more hidden) ...\u001b[A\n",
      " ... (more hidden) ...\u001b[A\n",
      " ... (more hidden) ...\u001b[A\n",
      " ... (more hidden) ...\u001b[A\n",
      " ... (more hidden) ...\u001b[A\n",
      " ... (more hidden) ...\u001b[A\n",
      "DR 2:   6%|██████▊                                                                                                          | 1976/32768 [00:02<00:37, 821.65it/s]\n"
     ]
    },
    {
     "name": "stdout",
     "output_type": "stream",
     "text": [
      "Stopping at Epoch 1976\n",
      "DR 2 Number of samples:  torch.Size([6607, 2])\n",
      "DR 2 Predicted Gammas:  0.788968 1.0 0.97941977\n"
     ]
    },
    {
     "name": "stderr",
     "output_type": "stream",
     "text": [
      "\n",
      " ... (more hidden) ...\u001b[A\n",
      " ... (more hidden) ...\u001b[A\n",
      " ... (more hidden) ...\u001b[A\n",
      "DR 3:   6%|███████                                                                                                         | 1025/16384 [00:00<00:07, 2065.57it/s]\n",
      "/opt/homebrew/lib/python3.11/site-packages/torch/optim/lr_scheduler.py:28: UserWarning: The verbose parameter is deprecated. Please use get_last_lr() to access the learning rate.\n",
      "  warnings.warn(\"The verbose parameter is deprecated. Please use get_last_lr() \"\n"
     ]
    },
    {
     "name": "stdout",
     "output_type": "stream",
     "text": [
      "Stopping at Epoch 1025\n",
      "AUC predicting P(win):\t\t\t\t 0.7767319530782465\n",
      "Estimated Utility\t Mean Error:\t\t\t 0.0025628094172154645\n",
      "Estimated Utility\t Mean Absolute Error:\t 0.33141612247588914\n"
     ]
    },
    {
     "name": "stderr",
     "output_type": "stream",
     "text": [
      "\n",
      " ... (more hidden) ...\u001b[A\n",
      " ... (more hidden) ...\u001b[A\n",
      " ... (more hidden) ...\u001b[A\n",
      " ... (more hidden) ...\u001b[A\n",
      " ... (more hidden) ...\u001b[A\n",
      " ... (more hidden) ...\u001b[A\n",
      " ... (more hidden) ...\u001b[A\n",
      "DR 3:  10%|██████████▋                                                                                                     | 3132/32768 [00:00<00:07, 4147.34it/s]\n",
      "/opt/homebrew/lib/python3.11/site-packages/torch/optim/lr_scheduler.py:28: UserWarning: The verbose parameter is deprecated. Please use get_last_lr() to access the learning rate.\n",
      "  warnings.warn(\"The verbose parameter is deprecated. Please use get_last_lr() \"\n"
     ]
    },
    {
     "name": "stdout",
     "output_type": "stream",
     "text": [
      "Stopping at Epoch 3132\n",
      "AUC predicting P(win):\t\t\t\t 0.7768322229883728\n",
      "Estimated Utility\t Mean Error:\t\t\t 0.0025628094172154645\n",
      "Estimated Utility\t Mean Absolute Error:\t 0.33141612247588914\n"
     ]
    },
    {
     "name": "stderr",
     "output_type": "stream",
     "text": [
      "\n",
      " ... (more hidden) ...\u001b[A\n",
      " ... (more hidden) ...\u001b[A\n",
      " ... (more hidden) ...\u001b[A\n",
      " ... (more hidden) ...\u001b[A\n",
      " ... (more hidden) ...\u001b[A\n",
      "DR 3:   2%|█▊                                                                                                                | 514/32768 [00:00<00:38, 844.88it/s]\n"
     ]
    },
    {
     "name": "stdout",
     "output_type": "stream",
     "text": [
      "Stopping at Epoch 514\n",
      "DR 3 Number of samples:  torch.Size([6736, 2])\n",
      "DR 3 Predicted Gammas:  1.0 1.0 1.0\n"
     ]
    },
    {
     "name": "stderr",
     "output_type": "stream",
     "text": [
      "\n",
      " ... (more hidden) ...\u001b[A\n",
      " ... (more hidden) ...\u001b[A\n",
      "DR 1:   6%|███████                                                                                                         | 1025/16384 [00:00<00:03, 5032.40it/s]\n",
      "/opt/homebrew/lib/python3.11/site-packages/torch/optim/lr_scheduler.py:28: UserWarning: The verbose parameter is deprecated. Please use get_last_lr() to access the learning rate.\n",
      "  warnings.warn(\"The verbose parameter is deprecated. Please use get_last_lr() \"\n"
     ]
    },
    {
     "name": "stdout",
     "output_type": "stream",
     "text": [
      "Stopping at Epoch 1025\n",
      "AUC predicting P(win):\t\t\t\t 0.8772666007727558\n",
      "Estimated Utility\t Mean Error:\t\t\t 0.007586435369149692\n",
      "Estimated Utility\t Mean Absolute Error:\t 0.12447915447073167\n"
     ]
    },
    {
     "name": "stderr",
     "output_type": "stream",
     "text": [
      "\n",
      " ... (more hidden) ...\u001b[A\n",
      " ... (more hidden) ...\u001b[A\n",
      " ... (more hidden) ...\u001b[A\n",
      " ... (more hidden) ...\u001b[A\n",
      " ... (more hidden) ...\u001b[A\n",
      " ... (more hidden) ...\u001b[A\n",
      " ... (more hidden) ...\u001b[A\n",
      " ... (more hidden) ...\u001b[A\n",
      " ... (more hidden) ...\u001b[A\n",
      "DR 1:  11%|████████████▎                                                                                                   | 3616/32768 [00:00<00:07, 3890.15it/s]\n",
      "/opt/homebrew/lib/python3.11/site-packages/torch/optim/lr_scheduler.py:28: UserWarning: The verbose parameter is deprecated. Please use get_last_lr() to access the learning rate.\n",
      "  warnings.warn(\"The verbose parameter is deprecated. Please use get_last_lr() \"\n"
     ]
    },
    {
     "name": "stdout",
     "output_type": "stream",
     "text": [
      "Stopping at Epoch 3616\n",
      "AUC predicting P(win):\t\t\t\t 0.875845048562723\n",
      "Estimated Utility\t Mean Error:\t\t\t -0.0005385896841723481\n",
      "Estimated Utility\t Mean Absolute Error:\t 0.12146858881447797\n"
     ]
    },
    {
     "name": "stderr",
     "output_type": "stream",
     "text": [
      "\n",
      " ... (more hidden) ...\u001b[A\n",
      " ... (more hidden) ...\u001b[A\n",
      " ... (more hidden) ...\u001b[A\n",
      " ... (more hidden) ...\u001b[A\n",
      " ... (more hidden) ...\u001b[A\n",
      " ... (more hidden) ...\u001b[A\n",
      " ... (more hidden) ...\u001b[A\n",
      " ... (more hidden) ...\u001b[A\n",
      " ... (more hidden) ...\u001b[A\n",
      " ... (more hidden) ...\u001b[A\n",
      " ... (more hidden) ...\u001b[A\n",
      " ... (more hidden) ...\u001b[A\n",
      " ... (more hidden) ...\u001b[A\n",
      " ... (more hidden) ...\u001b[A\n",
      " ... (more hidden) ...\u001b[A\n",
      " ... (more hidden) ...\u001b[A\n",
      " ... (more hidden) ...\u001b[A\n",
      " ... (more hidden) ...\u001b[A\n",
      " ... (more hidden) ...\u001b[A\n",
      " ... (more hidden) ...\u001b[A\n",
      " ... (more hidden) ...\u001b[A\n",
      " ... (more hidden) ...\u001b[A\n",
      " ... (more hidden) ...\u001b[A\n",
      " ... (more hidden) ...\u001b[A\n",
      " ... (more hidden) ...\u001b[A\n",
      " ... (more hidden) ...\u001b[A\n",
      " ... (more hidden) ...\u001b[A\n",
      " ... (more hidden) ...\u001b[A\n",
      " ... (more hidden) ...\u001b[A\n",
      " ... (more hidden) ...\u001b[A\n",
      " ... (more hidden) ...\u001b[A\n",
      " ... (more hidden) ...\u001b[A\n",
      " ... (more hidden) ...\u001b[A\n",
      " ... (more hidden) ...\u001b[A\n",
      " ... (more hidden) ...\u001b[A\n",
      " ... (more hidden) ...\u001b[A\n",
      " ... (more hidden) ...\u001b[A\n",
      " ... (more hidden) ...\u001b[A\n",
      " ... (more hidden) ...\u001b[A\n",
      " ... (more hidden) ...\u001b[A\n",
      " ... (more hidden) ...\u001b[A\n",
      " ... (more hidden) ...\u001b[A\n",
      " ... (more hidden) ...\u001b[A\n",
      " ... (more hidden) ...\u001b[A\n",
      " ... (more hidden) ...\u001b[A\n",
      " ... (more hidden) ...\u001b[A\n",
      " ... (more hidden) ...\u001b[A\n",
      " ... (more hidden) ...\u001b[A\n",
      " ... (more hidden) ...\u001b[A\n",
      " ... (more hidden) ...\u001b[A\n",
      " ... (more hidden) ...\u001b[A\n",
      " ... (more hidden) ...\u001b[A\n",
      " ... (more hidden) ...\u001b[A\n",
      " ... (more hidden) ...\u001b[A\n",
      " ... (more hidden) ...\u001b[A\n",
      " ... (more hidden) ...\u001b[A\n",
      " ... (more hidden) ...\u001b[A\n",
      " ... (more hidden) ...\u001b[A\n",
      " ... (more hidden) ...\u001b[A\n",
      " ... (more hidden) ...\u001b[A\n",
      " ... (more hidden) ...\u001b[A\n",
      " ... (more hidden) ...\u001b[A\n",
      " ... (more hidden) ...\u001b[A\n",
      " ... (more hidden) ...\u001b[A\n",
      " ... (more hidden) ...\u001b[A\n",
      " ... (more hidden) ...\u001b[A\n",
      " ... (more hidden) ...\u001b[A\n",
      " ... (more hidden) ...\u001b[A\n",
      " ... (more hidden) ...\u001b[A\n",
      " ... (more hidden) ...\u001b[A\n",
      " ... (more hidden) ...\u001b[A\n",
      " ... (more hidden) ...\u001b[A\n",
      " ... (more hidden) ...\u001b[A\n",
      " ... (more hidden) ...\u001b[A\n",
      " ... (more hidden) ...\u001b[A\n",
      " ... (more hidden) ...\u001b[A\n",
      " ... (more hidden) ...\u001b[A\n",
      " ... (more hidden) ...\u001b[A\n",
      " ... (more hidden) ...\u001b[A\n",
      " ... (more hidden) ...\u001b[A\n",
      " ... (more hidden) ...\u001b[A\n",
      " ... (more hidden) ...\u001b[A\n",
      " ... (more hidden) ...\u001b[A\n",
      " ... (more hidden) ...\u001b[A\n",
      " ... (more hidden) ...\u001b[A\n",
      " ... (more hidden) ...\u001b[A\n",
      " ... (more hidden) ...\u001b[A\n",
      " ... (more hidden) ...\u001b[A\n",
      " ... (more hidden) ...\u001b[A\n",
      " ... (more hidden) ...\u001b[A\n",
      " ... (more hidden) ...\u001b[A\n",
      " ... (more hidden) ...\u001b[A\n",
      " ... (more hidden) ...\u001b[A\n",
      " ... (more hidden) ...\u001b[A\n",
      " ... (more hidden) ...\u001b[A\n",
      " ... (more hidden) ...\u001b[A\n",
      " ... (more hidden) ...\u001b[A\n",
      " ... (more hidden) ...\u001b[A\n",
      " ... (more hidden) ...\u001b[A\n",
      " ... (more hidden) ...\u001b[A\n",
      " ... (more hidden) ...\u001b[A\n",
      " ... (more hidden) ...\u001b[A\n",
      " ... (more hidden) ...\u001b[A\n",
      " ... (more hidden) ...\u001b[A\n",
      " ... (more hidden) ...\u001b[A\n",
      " ... (more hidden) ...\u001b[A\n",
      " ... (more hidden) ...\u001b[A\n",
      " ... (more hidden) ...\u001b[A\n",
      " ... (more hidden) ...\u001b[A\n",
      " ... (more hidden) ...\u001b[A\n",
      " ... (more hidden) ...\u001b[A\n",
      " ... (more hidden) ...\u001b[A\n",
      " ... (more hidden) ...\u001b[A\n",
      " ... (more hidden) ...\u001b[A\n",
      " ... (more hidden) ...\u001b[A\n",
      " ... (more hidden) ...\u001b[A\n",
      " ... (more hidden) ...\u001b[A\n",
      " ... (more hidden) ...\u001b[A\n",
      " ... (more hidden) ...\u001b[A\n",
      " ... (more hidden) ...\u001b[A\n",
      " ... (more hidden) ...\u001b[A\n",
      " ... (more hidden) ...\u001b[A\n",
      " ... (more hidden) ...\u001b[A\n",
      " ... (more hidden) ...\u001b[A\n",
      " ... (more hidden) ...\u001b[A\n",
      " ... (more hidden) ...\u001b[A\n",
      " ... (more hidden) ...\u001b[A\n",
      " ... (more hidden) ...\u001b[A\n",
      " ... (more hidden) ...\u001b[A\n",
      " ... (more hidden) ...\u001b[A\n",
      " ... (more hidden) ...\u001b[A\n",
      " ... (more hidden) ...\u001b[A\n",
      " ... (more hidden) ...\u001b[A\n",
      " ... (more hidden) ...\u001b[A\n",
      " ... (more hidden) ...\u001b[A\n",
      " ... (more hidden) ...\u001b[A\n",
      " ... (more hidden) ...\u001b[A\n",
      " ... (more hidden) ...\u001b[A\n",
      "DR 1:  34%|██████████████████████████████████████                                                                          | 11150/32768 [00:14<00:27, 792.46it/s]\n"
     ]
    },
    {
     "name": "stdout",
     "output_type": "stream",
     "text": [
      "Stopping at Epoch 11150\n",
      "DR 1 Number of samples:  torch.Size([6749, 2])\n",
      "DR 1 Predicted Gammas:  0.5701462 0.95065874 0.7790109\n"
     ]
    },
    {
     "name": "stderr",
     "output_type": "stream",
     "text": [
      "\n",
      " ... (more hidden) ...\u001b[A\n",
      " ... (more hidden) ...\u001b[A\n",
      "DR 2:   6%|███████                                                                                                         | 1025/16384 [00:00<00:03, 3940.73it/s]\n",
      "/opt/homebrew/lib/python3.11/site-packages/torch/optim/lr_scheduler.py:28: UserWarning: The verbose parameter is deprecated. Please use get_last_lr() to access the learning rate.\n",
      "  warnings.warn(\"The verbose parameter is deprecated. Please use get_last_lr() \"\n"
     ]
    },
    {
     "name": "stdout",
     "output_type": "stream",
     "text": [
      "Stopping at Epoch 1025\n",
      "AUC predicting P(win):\t\t\t\t 0.7022329242175525\n",
      "Estimated Utility\t Mean Error:\t\t\t 5.541664708153652e-05\n",
      "Estimated Utility\t Mean Absolute Error:\t 0.30331704023112727\n"
     ]
    },
    {
     "name": "stderr",
     "output_type": "stream",
     "text": [
      "\n",
      " ... (more hidden) ...\u001b[A\n",
      " ... (more hidden) ...\u001b[A\n",
      " ... (more hidden) ...\u001b[A\n",
      " ... (more hidden) ...\u001b[A\n",
      " ... (more hidden) ...\u001b[A\n",
      " ... (more hidden) ...\u001b[A\n",
      " ... (more hidden) ...\u001b[A\n",
      " ... (more hidden) ...\u001b[A\n",
      " ... (more hidden) ...\u001b[A\n",
      " ... (more hidden) ...\u001b[A\n",
      " ... (more hidden) ...\u001b[A\n",
      " ... (more hidden) ...\u001b[A\n",
      " ... (more hidden) ...\u001b[A\n",
      " ... (more hidden) ...\u001b[A\n",
      " ... (more hidden) ...\u001b[A\n",
      " ... (more hidden) ...\u001b[A\n",
      " ... (more hidden) ...\u001b[A\n",
      " ... (more hidden) ...\u001b[A\n",
      " ... (more hidden) ...\u001b[A\n",
      " ... (more hidden) ...\u001b[A\n",
      " ... (more hidden) ...\u001b[A\n",
      " ... (more hidden) ...\u001b[A\n",
      " ... (more hidden) ...\u001b[A\n",
      " ... (more hidden) ...\u001b[A\n",
      " ... (more hidden) ...\u001b[A\n",
      " ... (more hidden) ...\u001b[A\n",
      " ... (more hidden) ...\u001b[A\n",
      " ... (more hidden) ...\u001b[A\n",
      " ... (more hidden) ...\u001b[A\n",
      " ... (more hidden) ...\u001b[A\n",
      " ... (more hidden) ...\u001b[A\n",
      " ... (more hidden) ...\u001b[A\n",
      " ... (more hidden) ...\u001b[A\n",
      " ... (more hidden) ...\u001b[A\n",
      " ... (more hidden) ...\u001b[A\n",
      " ... (more hidden) ...\u001b[A\n",
      " ... (more hidden) ...\u001b[A\n",
      "DR 2:  49%|██████████████████████████████████████████████████████▍                                                        | 16086/32768 [00:03<00:04, 4105.84it/s]\n",
      "/opt/homebrew/lib/python3.11/site-packages/torch/optim/lr_scheduler.py:28: UserWarning: The verbose parameter is deprecated. Please use get_last_lr() to access the learning rate.\n",
      "  warnings.warn(\"The verbose parameter is deprecated. Please use get_last_lr() \"\n"
     ]
    },
    {
     "name": "stdout",
     "output_type": "stream",
     "text": [
      "Stopping at Epoch 16086\n",
      "AUC predicting P(win):\t\t\t\t 0.7102738524961704\n",
      "Estimated Utility\t Mean Error:\t\t\t 0.000572195098808361\n",
      "Estimated Utility\t Mean Absolute Error:\t 0.3033418228276201\n"
     ]
    },
    {
     "name": "stderr",
     "output_type": "stream",
     "text": [
      "\n",
      " ... (more hidden) ...\u001b[A\n",
      " ... (more hidden) ...\u001b[A\n",
      " ... (more hidden) ...\u001b[A\n",
      " ... (more hidden) ...\u001b[A\n",
      " ... (more hidden) ...\u001b[A\n",
      " ... (more hidden) ...\u001b[A\n",
      " ... (more hidden) ...\u001b[A\n",
      " ... (more hidden) ...\u001b[A\n",
      " ... (more hidden) ...\u001b[A\n",
      " ... (more hidden) ...\u001b[A\n",
      " ... (more hidden) ...\u001b[A\n",
      " ... (more hidden) ...\u001b[A\n",
      " ... (more hidden) ...\u001b[A\n",
      " ... (more hidden) ...\u001b[A\n",
      " ... (more hidden) ...\u001b[A\n",
      " ... (more hidden) ...\u001b[A\n",
      " ... (more hidden) ...\u001b[A\n",
      " ... (more hidden) ...\u001b[A\n",
      " ... (more hidden) ...\u001b[A\n",
      " ... (more hidden) ...\u001b[A\n",
      " ... (more hidden) ...\u001b[A\n",
      " ... (more hidden) ...\u001b[A\n",
      " ... (more hidden) ...\u001b[A\n",
      " ... (more hidden) ...\u001b[A\n",
      " ... (more hidden) ...\u001b[A\n",
      " ... (more hidden) ...\u001b[A\n",
      " ... (more hidden) ...\u001b[A\n",
      " ... (more hidden) ...\u001b[A\n",
      " ... (more hidden) ...\u001b[A\n",
      " ... (more hidden) ...\u001b[A\n",
      " ... (more hidden) ...\u001b[A\n",
      " ... (more hidden) ...\u001b[A\n",
      " ... (more hidden) ...\u001b[A\n",
      " ... (more hidden) ...\u001b[A\n",
      " ... (more hidden) ...\u001b[A\n",
      " ... (more hidden) ...\u001b[A\n",
      " ... (more hidden) ...\u001b[A\n",
      " ... (more hidden) ...\u001b[A\n",
      " ... (more hidden) ...\u001b[A\n",
      " ... (more hidden) ...\u001b[A\n",
      " ... (more hidden) ...\u001b[A\n",
      " ... (more hidden) ...\u001b[A\n",
      " ... (more hidden) ...\u001b[A\n",
      " ... (more hidden) ...\u001b[A\n",
      " ... (more hidden) ...\u001b[A\n",
      " ... (more hidden) ...\u001b[A\n",
      " ... (more hidden) ...\u001b[A\n",
      " ... (more hidden) ...\u001b[A\n",
      " ... (more hidden) ...\u001b[A\n",
      " ... (more hidden) ...\u001b[A\n",
      " ... (more hidden) ...\u001b[A\n",
      " ... (more hidden) ...\u001b[A\n",
      " ... (more hidden) ...\u001b[A\n",
      " ... (more hidden) ...\u001b[A\n",
      " ... (more hidden) ...\u001b[A\n",
      " ... (more hidden) ...\u001b[A\n",
      " ... (more hidden) ...\u001b[A\n",
      " ... (more hidden) ...\u001b[A\n",
      " ... (more hidden) ...\u001b[A\n",
      " ... (more hidden) ...\u001b[A\n",
      " ... (more hidden) ...\u001b[A\n",
      " ... (more hidden) ...\u001b[A\n",
      " ... (more hidden) ...\u001b[A\n",
      " ... (more hidden) ...\u001b[A\n",
      " ... (more hidden) ...\u001b[A\n",
      " ... (more hidden) ...\u001b[A\n",
      " ... (more hidden) ...\u001b[A\n",
      " ... (more hidden) ...\u001b[A\n",
      " ... (more hidden) ...\u001b[A\n",
      " ... (more hidden) ...\u001b[A\n",
      " ... (more hidden) ...\u001b[A\n",
      " ... (more hidden) ...\u001b[A\n",
      " ... (more hidden) ...\u001b[A\n",
      " ... (more hidden) ...\u001b[A\n",
      " ... (more hidden) ...\u001b[A\n",
      " ... (more hidden) ...\u001b[A\n",
      " ... (more hidden) ...\u001b[A\n",
      " ... (more hidden) ...\u001b[A\n",
      " ... (more hidden) ...\u001b[A\n",
      " ... (more hidden) ...\u001b[A\n",
      " ... (more hidden) ...\u001b[A\n",
      "DR 2:  21%|███████████████████████▊                                                                                         | 6915/32768 [00:08<00:32, 793.40it/s]\n"
     ]
    },
    {
     "name": "stdout",
     "output_type": "stream",
     "text": [
      "Stopping at Epoch 6915\n",
      "DR 2 Number of samples:  torch.Size([6602, 2])\n",
      "DR 2 Predicted Gammas:  0.7644267 1.0 0.9695951\n"
     ]
    },
    {
     "name": "stderr",
     "output_type": "stream",
     "text": [
      "\n",
      " ... (more hidden) ...\u001b[A\n",
      " ... (more hidden) ...\u001b[A\n",
      " ... (more hidden) ...\u001b[A\n",
      "DR 3:   6%|███████                                                                                                         | 1025/16384 [00:00<00:04, 3324.76it/s]\n",
      "/opt/homebrew/lib/python3.11/site-packages/torch/optim/lr_scheduler.py:28: UserWarning: The verbose parameter is deprecated. Please use get_last_lr() to access the learning rate.\n",
      "  warnings.warn(\"The verbose parameter is deprecated. Please use get_last_lr() \"\n"
     ]
    },
    {
     "name": "stdout",
     "output_type": "stream",
     "text": [
      "Stopping at Epoch 1025\n",
      "AUC predicting P(win):\t\t\t\t 0.7667707633691215\n",
      "Estimated Utility\t Mean Error:\t\t\t -0.004010356473891286\n",
      "Estimated Utility\t Mean Absolute Error:\t 0.35464928251432415\n"
     ]
    },
    {
     "name": "stderr",
     "output_type": "stream",
     "text": [
      "\n",
      " ... (more hidden) ...\u001b[A\n",
      " ... (more hidden) ...\u001b[A\n",
      " ... (more hidden) ...\u001b[A\n",
      " ... (more hidden) ...\u001b[A\n",
      " ... (more hidden) ...\u001b[A\n",
      " ... (more hidden) ...\u001b[A\n",
      "DR 3:   8%|████████▉                                                                                                       | 2608/32768 [00:00<00:07, 4082.87it/s]\n",
      "/opt/homebrew/lib/python3.11/site-packages/torch/optim/lr_scheduler.py:28: UserWarning: The verbose parameter is deprecated. Please use get_last_lr() to access the learning rate.\n",
      "  warnings.warn(\"The verbose parameter is deprecated. Please use get_last_lr() \"\n"
     ]
    },
    {
     "name": "stdout",
     "output_type": "stream",
     "text": [
      "Stopping at Epoch 2608\n",
      "AUC predicting P(win):\t\t\t\t 0.7702266466575997\n",
      "Estimated Utility\t Mean Error:\t\t\t -0.004010356473891286\n",
      "Estimated Utility\t Mean Absolute Error:\t 0.35464928251432415\n"
     ]
    },
    {
     "name": "stderr",
     "output_type": "stream",
     "text": [
      "\n",
      " ... (more hidden) ...\u001b[A\n",
      " ... (more hidden) ...\u001b[A\n",
      " ... (more hidden) ...\u001b[A\n",
      " ... (more hidden) ...\u001b[A\n",
      " ... (more hidden) ...\u001b[A\n",
      " ... (more hidden) ...\u001b[A\n",
      " ... (more hidden) ...\u001b[A\n",
      " ... (more hidden) ...\u001b[A\n",
      " ... (more hidden) ...\u001b[A\n",
      " ... (more hidden) ...\u001b[A\n",
      " ... (more hidden) ...\u001b[A\n",
      " ... (more hidden) ...\u001b[A\n",
      " ... (more hidden) ...\u001b[A\n",
      " ... (more hidden) ...\u001b[A\n",
      " ... (more hidden) ...\u001b[A\n",
      " ... (more hidden) ...\u001b[A\n",
      " ... (more hidden) ...\u001b[A\n",
      " ... (more hidden) ...\u001b[A\n",
      " ... (more hidden) ...\u001b[A\n",
      " ... (more hidden) ...\u001b[A\n",
      " ... (more hidden) ...\u001b[A\n",
      " ... (more hidden) ...\u001b[A\n",
      " ... (more hidden) ...\u001b[A\n",
      " ... (more hidden) ...\u001b[A\n",
      " ... (more hidden) ...\u001b[A\n",
      " ... (more hidden) ...\u001b[A\n",
      " ... (more hidden) ...\u001b[A\n",
      " ... (more hidden) ...\u001b[A\n",
      " ... (more hidden) ...\u001b[A\n",
      " ... (more hidden) ...\u001b[A\n",
      " ... (more hidden) ...\u001b[A\n",
      " ... (more hidden) ...\u001b[A\n",
      " ... (more hidden) ...\u001b[A\n",
      " ... (more hidden) ...\u001b[A\n",
      " ... (more hidden) ...\u001b[A\n",
      " ... (more hidden) ...\u001b[A\n",
      " ... (more hidden) ...\u001b[A\n",
      " ... (more hidden) ...\u001b[A\n",
      " ... (more hidden) ...\u001b[A\n",
      " ... (more hidden) ...\u001b[A\n",
      " ... (more hidden) ...\u001b[A\n",
      "DR 3:  10%|███████████▋                                                                                                     | 3407/32768 [00:04<00:35, 816.13it/s]\n"
     ]
    },
    {
     "name": "stdout",
     "output_type": "stream",
     "text": [
      "Stopping at Epoch 3407\n",
      "DR 3 Number of samples:  torch.Size([6649, 2])\n",
      "DR 3 Predicted Gammas:  0.570122 1.0 0.9173791\n"
     ]
    },
    {
     "name": "stderr",
     "output_type": "stream",
     "text": [
      "\n",
      " ... (more hidden) ...\u001b[A\n",
      " ... (more hidden) ...\u001b[A\n",
      "DR 1:   7%|███████▍                                                                                                        | 1093/16384 [00:00<00:03, 4734.78it/s]\n",
      "/opt/homebrew/lib/python3.11/site-packages/torch/optim/lr_scheduler.py:28: UserWarning: The verbose parameter is deprecated. Please use get_last_lr() to access the learning rate.\n",
      "  warnings.warn(\"The verbose parameter is deprecated. Please use get_last_lr() \"\n"
     ]
    },
    {
     "name": "stdout",
     "output_type": "stream",
     "text": [
      "Stopping at Epoch 1093\n",
      "AUC predicting P(win):\t\t\t\t 0.8488322178817621\n",
      "Estimated Utility\t Mean Error:\t\t\t 0.012842593333549172\n",
      "Estimated Utility\t Mean Absolute Error:\t 0.15464567957209086\n"
     ]
    },
    {
     "name": "stderr",
     "output_type": "stream",
     "text": [
      "\n",
      " ... (more hidden) ...\u001b[A\n",
      " ... (more hidden) ...\u001b[A\n",
      " ... (more hidden) ...\u001b[A\n",
      " ... (more hidden) ...\u001b[A\n",
      " ... (more hidden) ...\u001b[A\n",
      " ... (more hidden) ...\u001b[A\n",
      " ... (more hidden) ...\u001b[A\n",
      " ... (more hidden) ...\u001b[A\n",
      " ... (more hidden) ...\u001b[A\n",
      " ... (more hidden) ...\u001b[A\n",
      " ... (more hidden) ...\u001b[A\n",
      " ... (more hidden) ...\u001b[A\n",
      " ... (more hidden) ...\u001b[A\n",
      " ... (more hidden) ...\u001b[A\n",
      " ... (more hidden) ...\u001b[A\n",
      " ... (more hidden) ...\u001b[A\n",
      " ... (more hidden) ...\u001b[A\n",
      " ... (more hidden) ...\u001b[A\n",
      " ... (more hidden) ...\u001b[A\n",
      " ... (more hidden) ...\u001b[A\n",
      " ... (more hidden) ...\u001b[A\n",
      " ... (more hidden) ...\u001b[A\n",
      " ... (more hidden) ...\u001b[A\n",
      " ... (more hidden) ...\u001b[A\n",
      " ... (more hidden) ...\u001b[A\n",
      " ... (more hidden) ...\u001b[A\n",
      " ... (more hidden) ...\u001b[A\n",
      "DR 1:  33%|████████████████████████████████████▉                                                                          | 10911/32768 [00:02<00:05, 3924.82it/s]\n",
      "/opt/homebrew/lib/python3.11/site-packages/torch/optim/lr_scheduler.py:28: UserWarning: The verbose parameter is deprecated. Please use get_last_lr() to access the learning rate.\n",
      "  warnings.warn(\"The verbose parameter is deprecated. Please use get_last_lr() \"\n"
     ]
    },
    {
     "name": "stdout",
     "output_type": "stream",
     "text": [
      "Stopping at Epoch 10911\n",
      "AUC predicting P(win):\t\t\t\t 0.8550722709940587\n",
      "Estimated Utility\t Mean Error:\t\t\t 0.0053844844524150864\n",
      "Estimated Utility\t Mean Absolute Error:\t 0.14768615576566557\n"
     ]
    },
    {
     "name": "stderr",
     "output_type": "stream",
     "text": [
      "\n",
      " ... (more hidden) ...\u001b[A\n",
      " ... (more hidden) ...\u001b[A\n",
      " ... (more hidden) ...\u001b[A\n",
      " ... (more hidden) ...\u001b[A\n",
      " ... (more hidden) ...\u001b[A\n",
      " ... (more hidden) ...\u001b[A\n",
      " ... (more hidden) ...\u001b[A\n",
      " ... (more hidden) ...\u001b[A\n",
      " ... (more hidden) ...\u001b[A\n",
      " ... (more hidden) ...\u001b[A\n",
      " ... (more hidden) ...\u001b[A\n",
      " ... (more hidden) ...\u001b[A\n",
      " ... (more hidden) ...\u001b[A\n",
      " ... (more hidden) ...\u001b[A\n",
      " ... (more hidden) ...\u001b[A\n",
      " ... (more hidden) ...\u001b[A\n",
      " ... (more hidden) ...\u001b[A\n",
      " ... (more hidden) ...\u001b[A\n",
      " ... (more hidden) ...\u001b[A\n",
      " ... (more hidden) ...\u001b[A\n",
      " ... (more hidden) ...\u001b[A\n",
      " ... (more hidden) ...\u001b[A\n",
      " ... (more hidden) ...\u001b[A\n",
      " ... (more hidden) ...\u001b[A\n",
      " ... (more hidden) ...\u001b[A\n",
      " ... (more hidden) ...\u001b[A\n",
      " ... (more hidden) ...\u001b[A\n",
      " ... (more hidden) ...\u001b[A\n",
      " ... (more hidden) ...\u001b[A\n",
      " ... (more hidden) ...\u001b[A\n",
      " ... (more hidden) ...\u001b[A\n",
      " ... (more hidden) ...\u001b[A\n",
      " ... (more hidden) ...\u001b[A\n",
      " ... (more hidden) ...\u001b[A\n",
      " ... (more hidden) ...\u001b[A\n",
      " ... (more hidden) ...\u001b[A\n",
      " ... (more hidden) ...\u001b[A\n",
      " ... (more hidden) ...\u001b[A\n",
      " ... (more hidden) ...\u001b[A\n",
      " ... (more hidden) ...\u001b[A\n",
      " ... (more hidden) ...\u001b[A\n",
      " ... (more hidden) ...\u001b[A\n",
      " ... (more hidden) ...\u001b[A\n",
      " ... (more hidden) ...\u001b[A\n",
      " ... (more hidden) ...\u001b[A\n",
      " ... (more hidden) ...\u001b[A\n",
      " ... (more hidden) ...\u001b[A\n",
      " ... (more hidden) ...\u001b[A\n",
      " ... (more hidden) ...\u001b[A\n",
      " ... (more hidden) ...\u001b[A\n",
      " ... (more hidden) ...\u001b[A\n",
      " ... (more hidden) ...\u001b[A\n",
      " ... (more hidden) ...\u001b[A\n",
      " ... (more hidden) ...\u001b[A\n",
      " ... (more hidden) ...\u001b[A\n",
      " ... (more hidden) ...\u001b[A\n",
      " ... (more hidden) ...\u001b[A\n",
      " ... (more hidden) ...\u001b[A\n",
      " ... (more hidden) ...\u001b[A\n",
      " ... (more hidden) ...\u001b[A\n",
      " ... (more hidden) ...\u001b[A\n",
      " ... (more hidden) ...\u001b[A\n",
      " ... (more hidden) ...\u001b[A\n",
      " ... (more hidden) ...\u001b[A\n",
      " ... (more hidden) ...\u001b[A\n",
      " ... (more hidden) ...\u001b[A\n",
      " ... (more hidden) ...\u001b[A\n",
      " ... (more hidden) ...\u001b[A\n",
      " ... (more hidden) ...\u001b[A\n",
      " ... (more hidden) ...\u001b[A\n",
      " ... (more hidden) ...\u001b[A\n",
      " ... (more hidden) ...\u001b[A\n",
      " ... (more hidden) ...\u001b[A\n",
      " ... (more hidden) ...\u001b[A\n",
      " ... (more hidden) ...\u001b[A\n",
      " ... (more hidden) ...\u001b[A\n",
      " ... (more hidden) ...\u001b[A\n",
      " ... (more hidden) ...\u001b[A\n",
      " ... (more hidden) ...\u001b[A\n",
      " ... (more hidden) ...\u001b[A\n",
      " ... (more hidden) ...\u001b[A\n",
      " ... (more hidden) ...\u001b[A\n",
      " ... (more hidden) ...\u001b[A\n",
      " ... (more hidden) ...\u001b[A\n",
      " ... (more hidden) ...\u001b[A\n",
      " ... (more hidden) ...\u001b[A\n",
      " ... (more hidden) ...\u001b[A\n",
      " ... (more hidden) ...\u001b[A\n",
      "DR 1:  22%|████████████████████████▋                                                                                        | 7169/32768 [00:09<00:32, 776.77it/s]\n"
     ]
    },
    {
     "name": "stdout",
     "output_type": "stream",
     "text": [
      "Stopping at Epoch 7169\n",
      "DR 1 Number of samples:  torch.Size([6722, 2])\n",
      "DR 1 Predicted Gammas:  0.53977835 1.0 0.80888563\n"
     ]
    },
    {
     "name": "stderr",
     "output_type": "stream",
     "text": [
      "\n",
      " ... (more hidden) ...\u001b[A\n",
      " ... (more hidden) ...\u001b[A\n",
      "DR 2:   6%|███████                                                                                                         | 1025/16384 [00:00<00:03, 3904.78it/s]\n",
      "/opt/homebrew/lib/python3.11/site-packages/torch/optim/lr_scheduler.py:28: UserWarning: The verbose parameter is deprecated. Please use get_last_lr() to access the learning rate.\n",
      "  warnings.warn(\"The verbose parameter is deprecated. Please use get_last_lr() \"\n"
     ]
    },
    {
     "name": "stdout",
     "output_type": "stream",
     "text": [
      "Stopping at Epoch 1025\n",
      "AUC predicting P(win):\t\t\t\t 0.7052691486378194\n",
      "Estimated Utility\t Mean Error:\t\t\t -0.006166802377812575\n",
      "Estimated Utility\t Mean Absolute Error:\t 0.3079569828351058\n"
     ]
    },
    {
     "name": "stderr",
     "output_type": "stream",
     "text": [
      "\n",
      " ... (more hidden) ...\u001b[A\n",
      " ... (more hidden) ...\u001b[A\n",
      " ... (more hidden) ...\u001b[A\n",
      " ... (more hidden) ...\u001b[A\n",
      " ... (more hidden) ...\u001b[A\n",
      "DR 2:   8%|████████▊                                                                                                       | 2586/32768 [00:00<00:07, 4306.92it/s]\n",
      "/opt/homebrew/lib/python3.11/site-packages/torch/optim/lr_scheduler.py:28: UserWarning: The verbose parameter is deprecated. Please use get_last_lr() to access the learning rate.\n",
      "  warnings.warn(\"The verbose parameter is deprecated. Please use get_last_lr() \"\n"
     ]
    },
    {
     "name": "stdout",
     "output_type": "stream",
     "text": [
      "Stopping at Epoch 2586\n",
      "AUC predicting P(win):\t\t\t\t 0.7049979475411319\n",
      "Estimated Utility\t Mean Error:\t\t\t -0.0039155677133027025\n",
      "Estimated Utility\t Mean Absolute Error:\t 0.3078724214474194\n"
     ]
    },
    {
     "name": "stderr",
     "output_type": "stream",
     "text": [
      "\n",
      " ... (more hidden) ...\u001b[A\n",
      " ... (more hidden) ...\u001b[A\n",
      " ... (more hidden) ...\u001b[A\n",
      " ... (more hidden) ...\u001b[A\n",
      " ... (more hidden) ...\u001b[A\n",
      " ... (more hidden) ...\u001b[A\n",
      " ... (more hidden) ...\u001b[A\n",
      " ... (more hidden) ...\u001b[A\n",
      "DR 2:   2%|██▍                                                                                                               | 693/32768 [00:00<00:38, 831.58it/s]\n"
     ]
    },
    {
     "name": "stdout",
     "output_type": "stream",
     "text": [
      "Stopping at Epoch 693\n",
      "DR 2 Number of samples:  torch.Size([6665, 2])\n",
      "DR 2 Predicted Gammas:  0.7407053 1.0 0.9600194\n"
     ]
    },
    {
     "name": "stderr",
     "output_type": "stream",
     "text": [
      "\n",
      " ... (more hidden) ...\u001b[A\n",
      " ... (more hidden) ...\u001b[A\n",
      "DR 3:   6%|███████                                                                                                         | 1025/16384 [00:00<00:04, 3694.08it/s]\n",
      "/opt/homebrew/lib/python3.11/site-packages/torch/optim/lr_scheduler.py:28: UserWarning: The verbose parameter is deprecated. Please use get_last_lr() to access the learning rate.\n",
      "  warnings.warn(\"The verbose parameter is deprecated. Please use get_last_lr() \"\n"
     ]
    },
    {
     "name": "stdout",
     "output_type": "stream",
     "text": [
      "Stopping at Epoch 1025\n",
      "AUC predicting P(win):\t\t\t\t 0.7572666846911726\n",
      "Estimated Utility\t Mean Error:\t\t\t 0.0065598899875641044\n",
      "Estimated Utility\t Mean Absolute Error:\t 0.3333654910972964\n"
     ]
    },
    {
     "name": "stderr",
     "output_type": "stream",
     "text": [
      "\n",
      " ... (more hidden) ...\u001b[A\n",
      " ... (more hidden) ...\u001b[A\n",
      " ... (more hidden) ...\u001b[A\n",
      " ... (more hidden) ...\u001b[A\n",
      " ... (more hidden) ...\u001b[A\n",
      " ... (more hidden) ...\u001b[A\n",
      " ... (more hidden) ...\u001b[A\n",
      " ... (more hidden) ...\u001b[A\n",
      " ... (more hidden) ...\u001b[A\n",
      " ... (more hidden) ...\u001b[A\n",
      " ... (more hidden) ...\u001b[A\n",
      " ... (more hidden) ...\u001b[A\n",
      " ... (more hidden) ...\u001b[A\n",
      " ... (more hidden) ...\u001b[A\n",
      " ... (more hidden) ...\u001b[A\n",
      "DR 3:  19%|█████████████████████▋                                                                                          | 6361/32768 [00:01<00:06, 4046.53it/s]\n",
      "/opt/homebrew/lib/python3.11/site-packages/torch/optim/lr_scheduler.py:28: UserWarning: The verbose parameter is deprecated. Please use get_last_lr() to access the learning rate.\n",
      "  warnings.warn(\"The verbose parameter is deprecated. Please use get_last_lr() \"\n"
     ]
    },
    {
     "name": "stdout",
     "output_type": "stream",
     "text": [
      "Stopping at Epoch 6361\n",
      "AUC predicting P(win):\t\t\t\t 0.7615551834801765\n",
      "Estimated Utility\t Mean Error:\t\t\t 0.010163917105003525\n",
      "Estimated Utility\t Mean Absolute Error:\t 0.3344505283214796\n"
     ]
    },
    {
     "name": "stderr",
     "output_type": "stream",
     "text": [
      "\n",
      " ... (more hidden) ...\u001b[A\n",
      " ... (more hidden) ...\u001b[A\n",
      " ... (more hidden) ...\u001b[A\n",
      " ... (more hidden) ...\u001b[A\n",
      " ... (more hidden) ...\u001b[A\n",
      " ... (more hidden) ...\u001b[A\n",
      " ... (more hidden) ...\u001b[A\n",
      " ... (more hidden) ...\u001b[A\n",
      " ... (more hidden) ...\u001b[A\n",
      " ... (more hidden) ...\u001b[A\n",
      " ... (more hidden) ...\u001b[A\n",
      " ... (more hidden) ...\u001b[A\n",
      " ... (more hidden) ...\u001b[A\n",
      " ... (more hidden) ...\u001b[A\n",
      " ... (more hidden) ...\u001b[A\n",
      " ... (more hidden) ...\u001b[A\n",
      " ... (more hidden) ...\u001b[A\n",
      " ... (more hidden) ...\u001b[A\n",
      " ... (more hidden) ...\u001b[A\n",
      " ... (more hidden) ...\u001b[A\n",
      " ... (more hidden) ...\u001b[A\n",
      " ... (more hidden) ...\u001b[A\n",
      " ... (more hidden) ...\u001b[A\n",
      " ... (more hidden) ...\u001b[A\n",
      " ... (more hidden) ...\u001b[A\n",
      " ... (more hidden) ...\u001b[A\n",
      " ... (more hidden) ...\u001b[A\n",
      " ... (more hidden) ...\u001b[A\n",
      " ... (more hidden) ...\u001b[A\n",
      " ... (more hidden) ...\u001b[A\n",
      " ... (more hidden) ...\u001b[A\n",
      " ... (more hidden) ...\u001b[A\n",
      " ... (more hidden) ...\u001b[A\n",
      " ... (more hidden) ...\u001b[A\n",
      " ... (more hidden) ...\u001b[A\n",
      " ... (more hidden) ...\u001b[A\n",
      " ... (more hidden) ...\u001b[A\n",
      " ... (more hidden) ...\u001b[A\n",
      " ... (more hidden) ...\u001b[A\n",
      "DR 3:  10%|███████████▏                                                                                                     | 3227/32768 [00:03<00:36, 812.47it/s]\n"
     ]
    },
    {
     "name": "stdout",
     "output_type": "stream",
     "text": [
      "Stopping at Epoch 3227\n",
      "DR 3 Number of samples:  torch.Size([6613, 2])\n",
      "DR 3 Predicted Gammas:  0.7606001 0.85244817 0.80532706\n"
     ]
    },
    {
     "name": "stderr",
     "output_type": "stream",
     "text": [
      "\n",
      " ... (more hidden) ...\u001b[A\n",
      " ... (more hidden) ...\u001b[A\n",
      "DR 1:   6%|███████                                                                                                         | 1025/16384 [00:00<00:04, 3729.19it/s]\n",
      "/opt/homebrew/lib/python3.11/site-packages/torch/optim/lr_scheduler.py:28: UserWarning: The verbose parameter is deprecated. Please use get_last_lr() to access the learning rate.\n",
      "  warnings.warn(\"The verbose parameter is deprecated. Please use get_last_lr() \"\n"
     ]
    },
    {
     "name": "stdout",
     "output_type": "stream",
     "text": [
      "Stopping at Epoch 1025\n",
      "AUC predicting P(win):\t\t\t\t 0.8180695054753435\n",
      "Estimated Utility\t Mean Error:\t\t\t -0.001321723269932648\n",
      "Estimated Utility\t Mean Absolute Error:\t 0.15952516142443596\n"
     ]
    },
    {
     "name": "stderr",
     "output_type": "stream",
     "text": [
      "\n",
      " ... (more hidden) ...\u001b[A\n",
      " ... (more hidden) ...\u001b[A\n",
      " ... (more hidden) ...\u001b[A\n",
      " ... (more hidden) ...\u001b[A\n",
      " ... (more hidden) ...\u001b[A\n",
      " ... (more hidden) ...\u001b[A\n",
      " ... (more hidden) ...\u001b[A\n",
      " ... (more hidden) ...\u001b[A\n",
      " ... (more hidden) ...\u001b[A\n",
      " ... (more hidden) ...\u001b[A\n",
      " ... (more hidden) ...\u001b[A\n",
      " ... (more hidden) ...\u001b[A\n",
      " ... (more hidden) ...\u001b[A\n",
      "DR 1:  16%|█████████████████▊                                                                                              | 5194/32768 [00:01<00:07, 3727.89it/s]\n",
      "/opt/homebrew/lib/python3.11/site-packages/torch/optim/lr_scheduler.py:28: UserWarning: The verbose parameter is deprecated. Please use get_last_lr() to access the learning rate.\n",
      "  warnings.warn(\"The verbose parameter is deprecated. Please use get_last_lr() \"\n"
     ]
    },
    {
     "name": "stdout",
     "output_type": "stream",
     "text": [
      "Stopping at Epoch 5194\n",
      "AUC predicting P(win):\t\t\t\t 0.8131143958812862\n",
      "Estimated Utility\t Mean Error:\t\t\t 0.0031232173206513524\n",
      "Estimated Utility\t Mean Absolute Error:\t 0.16044174518878304\n"
     ]
    },
    {
     "name": "stderr",
     "output_type": "stream",
     "text": [
      "\n",
      " ... (more hidden) ...\u001b[A\n",
      " ... (more hidden) ...\u001b[A\n",
      " ... (more hidden) ...\u001b[A\n",
      " ... (more hidden) ...\u001b[A\n",
      " ... (more hidden) ...\u001b[A\n",
      " ... (more hidden) ...\u001b[A\n",
      " ... (more hidden) ...\u001b[A\n",
      " ... (more hidden) ...\u001b[A\n",
      " ... (more hidden) ...\u001b[A\n",
      " ... (more hidden) ...\u001b[A\n",
      " ... (more hidden) ...\u001b[A\n",
      " ... (more hidden) ...\u001b[A\n",
      " ... (more hidden) ...\u001b[A\n",
      " ... (more hidden) ...\u001b[A\n",
      " ... (more hidden) ...\u001b[A\n",
      " ... (more hidden) ...\u001b[A\n",
      " ... (more hidden) ...\u001b[A\n",
      " ... (more hidden) ...\u001b[A\n",
      " ... (more hidden) ...\u001b[A\n",
      " ... (more hidden) ...\u001b[A\n",
      " ... (more hidden) ...\u001b[A\n",
      " ... (more hidden) ...\u001b[A\n",
      " ... (more hidden) ...\u001b[A\n",
      " ... (more hidden) ...\u001b[A\n",
      " ... (more hidden) ...\u001b[A\n",
      " ... (more hidden) ...\u001b[A\n",
      " ... (more hidden) ...\u001b[A\n",
      " ... (more hidden) ...\u001b[A\n",
      " ... (more hidden) ...\u001b[A\n",
      " ... (more hidden) ...\u001b[A\n",
      " ... (more hidden) ...\u001b[A\n",
      " ... (more hidden) ...\u001b[A\n",
      " ... (more hidden) ...\u001b[A\n",
      " ... (more hidden) ...\u001b[A\n",
      " ... (more hidden) ...\u001b[A\n",
      " ... (more hidden) ...\u001b[A\n",
      " ... (more hidden) ...\u001b[A\n",
      " ... (more hidden) ...\u001b[A\n",
      " ... (more hidden) ...\u001b[A\n",
      " ... (more hidden) ...\u001b[A\n",
      " ... (more hidden) ...\u001b[A\n",
      " ... (more hidden) ...\u001b[A\n",
      " ... (more hidden) ...\u001b[A\n",
      " ... (more hidden) ...\u001b[A\n",
      " ... (more hidden) ...\u001b[A\n",
      " ... (more hidden) ...\u001b[A\n",
      " ... (more hidden) ...\u001b[A\n",
      " ... (more hidden) ...\u001b[A\n",
      " ... (more hidden) ...\u001b[A\n",
      " ... (more hidden) ...\u001b[A\n",
      " ... (more hidden) ...\u001b[A\n",
      " ... (more hidden) ...\u001b[A\n",
      " ... (more hidden) ...\u001b[A\n",
      " ... (more hidden) ...\u001b[A\n",
      " ... (more hidden) ...\u001b[A\n",
      " ... (more hidden) ...\u001b[A\n",
      " ... (more hidden) ...\u001b[A\n",
      " ... (more hidden) ...\u001b[A\n",
      " ... (more hidden) ...\u001b[A\n",
      " ... (more hidden) ...\u001b[A\n",
      " ... (more hidden) ...\u001b[A\n",
      " ... (more hidden) ...\u001b[A\n",
      " ... (more hidden) ...\u001b[A\n",
      " ... (more hidden) ...\u001b[A\n",
      " ... (more hidden) ...\u001b[A\n",
      " ... (more hidden) ...\u001b[A\n",
      " ... (more hidden) ...\u001b[A\n",
      "DR 1:  17%|██████████████████▋                                                                                              | 5428/32768 [00:07<00:36, 754.65it/s]\n"
     ]
    },
    {
     "name": "stdout",
     "output_type": "stream",
     "text": [
      "Stopping at Epoch 5428\n",
      "DR 1 Number of samples:  torch.Size([6664, 2])\n",
      "DR 1 Predicted Gammas:  0.5366812 1.0 0.8188725\n"
     ]
    },
    {
     "name": "stderr",
     "output_type": "stream",
     "text": [
      "\n",
      " ... (more hidden) ...\u001b[A\n",
      " ... (more hidden) ...\u001b[A\n",
      " ... (more hidden) ...\u001b[A\n",
      "DR 2:   6%|███████                                                                                                         | 1025/16384 [00:00<00:04, 3165.21it/s]\n",
      "/opt/homebrew/lib/python3.11/site-packages/torch/optim/lr_scheduler.py:28: UserWarning: The verbose parameter is deprecated. Please use get_last_lr() to access the learning rate.\n",
      "  warnings.warn(\"The verbose parameter is deprecated. Please use get_last_lr() \"\n"
     ]
    },
    {
     "name": "stdout",
     "output_type": "stream",
     "text": [
      "Stopping at Epoch 1025\n",
      "AUC predicting P(win):\t\t\t\t 0.7269206255302949\n",
      "Estimated Utility\t Mean Error:\t\t\t -0.006497807932385644\n",
      "Estimated Utility\t Mean Absolute Error:\t 0.34977503249494135\n"
     ]
    },
    {
     "name": "stderr",
     "output_type": "stream",
     "text": [
      "\n",
      " ... (more hidden) ...\u001b[A\n",
      " ... (more hidden) ...\u001b[A\n",
      " ... (more hidden) ...\u001b[A\n",
      " ... (more hidden) ...\u001b[A\n",
      " ... (more hidden) ...\u001b[A\n",
      " ... (more hidden) ...\u001b[A\n",
      " ... (more hidden) ...\u001b[A\n",
      "DR 2:   9%|██████████▎                                                                                                     | 3015/32768 [00:00<00:07, 3915.05it/s]\n",
      "/opt/homebrew/lib/python3.11/site-packages/torch/optim/lr_scheduler.py:28: UserWarning: The verbose parameter is deprecated. Please use get_last_lr() to access the learning rate.\n",
      "  warnings.warn(\"The verbose parameter is deprecated. Please use get_last_lr() \"\n"
     ]
    },
    {
     "name": "stdout",
     "output_type": "stream",
     "text": [
      "Stopping at Epoch 3015\n",
      "AUC predicting P(win):\t\t\t\t 0.7267338629024194\n",
      "Estimated Utility\t Mean Error:\t\t\t -0.0014702326483898602\n",
      "Estimated Utility\t Mean Absolute Error:\t 0.3494290762046579\n"
     ]
    },
    {
     "name": "stderr",
     "output_type": "stream",
     "text": [
      "\n",
      " ... (more hidden) ...\u001b[A\n",
      " ... (more hidden) ...\u001b[A\n",
      " ... (more hidden) ...\u001b[A\n",
      " ... (more hidden) ...\u001b[A\n",
      " ... (more hidden) ...\u001b[A\n",
      " ... (more hidden) ...\u001b[A\n",
      " ... (more hidden) ...\u001b[A\n",
      " ... (more hidden) ...\u001b[A\n",
      " ... (more hidden) ...\u001b[A\n",
      " ... (more hidden) ...\u001b[A\n",
      " ... (more hidden) ...\u001b[A\n",
      " ... (more hidden) ...\u001b[A\n",
      " ... (more hidden) ...\u001b[A\n",
      " ... (more hidden) ...\u001b[A\n",
      " ... (more hidden) ...\u001b[A\n",
      " ... (more hidden) ...\u001b[A\n",
      " ... (more hidden) ...\u001b[A\n",
      " ... (more hidden) ...\u001b[A\n",
      " ... (more hidden) ...\u001b[A\n",
      " ... (more hidden) ...\u001b[A\n",
      " ... (more hidden) ...\u001b[A\n",
      " ... (more hidden) ...\u001b[A\n",
      " ... (more hidden) ...\u001b[A\n",
      " ... (more hidden) ...\u001b[A\n",
      " ... (more hidden) ...\u001b[A\n",
      " ... (more hidden) ...\u001b[A\n",
      " ... (more hidden) ...\u001b[A\n",
      " ... (more hidden) ...\u001b[A\n",
      " ... (more hidden) ...\u001b[A\n",
      " ... (more hidden) ...\u001b[A\n",
      " ... (more hidden) ...\u001b[A\n",
      " ... (more hidden) ...\u001b[A\n",
      " ... (more hidden) ...\u001b[A\n",
      " ... (more hidden) ...\u001b[A\n",
      " ... (more hidden) ...\u001b[A\n",
      " ... (more hidden) ...\u001b[A\n",
      " ... (more hidden) ...\u001b[A\n",
      " ... (more hidden) ...\u001b[A\n",
      " ... (more hidden) ...\u001b[A\n",
      " ... (more hidden) ...\u001b[A\n",
      " ... (more hidden) ...\u001b[A\n",
      " ... (more hidden) ...\u001b[A\n",
      " ... (more hidden) ...\u001b[A\n",
      " ... (more hidden) ...\u001b[A\n",
      " ... (more hidden) ...\u001b[A\n",
      " ... (more hidden) ...\u001b[A\n",
      " ... (more hidden) ...\u001b[A\n",
      " ... (more hidden) ...\u001b[A\n",
      " ... (more hidden) ...\u001b[A\n",
      " ... (more hidden) ...\u001b[A\n",
      " ... (more hidden) ...\u001b[A\n",
      " ... (more hidden) ...\u001b[A\n",
      " ... (more hidden) ...\u001b[A\n",
      " ... (more hidden) ...\u001b[A\n",
      " ... (more hidden) ...\u001b[A\n",
      " ... (more hidden) ...\u001b[A\n",
      " ... (more hidden) ...\u001b[A\n",
      "DR 2:  14%|███████████████▊                                                                                                 | 4597/32768 [00:05<00:36, 779.97it/s]\n"
     ]
    },
    {
     "name": "stdout",
     "output_type": "stream",
     "text": [
      "Stopping at Epoch 4597\n",
      "DR 2 Number of samples:  torch.Size([6676, 2])\n",
      "DR 2 Predicted Gammas:  0.7643448 1.0 0.9545883\n"
     ]
    },
    {
     "name": "stderr",
     "output_type": "stream",
     "text": [
      "\n",
      " ... (more hidden) ...\u001b[A\n",
      " ... (more hidden) ...\u001b[A\n",
      "DR 3:   6%|███████                                                                                                         | 1025/16384 [00:00<00:03, 4008.52it/s]\n",
      "/opt/homebrew/lib/python3.11/site-packages/torch/optim/lr_scheduler.py:28: UserWarning: The verbose parameter is deprecated. Please use get_last_lr() to access the learning rate.\n",
      "  warnings.warn(\"The verbose parameter is deprecated. Please use get_last_lr() \"\n"
     ]
    },
    {
     "name": "stdout",
     "output_type": "stream",
     "text": [
      "Stopping at Epoch 1025\n",
      "AUC predicting P(win):\t\t\t\t 0.7787064407646719\n",
      "Estimated Utility\t Mean Error:\t\t\t -0.012633900316951866\n",
      "Estimated Utility\t Mean Absolute Error:\t 0.2889324812724824\n"
     ]
    },
    {
     "name": "stderr",
     "output_type": "stream",
     "text": [
      "\n",
      " ... (more hidden) ...\u001b[A\n",
      " ... (more hidden) ...\u001b[A\n",
      " ... (more hidden) ...\u001b[A\n",
      " ... (more hidden) ...\u001b[A\n",
      " ... (more hidden) ...\u001b[A\n",
      " ... (more hidden) ...\u001b[A\n",
      " ... (more hidden) ...\u001b[A\n",
      " ... (more hidden) ...\u001b[A\n",
      "DR 3:  11%|███████████▊                                                                                                    | 3461/32768 [00:00<00:07, 3824.06it/s]\n",
      "/opt/homebrew/lib/python3.11/site-packages/torch/optim/lr_scheduler.py:28: UserWarning: The verbose parameter is deprecated. Please use get_last_lr() to access the learning rate.\n",
      "  warnings.warn(\"The verbose parameter is deprecated. Please use get_last_lr() \"\n"
     ]
    },
    {
     "name": "stdout",
     "output_type": "stream",
     "text": [
      "Stopping at Epoch 3461\n",
      "AUC predicting P(win):\t\t\t\t 0.7779507666919542\n",
      "Estimated Utility\t Mean Error:\t\t\t -0.005286958387799471\n",
      "Estimated Utility\t Mean Absolute Error:\t 0.29250866995060404\n"
     ]
    },
    {
     "name": "stderr",
     "output_type": "stream",
     "text": [
      "\n",
      " ... (more hidden) ...\u001b[A\n",
      " ... (more hidden) ...\u001b[A\n",
      " ... (more hidden) ...\u001b[A\n",
      " ... (more hidden) ...\u001b[A\n",
      " ... (more hidden) ...\u001b[A\n",
      " ... (more hidden) ...\u001b[A\n",
      " ... (more hidden) ...\u001b[A\n",
      " ... (more hidden) ...\u001b[A\n",
      " ... (more hidden) ...\u001b[A\n",
      " ... (more hidden) ...\u001b[A\n",
      " ... (more hidden) ...\u001b[A\n",
      " ... (more hidden) ...\u001b[A\n",
      " ... (more hidden) ...\u001b[A\n",
      " ... (more hidden) ...\u001b[A\n",
      " ... (more hidden) ...\u001b[A\n",
      " ... (more hidden) ...\u001b[A\n",
      " ... (more hidden) ...\u001b[A\n",
      " ... (more hidden) ...\u001b[A\n",
      " ... (more hidden) ...\u001b[A\n",
      " ... (more hidden) ...\u001b[A\n",
      " ... (more hidden) ...\u001b[A\n",
      " ... (more hidden) ...\u001b[A\n",
      " ... (more hidden) ...\u001b[A\n",
      " ... (more hidden) ...\u001b[A\n",
      " ... (more hidden) ...\u001b[A\n",
      " ... (more hidden) ...\u001b[A\n",
      " ... (more hidden) ...\u001b[A\n",
      " ... (more hidden) ...\u001b[A\n",
      "DR 3:   7%|████████                                                                                                         | 2350/32768 [00:02<00:37, 801.23it/s]\n"
     ]
    },
    {
     "name": "stdout",
     "output_type": "stream",
     "text": [
      "Stopping at Epoch 2350\n",
      "DR 3 Number of samples:  torch.Size([6660, 2])\n",
      "DR 3 Predicted Gammas:  0.6987434 0.8711137 0.7904266\n"
     ]
    },
    {
     "name": "stderr",
     "output_type": "stream",
     "text": [
      "\n",
      " ... (more hidden) ...\u001b[A\n",
      " ... (more hidden) ...\u001b[A\n",
      "DR 1:   6%|███████                                                                                                         | 1025/16384 [00:00<00:03, 4556.91it/s]\n",
      "/opt/homebrew/lib/python3.11/site-packages/torch/optim/lr_scheduler.py:28: UserWarning: The verbose parameter is deprecated. Please use get_last_lr() to access the learning rate.\n",
      "  warnings.warn(\"The verbose parameter is deprecated. Please use get_last_lr() \"\n"
     ]
    },
    {
     "name": "stdout",
     "output_type": "stream",
     "text": [
      "Stopping at Epoch 1025\n",
      "AUC predicting P(win):\t\t\t\t 0.8367798638609942\n",
      "Estimated Utility\t Mean Error:\t\t\t 0.0017105138840655656\n",
      "Estimated Utility\t Mean Absolute Error:\t 0.15716067852187962\n"
     ]
    },
    {
     "name": "stderr",
     "output_type": "stream",
     "text": [
      "\n",
      " ... (more hidden) ...\u001b[A\n",
      " ... (more hidden) ...\u001b[A\n",
      " ... (more hidden) ...\u001b[A\n",
      " ... (more hidden) ...\u001b[A\n",
      " ... (more hidden) ...\u001b[A\n",
      " ... (more hidden) ...\u001b[A\n",
      " ... (more hidden) ...\u001b[A\n",
      " ... (more hidden) ...\u001b[A\n",
      " ... (more hidden) ...\u001b[A\n",
      " ... (more hidden) ...\u001b[A\n",
      "DR 1:  13%|██████████████▍                                                                                                 | 4220/32768 [00:01<00:07, 3916.27it/s]\n",
      "/opt/homebrew/lib/python3.11/site-packages/torch/optim/lr_scheduler.py:28: UserWarning: The verbose parameter is deprecated. Please use get_last_lr() to access the learning rate.\n",
      "  warnings.warn(\"The verbose parameter is deprecated. Please use get_last_lr() \"\n"
     ]
    },
    {
     "name": "stdout",
     "output_type": "stream",
     "text": [
      "Stopping at Epoch 4220\n",
      "AUC predicting P(win):\t\t\t\t 0.8397145054536325\n",
      "Estimated Utility\t Mean Error:\t\t\t 0.002749963192829224\n",
      "Estimated Utility\t Mean Absolute Error:\t 0.15669076728967582\n"
     ]
    },
    {
     "name": "stderr",
     "output_type": "stream",
     "text": [
      "\n",
      " ... (more hidden) ...\u001b[A\n",
      " ... (more hidden) ...\u001b[A\n",
      " ... (more hidden) ...\u001b[A\n",
      " ... (more hidden) ...\u001b[A\n",
      " ... (more hidden) ...\u001b[A\n",
      " ... (more hidden) ...\u001b[A\n",
      " ... (more hidden) ...\u001b[A\n",
      " ... (more hidden) ...\u001b[A\n",
      " ... (more hidden) ...\u001b[A\n",
      " ... (more hidden) ...\u001b[A\n",
      " ... (more hidden) ...\u001b[A\n",
      " ... (more hidden) ...\u001b[A\n",
      " ... (more hidden) ...\u001b[A\n",
      " ... (more hidden) ...\u001b[A\n",
      " ... (more hidden) ...\u001b[A\n",
      " ... (more hidden) ...\u001b[A\n",
      " ... (more hidden) ...\u001b[A\n",
      " ... (more hidden) ...\u001b[A\n",
      "DR 1:   5%|█████▎                                                                                                           | 1554/32768 [00:02<00:45, 690.99it/s]\n"
     ]
    },
    {
     "name": "stdout",
     "output_type": "stream",
     "text": [
      "Stopping at Epoch 1554\n",
      "DR 1 Number of samples:  torch.Size([6671, 2])\n",
      "DR 1 Predicted Gammas:  0.57527715 1.0 0.877392\n"
     ]
    },
    {
     "name": "stderr",
     "output_type": "stream",
     "text": [
      "\n",
      " ... (more hidden) ...\u001b[A\n",
      " ... (more hidden) ...\u001b[A\n",
      "DR 2:   6%|███████                                                                                                         | 1025/16384 [00:00<00:04, 3461.28it/s]\n",
      "/opt/homebrew/lib/python3.11/site-packages/torch/optim/lr_scheduler.py:28: UserWarning: The verbose parameter is deprecated. Please use get_last_lr() to access the learning rate.\n",
      "  warnings.warn(\"The verbose parameter is deprecated. Please use get_last_lr() \"\n"
     ]
    },
    {
     "name": "stdout",
     "output_type": "stream",
     "text": [
      "Stopping at Epoch 1025\n",
      "AUC predicting P(win):\t\t\t\t 0.7392320581449917\n",
      "Estimated Utility\t Mean Error:\t\t\t 0.009386313264790403\n",
      "Estimated Utility\t Mean Absolute Error:\t 0.3475932667677191\n"
     ]
    },
    {
     "name": "stderr",
     "output_type": "stream",
     "text": [
      "\n",
      " ... (more hidden) ...\u001b[A\n",
      " ... (more hidden) ...\u001b[A\n",
      " ... (more hidden) ...\u001b[A\n",
      " ... (more hidden) ...\u001b[A\n",
      " ... (more hidden) ...\u001b[A\n",
      " ... (more hidden) ...\u001b[A\n",
      "DR 2:   8%|█████████▏                                                                                                      | 2675/32768 [00:00<00:07, 4293.00it/s]\n",
      "/opt/homebrew/lib/python3.11/site-packages/torch/optim/lr_scheduler.py:28: UserWarning: The verbose parameter is deprecated. Please use get_last_lr() to access the learning rate.\n",
      "  warnings.warn(\"The verbose parameter is deprecated. Please use get_last_lr() \"\n"
     ]
    },
    {
     "name": "stdout",
     "output_type": "stream",
     "text": [
      "Stopping at Epoch 2675\n",
      "AUC predicting P(win):\t\t\t\t 0.7404988778052972\n",
      "Estimated Utility\t Mean Error:\t\t\t 0.011085477785644261\n",
      "Estimated Utility\t Mean Absolute Error:\t 0.34749693321546066\n"
     ]
    },
    {
     "name": "stderr",
     "output_type": "stream",
     "text": [
      "\n",
      " ... (more hidden) ...\u001b[A\n",
      " ... (more hidden) ...\u001b[A\n",
      " ... (more hidden) ...\u001b[A\n",
      " ... (more hidden) ...\u001b[A\n",
      " ... (more hidden) ...\u001b[A\n",
      " ... (more hidden) ...\u001b[A\n",
      " ... (more hidden) ...\u001b[A\n",
      "DR 2:   2%|██                                                                                                                | 595/32768 [00:00<00:41, 773.18it/s]\n"
     ]
    },
    {
     "name": "stdout",
     "output_type": "stream",
     "text": [
      "Stopping at Epoch 595\n",
      "DR 2 Number of samples:  torch.Size([6728, 2])\n",
      "DR 2 Predicted Gammas:  0.77501386 1.0 0.95354944\n"
     ]
    },
    {
     "name": "stderr",
     "output_type": "stream",
     "text": [
      "\n",
      " ... (more hidden) ...\u001b[A\n",
      " ... (more hidden) ...\u001b[A\n",
      "DR 3:   6%|███████                                                                                                         | 1025/16384 [00:00<00:03, 3985.60it/s]\n",
      "/opt/homebrew/lib/python3.11/site-packages/torch/optim/lr_scheduler.py:28: UserWarning: The verbose parameter is deprecated. Please use get_last_lr() to access the learning rate.\n",
      "  warnings.warn(\"The verbose parameter is deprecated. Please use get_last_lr() \"\n"
     ]
    },
    {
     "name": "stdout",
     "output_type": "stream",
     "text": [
      "Stopping at Epoch 1025\n",
      "AUC predicting P(win):\t\t\t\t 0.7525797190793817\n",
      "Estimated Utility\t Mean Error:\t\t\t -0.0047735645252399575\n",
      "Estimated Utility\t Mean Absolute Error:\t 0.2876869181965835\n"
     ]
    },
    {
     "name": "stderr",
     "output_type": "stream",
     "text": [
      "\n",
      " ... (more hidden) ...\u001b[A\n",
      " ... (more hidden) ...\u001b[A\n",
      " ... (more hidden) ...\u001b[A\n",
      " ... (more hidden) ...\u001b[A\n",
      " ... (more hidden) ...\u001b[A\n",
      " ... (more hidden) ...\u001b[A\n",
      " ... (more hidden) ...\u001b[A\n",
      "DR 3:  10%|██████████▉                                                                                                     | 3186/32768 [00:00<00:07, 4116.32it/s]\n",
      "/opt/homebrew/lib/python3.11/site-packages/torch/optim/lr_scheduler.py:28: UserWarning: The verbose parameter is deprecated. Please use get_last_lr() to access the learning rate.\n",
      "  warnings.warn(\"The verbose parameter is deprecated. Please use get_last_lr() \"\n"
     ]
    },
    {
     "name": "stdout",
     "output_type": "stream",
     "text": [
      "Stopping at Epoch 3186\n",
      "AUC predicting P(win):\t\t\t\t 0.7504962882850632\n",
      "Estimated Utility\t Mean Error:\t\t\t -0.0039037255051998245\n",
      "Estimated Utility\t Mean Absolute Error:\t 0.2886238765679341\n"
     ]
    },
    {
     "name": "stderr",
     "output_type": "stream",
     "text": [
      "\n",
      " ... (more hidden) ...\u001b[A\n",
      " ... (more hidden) ...\u001b[A\n",
      " ... (more hidden) ...\u001b[A\n",
      " ... (more hidden) ...\u001b[A\n",
      " ... (more hidden) ...\u001b[A\n",
      " ... (more hidden) ...\u001b[A\n",
      " ... (more hidden) ...\u001b[A\n",
      " ... (more hidden) ...\u001b[A\n",
      " ... (more hidden) ...\u001b[A\n",
      " ... (more hidden) ...\u001b[A\n",
      " ... (more hidden) ...\u001b[A\n",
      " ... (more hidden) ...\u001b[A\n",
      " ... (more hidden) ...\u001b[A\n",
      "DR 3:   3%|███▉                                                                                                             | 1142/32768 [00:01<00:39, 810.02it/s]\n"
     ]
    },
    {
     "name": "stdout",
     "output_type": "stream",
     "text": [
      "Stopping at Epoch 1142\n",
      "DR 3 Number of samples:  torch.Size([6601, 2])\n",
      "DR 3 Predicted Gammas:  0.7185999 0.88819975 0.81012356\n"
     ]
    },
    {
     "name": "stderr",
     "output_type": "stream",
     "text": [
      "\n",
      " ... (more hidden) ...\u001b[A\n",
      " ... (more hidden) ...\u001b[A\n",
      "DR 1:   7%|███████▎                                                                                                        | 1075/16384 [00:00<00:03, 4430.94it/s]\n",
      "/opt/homebrew/lib/python3.11/site-packages/torch/optim/lr_scheduler.py:28: UserWarning: The verbose parameter is deprecated. Please use get_last_lr() to access the learning rate.\n",
      "  warnings.warn(\"The verbose parameter is deprecated. Please use get_last_lr() \"\n"
     ]
    },
    {
     "name": "stdout",
     "output_type": "stream",
     "text": [
      "Stopping at Epoch 1075\n",
      "AUC predicting P(win):\t\t\t\t 0.8205769795079962\n",
      "Estimated Utility\t Mean Error:\t\t\t 0.00032666838683325164\n",
      "Estimated Utility\t Mean Absolute Error:\t 0.17677545963960634\n"
     ]
    },
    {
     "name": "stderr",
     "output_type": "stream",
     "text": [
      "\n",
      " ... (more hidden) ...\u001b[A\n",
      " ... (more hidden) ...\u001b[A\n",
      " ... (more hidden) ...\u001b[A\n",
      " ... (more hidden) ...\u001b[A\n",
      " ... (more hidden) ...\u001b[A\n",
      " ... (more hidden) ...\u001b[A\n",
      " ... (more hidden) ...\u001b[A\n",
      " ... (more hidden) ...\u001b[A\n",
      " ... (more hidden) ...\u001b[A\n",
      " ... (more hidden) ...\u001b[A\n",
      " ... (more hidden) ...\u001b[A\n",
      " ... (more hidden) ...\u001b[A\n",
      " ... (more hidden) ...\u001b[A\n",
      " ... (more hidden) ...\u001b[A\n",
      "DR 1:  18%|███████████████████▉                                                                                            | 5821/32768 [00:01<00:06, 3850.55it/s]\n",
      "/opt/homebrew/lib/python3.11/site-packages/torch/optim/lr_scheduler.py:28: UserWarning: The verbose parameter is deprecated. Please use get_last_lr() to access the learning rate.\n",
      "  warnings.warn(\"The verbose parameter is deprecated. Please use get_last_lr() \"\n"
     ]
    },
    {
     "name": "stdout",
     "output_type": "stream",
     "text": [
      "Stopping at Epoch 5821\n",
      "AUC predicting P(win):\t\t\t\t 0.8500160985311618\n",
      "Estimated Utility\t Mean Error:\t\t\t -0.0018795110938555509\n",
      "Estimated Utility\t Mean Absolute Error:\t 0.17531411200999333\n"
     ]
    },
    {
     "name": "stderr",
     "output_type": "stream",
     "text": [
      "\n",
      " ... (more hidden) ...\u001b[A\n",
      " ... (more hidden) ...\u001b[A\n",
      " ... (more hidden) ...\u001b[A\n",
      " ... (more hidden) ...\u001b[A\n",
      " ... (more hidden) ...\u001b[A\n",
      " ... (more hidden) ...\u001b[A\n",
      "DR 1:   2%|█▊                                                                                                                | 513/32768 [00:00<00:39, 824.79it/s]\n"
     ]
    },
    {
     "name": "stdout",
     "output_type": "stream",
     "text": [
      "Stopping at Epoch 513\n",
      "DR 1 Number of samples:  torch.Size([6653, 2])\n",
      "DR 1 Predicted Gammas:  0.5376365 1.0 0.8189276\n"
     ]
    },
    {
     "name": "stderr",
     "output_type": "stream",
     "text": [
      "\n",
      " ... (more hidden) ...\u001b[A\n",
      " ... (more hidden) ...\u001b[A\n",
      " ... (more hidden) ...\u001b[A\n",
      "DR 2:   6%|███████                                                                                                         | 1025/16384 [00:00<00:04, 3355.98it/s]\n",
      "/opt/homebrew/lib/python3.11/site-packages/torch/optim/lr_scheduler.py:28: UserWarning: The verbose parameter is deprecated. Please use get_last_lr() to access the learning rate.\n",
      "  warnings.warn(\"The verbose parameter is deprecated. Please use get_last_lr() \"\n"
     ]
    },
    {
     "name": "stdout",
     "output_type": "stream",
     "text": [
      "Stopping at Epoch 1025\n",
      "AUC predicting P(win):\t\t\t\t 0.7089521056512238\n",
      "Estimated Utility\t Mean Error:\t\t\t 0.0031790633555680565\n",
      "Estimated Utility\t Mean Absolute Error:\t 0.3095601494851901\n"
     ]
    },
    {
     "name": "stderr",
     "output_type": "stream",
     "text": [
      "\n",
      " ... (more hidden) ...\u001b[A\n",
      " ... (more hidden) ...\u001b[A\n",
      " ... (more hidden) ...\u001b[A\n",
      " ... (more hidden) ...\u001b[A\n",
      " ... (more hidden) ...\u001b[A\n",
      "DR 2:   7%|███████▊                                                                                                        | 2278/32768 [00:00<00:07, 4303.68it/s]\n",
      "/opt/homebrew/lib/python3.11/site-packages/torch/optim/lr_scheduler.py:28: UserWarning: The verbose parameter is deprecated. Please use get_last_lr() to access the learning rate.\n",
      "  warnings.warn(\"The verbose parameter is deprecated. Please use get_last_lr() \"\n"
     ]
    },
    {
     "name": "stdout",
     "output_type": "stream",
     "text": [
      "Stopping at Epoch 2278\n",
      "AUC predicting P(win):\t\t\t\t 0.7079983403566474\n",
      "Estimated Utility\t Mean Error:\t\t\t 0.0010677237210511422\n",
      "Estimated Utility\t Mean Absolute Error:\t 0.3093665879622824\n"
     ]
    },
    {
     "name": "stderr",
     "output_type": "stream",
     "text": [
      "\n",
      " ... (more hidden) ...\u001b[A\n",
      " ... (more hidden) ...\u001b[A\n",
      " ... (more hidden) ...\u001b[A\n",
      " ... (more hidden) ...\u001b[A\n",
      " ... (more hidden) ...\u001b[A\n",
      " ... (more hidden) ...\u001b[A\n",
      " ... (more hidden) ...\u001b[A\n",
      " ... (more hidden) ...\u001b[A\n",
      " ... (more hidden) ...\u001b[A\n",
      " ... (more hidden) ...\u001b[A\n",
      "DR 2:   3%|██▉                                                                                                               | 832/32768 [00:01<00:41, 775.02it/s]\n"
     ]
    },
    {
     "name": "stdout",
     "output_type": "stream",
     "text": [
      "Stopping at Epoch 832\n",
      "DR 2 Number of samples:  torch.Size([6643, 2])\n",
      "DR 2 Predicted Gammas:  0.7002068 1.0 0.9373317\n"
     ]
    },
    {
     "name": "stderr",
     "output_type": "stream",
     "text": [
      "\n",
      " ... (more hidden) ...\u001b[A\n",
      " ... (more hidden) ...\u001b[A\n",
      "DR 3:   6%|███████                                                                                                         | 1025/16384 [00:00<00:04, 3818.58it/s]\n",
      "/opt/homebrew/lib/python3.11/site-packages/torch/optim/lr_scheduler.py:28: UserWarning: The verbose parameter is deprecated. Please use get_last_lr() to access the learning rate.\n",
      "  warnings.warn(\"The verbose parameter is deprecated. Please use get_last_lr() \"\n"
     ]
    },
    {
     "name": "stdout",
     "output_type": "stream",
     "text": [
      "Stopping at Epoch 1025\n",
      "AUC predicting P(win):\t\t\t\t 0.7513130780335107\n",
      "Estimated Utility\t Mean Error:\t\t\t 0.00941847013862943\n",
      "Estimated Utility\t Mean Absolute Error:\t 0.3031512615049062\n"
     ]
    },
    {
     "name": "stderr",
     "output_type": "stream",
     "text": [
      "\n",
      " ... (more hidden) ...\u001b[A\n",
      " ... (more hidden) ...\u001b[A\n",
      " ... (more hidden) ...\u001b[A\n",
      " ... (more hidden) ...\u001b[A\n",
      " ... (more hidden) ...\u001b[A\n",
      "DR 3:   7%|███████▎                                                                                                        | 2137/32768 [00:00<00:07, 4048.15it/s]\n",
      "/opt/homebrew/lib/python3.11/site-packages/torch/optim/lr_scheduler.py:28: UserWarning: The verbose parameter is deprecated. Please use get_last_lr() to access the learning rate.\n",
      "  warnings.warn(\"The verbose parameter is deprecated. Please use get_last_lr() \"\n"
     ]
    },
    {
     "name": "stdout",
     "output_type": "stream",
     "text": [
      "Stopping at Epoch 2137\n",
      "AUC predicting P(win):\t\t\t\t 0.7519578771685498\n",
      "Estimated Utility\t Mean Error:\t\t\t 0.0072370359203549695\n",
      "Estimated Utility\t Mean Absolute Error:\t 0.30204958032874235\n"
     ]
    },
    {
     "name": "stderr",
     "output_type": "stream",
     "text": [
      "\n",
      " ... (more hidden) ...\u001b[A\n",
      " ... (more hidden) ...\u001b[A\n",
      " ... (more hidden) ...\u001b[A\n",
      " ... (more hidden) ...\u001b[A\n",
      " ... (more hidden) ...\u001b[A\n",
      " ... (more hidden) ...\u001b[A\n",
      " ... (more hidden) ...\u001b[A\n",
      " ... (more hidden) ...\u001b[A\n",
      " ... (more hidden) ...\u001b[A\n",
      " ... (more hidden) ...\u001b[A\n",
      " ... (more hidden) ...\u001b[A\n",
      " ... (more hidden) ...\u001b[A\n",
      " ... (more hidden) ...\u001b[A\n",
      " ... (more hidden) ...\u001b[A\n",
      " ... (more hidden) ...\u001b[A\n",
      " ... (more hidden) ...\u001b[A\n",
      " ... (more hidden) ...\u001b[A\n",
      " ... (more hidden) ...\u001b[A\n",
      " ... (more hidden) ...\u001b[A\n",
      " ... (more hidden) ...\u001b[A\n",
      " ... (more hidden) ...\u001b[A\n",
      " ... (more hidden) ...\u001b[A\n",
      " ... (more hidden) ...\u001b[A\n",
      " ... (more hidden) ...\u001b[A\n",
      " ... (more hidden) ...\u001b[A\n",
      " ... (more hidden) ...\u001b[A\n",
      " ... (more hidden) ...\u001b[A\n",
      " ... (more hidden) ...\u001b[A\n",
      " ... (more hidden) ...\u001b[A\n",
      " ... (more hidden) ...\u001b[A\n",
      " ... (more hidden) ...\u001b[A\n",
      " ... (more hidden) ...\u001b[A\n",
      " ... (more hidden) ...\u001b[A\n",
      " ... (more hidden) ...\u001b[A\n",
      " ... (more hidden) ...\u001b[A\n",
      " ... (more hidden) ...\u001b[A\n",
      " ... (more hidden) ...\u001b[A\n",
      " ... (more hidden) ...\u001b[A\n",
      " ... (more hidden) ...\u001b[A\n",
      " ... (more hidden) ...\u001b[A\n",
      " ... (more hidden) ...\u001b[A\n",
      " ... (more hidden) ...\u001b[A\n",
      " ... (more hidden) ...\u001b[A\n",
      " ... (more hidden) ...\u001b[A\n",
      " ... (more hidden) ...\u001b[A\n",
      " ... (more hidden) ...\u001b[A\n",
      " ... (more hidden) ...\u001b[A\n",
      " ... (more hidden) ...\u001b[A\n",
      " ... (more hidden) ...\u001b[A\n",
      "DR 3:  13%|██████████████▋                                                                                                  | 4270/32768 [00:05<00:33, 842.67it/s]\n"
     ]
    },
    {
     "name": "stdout",
     "output_type": "stream",
     "text": [
      "Stopping at Epoch 4270\n",
      "DR 3 Number of samples:  torch.Size([6704, 2])\n",
      "DR 3 Predicted Gammas:  0.6727861 0.80899245 0.7468347\n"
     ]
    },
    {
     "name": "stderr",
     "output_type": "stream",
     "text": [
      "\n",
      " ... (more hidden) ...\u001b[A\n",
      " ... (more hidden) ...\u001b[A\n",
      "DR 1:   6%|███████                                                                                                         | 1025/16384 [00:00<00:03, 4553.04it/s]\n",
      "/opt/homebrew/lib/python3.11/site-packages/torch/optim/lr_scheduler.py:28: UserWarning: The verbose parameter is deprecated. Please use get_last_lr() to access the learning rate.\n",
      "  warnings.warn(\"The verbose parameter is deprecated. Please use get_last_lr() \"\n"
     ]
    },
    {
     "name": "stdout",
     "output_type": "stream",
     "text": [
      "Stopping at Epoch 1025\n",
      "AUC predicting P(win):\t\t\t\t 0.8287684955752213\n",
      "Estimated Utility\t Mean Error:\t\t\t -0.012155495640345454\n",
      "Estimated Utility\t Mean Absolute Error:\t 0.17735862254801196\n"
     ]
    },
    {
     "name": "stderr",
     "output_type": "stream",
     "text": [
      "\n",
      " ... (more hidden) ...\u001b[A\n",
      " ... (more hidden) ...\u001b[A\n",
      " ... (more hidden) ...\u001b[A\n",
      " ... (more hidden) ...\u001b[A\n",
      " ... (more hidden) ...\u001b[A\n",
      " ... (more hidden) ...\u001b[A\n",
      " ... (more hidden) ...\u001b[A\n",
      " ... (more hidden) ...\u001b[A\n",
      " ... (more hidden) ...\u001b[A\n",
      "DR 1:  12%|████████████▉                                                                                                   | 3771/32768 [00:00<00:07, 3936.80it/s]\n",
      "/opt/homebrew/lib/python3.11/site-packages/torch/optim/lr_scheduler.py:28: UserWarning: The verbose parameter is deprecated. Please use get_last_lr() to access the learning rate.\n",
      "  warnings.warn(\"The verbose parameter is deprecated. Please use get_last_lr() \"\n"
     ]
    },
    {
     "name": "stdout",
     "output_type": "stream",
     "text": [
      "Stopping at Epoch 3771\n",
      "AUC predicting P(win):\t\t\t\t 0.8256199241466498\n",
      "Estimated Utility\t Mean Error:\t\t\t -0.003319584620586361\n",
      "Estimated Utility\t Mean Absolute Error:\t 0.18025743119613316\n"
     ]
    },
    {
     "name": "stderr",
     "output_type": "stream",
     "text": [
      "\n",
      " ... (more hidden) ...\u001b[A\n",
      " ... (more hidden) ...\u001b[A\n",
      " ... (more hidden) ...\u001b[A\n",
      " ... (more hidden) ...\u001b[A\n",
      " ... (more hidden) ...\u001b[A\n",
      " ... (more hidden) ...\u001b[A\n",
      " ... (more hidden) ...\u001b[A\n",
      " ... (more hidden) ...\u001b[A\n",
      " ... (more hidden) ...\u001b[A\n",
      " ... (more hidden) ...\u001b[A\n",
      " ... (more hidden) ...\u001b[A\n",
      " ... (more hidden) ...\u001b[A\n",
      " ... (more hidden) ...\u001b[A\n",
      " ... (more hidden) ...\u001b[A\n",
      " ... (more hidden) ...\u001b[A\n",
      " ... (more hidden) ...\u001b[A\n",
      " ... (more hidden) ...\u001b[A\n",
      " ... (more hidden) ...\u001b[A\n",
      " ... (more hidden) ...\u001b[A\n",
      "DR 1:   5%|█████▌                                                                                                           | 1627/32768 [00:02<00:39, 780.71it/s]\n"
     ]
    },
    {
     "name": "stdout",
     "output_type": "stream",
     "text": [
      "Stopping at Epoch 1627\n",
      "DR 1 Number of samples:  torch.Size([6635, 2])\n",
      "DR 1 Predicted Gammas:  0.56200236 1.0 0.8338758\n"
     ]
    },
    {
     "name": "stderr",
     "output_type": "stream",
     "text": [
      "\n",
      " ... (more hidden) ...\u001b[A\n",
      " ... (more hidden) ...\u001b[A\n",
      " ... (more hidden) ...\u001b[A\n",
      "DR 2:   6%|███████                                                                                                         | 1025/16384 [00:00<00:04, 3390.60it/s]\n",
      "/opt/homebrew/lib/python3.11/site-packages/torch/optim/lr_scheduler.py:28: UserWarning: The verbose parameter is deprecated. Please use get_last_lr() to access the learning rate.\n",
      "  warnings.warn(\"The verbose parameter is deprecated. Please use get_last_lr() \"\n"
     ]
    },
    {
     "name": "stdout",
     "output_type": "stream",
     "text": [
      "Stopping at Epoch 1025\n",
      "AUC predicting P(win):\t\t\t\t 0.7019383805806798\n",
      "Estimated Utility\t Mean Error:\t\t\t -0.013369389576273339\n",
      "Estimated Utility\t Mean Absolute Error:\t 0.3391859353376888\n"
     ]
    },
    {
     "name": "stderr",
     "output_type": "stream",
     "text": [
      "\n",
      " ... (more hidden) ...\u001b[A\n",
      " ... (more hidden) ...\u001b[A\n",
      " ... (more hidden) ...\u001b[A\n",
      " ... (more hidden) ...\u001b[A\n",
      " ... (more hidden) ...\u001b[A\n",
      " ... (more hidden) ...\u001b[A\n",
      " ... (more hidden) ...\u001b[A\n",
      " ... (more hidden) ...\u001b[A\n",
      "DR 2:  12%|█████████████                                                                                                   | 3805/32768 [00:00<00:06, 4364.79it/s]\n",
      "/opt/homebrew/lib/python3.11/site-packages/torch/optim/lr_scheduler.py:28: UserWarning: The verbose parameter is deprecated. Please use get_last_lr() to access the learning rate.\n",
      "  warnings.warn(\"The verbose parameter is deprecated. Please use get_last_lr() \"\n"
     ]
    },
    {
     "name": "stdout",
     "output_type": "stream",
     "text": [
      "Stopping at Epoch 3805\n",
      "AUC predicting P(win):\t\t\t\t 0.7102056366576498\n",
      "Estimated Utility\t Mean Error:\t\t\t -0.007107885548980469\n",
      "Estimated Utility\t Mean Absolute Error:\t 0.3392913111814245\n"
     ]
    },
    {
     "name": "stderr",
     "output_type": "stream",
     "text": [
      "\n",
      " ... (more hidden) ...\u001b[A\n",
      " ... (more hidden) ...\u001b[A\n",
      " ... (more hidden) ...\u001b[A\n",
      " ... (more hidden) ...\u001b[A\n",
      " ... (more hidden) ...\u001b[A\n",
      " ... (more hidden) ...\u001b[A\n",
      " ... (more hidden) ...\u001b[A\n",
      " ... (more hidden) ...\u001b[A\n",
      " ... (more hidden) ...\u001b[A\n",
      " ... (more hidden) ...\u001b[A\n",
      " ... (more hidden) ...\u001b[A\n",
      " ... (more hidden) ...\u001b[A\n",
      " ... (more hidden) ...\u001b[A\n",
      " ... (more hidden) ...\u001b[A\n",
      " ... (more hidden) ...\u001b[A\n",
      " ... (more hidden) ...\u001b[A\n",
      " ... (more hidden) ...\u001b[A\n",
      " ... (more hidden) ...\u001b[A\n",
      " ... (more hidden) ...\u001b[A\n",
      " ... (more hidden) ...\u001b[A\n",
      " ... (more hidden) ...\u001b[A\n",
      " ... (more hidden) ...\u001b[A\n",
      " ... (more hidden) ...\u001b[A\n",
      " ... (more hidden) ...\u001b[A\n",
      " ... (more hidden) ...\u001b[A\n",
      " ... (more hidden) ...\u001b[A\n",
      " ... (more hidden) ...\u001b[A\n",
      " ... (more hidden) ...\u001b[A\n",
      " ... (more hidden) ...\u001b[A\n",
      " ... (more hidden) ...\u001b[A\n",
      " ... (more hidden) ...\u001b[A\n",
      " ... (more hidden) ...\u001b[A\n",
      " ... (more hidden) ...\u001b[A\n",
      " ... (more hidden) ...\u001b[A\n",
      " ... (more hidden) ...\u001b[A\n",
      " ... (more hidden) ...\u001b[A\n",
      " ... (more hidden) ...\u001b[A\n",
      " ... (more hidden) ...\u001b[A\n",
      " ... (more hidden) ...\u001b[A\n",
      " ... (more hidden) ...\u001b[A\n",
      " ... (more hidden) ...\u001b[A\n",
      " ... (more hidden) ...\u001b[A\n",
      "DR 2:  11%|████████████▏                                                                                                    | 3526/32768 [00:04<00:36, 800.71it/s]\n"
     ]
    },
    {
     "name": "stdout",
     "output_type": "stream",
     "text": [
      "Stopping at Epoch 3526\n",
      "DR 2 Number of samples:  torch.Size([6701, 2])\n",
      "DR 2 Predicted Gammas:  0.67051923 1.0 0.91916317\n"
     ]
    },
    {
     "name": "stderr",
     "output_type": "stream",
     "text": [
      "\n",
      " ... (more hidden) ...\u001b[A\n",
      " ... (more hidden) ...\u001b[A\n",
      "DR 3:   6%|███████                                                                                                         | 1025/16384 [00:00<00:03, 3913.46it/s]\n",
      "/opt/homebrew/lib/python3.11/site-packages/torch/optim/lr_scheduler.py:28: UserWarning: The verbose parameter is deprecated. Please use get_last_lr() to access the learning rate.\n",
      "  warnings.warn(\"The verbose parameter is deprecated. Please use get_last_lr() \"\n"
     ]
    },
    {
     "name": "stdout",
     "output_type": "stream",
     "text": [
      "Stopping at Epoch 1025\n",
      "AUC predicting P(win):\t\t\t\t 0.7689588774633594\n",
      "Estimated Utility\t Mean Error:\t\t\t -0.009618098368441814\n",
      "Estimated Utility\t Mean Absolute Error:\t 0.27826668910231056\n"
     ]
    },
    {
     "name": "stderr",
     "output_type": "stream",
     "text": [
      "\n",
      " ... (more hidden) ...\u001b[A\n",
      " ... (more hidden) ...\u001b[A\n",
      " ... (more hidden) ...\u001b[A\n",
      " ... (more hidden) ...\u001b[A\n",
      " ... (more hidden) ...\u001b[A\n",
      "DR 3:   6%|███████                                                                                                         | 2060/32768 [00:00<00:07, 4079.18it/s]\n",
      "/opt/homebrew/lib/python3.11/site-packages/torch/optim/lr_scheduler.py:28: UserWarning: The verbose parameter is deprecated. Please use get_last_lr() to access the learning rate.\n",
      "  warnings.warn(\"The verbose parameter is deprecated. Please use get_last_lr() \"\n"
     ]
    },
    {
     "name": "stdout",
     "output_type": "stream",
     "text": [
      "Stopping at Epoch 2060\n",
      "AUC predicting P(win):\t\t\t\t 0.7701491168517429\n",
      "Estimated Utility\t Mean Error:\t\t\t 0.0007929096517199445\n",
      "Estimated Utility\t Mean Absolute Error:\t 0.2812623179738004\n"
     ]
    },
    {
     "name": "stderr",
     "output_type": "stream",
     "text": [
      "\n",
      " ... (more hidden) ...\u001b[A\n",
      " ... (more hidden) ...\u001b[A\n",
      " ... (more hidden) ...\u001b[A\n",
      " ... (more hidden) ...\u001b[A\n",
      " ... (more hidden) ...\u001b[A\n",
      " ... (more hidden) ...\u001b[A\n",
      " ... (more hidden) ...\u001b[A\n",
      " ... (more hidden) ...\u001b[A\n",
      " ... (more hidden) ...\u001b[A\n",
      " ... (more hidden) ...\u001b[A\n",
      " ... (more hidden) ...\u001b[A\n",
      " ... (more hidden) ...\u001b[A\n",
      " ... (more hidden) ...\u001b[A\n",
      " ... (more hidden) ...\u001b[A\n",
      " ... (more hidden) ...\u001b[A\n",
      " ... (more hidden) ...\u001b[A\n",
      " ... (more hidden) ...\u001b[A\n",
      " ... (more hidden) ...\u001b[A\n",
      " ... (more hidden) ...\u001b[A\n",
      " ... (more hidden) ...\u001b[A\n",
      "DR 3:   5%|█████▊                                                                                                           | 1683/32768 [00:02<00:37, 827.30it/s]\n"
     ]
    },
    {
     "name": "stdout",
     "output_type": "stream",
     "text": [
      "Stopping at Epoch 1683\n",
      "DR 3 Number of samples:  torch.Size([6664, 2])\n",
      "DR 3 Predicted Gammas:  0.6258787 0.78319937 0.72297657\n"
     ]
    },
    {
     "name": "stderr",
     "output_type": "stream",
     "text": [
      "\n",
      " ... (more hidden) ...\u001b[A\n",
      " ... (more hidden) ...\u001b[A\n",
      "DR 1:   6%|███████                                                                                                         | 1025/16384 [00:00<00:03, 3971.24it/s]\n",
      "/opt/homebrew/lib/python3.11/site-packages/torch/optim/lr_scheduler.py:28: UserWarning: The verbose parameter is deprecated. Please use get_last_lr() to access the learning rate.\n",
      "  warnings.warn(\"The verbose parameter is deprecated. Please use get_last_lr() \"\n"
     ]
    },
    {
     "name": "stdout",
     "output_type": "stream",
     "text": [
      "Stopping at Epoch 1025\n",
      "AUC predicting P(win):\t\t\t\t 0.8305689083626563\n",
      "Estimated Utility\t Mean Error:\t\t\t -1.0183831211146497e-05\n",
      "Estimated Utility\t Mean Absolute Error:\t 0.2023936190471577\n"
     ]
    },
    {
     "name": "stderr",
     "output_type": "stream",
     "text": [
      "\n",
      " ... (more hidden) ...\u001b[A\n",
      " ... (more hidden) ...\u001b[A\n",
      " ... (more hidden) ...\u001b[A\n",
      " ... (more hidden) ...\u001b[A\n",
      "DR 1:   6%|██████▏                                                                                                         | 1812/32768 [00:00<00:08, 3582.04it/s]\n",
      "/opt/homebrew/lib/python3.11/site-packages/torch/optim/lr_scheduler.py:28: UserWarning: The verbose parameter is deprecated. Please use get_last_lr() to access the learning rate.\n",
      "  warnings.warn(\"The verbose parameter is deprecated. Please use get_last_lr() \"\n"
     ]
    },
    {
     "name": "stdout",
     "output_type": "stream",
     "text": [
      "Stopping at Epoch 1812\n",
      "AUC predicting P(win):\t\t\t\t 0.8335626836966133\n",
      "Estimated Utility\t Mean Error:\t\t\t 0.0009694438068793932\n",
      "Estimated Utility\t Mean Absolute Error:\t 0.20187713024755372\n"
     ]
    },
    {
     "name": "stderr",
     "output_type": "stream",
     "text": [
      "\n",
      " ... (more hidden) ...\u001b[A\n",
      " ... (more hidden) ...\u001b[A\n",
      " ... (more hidden) ...\u001b[A\n",
      " ... (more hidden) ...\u001b[A\n",
      " ... (more hidden) ...\u001b[A\n",
      " ... (more hidden) ...\u001b[A\n",
      " ... (more hidden) ...\u001b[A\n",
      " ... (more hidden) ...\u001b[A\n",
      " ... (more hidden) ...\u001b[A\n",
      " ... (more hidden) ...\u001b[A\n",
      " ... (more hidden) ...\u001b[A\n",
      " ... (more hidden) ...\u001b[A\n",
      " ... (more hidden) ...\u001b[A\n",
      " ... (more hidden) ...\u001b[A\n",
      " ... (more hidden) ...\u001b[A\n",
      " ... (more hidden) ...\u001b[A\n",
      " ... (more hidden) ...\u001b[A\n",
      " ... (more hidden) ...\u001b[A\n",
      " ... (more hidden) ...\u001b[A\n",
      " ... (more hidden) ...\u001b[A\n",
      " ... (more hidden) ...\u001b[A\n",
      " ... (more hidden) ...\u001b[A\n",
      " ... (more hidden) ...\u001b[A\n",
      " ... (more hidden) ...\u001b[A\n",
      " ... (more hidden) ...\u001b[A\n",
      " ... (more hidden) ...\u001b[A\n",
      " ... (more hidden) ...\u001b[A\n",
      " ... (more hidden) ...\u001b[A\n",
      " ... (more hidden) ...\u001b[A\n",
      " ... (more hidden) ...\u001b[A\n",
      " ... (more hidden) ...\u001b[A\n",
      " ... (more hidden) ...\u001b[A\n",
      " ... (more hidden) ...\u001b[A\n",
      " ... (more hidden) ...\u001b[A\n",
      " ... (more hidden) ...\u001b[A\n",
      " ... (more hidden) ...\u001b[A\n",
      " ... (more hidden) ...\u001b[A\n",
      " ... (more hidden) ...\u001b[A\n",
      " ... (more hidden) ...\u001b[A\n",
      " ... (more hidden) ...\u001b[A\n",
      " ... (more hidden) ...\u001b[A\n",
      " ... (more hidden) ...\u001b[A\n",
      " ... (more hidden) ...\u001b[A\n",
      " ... (more hidden) ...\u001b[A\n",
      " ... (more hidden) ...\u001b[A\n",
      " ... (more hidden) ...\u001b[A\n",
      " ... (more hidden) ...\u001b[A\n",
      " ... (more hidden) ...\u001b[A\n",
      " ... (more hidden) ...\u001b[A\n",
      " ... (more hidden) ...\u001b[A\n",
      " ... (more hidden) ...\u001b[A\n",
      " ... (more hidden) ...\u001b[A\n",
      " ... (more hidden) ...\u001b[A\n",
      " ... (more hidden) ...\u001b[A\n",
      " ... (more hidden) ...\u001b[A\n",
      " ... (more hidden) ...\u001b[A\n",
      " ... (more hidden) ...\u001b[A\n",
      " ... (more hidden) ...\u001b[A\n",
      " ... (more hidden) ...\u001b[A\n",
      " ... (more hidden) ...\u001b[A\n",
      " ... (more hidden) ...\u001b[A\n",
      " ... (more hidden) ...\u001b[A\n",
      " ... (more hidden) ...\u001b[A\n",
      " ... (more hidden) ...\u001b[A\n",
      " ... (more hidden) ...\u001b[A\n",
      " ... (more hidden) ...\u001b[A\n",
      " ... (more hidden) ...\u001b[A\n",
      " ... (more hidden) ...\u001b[A\n",
      " ... (more hidden) ...\u001b[A\n",
      " ... (more hidden) ...\u001b[A\n",
      " ... (more hidden) ...\u001b[A\n",
      " ... (more hidden) ...\u001b[A\n",
      " ... (more hidden) ...\u001b[A\n",
      " ... (more hidden) ...\u001b[A\n",
      " ... (more hidden) ...\u001b[A\n",
      " ... (more hidden) ...\u001b[A\n",
      " ... (more hidden) ...\u001b[A\n",
      " ... (more hidden) ...\u001b[A\n",
      " ... (more hidden) ...\u001b[A\n",
      " ... (more hidden) ...\u001b[A\n",
      " ... (more hidden) ...\u001b[A\n",
      " ... (more hidden) ...\u001b[A\n",
      " ... (more hidden) ...\u001b[A\n",
      " ... (more hidden) ...\u001b[A\n",
      " ... (more hidden) ...\u001b[A\n",
      " ... (more hidden) ...\u001b[A\n",
      " ... (more hidden) ...\u001b[A\n",
      " ... (more hidden) ...\u001b[A\n",
      " ... (more hidden) ...\u001b[A\n",
      " ... (more hidden) ...\u001b[A\n",
      " ... (more hidden) ...\u001b[A\n",
      " ... (more hidden) ...\u001b[A\n",
      " ... (more hidden) ...\u001b[A\n",
      " ... (more hidden) ...\u001b[A\n",
      " ... (more hidden) ...\u001b[A\n",
      " ... (more hidden) ...\u001b[A\n",
      " ... (more hidden) ...\u001b[A\n",
      " ... (more hidden) ...\u001b[A\n",
      " ... (more hidden) ...\u001b[A\n",
      " ... (more hidden) ...\u001b[A\n",
      " ... (more hidden) ...\u001b[A\n",
      "DR 1:  24%|███████████████████████████▏                                                                                     | 7890/32768 [00:11<00:34, 713.77it/s]\n"
     ]
    },
    {
     "name": "stdout",
     "output_type": "stream",
     "text": [
      "Stopping at Epoch 7890\n",
      "DR 1 Number of samples:  torch.Size([6594, 2])\n",
      "DR 1 Predicted Gammas:  0.61200804 1.0 0.84826714\n"
     ]
    },
    {
     "name": "stderr",
     "output_type": "stream",
     "text": [
      "\n",
      " ... (more hidden) ...\u001b[A\n",
      " ... (more hidden) ...\u001b[A\n",
      " ... (more hidden) ...\u001b[A\n",
      "DR 2:   6%|███████                                                                                                         | 1025/16384 [00:00<00:04, 3375.24it/s]\n",
      "/opt/homebrew/lib/python3.11/site-packages/torch/optim/lr_scheduler.py:28: UserWarning: The verbose parameter is deprecated. Please use get_last_lr() to access the learning rate.\n",
      "  warnings.warn(\"The verbose parameter is deprecated. Please use get_last_lr() \"\n"
     ]
    },
    {
     "name": "stdout",
     "output_type": "stream",
     "text": [
      "Stopping at Epoch 1025\n",
      "AUC predicting P(win):\t\t\t\t 0.7025490486325594\n",
      "Estimated Utility\t Mean Error:\t\t\t 0.0033682507481360485\n",
      "Estimated Utility\t Mean Absolute Error:\t 0.348903299407079\n"
     ]
    },
    {
     "name": "stderr",
     "output_type": "stream",
     "text": [
      "\n",
      " ... (more hidden) ...\u001b[A\n",
      " ... (more hidden) ...\u001b[A\n",
      " ... (more hidden) ...\u001b[A\n",
      " ... (more hidden) ...\u001b[A\n",
      " ... (more hidden) ...\u001b[A\n",
      " ... (more hidden) ...\u001b[A\n",
      " ... (more hidden) ...\u001b[A\n",
      " ... (more hidden) ...\u001b[A\n",
      "DR 2:  12%|████████████▉                                                                                                   | 3788/32768 [00:00<00:06, 4241.45it/s]\n",
      "/opt/homebrew/lib/python3.11/site-packages/torch/optim/lr_scheduler.py:28: UserWarning: The verbose parameter is deprecated. Please use get_last_lr() to access the learning rate.\n",
      "  warnings.warn(\"The verbose parameter is deprecated. Please use get_last_lr() \"\n"
     ]
    },
    {
     "name": "stdout",
     "output_type": "stream",
     "text": [
      "Stopping at Epoch 3788\n",
      "AUC predicting P(win):\t\t\t\t 0.7061556834002785\n",
      "Estimated Utility\t Mean Error:\t\t\t 0.007239777749543807\n",
      "Estimated Utility\t Mean Absolute Error:\t 0.349416930758832\n"
     ]
    },
    {
     "name": "stderr",
     "output_type": "stream",
     "text": [
      "\n",
      " ... (more hidden) ...\u001b[A\n",
      " ... (more hidden) ...\u001b[A\n",
      " ... (more hidden) ...\u001b[A\n",
      " ... (more hidden) ...\u001b[A\n",
      " ... (more hidden) ...\u001b[A\n",
      " ... (more hidden) ...\u001b[A\n",
      " ... (more hidden) ...\u001b[A\n",
      " ... (more hidden) ...\u001b[A\n",
      " ... (more hidden) ...\u001b[A\n",
      " ... (more hidden) ...\u001b[A\n",
      " ... (more hidden) ...\u001b[A\n",
      " ... (more hidden) ...\u001b[A\n",
      " ... (more hidden) ...\u001b[A\n",
      " ... (more hidden) ...\u001b[A\n",
      " ... (more hidden) ...\u001b[A\n",
      " ... (more hidden) ...\u001b[A\n",
      " ... (more hidden) ...\u001b[A\n",
      " ... (more hidden) ...\u001b[A\n",
      " ... (more hidden) ...\u001b[A\n",
      " ... (more hidden) ...\u001b[A\n",
      " ... (more hidden) ...\u001b[A\n",
      " ... (more hidden) ...\u001b[A\n",
      " ... (more hidden) ...\u001b[A\n",
      " ... (more hidden) ...\u001b[A\n",
      " ... (more hidden) ...\u001b[A\n",
      " ... (more hidden) ...\u001b[A\n",
      " ... (more hidden) ...\u001b[A\n",
      " ... (more hidden) ...\u001b[A\n",
      " ... (more hidden) ...\u001b[A\n",
      "DR 2:   7%|████████▍                                                                                                        | 2432/32768 [00:03<00:41, 723.01it/s]\n"
     ]
    },
    {
     "name": "stdout",
     "output_type": "stream",
     "text": [
      "Stopping at Epoch 2432\n",
      "DR 2 Number of samples:  torch.Size([6732, 2])\n",
      "DR 2 Predicted Gammas:  0.60885763 1.0 0.8830414\n"
     ]
    },
    {
     "name": "stderr",
     "output_type": "stream",
     "text": [
      "\n",
      " ... (more hidden) ...\u001b[A\n",
      " ... (more hidden) ...\u001b[A\n",
      "DR 3:   6%|███████▏                                                                                                        | 1048/16384 [00:00<00:03, 4355.93it/s]\n",
      "/opt/homebrew/lib/python3.11/site-packages/torch/optim/lr_scheduler.py:28: UserWarning: The verbose parameter is deprecated. Please use get_last_lr() to access the learning rate.\n",
      "  warnings.warn(\"The verbose parameter is deprecated. Please use get_last_lr() \"\n"
     ]
    },
    {
     "name": "stdout",
     "output_type": "stream",
     "text": [
      "Stopping at Epoch 1048\n",
      "AUC predicting P(win):\t\t\t\t 0.7660964574312363\n",
      "Estimated Utility\t Mean Error:\t\t\t 0.00027526264969019126\n",
      "Estimated Utility\t Mean Absolute Error:\t 0.25569306921493823\n"
     ]
    },
    {
     "name": "stderr",
     "output_type": "stream",
     "text": [
      "\n",
      " ... (more hidden) ...\u001b[A\n",
      " ... (more hidden) ...\u001b[A\n",
      " ... (more hidden) ...\u001b[A\n",
      " ... (more hidden) ...\u001b[A\n",
      " ... (more hidden) ...\u001b[A\n",
      "DR 3:   6%|███████▏                                                                                                        | 2112/32768 [00:00<00:07, 4000.64it/s]\n",
      "/opt/homebrew/lib/python3.11/site-packages/torch/optim/lr_scheduler.py:28: UserWarning: The verbose parameter is deprecated. Please use get_last_lr() to access the learning rate.\n",
      "  warnings.warn(\"The verbose parameter is deprecated. Please use get_last_lr() \"\n"
     ]
    },
    {
     "name": "stdout",
     "output_type": "stream",
     "text": [
      "Stopping at Epoch 2112\n",
      "AUC predicting P(win):\t\t\t\t 0.7650945277280362\n",
      "Estimated Utility\t Mean Error:\t\t\t -0.0005074748366557516\n",
      "Estimated Utility\t Mean Absolute Error:\t 0.2556164408285655\n"
     ]
    },
    {
     "name": "stderr",
     "output_type": "stream",
     "text": [
      "\n",
      " ... (more hidden) ...\u001b[A\n",
      " ... (more hidden) ...\u001b[A\n",
      " ... (more hidden) ...\u001b[A\n",
      " ... (more hidden) ...\u001b[A\n",
      " ... (more hidden) ...\u001b[A\n",
      " ... (more hidden) ...\u001b[A\n",
      " ... (more hidden) ...\u001b[A\n",
      " ... (more hidden) ...\u001b[A\n",
      " ... (more hidden) ...\u001b[A\n",
      " ... (more hidden) ...\u001b[A\n",
      " ... (more hidden) ...\u001b[A\n",
      " ... (more hidden) ...\u001b[A\n",
      " ... (more hidden) ...\u001b[A\n",
      " ... (more hidden) ...\u001b[A\n",
      " ... (more hidden) ...\u001b[A\n",
      "DR 3:   4%|████▍                                                                                                            | 1279/32768 [00:01<00:39, 799.38it/s]\n"
     ]
    },
    {
     "name": "stdout",
     "output_type": "stream",
     "text": [
      "Stopping at Epoch 1279\n",
      "DR 3 Number of samples:  torch.Size([6674, 2])\n",
      "DR 3 Predicted Gammas:  0.642964 0.76466024 0.70624405\n"
     ]
    },
    {
     "name": "stderr",
     "output_type": "stream",
     "text": [
      "\n",
      " ... (more hidden) ...\u001b[A\n",
      " ... (more hidden) ...\u001b[A\n",
      "DR 1:   6%|███████                                                                                                         | 1025/16384 [00:00<00:03, 4086.22it/s]\n",
      "/opt/homebrew/lib/python3.11/site-packages/torch/optim/lr_scheduler.py:28: UserWarning: The verbose parameter is deprecated. Please use get_last_lr() to access the learning rate.\n",
      "  warnings.warn(\"The verbose parameter is deprecated. Please use get_last_lr() \"\n"
     ]
    },
    {
     "name": "stdout",
     "output_type": "stream",
     "text": [
      "Stopping at Epoch 1025\n",
      "AUC predicting P(win):\t\t\t\t 0.850351830527246\n",
      "Estimated Utility\t Mean Error:\t\t\t 0.0009581064378715988\n",
      "Estimated Utility\t Mean Absolute Error:\t 0.2088450690216216\n"
     ]
    },
    {
     "name": "stderr",
     "output_type": "stream",
     "text": [
      "\n",
      " ... (more hidden) ...\u001b[A\n",
      " ... (more hidden) ...\u001b[A\n",
      " ... (more hidden) ...\u001b[A\n",
      " ... (more hidden) ...\u001b[A\n",
      " ... (more hidden) ...\u001b[A\n",
      " ... (more hidden) ...\u001b[A\n",
      "DR 1:   7%|████████▏                                                                                                       | 2409/32768 [00:00<00:07, 3834.02it/s]\n",
      "/opt/homebrew/lib/python3.11/site-packages/torch/optim/lr_scheduler.py:28: UserWarning: The verbose parameter is deprecated. Please use get_last_lr() to access the learning rate.\n",
      "  warnings.warn(\"The verbose parameter is deprecated. Please use get_last_lr() \"\n"
     ]
    },
    {
     "name": "stdout",
     "output_type": "stream",
     "text": [
      "Stopping at Epoch 2409\n",
      "AUC predicting P(win):\t\t\t\t 0.8630394581947404\n",
      "Estimated Utility\t Mean Error:\t\t\t 0.004666790719193664\n",
      "Estimated Utility\t Mean Absolute Error:\t 0.2087197894929959\n"
     ]
    },
    {
     "name": "stderr",
     "output_type": "stream",
     "text": [
      "\n",
      " ... (more hidden) ...\u001b[A\n",
      " ... (more hidden) ...\u001b[A\n",
      " ... (more hidden) ...\u001b[A\n",
      " ... (more hidden) ...\u001b[A\n",
      " ... (more hidden) ...\u001b[A\n",
      " ... (more hidden) ...\u001b[A\n",
      " ... (more hidden) ...\u001b[A\n",
      " ... (more hidden) ...\u001b[A\n",
      " ... (more hidden) ...\u001b[A\n",
      " ... (more hidden) ...\u001b[A\n",
      " ... (more hidden) ...\u001b[A\n",
      " ... (more hidden) ...\u001b[A\n",
      " ... (more hidden) ...\u001b[A\n",
      " ... (more hidden) ...\u001b[A\n",
      " ... (more hidden) ...\u001b[A\n",
      " ... (more hidden) ...\u001b[A\n",
      " ... (more hidden) ...\u001b[A\n",
      "DR 1:   4%|████▋                                                                                                            | 1359/32768 [00:01<00:40, 780.75it/s]\n"
     ]
    },
    {
     "name": "stdout",
     "output_type": "stream",
     "text": [
      "Stopping at Epoch 1359\n",
      "DR 1 Number of samples:  torch.Size([6651, 2])\n",
      "DR 1 Predicted Gammas:  0.58392704 1.0 0.868626\n"
     ]
    },
    {
     "name": "stderr",
     "output_type": "stream",
     "text": [
      "\n",
      " ... (more hidden) ...\u001b[A\n",
      " ... (more hidden) ...\u001b[A\n",
      "DR 2:   6%|███████                                                                                                         | 1025/16384 [00:00<00:04, 3329.88it/s]\n",
      "/opt/homebrew/lib/python3.11/site-packages/torch/optim/lr_scheduler.py:28: UserWarning: The verbose parameter is deprecated. Please use get_last_lr() to access the learning rate.\n",
      "  warnings.warn(\"The verbose parameter is deprecated. Please use get_last_lr() \"\n"
     ]
    },
    {
     "name": "stdout",
     "output_type": "stream",
     "text": [
      "Stopping at Epoch 1025\n",
      "AUC predicting P(win):\t\t\t\t 0.6550219457254174\n",
      "Estimated Utility\t Mean Error:\t\t\t 0.006660893007699885\n",
      "Estimated Utility\t Mean Absolute Error:\t 0.3230381846920908\n"
     ]
    },
    {
     "name": "stderr",
     "output_type": "stream",
     "text": [
      "\n",
      " ... (more hidden) ...\u001b[A\n",
      " ... (more hidden) ...\u001b[A\n",
      " ... (more hidden) ...\u001b[A\n",
      " ... (more hidden) ...\u001b[A\n",
      " ... (more hidden) ...\u001b[A\n",
      " ... (more hidden) ...\u001b[A\n",
      "DR 2:   8%|█████████▌                                                                                                      | 2782/32768 [00:00<00:07, 4198.68it/s]\n",
      "/opt/homebrew/lib/python3.11/site-packages/torch/optim/lr_scheduler.py:28: UserWarning: The verbose parameter is deprecated. Please use get_last_lr() to access the learning rate.\n",
      "  warnings.warn(\"The verbose parameter is deprecated. Please use get_last_lr() \"\n"
     ]
    },
    {
     "name": "stdout",
     "output_type": "stream",
     "text": [
      "Stopping at Epoch 2782\n",
      "AUC predicting P(win):\t\t\t\t 0.6448357454295852\n",
      "Estimated Utility\t Mean Error:\t\t\t 0.007842701769848049\n",
      "Estimated Utility\t Mean Absolute Error:\t 0.3242432431559864\n"
     ]
    },
    {
     "name": "stderr",
     "output_type": "stream",
     "text": [
      "\n",
      " ... (more hidden) ...\u001b[A\n",
      " ... (more hidden) ...\u001b[A\n",
      " ... (more hidden) ...\u001b[A\n",
      " ... (more hidden) ...\u001b[A\n",
      " ... (more hidden) ...\u001b[A\n",
      " ... (more hidden) ...\u001b[A\n",
      " ... (more hidden) ...\u001b[A\n",
      " ... (more hidden) ...\u001b[A\n",
      " ... (more hidden) ...\u001b[A\n",
      "DR 2:   3%|██▊                                                                                                               | 820/32768 [00:00<00:37, 847.83it/s]\n"
     ]
    },
    {
     "name": "stdout",
     "output_type": "stream",
     "text": [
      "Stopping at Epoch 820\n",
      "DR 2 Number of samples:  torch.Size([6604, 2])\n",
      "DR 2 Predicted Gammas:  0.6680002 1.0 0.92656744\n"
     ]
    },
    {
     "name": "stderr",
     "output_type": "stream",
     "text": [
      "\n",
      " ... (more hidden) ...\u001b[A\n",
      " ... (more hidden) ...\u001b[A\n",
      "DR 3:   6%|███████                                                                                                         | 1025/16384 [00:00<00:03, 4295.32it/s]\n",
      "/opt/homebrew/lib/python3.11/site-packages/torch/optim/lr_scheduler.py:28: UserWarning: The verbose parameter is deprecated. Please use get_last_lr() to access the learning rate.\n",
      "  warnings.warn(\"The verbose parameter is deprecated. Please use get_last_lr() \"\n"
     ]
    },
    {
     "name": "stdout",
     "output_type": "stream",
     "text": [
      "Stopping at Epoch 1025\n",
      "AUC predicting P(win):\t\t\t\t 0.7805444066348464\n",
      "Estimated Utility\t Mean Error:\t\t\t -0.016237522831157505\n",
      "Estimated Utility\t Mean Absolute Error:\t 0.24939046150519115\n"
     ]
    },
    {
     "name": "stderr",
     "output_type": "stream",
     "text": [
      "\n",
      " ... (more hidden) ...\u001b[A\n",
      " ... (more hidden) ...\u001b[A\n",
      " ... (more hidden) ...\u001b[A\n",
      " ... (more hidden) ...\u001b[A\n",
      " ... (more hidden) ...\u001b[A\n",
      "DR 3:   6%|███████▏                                                                                                        | 2086/32768 [00:00<00:07, 3866.11it/s]\n",
      "/opt/homebrew/lib/python3.11/site-packages/torch/optim/lr_scheduler.py:28: UserWarning: The verbose parameter is deprecated. Please use get_last_lr() to access the learning rate.\n",
      "  warnings.warn(\"The verbose parameter is deprecated. Please use get_last_lr() \"\n"
     ]
    },
    {
     "name": "stdout",
     "output_type": "stream",
     "text": [
      "Stopping at Epoch 2086\n",
      "AUC predicting P(win):\t\t\t\t 0.7815410955432319\n",
      "Estimated Utility\t Mean Error:\t\t\t -0.009736215690625582\n",
      "Estimated Utility\t Mean Absolute Error:\t 0.25182310839152394\n"
     ]
    },
    {
     "name": "stderr",
     "output_type": "stream",
     "text": [
      "\n",
      " ... (more hidden) ...\u001b[A\n",
      " ... (more hidden) ...\u001b[A\n",
      " ... (more hidden) ...\u001b[A\n",
      " ... (more hidden) ...\u001b[A\n",
      " ... (more hidden) ...\u001b[A\n",
      " ... (more hidden) ...\u001b[A\n",
      " ... (more hidden) ...\u001b[A\n",
      "DR 3:   2%|██                                                                                                                | 601/32768 [00:00<00:46, 696.73it/s]\n"
     ]
    },
    {
     "name": "stdout",
     "output_type": "stream",
     "text": [
      "Stopping at Epoch 601\n",
      "DR 3 Number of samples:  torch.Size([6745, 2])\n",
      "DR 3 Predicted Gammas:  0.6238241 0.76752806 0.69314873\n"
     ]
    },
    {
     "name": "stderr",
     "output_type": "stream",
     "text": [
      "\n",
      " ... (more hidden) ...\u001b[A\n",
      " ... (more hidden) ...\u001b[A\n",
      " ... (more hidden) ...\u001b[A\n",
      "DR 1:   6%|███████                                                                                                         | 1025/16384 [00:00<00:10, 1483.58it/s]\n",
      "/opt/homebrew/lib/python3.11/site-packages/torch/optim/lr_scheduler.py:28: UserWarning: The verbose parameter is deprecated. Please use get_last_lr() to access the learning rate.\n",
      "  warnings.warn(\"The verbose parameter is deprecated. Please use get_last_lr() \"\n"
     ]
    },
    {
     "name": "stdout",
     "output_type": "stream",
     "text": [
      "Stopping at Epoch 1025\n",
      "AUC predicting P(win):\t\t\t\t 0.8384040042089697\n",
      "Estimated Utility\t Mean Error:\t\t\t 0.008872970338840226\n",
      "Estimated Utility\t Mean Absolute Error:\t 0.20443422135413067\n"
     ]
    },
    {
     "name": "stderr",
     "output_type": "stream",
     "text": [
      "\n",
      " ... (more hidden) ...\u001b[A\n",
      " ... (more hidden) ...\u001b[A\n",
      " ... (more hidden) ...\u001b[A\n",
      " ... (more hidden) ...\u001b[A\n",
      " ... (more hidden) ...\u001b[A\n",
      " ... (more hidden) ...\u001b[A\n",
      "DR 1:   6%|███████▏                                                                                                        | 2121/32768 [00:01<00:19, 1593.35it/s]\n",
      "/opt/homebrew/lib/python3.11/site-packages/torch/optim/lr_scheduler.py:28: UserWarning: The verbose parameter is deprecated. Please use get_last_lr() to access the learning rate.\n",
      "  warnings.warn(\"The verbose parameter is deprecated. Please use get_last_lr() \"\n"
     ]
    },
    {
     "name": "stdout",
     "output_type": "stream",
     "text": [
      "Stopping at Epoch 2121\n",
      "AUC predicting P(win):\t\t\t\t 0.838874785950023\n",
      "Estimated Utility\t Mean Error:\t\t\t 0.003917768150322936\n",
      "Estimated Utility\t Mean Absolute Error:\t 0.2032041313312623\n"
     ]
    },
    {
     "name": "stderr",
     "output_type": "stream",
     "text": [
      "\n",
      " ... (more hidden) ...\u001b[A\n",
      " ... (more hidden) ...\u001b[A\n",
      " ... (more hidden) ...\u001b[A\n",
      " ... (more hidden) ...\u001b[A\n",
      " ... (more hidden) ...\u001b[A\n",
      " ... (more hidden) ...\u001b[A\n",
      " ... (more hidden) ...\u001b[A\n",
      " ... (more hidden) ...\u001b[A\n",
      " ... (more hidden) ...\u001b[A\n",
      " ... (more hidden) ...\u001b[A\n",
      " ... (more hidden) ...\u001b[A\n",
      " ... (more hidden) ...\u001b[A\n",
      " ... (more hidden) ...\u001b[A\n",
      " ... (more hidden) ...\u001b[A\n",
      " ... (more hidden) ...\u001b[A\n",
      " ... (more hidden) ...\u001b[A\n",
      " ... (more hidden) ...\u001b[A\n",
      " ... (more hidden) ...\u001b[A\n",
      " ... (more hidden) ...\u001b[A\n",
      " ... (more hidden) ...\u001b[A\n",
      " ... (more hidden) ...\u001b[A\n",
      " ... (more hidden) ...\u001b[A\n",
      " ... (more hidden) ...\u001b[A\n",
      " ... (more hidden) ...\u001b[A\n",
      " ... (more hidden) ...\u001b[A\n",
      " ... (more hidden) ...\u001b[A\n",
      " ... (more hidden) ...\u001b[A\n",
      " ... (more hidden) ...\u001b[A\n",
      " ... (more hidden) ...\u001b[A\n",
      " ... (more hidden) ...\u001b[A\n",
      " ... (more hidden) ...\u001b[A\n",
      " ... (more hidden) ...\u001b[A\n",
      " ... (more hidden) ...\u001b[A\n",
      " ... (more hidden) ...\u001b[A\n",
      " ... (more hidden) ...\u001b[A\n",
      " ... (more hidden) ...\u001b[A\n",
      " ... (more hidden) ...\u001b[A\n",
      " ... (more hidden) ...\u001b[A\n",
      " ... (more hidden) ...\u001b[A\n",
      " ... (more hidden) ...\u001b[A\n",
      " ... (more hidden) ...\u001b[A\n",
      " ... (more hidden) ...\u001b[A\n",
      " ... (more hidden) ...\u001b[A\n",
      " ... (more hidden) ...\u001b[A\n",
      " ... (more hidden) ...\u001b[A\n",
      " ... (more hidden) ...\u001b[A\n",
      " ... (more hidden) ...\u001b[A\n",
      " ... (more hidden) ...\u001b[A\n",
      " ... (more hidden) ...\u001b[A\n",
      " ... (more hidden) ...\u001b[A\n",
      " ... (more hidden) ...\u001b[A\n",
      " ... (more hidden) ...\u001b[A\n",
      " ... (more hidden) ...\u001b[A\n",
      " ... (more hidden) ...\u001b[A\n",
      " ... (more hidden) ...\u001b[A\n",
      " ... (more hidden) ...\u001b[A\n",
      " ... (more hidden) ...\u001b[A\n",
      " ... (more hidden) ...\u001b[A\n",
      " ... (more hidden) ...\u001b[A\n",
      " ... (more hidden) ...\u001b[A\n",
      " ... (more hidden) ...\u001b[A\n",
      " ... (more hidden) ...\u001b[A\n",
      "DR 1:  14%|████████████████▎                                                                                                | 4720/32768 [00:06<00:40, 700.80it/s]\n"
     ]
    },
    {
     "name": "stdout",
     "output_type": "stream",
     "text": [
      "Stopping at Epoch 4720\n",
      "DR 1 Number of samples:  torch.Size([6652, 2])\n",
      "DR 1 Predicted Gammas:  0.55627936 0.9729522 0.8155057\n"
     ]
    },
    {
     "name": "stderr",
     "output_type": "stream",
     "text": [
      "\n",
      " ... (more hidden) ...\u001b[A\n",
      " ... (more hidden) ...\u001b[A\n",
      "DR 2:   6%|███████                                                                                                         | 1025/16384 [00:00<00:04, 3745.76it/s]\n",
      "/opt/homebrew/lib/python3.11/site-packages/torch/optim/lr_scheduler.py:28: UserWarning: The verbose parameter is deprecated. Please use get_last_lr() to access the learning rate.\n",
      "  warnings.warn(\"The verbose parameter is deprecated. Please use get_last_lr() \"\n"
     ]
    },
    {
     "name": "stdout",
     "output_type": "stream",
     "text": [
      "Stopping at Epoch 1025\n",
      "AUC predicting P(win):\t\t\t\t 0.7022578987745582\n",
      "Estimated Utility\t Mean Error:\t\t\t -0.0022728393791189697\n",
      "Estimated Utility\t Mean Absolute Error:\t 0.32515027537874575\n"
     ]
    },
    {
     "name": "stderr",
     "output_type": "stream",
     "text": [
      "\n",
      " ... (more hidden) ...\u001b[A\n",
      " ... (more hidden) ...\u001b[A\n",
      " ... (more hidden) ...\u001b[A\n",
      " ... (more hidden) ...\u001b[A\n",
      " ... (more hidden) ...\u001b[A\n",
      "DR 2:   7%|████████▏                                                                                                       | 2398/32768 [00:00<00:07, 3840.05it/s]\n",
      "/opt/homebrew/lib/python3.11/site-packages/torch/optim/lr_scheduler.py:28: UserWarning: The verbose parameter is deprecated. Please use get_last_lr() to access the learning rate.\n",
      "  warnings.warn(\"The verbose parameter is deprecated. Please use get_last_lr() \"\n"
     ]
    },
    {
     "name": "stdout",
     "output_type": "stream",
     "text": [
      "Stopping at Epoch 2398\n",
      "AUC predicting P(win):\t\t\t\t 0.7082442474956363\n",
      "Estimated Utility\t Mean Error:\t\t\t -0.004944011490576689\n",
      "Estimated Utility\t Mean Absolute Error:\t 0.3244055627222066\n"
     ]
    },
    {
     "name": "stderr",
     "output_type": "stream",
     "text": [
      "\n",
      " ... (more hidden) ...\u001b[A\n",
      " ... (more hidden) ...\u001b[A\n",
      " ... (more hidden) ...\u001b[A\n",
      " ... (more hidden) ...\u001b[A\n",
      " ... (more hidden) ...\u001b[A\n",
      " ... (more hidden) ...\u001b[A\n",
      " ... (more hidden) ...\u001b[A\n",
      " ... (more hidden) ...\u001b[A\n",
      " ... (more hidden) ...\u001b[A\n",
      " ... (more hidden) ...\u001b[A\n",
      " ... (more hidden) ...\u001b[A\n",
      " ... (more hidden) ...\u001b[A\n",
      " ... (more hidden) ...\u001b[A\n",
      " ... (more hidden) ...\u001b[A\n",
      " ... (more hidden) ...\u001b[A\n",
      " ... (more hidden) ...\u001b[A\n",
      " ... (more hidden) ...\u001b[A\n",
      " ... (more hidden) ...\u001b[A\n",
      " ... (more hidden) ...\u001b[A\n",
      " ... (more hidden) ...\u001b[A\n",
      " ... (more hidden) ...\u001b[A\n",
      " ... (more hidden) ...\u001b[A\n",
      " ... (more hidden) ...\u001b[A\n",
      " ... (more hidden) ...\u001b[A\n",
      " ... (more hidden) ...\u001b[A\n",
      " ... (more hidden) ...\u001b[A\n",
      " ... (more hidden) ...\u001b[A\n",
      " ... (more hidden) ...\u001b[A\n",
      " ... (more hidden) ...\u001b[A\n",
      " ... (more hidden) ...\u001b[A\n",
      " ... (more hidden) ...\u001b[A\n",
      " ... (more hidden) ...\u001b[A\n",
      " ... (more hidden) ...\u001b[A\n",
      " ... (more hidden) ...\u001b[A\n",
      " ... (more hidden) ...\u001b[A\n",
      " ... (more hidden) ...\u001b[A\n",
      " ... (more hidden) ...\u001b[A\n",
      " ... (more hidden) ...\u001b[A\n",
      " ... (more hidden) ...\u001b[A\n",
      " ... (more hidden) ...\u001b[A\n",
      " ... (more hidden) ...\u001b[A\n",
      " ... (more hidden) ...\u001b[A\n",
      " ... (more hidden) ...\u001b[A\n",
      " ... (more hidden) ...\u001b[A\n",
      " ... (more hidden) ...\u001b[A\n",
      " ... (more hidden) ...\u001b[A\n",
      " ... (more hidden) ...\u001b[A\n",
      " ... (more hidden) ...\u001b[A\n",
      " ... (more hidden) ...\u001b[A\n",
      " ... (more hidden) ...\u001b[A\n",
      " ... (more hidden) ...\u001b[A\n",
      " ... (more hidden) ...\u001b[A\n",
      " ... (more hidden) ...\u001b[A\n",
      " ... (more hidden) ...\u001b[A\n",
      " ... (more hidden) ...\u001b[A\n",
      " ... (more hidden) ...\u001b[A\n",
      " ... (more hidden) ...\u001b[A\n",
      " ... (more hidden) ...\u001b[A\n",
      " ... (more hidden) ...\u001b[A\n",
      " ... (more hidden) ...\u001b[A\n",
      " ... (more hidden) ...\u001b[A\n",
      " ... (more hidden) ...\u001b[A\n",
      " ... (more hidden) ...\u001b[A\n",
      " ... (more hidden) ...\u001b[A\n",
      " ... (more hidden) ...\u001b[A\n",
      " ... (more hidden) ...\u001b[A\n",
      " ... (more hidden) ...\u001b[A\n",
      " ... (more hidden) ...\u001b[A\n",
      " ... (more hidden) ...\u001b[A\n",
      " ... (more hidden) ...\u001b[A\n",
      " ... (more hidden) ...\u001b[A\n",
      " ... (more hidden) ...\u001b[A\n",
      " ... (more hidden) ...\u001b[A\n",
      " ... (more hidden) ...\u001b[A\n",
      " ... (more hidden) ...\u001b[A\n",
      " ... (more hidden) ...\u001b[A\n",
      " ... (more hidden) ...\u001b[A\n",
      " ... (more hidden) ...\u001b[A\n",
      " ... (more hidden) ...\u001b[A\n",
      " ... (more hidden) ...\u001b[A\n",
      " ... (more hidden) ...\u001b[A\n",
      " ... (more hidden) ...\u001b[A\n",
      " ... (more hidden) ...\u001b[A\n",
      " ... (more hidden) ...\u001b[A\n",
      " ... (more hidden) ...\u001b[A\n",
      " ... (more hidden) ...\u001b[A\n",
      " ... (more hidden) ...\u001b[A\n",
      " ... (more hidden) ...\u001b[A\n",
      " ... (more hidden) ...\u001b[A\n",
      " ... (more hidden) ...\u001b[A\n",
      " ... (more hidden) ...\u001b[A\n",
      " ... (more hidden) ...\u001b[A\n",
      " ... (more hidden) ...\u001b[A\n",
      " ... (more hidden) ...\u001b[A\n",
      " ... (more hidden) ...\u001b[A\n",
      " ... (more hidden) ...\u001b[A\n",
      " ... (more hidden) ...\u001b[A\n",
      " ... (more hidden) ...\u001b[A\n",
      " ... (more hidden) ...\u001b[A\n",
      " ... (more hidden) ...\u001b[A\n",
      " ... (more hidden) ...\u001b[A\n",
      " ... (more hidden) ...\u001b[A\n",
      " ... (more hidden) ...\u001b[A\n",
      " ... (more hidden) ...\u001b[A\n",
      " ... (more hidden) ...\u001b[A\n",
      " ... (more hidden) ...\u001b[A\n",
      " ... (more hidden) ...\u001b[A\n",
      " ... (more hidden) ...\u001b[A\n",
      " ... (more hidden) ...\u001b[A\n",
      " ... (more hidden) ...\u001b[A\n",
      " ... (more hidden) ...\u001b[A\n",
      " ... (more hidden) ...\u001b[A\n",
      " ... (more hidden) ...\u001b[A\n",
      " ... (more hidden) ...\u001b[A\n",
      " ... (more hidden) ...\u001b[A\n",
      " ... (more hidden) ...\u001b[A\n",
      " ... (more hidden) ...\u001b[A\n",
      " ... (more hidden) ...\u001b[A\n",
      " ... (more hidden) ...\u001b[A\n",
      " ... (more hidden) ...\u001b[A\n",
      " ... (more hidden) ...\u001b[A\n",
      " ... (more hidden) ...\u001b[A\n",
      " ... (more hidden) ...\u001b[A\n",
      " ... (more hidden) ...\u001b[A\n",
      " ... (more hidden) ...\u001b[A\n",
      " ... (more hidden) ...\u001b[A\n",
      " ... (more hidden) ...\u001b[A\n",
      " ... (more hidden) ...\u001b[A\n",
      " ... (more hidden) ...\u001b[A\n",
      " ... (more hidden) ...\u001b[A\n",
      " ... (more hidden) ...\u001b[A\n",
      " ... (more hidden) ...\u001b[A\n",
      " ... (more hidden) ...\u001b[A\n",
      " ... (more hidden) ...\u001b[A\n",
      " ... (more hidden) ...\u001b[A\n",
      " ... (more hidden) ...\u001b[A\n",
      " ... (more hidden) ...\u001b[A\n",
      " ... (more hidden) ...\u001b[A\n",
      " ... (more hidden) ...\u001b[A\n",
      " ... (more hidden) ...\u001b[A\n",
      " ... (more hidden) ...\u001b[A\n",
      " ... (more hidden) ...\u001b[A\n",
      " ... (more hidden) ...\u001b[A\n",
      " ... (more hidden) ...\u001b[A\n",
      " ... (more hidden) ...\u001b[A\n",
      " ... (more hidden) ...\u001b[A\n",
      " ... (more hidden) ...\u001b[A\n",
      " ... (more hidden) ...\u001b[A\n",
      " ... (more hidden) ...\u001b[A\n",
      " ... (more hidden) ...\u001b[A\n",
      " ... (more hidden) ...\u001b[A\n",
      " ... (more hidden) ...\u001b[A\n",
      " ... (more hidden) ...\u001b[A\n",
      " ... (more hidden) ...\u001b[A\n",
      " ... (more hidden) ...\u001b[A\n",
      " ... (more hidden) ...\u001b[A\n",
      " ... (more hidden) ...\u001b[A\n",
      " ... (more hidden) ...\u001b[A\n",
      " ... (more hidden) ...\u001b[A\n",
      " ... (more hidden) ...\u001b[A\n",
      " ... (more hidden) ...\u001b[A\n",
      " ... (more hidden) ...\u001b[A\n",
      " ... (more hidden) ...\u001b[A\n",
      " ... (more hidden) ...\u001b[A\n",
      " ... (more hidden) ...\u001b[A\n",
      " ... (more hidden) ...\u001b[A\n",
      " ... (more hidden) ...\u001b[A\n",
      " ... (more hidden) ...\u001b[A\n",
      "DR 2:  42%|███████████████████████████████████████████████▏                                                                | 13807/32768 [00:17<00:24, 776.48it/s]\n"
     ]
    },
    {
     "name": "stdout",
     "output_type": "stream",
     "text": [
      "Stopping at Epoch 13807\n",
      "DR 2 Number of samples:  torch.Size([6708, 2])\n",
      "DR 2 Predicted Gammas:  0.63864106 1.0 0.93084395\n"
     ]
    },
    {
     "name": "stderr",
     "output_type": "stream",
     "text": [
      "\n",
      " ... (more hidden) ...\u001b[A\n",
      " ... (more hidden) ...\u001b[A\n",
      "DR 3:   6%|███████                                                                                                         | 1025/16384 [00:00<00:03, 3967.66it/s]\n",
      "/opt/homebrew/lib/python3.11/site-packages/torch/optim/lr_scheduler.py:28: UserWarning: The verbose parameter is deprecated. Please use get_last_lr() to access the learning rate.\n",
      "  warnings.warn(\"The verbose parameter is deprecated. Please use get_last_lr() \"\n"
     ]
    },
    {
     "name": "stdout",
     "output_type": "stream",
     "text": [
      "Stopping at Epoch 1025\n",
      "AUC predicting P(win):\t\t\t\t 0.7506608205122858\n",
      "Estimated Utility\t Mean Error:\t\t\t 0.005951272730320006\n",
      "Estimated Utility\t Mean Absolute Error:\t 0.2555659396603058\n"
     ]
    },
    {
     "name": "stderr",
     "output_type": "stream",
     "text": [
      "\n",
      " ... (more hidden) ...\u001b[A\n",
      " ... (more hidden) ...\u001b[A\n",
      " ... (more hidden) ...\u001b[A\n",
      " ... (more hidden) ...\u001b[A\n",
      "DR 3:   6%|██████▎                                                                                                         | 1831/32768 [00:00<00:08, 3865.49it/s]\n",
      "/opt/homebrew/lib/python3.11/site-packages/torch/optim/lr_scheduler.py:28: UserWarning: The verbose parameter is deprecated. Please use get_last_lr() to access the learning rate.\n",
      "  warnings.warn(\"The verbose parameter is deprecated. Please use get_last_lr() \"\n"
     ]
    },
    {
     "name": "stdout",
     "output_type": "stream",
     "text": [
      "Stopping at Epoch 1831\n",
      "AUC predicting P(win):\t\t\t\t 0.7503497439266207\n",
      "Estimated Utility\t Mean Error:\t\t\t 0.007671198662465187\n",
      "Estimated Utility\t Mean Absolute Error:\t 0.25893287220907596\n"
     ]
    },
    {
     "name": "stderr",
     "output_type": "stream",
     "text": [
      "\n",
      " ... (more hidden) ...\u001b[A\n",
      " ... (more hidden) ...\u001b[A\n",
      " ... (more hidden) ...\u001b[A\n",
      " ... (more hidden) ...\u001b[A\n",
      " ... (more hidden) ...\u001b[A\n",
      " ... (more hidden) ...\u001b[A\n",
      " ... (more hidden) ...\u001b[A\n",
      " ... (more hidden) ...\u001b[A\n",
      " ... (more hidden) ...\u001b[A\n",
      "DR 3:   2%|██▋                                                                                                               | 759/32768 [00:00<00:40, 785.37it/s]\n"
     ]
    },
    {
     "name": "stdout",
     "output_type": "stream",
     "text": [
      "Stopping at Epoch 759\n",
      "DR 3 Number of samples:  torch.Size([6640, 2])\n",
      "DR 3 Predicted Gammas:  0.5988124 0.77019644 0.67740154\n"
     ]
    },
    {
     "name": "stderr",
     "output_type": "stream",
     "text": [
      "\n",
      " ... (more hidden) ...\u001b[A\n",
      " ... (more hidden) ...\u001b[A\n",
      "DR 1:   6%|███████                                                                                                         | 1025/16384 [00:00<00:03, 4252.14it/s]\n",
      "/opt/homebrew/lib/python3.11/site-packages/torch/optim/lr_scheduler.py:28: UserWarning: The verbose parameter is deprecated. Please use get_last_lr() to access the learning rate.\n",
      "  warnings.warn(\"The verbose parameter is deprecated. Please use get_last_lr() \"\n"
     ]
    },
    {
     "name": "stdout",
     "output_type": "stream",
     "text": [
      "Stopping at Epoch 1025\n",
      "AUC predicting P(win):\t\t\t\t 0.8004378516536298\n",
      "Estimated Utility\t Mean Error:\t\t\t 0.0030705556762113755\n",
      "Estimated Utility\t Mean Absolute Error:\t 0.19454790844471162\n"
     ]
    },
    {
     "name": "stderr",
     "output_type": "stream",
     "text": [
      "\n",
      " ... (more hidden) ...\u001b[A\n",
      " ... (more hidden) ...\u001b[A\n",
      " ... (more hidden) ...\u001b[A\n",
      " ... (more hidden) ...\u001b[A\n",
      " ... (more hidden) ...\u001b[A\n",
      " ... (more hidden) ...\u001b[A\n",
      " ... (more hidden) ...\u001b[A\n",
      " ... (more hidden) ...\u001b[A\n",
      " ... (more hidden) ...\u001b[A\n",
      " ... (more hidden) ...\u001b[A\n",
      " ... (more hidden) ...\u001b[A\n",
      " ... (more hidden) ...\u001b[A\n",
      " ... (more hidden) ...\u001b[A\n",
      " ... (more hidden) ...\u001b[A\n",
      " ... (more hidden) ...\u001b[A\n",
      "DR 1:  18%|███████████████████▋                                                                                            | 5743/32768 [00:01<00:07, 3382.12it/s]\n",
      "/opt/homebrew/lib/python3.11/site-packages/torch/optim/lr_scheduler.py:28: UserWarning: The verbose parameter is deprecated. Please use get_last_lr() to access the learning rate.\n",
      "  warnings.warn(\"The verbose parameter is deprecated. Please use get_last_lr() \"\n"
     ]
    },
    {
     "name": "stdout",
     "output_type": "stream",
     "text": [
      "Stopping at Epoch 5743\n",
      "AUC predicting P(win):\t\t\t\t 0.7981569633136636\n",
      "Estimated Utility\t Mean Error:\t\t\t 0.00322849210233243\n",
      "Estimated Utility\t Mean Absolute Error:\t 0.19648750045176122\n"
     ]
    },
    {
     "name": "stderr",
     "output_type": "stream",
     "text": [
      "\n",
      " ... (more hidden) ...\u001b[A\n",
      " ... (more hidden) ...\u001b[A\n",
      " ... (more hidden) ...\u001b[A\n",
      " ... (more hidden) ...\u001b[A\n",
      " ... (more hidden) ...\u001b[A\n",
      " ... (more hidden) ...\u001b[A\n",
      " ... (more hidden) ...\u001b[A\n",
      " ... (more hidden) ...\u001b[A\n",
      " ... (more hidden) ...\u001b[A\n",
      " ... (more hidden) ...\u001b[A\n",
      " ... (more hidden) ...\u001b[A\n",
      " ... (more hidden) ...\u001b[A\n",
      " ... (more hidden) ...\u001b[A\n",
      " ... (more hidden) ...\u001b[A\n",
      " ... (more hidden) ...\u001b[A\n",
      " ... (more hidden) ...\u001b[A\n",
      " ... (more hidden) ...\u001b[A\n",
      " ... (more hidden) ...\u001b[A\n",
      " ... (more hidden) ...\u001b[A\n",
      " ... (more hidden) ...\u001b[A\n",
      " ... (more hidden) ...\u001b[A\n",
      " ... (more hidden) ...\u001b[A\n",
      " ... (more hidden) ...\u001b[A\n",
      " ... (more hidden) ...\u001b[A\n",
      " ... (more hidden) ...\u001b[A\n",
      " ... (more hidden) ...\u001b[A\n",
      " ... (more hidden) ...\u001b[A\n",
      " ... (more hidden) ...\u001b[A\n",
      " ... (more hidden) ...\u001b[A\n",
      " ... (more hidden) ...\u001b[A\n",
      " ... (more hidden) ...\u001b[A\n",
      " ... (more hidden) ...\u001b[A\n",
      " ... (more hidden) ...\u001b[A\n",
      " ... (more hidden) ...\u001b[A\n",
      " ... (more hidden) ...\u001b[A\n",
      " ... (more hidden) ...\u001b[A\n",
      " ... (more hidden) ...\u001b[A\n",
      " ... (more hidden) ...\u001b[A\n",
      " ... (more hidden) ...\u001b[A\n",
      " ... (more hidden) ...\u001b[A\n",
      " ... (more hidden) ...\u001b[A\n",
      " ... (more hidden) ...\u001b[A\n",
      " ... (more hidden) ...\u001b[A\n",
      " ... (more hidden) ...\u001b[A\n",
      " ... (more hidden) ...\u001b[A\n",
      " ... (more hidden) ...\u001b[A\n",
      " ... (more hidden) ...\u001b[A\n",
      " ... (more hidden) ...\u001b[A\n",
      " ... (more hidden) ...\u001b[A\n",
      " ... (more hidden) ...\u001b[A\n",
      " ... (more hidden) ...\u001b[A\n",
      " ... (more hidden) ...\u001b[A\n",
      " ... (more hidden) ...\u001b[A\n",
      " ... (more hidden) ...\u001b[A\n",
      " ... (more hidden) ...\u001b[A\n",
      " ... (more hidden) ...\u001b[A\n",
      " ... (more hidden) ...\u001b[A\n",
      " ... (more hidden) ...\u001b[A\n",
      "DR 1:  14%|████████████████                                                                                                 | 4655/32768 [00:06<00:36, 775.76it/s]\n"
     ]
    },
    {
     "name": "stdout",
     "output_type": "stream",
     "text": [
      "Stopping at Epoch 4655\n",
      "DR 1 Number of samples:  torch.Size([6684, 2])\n",
      "DR 1 Predicted Gammas:  0.5928135 0.9507515 0.8139205\n"
     ]
    },
    {
     "name": "stderr",
     "output_type": "stream",
     "text": [
      "\n",
      " ... (more hidden) ...\u001b[A\n",
      " ... (more hidden) ...\u001b[A\n",
      "DR 2:   6%|███████                                                                                                         | 1025/16384 [00:00<00:04, 3538.58it/s]\n",
      "/opt/homebrew/lib/python3.11/site-packages/torch/optim/lr_scheduler.py:28: UserWarning: The verbose parameter is deprecated. Please use get_last_lr() to access the learning rate.\n",
      "  warnings.warn(\"The verbose parameter is deprecated. Please use get_last_lr() \"\n"
     ]
    },
    {
     "name": "stdout",
     "output_type": "stream",
     "text": [
      "Stopping at Epoch 1025\n",
      "AUC predicting P(win):\t\t\t\t 0.7115475795738462\n",
      "Estimated Utility\t Mean Error:\t\t\t 0.007505304392953939\n",
      "Estimated Utility\t Mean Absolute Error:\t 0.3536330692232893\n"
     ]
    },
    {
     "name": "stderr",
     "output_type": "stream",
     "text": [
      "\n",
      " ... (more hidden) ...\u001b[A\n",
      " ... (more hidden) ...\u001b[A\n",
      " ... (more hidden) ...\u001b[A\n",
      " ... (more hidden) ...\u001b[A\n",
      " ... (more hidden) ...\u001b[A\n",
      " ... (more hidden) ...\u001b[A\n",
      " ... (more hidden) ...\u001b[A\n",
      "DR 2:  10%|███████████▌                                                                                                    | 3365/32768 [00:00<00:06, 4238.98it/s]\n",
      "/opt/homebrew/lib/python3.11/site-packages/torch/optim/lr_scheduler.py:28: UserWarning: The verbose parameter is deprecated. Please use get_last_lr() to access the learning rate.\n",
      "  warnings.warn(\"The verbose parameter is deprecated. Please use get_last_lr() \"\n"
     ]
    },
    {
     "name": "stdout",
     "output_type": "stream",
     "text": [
      "Stopping at Epoch 3365\n",
      "AUC predicting P(win):\t\t\t\t 0.7134710585840068\n",
      "Estimated Utility\t Mean Error:\t\t\t 0.009539649709671305\n",
      "Estimated Utility\t Mean Absolute Error:\t 0.3541966758403354\n"
     ]
    },
    {
     "name": "stderr",
     "output_type": "stream",
     "text": [
      "\n",
      " ... (more hidden) ...\u001b[A\n",
      " ... (more hidden) ...\u001b[A\n",
      " ... (more hidden) ...\u001b[A\n",
      " ... (more hidden) ...\u001b[A\n",
      " ... (more hidden) ...\u001b[A\n",
      " ... (more hidden) ...\u001b[A\n",
      " ... (more hidden) ...\u001b[A\n",
      " ... (more hidden) ...\u001b[A\n",
      " ... (more hidden) ...\u001b[A\n",
      " ... (more hidden) ...\u001b[A\n",
      " ... (more hidden) ...\u001b[A\n",
      " ... (more hidden) ...\u001b[A\n",
      " ... (more hidden) ...\u001b[A\n",
      " ... (more hidden) ...\u001b[A\n",
      " ... (more hidden) ...\u001b[A\n",
      " ... (more hidden) ...\u001b[A\n",
      " ... (more hidden) ...\u001b[A\n",
      " ... (more hidden) ...\u001b[A\n",
      " ... (more hidden) ...\u001b[A\n",
      " ... (more hidden) ...\u001b[A\n",
      " ... (more hidden) ...\u001b[A\n",
      " ... (more hidden) ...\u001b[A\n",
      " ... (more hidden) ...\u001b[A\n",
      " ... (more hidden) ...\u001b[A\n",
      " ... (more hidden) ...\u001b[A\n",
      " ... (more hidden) ...\u001b[A\n",
      " ... (more hidden) ...\u001b[A\n",
      " ... (more hidden) ...\u001b[A\n",
      " ... (more hidden) ...\u001b[A\n",
      " ... (more hidden) ...\u001b[A\n",
      " ... (more hidden) ...\u001b[A\n",
      " ... (more hidden) ...\u001b[A\n",
      " ... (more hidden) ...\u001b[A\n",
      " ... (more hidden) ...\u001b[A\n",
      " ... (more hidden) ...\u001b[A\n",
      " ... (more hidden) ...\u001b[A\n",
      " ... (more hidden) ...\u001b[A\n",
      " ... (more hidden) ...\u001b[A\n",
      " ... (more hidden) ...\u001b[A\n",
      " ... (more hidden) ...\u001b[A\n",
      " ... (more hidden) ...\u001b[A\n",
      " ... (more hidden) ...\u001b[A\n",
      " ... (more hidden) ...\u001b[A\n",
      " ... (more hidden) ...\u001b[A\n",
      " ... (more hidden) ...\u001b[A\n",
      " ... (more hidden) ...\u001b[A\n",
      " ... (more hidden) ...\u001b[A\n",
      " ... (more hidden) ...\u001b[A\n",
      " ... (more hidden) ...\u001b[A\n",
      " ... (more hidden) ...\u001b[A\n",
      " ... (more hidden) ...\u001b[A\n",
      " ... (more hidden) ...\u001b[A\n",
      " ... (more hidden) ...\u001b[A\n",
      " ... (more hidden) ...\u001b[A\n",
      " ... (more hidden) ...\u001b[A\n",
      " ... (more hidden) ...\u001b[A\n",
      " ... (more hidden) ...\u001b[A\n",
      " ... (more hidden) ...\u001b[A\n",
      " ... (more hidden) ...\u001b[A\n",
      " ... (more hidden) ...\u001b[A\n",
      " ... (more hidden) ...\u001b[A\n",
      " ... (more hidden) ...\u001b[A\n",
      " ... (more hidden) ...\u001b[A\n",
      " ... (more hidden) ...\u001b[A\n",
      " ... (more hidden) ...\u001b[A\n",
      " ... (more hidden) ...\u001b[A\n",
      " ... (more hidden) ...\u001b[A\n",
      " ... (more hidden) ...\u001b[A\n",
      " ... (more hidden) ...\u001b[A\n",
      " ... (more hidden) ...\u001b[A\n",
      " ... (more hidden) ...\u001b[A\n",
      " ... (more hidden) ...\u001b[A\n",
      " ... (more hidden) ...\u001b[A\n",
      " ... (more hidden) ...\u001b[A\n",
      " ... (more hidden) ...\u001b[A\n",
      " ... (more hidden) ...\u001b[A\n",
      " ... (more hidden) ...\u001b[A\n",
      " ... (more hidden) ...\u001b[A\n",
      " ... (more hidden) ...\u001b[A\n",
      " ... (more hidden) ...\u001b[A\n",
      " ... (more hidden) ...\u001b[A\n",
      " ... (more hidden) ...\u001b[A\n",
      " ... (more hidden) ...\u001b[A\n",
      " ... (more hidden) ...\u001b[A\n",
      " ... (more hidden) ...\u001b[A\n",
      " ... (more hidden) ...\u001b[A\n",
      " ... (more hidden) ...\u001b[A\n",
      " ... (more hidden) ...\u001b[A\n",
      " ... (more hidden) ...\u001b[A\n",
      " ... (more hidden) ...\u001b[A\n",
      " ... (more hidden) ...\u001b[A\n",
      " ... (more hidden) ...\u001b[A\n",
      " ... (more hidden) ...\u001b[A\n",
      " ... (more hidden) ...\u001b[A\n",
      " ... (more hidden) ...\u001b[A\n",
      " ... (more hidden) ...\u001b[A\n",
      " ... (more hidden) ...\u001b[A\n",
      " ... (more hidden) ...\u001b[A\n",
      " ... (more hidden) ...\u001b[A\n",
      " ... (more hidden) ...\u001b[A\n",
      " ... (more hidden) ...\u001b[A\n",
      " ... (more hidden) ...\u001b[A\n",
      " ... (more hidden) ...\u001b[A\n",
      " ... (more hidden) ...\u001b[A\n",
      " ... (more hidden) ...\u001b[A\n",
      " ... (more hidden) ...\u001b[A\n",
      " ... (more hidden) ...\u001b[A\n",
      " ... (more hidden) ...\u001b[A\n",
      " ... (more hidden) ...\u001b[A\n",
      " ... (more hidden) ...\u001b[A\n",
      " ... (more hidden) ...\u001b[A\n",
      " ... (more hidden) ...\u001b[A\n",
      " ... (more hidden) ...\u001b[A\n",
      " ... (more hidden) ...\u001b[A\n",
      " ... (more hidden) ...\u001b[A\n",
      " ... (more hidden) ...\u001b[A\n",
      " ... (more hidden) ...\u001b[A\n",
      " ... (more hidden) ...\u001b[A\n",
      " ... (more hidden) ...\u001b[A\n",
      " ... (more hidden) ...\u001b[A\n",
      " ... (more hidden) ...\u001b[A\n",
      " ... (more hidden) ...\u001b[A\n",
      " ... (more hidden) ...\u001b[A\n",
      " ... (more hidden) ...\u001b[A\n",
      " ... (more hidden) ...\u001b[A\n",
      " ... (more hidden) ...\u001b[A\n",
      " ... (more hidden) ...\u001b[A\n",
      " ... (more hidden) ...\u001b[A\n",
      " ... (more hidden) ...\u001b[A\n",
      " ... (more hidden) ...\u001b[A\n",
      " ... (more hidden) ...\u001b[A\n",
      " ... (more hidden) ...\u001b[A\n",
      " ... (more hidden) ...\u001b[A\n",
      " ... (more hidden) ...\u001b[A\n",
      " ... (more hidden) ...\u001b[A\n",
      " ... (more hidden) ...\u001b[A\n",
      " ... (more hidden) ...\u001b[A\n",
      " ... (more hidden) ...\u001b[A\n",
      " ... (more hidden) ...\u001b[A\n",
      " ... (more hidden) ...\u001b[A\n",
      " ... (more hidden) ...\u001b[A\n",
      " ... (more hidden) ...\u001b[A\n",
      " ... (more hidden) ...\u001b[A\n",
      " ... (more hidden) ...\u001b[A\n",
      " ... (more hidden) ...\u001b[A\n",
      " ... (more hidden) ...\u001b[A\n",
      " ... (more hidden) ...\u001b[A\n",
      " ... (more hidden) ...\u001b[A\n",
      " ... (more hidden) ...\u001b[A\n",
      " ... (more hidden) ...\u001b[A\n",
      " ... (more hidden) ...\u001b[A\n",
      " ... (more hidden) ...\u001b[A\n",
      " ... (more hidden) ...\u001b[A\n",
      " ... (more hidden) ...\u001b[A\n",
      " ... (more hidden) ...\u001b[A\n",
      " ... (more hidden) ...\u001b[A\n",
      " ... (more hidden) ...\u001b[A\n",
      " ... (more hidden) ...\u001b[A\n",
      " ... (more hidden) ...\u001b[A\n",
      " ... (more hidden) ...\u001b[A\n",
      " ... (more hidden) ...\u001b[A\n",
      " ... (more hidden) ...\u001b[A\n",
      " ... (more hidden) ...\u001b[A\n",
      " ... (more hidden) ...\u001b[A\n",
      " ... (more hidden) ...\u001b[A\n",
      " ... (more hidden) ...\u001b[A\n",
      " ... (more hidden) ...\u001b[A\n",
      " ... (more hidden) ...\u001b[A\n",
      " ... (more hidden) ...\u001b[A\n",
      " ... (more hidden) ...\u001b[A\n",
      " ... (more hidden) ...\u001b[A\n",
      " ... (more hidden) ...\u001b[A\n",
      " ... (more hidden) ...\u001b[A\n",
      " ... (more hidden) ...\u001b[A\n",
      " ... (more hidden) ...\u001b[A\n",
      " ... (more hidden) ...\u001b[A\n",
      " ... (more hidden) ...\u001b[A\n",
      " ... (more hidden) ...\u001b[A\n",
      " ... (more hidden) ...\u001b[A\n",
      " ... (more hidden) ...\u001b[A\n",
      " ... (more hidden) ...\u001b[A\n",
      " ... (more hidden) ...\u001b[A\n",
      " ... (more hidden) ...\u001b[A\n",
      " ... (more hidden) ...\u001b[A\n",
      " ... (more hidden) ...\u001b[A\n",
      " ... (more hidden) ...\u001b[A\n",
      " ... (more hidden) ...\u001b[A\n",
      " ... (more hidden) ...\u001b[A\n",
      " ... (more hidden) ...\u001b[A\n",
      " ... (more hidden) ...\u001b[A\n",
      " ... (more hidden) ...\u001b[A\n",
      " ... (more hidden) ...\u001b[A\n",
      " ... (more hidden) ...\u001b[A\n",
      " ... (more hidden) ...\u001b[A\n",
      " ... (more hidden) ...\u001b[A\n",
      " ... (more hidden) ...\u001b[A\n",
      " ... (more hidden) ...\u001b[A\n",
      " ... (more hidden) ...\u001b[A\n",
      " ... (more hidden) ...\u001b[A\n",
      " ... (more hidden) ...\u001b[A\n",
      " ... (more hidden) ...\u001b[A\n",
      " ... (more hidden) ...\u001b[A\n",
      " ... (more hidden) ...\u001b[A\n",
      " ... (more hidden) ...\u001b[A\n",
      " ... (more hidden) ...\u001b[A\n",
      " ... (more hidden) ...\u001b[A\n",
      " ... (more hidden) ...\u001b[A\n",
      " ... (more hidden) ...\u001b[A\n",
      " ... (more hidden) ...\u001b[A\n",
      " ... (more hidden) ...\u001b[A\n",
      " ... (more hidden) ...\u001b[A\n",
      "DR 2:  53%|███████████████████████████████████████████████████████████▉                                                    | 17520/32768 [00:22<00:19, 789.31it/s]\n"
     ]
    },
    {
     "name": "stdout",
     "output_type": "stream",
     "text": [
      "Stopping at Epoch 17520\n",
      "DR 2 Number of samples:  torch.Size([6657, 2])\n",
      "DR 2 Predicted Gammas:  0.0 1.0 0.86651736\n"
     ]
    },
    {
     "name": "stderr",
     "output_type": "stream",
     "text": [
      "\n",
      " ... (more hidden) ...\u001b[A\n",
      " ... (more hidden) ...\u001b[A\n",
      " ... (more hidden) ...\u001b[A\n",
      "DR 3:   6%|███████                                                                                                         | 1025/16384 [00:00<00:08, 1805.22it/s]\n",
      "/opt/homebrew/lib/python3.11/site-packages/torch/optim/lr_scheduler.py:28: UserWarning: The verbose parameter is deprecated. Please use get_last_lr() to access the learning rate.\n",
      "  warnings.warn(\"The verbose parameter is deprecated. Please use get_last_lr() \"\n"
     ]
    },
    {
     "name": "stdout",
     "output_type": "stream",
     "text": [
      "Stopping at Epoch 1025\n",
      "AUC predicting P(win):\t\t\t\t 0.783739618056168\n",
      "Estimated Utility\t Mean Error:\t\t\t -0.00278012990332627\n",
      "Estimated Utility\t Mean Absolute Error:\t 0.239841028020484\n"
     ]
    },
    {
     "name": "stderr",
     "output_type": "stream",
     "text": [
      "\n",
      " ... (more hidden) ...\u001b[A\n",
      " ... (more hidden) ...\u001b[A\n",
      " ... (more hidden) ...\u001b[A\n",
      "DR 3:   5%|█████▏                                                                                                          | 1505/32768 [00:00<00:08, 3665.97it/s]\n",
      "/opt/homebrew/lib/python3.11/site-packages/torch/optim/lr_scheduler.py:28: UserWarning: The verbose parameter is deprecated. Please use get_last_lr() to access the learning rate.\n",
      "  warnings.warn(\"The verbose parameter is deprecated. Please use get_last_lr() \"\n"
     ]
    },
    {
     "name": "stdout",
     "output_type": "stream",
     "text": [
      "Stopping at Epoch 1505\n",
      "AUC predicting P(win):\t\t\t\t 0.7832282829797116\n",
      "Estimated Utility\t Mean Error:\t\t\t -0.0014584533617211508\n",
      "Estimated Utility\t Mean Absolute Error:\t 0.2415348758508234\n"
     ]
    },
    {
     "name": "stderr",
     "output_type": "stream",
     "text": [
      "\n",
      " ... (more hidden) ...\u001b[A\n",
      " ... (more hidden) ...\u001b[A\n",
      " ... (more hidden) ...\u001b[A\n",
      " ... (more hidden) ...\u001b[A\n",
      " ... (more hidden) ...\u001b[A\n",
      " ... (more hidden) ...\u001b[A\n",
      " ... (more hidden) ...\u001b[A\n",
      " ... (more hidden) ...\u001b[A\n",
      " ... (more hidden) ...\u001b[A\n",
      " ... (more hidden) ...\u001b[A\n",
      " ... (more hidden) ...\u001b[A\n",
      " ... (more hidden) ...\u001b[A\n",
      " ... (more hidden) ...\u001b[A\n",
      " ... (more hidden) ...\u001b[A\n",
      " ... (more hidden) ...\u001b[A\n",
      " ... (more hidden) ...\u001b[A\n",
      " ... (more hidden) ...\u001b[A\n",
      " ... (more hidden) ...\u001b[A\n",
      " ... (more hidden) ...\u001b[A\n",
      " ... (more hidden) ...\u001b[A\n",
      " ... (more hidden) ...\u001b[A\n",
      "DR 3:   5%|█████▉                                                                                                           | 1706/32768 [00:02<00:42, 728.73it/s]\n"
     ]
    },
    {
     "name": "stdout",
     "output_type": "stream",
     "text": [
      "Stopping at Epoch 1706\n",
      "DR 3 Number of samples:  torch.Size([6659, 2])\n",
      "DR 3 Predicted Gammas:  0.6324851 0.7128702 0.67427087\n"
     ]
    },
    {
     "name": "stderr",
     "output_type": "stream",
     "text": [
      "\n",
      " ... (more hidden) ...\u001b[A\n",
      " ... (more hidden) ...\u001b[A\n",
      "DR 1:   6%|███████                                                                                                         | 1025/16384 [00:00<00:03, 3931.52it/s]\n",
      "/opt/homebrew/lib/python3.11/site-packages/torch/optim/lr_scheduler.py:28: UserWarning: The verbose parameter is deprecated. Please use get_last_lr() to access the learning rate.\n",
      "  warnings.warn(\"The verbose parameter is deprecated. Please use get_last_lr() \"\n"
     ]
    },
    {
     "name": "stdout",
     "output_type": "stream",
     "text": [
      "Stopping at Epoch 1025\n",
      "AUC predicting P(win):\t\t\t\t 0.8684270147238844\n",
      "Estimated Utility\t Mean Error:\t\t\t -0.011777486811989498\n",
      "Estimated Utility\t Mean Absolute Error:\t 0.20939699405486684\n"
     ]
    },
    {
     "name": "stderr",
     "output_type": "stream",
     "text": [
      "\n",
      " ... (more hidden) ...\u001b[A\n",
      " ... (more hidden) ...\u001b[A\n",
      " ... (more hidden) ...\u001b[A\n",
      " ... (more hidden) ...\u001b[A\n",
      " ... (more hidden) ...\u001b[A\n",
      " ... (more hidden) ...\u001b[A\n",
      " ... (more hidden) ...\u001b[A\n",
      " ... (more hidden) ...\u001b[A\n",
      "DR 1:   9%|██████████▏                                                                                                     | 2966/32768 [00:00<00:08, 3677.13it/s]\n",
      "/opt/homebrew/lib/python3.11/site-packages/torch/optim/lr_scheduler.py:28: UserWarning: The verbose parameter is deprecated. Please use get_last_lr() to access the learning rate.\n",
      "  warnings.warn(\"The verbose parameter is deprecated. Please use get_last_lr() \"\n"
     ]
    },
    {
     "name": "stdout",
     "output_type": "stream",
     "text": [
      "Stopping at Epoch 2966\n",
      "AUC predicting P(win):\t\t\t\t 0.8734893273270689\n",
      "Estimated Utility\t Mean Error:\t\t\t -0.00446443084608101\n",
      "Estimated Utility\t Mean Absolute Error:\t 0.20959841126013334\n"
     ]
    },
    {
     "name": "stderr",
     "output_type": "stream",
     "text": [
      "\n",
      " ... (more hidden) ...\u001b[A\n",
      " ... (more hidden) ...\u001b[A\n",
      " ... (more hidden) ...\u001b[A\n",
      " ... (more hidden) ...\u001b[A\n",
      " ... (more hidden) ...\u001b[A\n",
      " ... (more hidden) ...\u001b[A\n",
      " ... (more hidden) ...\u001b[A\n",
      " ... (more hidden) ...\u001b[A\n",
      " ... (more hidden) ...\u001b[A\n",
      " ... (more hidden) ...\u001b[A\n",
      " ... (more hidden) ...\u001b[A\n",
      " ... (more hidden) ...\u001b[A\n",
      " ... (more hidden) ...\u001b[A\n",
      "DR 1:   3%|███▍                                                                                                              | 973/32768 [00:01<00:51, 622.98it/s]\n"
     ]
    },
    {
     "name": "stdout",
     "output_type": "stream",
     "text": [
      "Stopping at Epoch 973\n",
      "DR 1 Number of samples:  torch.Size([6683, 2])\n",
      "DR 1 Predicted Gammas:  0.45165664 0.9894269 0.7985818\n"
     ]
    },
    {
     "name": "stderr",
     "output_type": "stream",
     "text": [
      "\n",
      " ... (more hidden) ...\u001b[A\n",
      " ... (more hidden) ...\u001b[A\n",
      " ... (more hidden) ...\u001b[A\n",
      "DR 2:   6%|███████                                                                                                         | 1025/16384 [00:00<00:05, 2786.74it/s]\n",
      "/opt/homebrew/lib/python3.11/site-packages/torch/optim/lr_scheduler.py:28: UserWarning: The verbose parameter is deprecated. Please use get_last_lr() to access the learning rate.\n",
      "  warnings.warn(\"The verbose parameter is deprecated. Please use get_last_lr() \"\n"
     ]
    },
    {
     "name": "stdout",
     "output_type": "stream",
     "text": [
      "Stopping at Epoch 1025\n",
      "AUC predicting P(win):\t\t\t\t 0.661424308434638\n",
      "Estimated Utility\t Mean Error:\t\t\t -0.0209045831252567\n",
      "Estimated Utility\t Mean Absolute Error:\t 0.31629989567983047\n"
     ]
    },
    {
     "name": "stderr",
     "output_type": "stream",
     "text": [
      "\n",
      " ... (more hidden) ...\u001b[A\n",
      " ... (more hidden) ...\u001b[A\n",
      " ... (more hidden) ...\u001b[A\n",
      " ... (more hidden) ...\u001b[A\n",
      " ... (more hidden) ...\u001b[A\n",
      " ... (more hidden) ...\u001b[A\n",
      " ... (more hidden) ...\u001b[A\n",
      " ... (more hidden) ...\u001b[A\n",
      " ... (more hidden) ...\u001b[A\n",
      " ... (more hidden) ...\u001b[A\n",
      " ... (more hidden) ...\u001b[A\n",
      " ... (more hidden) ...\u001b[A\n",
      " ... (more hidden) ...\u001b[A\n",
      " ... (more hidden) ...\u001b[A\n",
      " ... (more hidden) ...\u001b[A\n",
      " ... (more hidden) ...\u001b[A\n",
      " ... (more hidden) ...\u001b[A\n",
      " ... (more hidden) ...\u001b[A\n",
      " ... (more hidden) ...\u001b[A\n",
      " ... (more hidden) ...\u001b[A\n",
      " ... (more hidden) ...\u001b[A\n",
      " ... (more hidden) ...\u001b[A\n",
      " ... (more hidden) ...\u001b[A\n",
      " ... (more hidden) ...\u001b[A\n",
      " ... (more hidden) ...\u001b[A\n",
      " ... (more hidden) ...\u001b[A\n",
      " ... (more hidden) ...\u001b[A\n",
      " ... (more hidden) ...\u001b[A\n",
      " ... (more hidden) ...\u001b[A\n",
      " ... (more hidden) ...\u001b[A\n",
      " ... (more hidden) ...\u001b[A\n",
      " ... (more hidden) ...\u001b[A\n",
      " ... (more hidden) ...\u001b[A\n",
      " ... (more hidden) ...\u001b[A\n",
      " ... (more hidden) ...\u001b[A\n",
      " ... (more hidden) ...\u001b[A\n",
      " ... (more hidden) ...\u001b[A\n",
      " ... (more hidden) ...\u001b[A\n",
      " ... (more hidden) ...\u001b[A\n",
      " ... (more hidden) ...\u001b[A\n",
      " ... (more hidden) ...\u001b[A\n",
      " ... (more hidden) ...\u001b[A\n",
      " ... (more hidden) ...\u001b[A\n",
      " ... (more hidden) ...\u001b[A\n",
      " ... (more hidden) ...\u001b[A\n",
      " ... (more hidden) ...\u001b[A\n",
      " ... (more hidden) ...\u001b[A\n",
      " ... (more hidden) ...\u001b[A\n",
      " ... (more hidden) ...\u001b[A\n",
      " ... (more hidden) ...\u001b[A\n",
      " ... (more hidden) ...\u001b[A\n",
      " ... (more hidden) ...\u001b[A\n",
      " ... (more hidden) ...\u001b[A\n",
      " ... (more hidden) ...\u001b[A\n",
      " ... (more hidden) ...\u001b[A\n",
      "DR 2:  67%|██████████████████████████████████████████████████████████████████████████                                     | 21867/32768 [00:05<00:02, 3735.51it/s]\n",
      "/opt/homebrew/lib/python3.11/site-packages/torch/optim/lr_scheduler.py:28: UserWarning: The verbose parameter is deprecated. Please use get_last_lr() to access the learning rate.\n",
      "  warnings.warn(\"The verbose parameter is deprecated. Please use get_last_lr() \"\n"
     ]
    },
    {
     "name": "stdout",
     "output_type": "stream",
     "text": [
      "Stopping at Epoch 21867\n",
      "AUC predicting P(win):\t\t\t\t 0.6712885484739888\n",
      "Estimated Utility\t Mean Error:\t\t\t -0.01580956917641973\n",
      "Estimated Utility\t Mean Absolute Error:\t 0.31909850012202023\n"
     ]
    },
    {
     "name": "stderr",
     "output_type": "stream",
     "text": [
      "\n",
      " ... (more hidden) ...\u001b[A\n",
      " ... (more hidden) ...\u001b[A\n",
      " ... (more hidden) ...\u001b[A\n",
      " ... (more hidden) ...\u001b[A\n",
      " ... (more hidden) ...\u001b[A\n",
      " ... (more hidden) ...\u001b[A\n",
      " ... (more hidden) ...\u001b[A\n",
      " ... (more hidden) ...\u001b[A\n",
      " ... (more hidden) ...\u001b[A\n",
      " ... (more hidden) ...\u001b[A\n",
      " ... (more hidden) ...\u001b[A\n",
      " ... (more hidden) ...\u001b[A\n",
      " ... (more hidden) ...\u001b[A\n",
      " ... (more hidden) ...\u001b[A\n",
      " ... (more hidden) ...\u001b[A\n",
      " ... (more hidden) ...\u001b[A\n",
      " ... (more hidden) ...\u001b[A\n",
      " ... (more hidden) ...\u001b[A\n",
      " ... (more hidden) ...\u001b[A\n",
      " ... (more hidden) ...\u001b[A\n",
      " ... (more hidden) ...\u001b[A\n",
      " ... (more hidden) ...\u001b[A\n",
      " ... (more hidden) ...\u001b[A\n",
      " ... (more hidden) ...\u001b[A\n",
      " ... (more hidden) ...\u001b[A\n",
      " ... (more hidden) ...\u001b[A\n",
      " ... (more hidden) ...\u001b[A\n",
      " ... (more hidden) ...\u001b[A\n",
      " ... (more hidden) ...\u001b[A\n",
      " ... (more hidden) ...\u001b[A\n",
      " ... (more hidden) ...\u001b[A\n",
      " ... (more hidden) ...\u001b[A\n",
      " ... (more hidden) ...\u001b[A\n",
      " ... (more hidden) ...\u001b[A\n",
      " ... (more hidden) ...\u001b[A\n",
      " ... (more hidden) ...\u001b[A\n",
      " ... (more hidden) ...\u001b[A\n",
      " ... (more hidden) ...\u001b[A\n",
      " ... (more hidden) ...\u001b[A\n",
      " ... (more hidden) ...\u001b[A\n",
      " ... (more hidden) ...\u001b[A\n",
      " ... (more hidden) ...\u001b[A\n",
      " ... (more hidden) ...\u001b[A\n",
      " ... (more hidden) ...\u001b[A\n",
      " ... (more hidden) ...\u001b[A\n",
      " ... (more hidden) ...\u001b[A\n",
      " ... (more hidden) ...\u001b[A\n",
      " ... (more hidden) ...\u001b[A\n",
      " ... (more hidden) ...\u001b[A\n",
      " ... (more hidden) ...\u001b[A\n",
      " ... (more hidden) ...\u001b[A\n",
      " ... (more hidden) ...\u001b[A\n",
      " ... (more hidden) ...\u001b[A\n",
      " ... (more hidden) ...\u001b[A\n",
      " ... (more hidden) ...\u001b[A\n",
      " ... (more hidden) ...\u001b[A\n",
      " ... (more hidden) ...\u001b[A\n",
      " ... (more hidden) ...\u001b[A\n",
      " ... (more hidden) ...\u001b[A\n",
      " ... (more hidden) ...\u001b[A\n",
      " ... (more hidden) ...\u001b[A\n",
      " ... (more hidden) ...\u001b[A\n",
      " ... (more hidden) ...\u001b[A\n",
      " ... (more hidden) ...\u001b[A\n",
      " ... (more hidden) ...\u001b[A\n",
      " ... (more hidden) ...\u001b[A\n",
      " ... (more hidden) ...\u001b[A\n",
      " ... (more hidden) ...\u001b[A\n",
      " ... (more hidden) ...\u001b[A\n",
      " ... (more hidden) ...\u001b[A\n",
      " ... (more hidden) ...\u001b[A\n",
      " ... (more hidden) ...\u001b[A\n",
      " ... (more hidden) ...\u001b[A\n",
      " ... (more hidden) ...\u001b[A\n",
      " ... (more hidden) ...\u001b[A\n",
      " ... (more hidden) ...\u001b[A\n",
      " ... (more hidden) ...\u001b[A\n",
      " ... (more hidden) ...\u001b[A\n",
      " ... (more hidden) ...\u001b[A\n",
      " ... (more hidden) ...\u001b[A\n",
      " ... (more hidden) ...\u001b[A\n",
      " ... (more hidden) ...\u001b[A\n",
      " ... (more hidden) ...\u001b[A\n",
      " ... (more hidden) ...\u001b[A\n",
      " ... (more hidden) ...\u001b[A\n",
      " ... (more hidden) ...\u001b[A\n",
      " ... (more hidden) ...\u001b[A\n",
      " ... (more hidden) ...\u001b[A\n",
      " ... (more hidden) ...\u001b[A\n",
      " ... (more hidden) ...\u001b[A\n",
      " ... (more hidden) ...\u001b[A\n",
      " ... (more hidden) ...\u001b[A\n",
      " ... (more hidden) ...\u001b[A\n",
      "DR 2:  21%|███████████████████████▉                                                                                         | 6957/32768 [00:10<00:38, 666.20it/s]\n"
     ]
    },
    {
     "name": "stdout",
     "output_type": "stream",
     "text": [
      "Stopping at Epoch 6957\n",
      "DR 2 Number of samples:  torch.Size([6665, 2])\n",
      "DR 2 Predicted Gammas:  0.6449132 0.9468499 0.83384985\n"
     ]
    },
    {
     "name": "stderr",
     "output_type": "stream",
     "text": [
      "\n",
      " ... (more hidden) ...\u001b[A\n",
      " ... (more hidden) ...\u001b[A\n",
      "DR 3:   6%|███████                                                                                                         | 1025/16384 [00:00<00:03, 4070.96it/s]\n",
      "/opt/homebrew/lib/python3.11/site-packages/torch/optim/lr_scheduler.py:28: UserWarning: The verbose parameter is deprecated. Please use get_last_lr() to access the learning rate.\n",
      "  warnings.warn(\"The verbose parameter is deprecated. Please use get_last_lr() \"\n"
     ]
    },
    {
     "name": "stdout",
     "output_type": "stream",
     "text": [
      "Stopping at Epoch 1025\n",
      "AUC predicting P(win):\t\t\t\t 0.7447272620969891\n",
      "Estimated Utility\t Mean Error:\t\t\t -0.007455137392718251\n",
      "Estimated Utility\t Mean Absolute Error:\t 0.2724871231479432\n"
     ]
    },
    {
     "name": "stderr",
     "output_type": "stream",
     "text": [
      "\n",
      " ... (more hidden) ...\u001b[A\n",
      " ... (more hidden) ...\u001b[A\n",
      " ... (more hidden) ...\u001b[A\n",
      " ... (more hidden) ...\u001b[A\n",
      " ... (more hidden) ...\u001b[A\n",
      " ... (more hidden) ...\u001b[A\n",
      "DR 3:   8%|█████████▏                                                                                                      | 2689/32768 [00:00<00:07, 4047.30it/s]\n",
      "/opt/homebrew/lib/python3.11/site-packages/torch/optim/lr_scheduler.py:28: UserWarning: The verbose parameter is deprecated. Please use get_last_lr() to access the learning rate.\n",
      "  warnings.warn(\"The verbose parameter is deprecated. Please use get_last_lr() \"\n"
     ]
    },
    {
     "name": "stdout",
     "output_type": "stream",
     "text": [
      "Stopping at Epoch 2689\n",
      "AUC predicting P(win):\t\t\t\t 0.7577772063863223\n",
      "Estimated Utility\t Mean Error:\t\t\t 0.001789075896115694\n",
      "Estimated Utility\t Mean Absolute Error:\t 0.2749264154414652\n"
     ]
    },
    {
     "name": "stderr",
     "output_type": "stream",
     "text": [
      "\n",
      " ... (more hidden) ...\u001b[A\n",
      " ... (more hidden) ...\u001b[A\n",
      " ... (more hidden) ...\u001b[A\n",
      " ... (more hidden) ...\u001b[A\n",
      " ... (more hidden) ...\u001b[A\n",
      " ... (more hidden) ...\u001b[A\n",
      " ... (more hidden) ...\u001b[A\n",
      " ... (more hidden) ...\u001b[A\n",
      " ... (more hidden) ...\u001b[A\n",
      " ... (more hidden) ...\u001b[A\n",
      " ... (more hidden) ...\u001b[A\n",
      " ... (more hidden) ...\u001b[A\n",
      "DR 3:   3%|███▌                                                                                                             | 1036/32768 [00:01<00:39, 800.78it/s]\n"
     ]
    },
    {
     "name": "stdout",
     "output_type": "stream",
     "text": [
      "Stopping at Epoch 1036\n",
      "DR 3 Number of samples:  torch.Size([6652, 2])\n",
      "DR 3 Predicted Gammas:  0.57298005 0.73017395 0.6572777\n"
     ]
    },
    {
     "name": "stderr",
     "output_type": "stream",
     "text": [
      "\n",
      " ... (more hidden) ...\u001b[A\n",
      " ... (more hidden) ...\u001b[A\n",
      "DR 1:   6%|███████                                                                                                         | 1025/16384 [00:00<00:03, 4161.34it/s]\n",
      "/opt/homebrew/lib/python3.11/site-packages/torch/optim/lr_scheduler.py:28: UserWarning: The verbose parameter is deprecated. Please use get_last_lr() to access the learning rate.\n",
      "  warnings.warn(\"The verbose parameter is deprecated. Please use get_last_lr() \"\n"
     ]
    },
    {
     "name": "stdout",
     "output_type": "stream",
     "text": [
      "Stopping at Epoch 1025\n",
      "AUC predicting P(win):\t\t\t\t 0.7816075070690761\n",
      "Estimated Utility\t Mean Error:\t\t\t 0.0076023534107792\n",
      "Estimated Utility\t Mean Absolute Error:\t 0.21724414614393922\n"
     ]
    },
    {
     "name": "stderr",
     "output_type": "stream",
     "text": [
      "\n",
      " ... (more hidden) ...\u001b[A\n",
      " ... (more hidden) ...\u001b[A\n",
      " ... (more hidden) ...\u001b[A\n",
      " ... (more hidden) ...\u001b[A\n",
      " ... (more hidden) ...\u001b[A\n",
      " ... (more hidden) ...\u001b[A\n",
      "DR 1:   8%|████████▊                                                                                                       | 2594/32768 [00:00<00:08, 3668.11it/s]\n",
      "/opt/homebrew/lib/python3.11/site-packages/torch/optim/lr_scheduler.py:28: UserWarning: The verbose parameter is deprecated. Please use get_last_lr() to access the learning rate.\n",
      "  warnings.warn(\"The verbose parameter is deprecated. Please use get_last_lr() \"\n"
     ]
    },
    {
     "name": "stdout",
     "output_type": "stream",
     "text": [
      "Stopping at Epoch 2594\n",
      "AUC predicting P(win):\t\t\t\t 0.7801414891381571\n",
      "Estimated Utility\t Mean Error:\t\t\t 0.008343778574630149\n",
      "Estimated Utility\t Mean Absolute Error:\t 0.21750092951620986\n"
     ]
    },
    {
     "name": "stderr",
     "output_type": "stream",
     "text": [
      "\n",
      " ... (more hidden) ...\u001b[A\n",
      " ... (more hidden) ...\u001b[A\n",
      " ... (more hidden) ...\u001b[A\n",
      " ... (more hidden) ...\u001b[A\n",
      " ... (more hidden) ...\u001b[A\n",
      " ... (more hidden) ...\u001b[A\n",
      " ... (more hidden) ...\u001b[A\n",
      " ... (more hidden) ...\u001b[A\n",
      " ... (more hidden) ...\u001b[A\n",
      " ... (more hidden) ...\u001b[A\n",
      " ... (more hidden) ...\u001b[A\n",
      " ... (more hidden) ...\u001b[A\n",
      " ... (more hidden) ...\u001b[A\n",
      " ... (more hidden) ...\u001b[A\n",
      " ... (more hidden) ...\u001b[A\n",
      " ... (more hidden) ...\u001b[A\n",
      " ... (more hidden) ...\u001b[A\n",
      " ... (more hidden) ...\u001b[A\n",
      " ... (more hidden) ...\u001b[A\n",
      " ... (more hidden) ...\u001b[A\n",
      " ... (more hidden) ...\u001b[A\n",
      " ... (more hidden) ...\u001b[A\n",
      " ... (more hidden) ...\u001b[A\n",
      " ... (more hidden) ...\u001b[A\n",
      " ... (more hidden) ...\u001b[A\n",
      " ... (more hidden) ...\u001b[A\n",
      " ... (more hidden) ...\u001b[A\n",
      " ... (more hidden) ...\u001b[A\n",
      " ... (more hidden) ...\u001b[A\n",
      " ... (more hidden) ...\u001b[A\n",
      " ... (more hidden) ...\u001b[A\n",
      " ... (more hidden) ...\u001b[A\n",
      " ... (more hidden) ...\u001b[A\n",
      " ... (more hidden) ...\u001b[A\n",
      " ... (more hidden) ...\u001b[A\n",
      " ... (more hidden) ...\u001b[A\n",
      " ... (more hidden) ...\u001b[A\n",
      " ... (more hidden) ...\u001b[A\n",
      " ... (more hidden) ...\u001b[A\n",
      " ... (more hidden) ...\u001b[A\n",
      " ... (more hidden) ...\u001b[A\n",
      " ... (more hidden) ...\u001b[A\n",
      " ... (more hidden) ...\u001b[A\n",
      " ... (more hidden) ...\u001b[A\n",
      "DR 1:  10%|███████████▎                                                                                                     | 3272/32768 [00:04<00:42, 688.64it/s]\n"
     ]
    },
    {
     "name": "stdout",
     "output_type": "stream",
     "text": [
      "Stopping at Epoch 3272\n",
      "DR 1 Number of samples:  torch.Size([6623, 2])\n",
      "DR 1 Predicted Gammas:  0.38087517 1.0 0.79159033\n"
     ]
    },
    {
     "name": "stderr",
     "output_type": "stream",
     "text": [
      "\n",
      " ... (more hidden) ...\u001b[A\n",
      " ... (more hidden) ...\u001b[A\n",
      " ... (more hidden) ...\u001b[A\n",
      "DR 2:   6%|██████████                                                                                                                                                      | 1025/16384 [00:00<00:04, 3171.00it/s]\n",
      "/opt/homebrew/lib/python3.11/site-packages/torch/optim/lr_scheduler.py:28: UserWarning: The verbose parameter is deprecated. Please use get_last_lr() to access the learning rate.\n",
      "  warnings.warn(\"The verbose parameter is deprecated. Please use get_last_lr() \"\n"
     ]
    },
    {
     "name": "stdout",
     "output_type": "stream",
     "text": [
      "Stopping at Epoch 1025\n",
      "AUC predicting P(win):\t\t\t\t 0.7109331911282909\n",
      "Estimated Utility\t Mean Error:\t\t\t 0.0027191213849562675\n",
      "Estimated Utility\t Mean Absolute Error:\t 0.34640563335335917\n"
     ]
    },
    {
     "name": "stderr",
     "output_type": "stream",
     "text": [
      "\n",
      " ... (more hidden) ...\u001b[A\n",
      " ... (more hidden) ...\u001b[A\n",
      " ... (more hidden) ...\u001b[A\n",
      " ... (more hidden) ...\u001b[A\n",
      " ... (more hidden) ...\u001b[A\n",
      " ... (more hidden) ...\u001b[A\n",
      " ... (more hidden) ...\u001b[A\n",
      " ... (more hidden) ...\u001b[A\n",
      " ... (more hidden) ...\u001b[A\n",
      " ... (more hidden) ...\u001b[A\n",
      " ... (more hidden) ...\u001b[A\n",
      " ... (more hidden) ...\u001b[A\n",
      " ... (more hidden) ...\u001b[A\n",
      " ... (more hidden) ...\u001b[A\n",
      " ... (more hidden) ...\u001b[A\n",
      "DR 2:  19%|██████████████████████████████                                                                                                                                  | 6157/32768 [00:01<00:06, 3944.66it/s]\n",
      "/opt/homebrew/lib/python3.11/site-packages/torch/optim/lr_scheduler.py:28: UserWarning: The verbose parameter is deprecated. Please use get_last_lr() to access the learning rate.\n",
      "  warnings.warn(\"The verbose parameter is deprecated. Please use get_last_lr() \"\n"
     ]
    },
    {
     "name": "stdout",
     "output_type": "stream",
     "text": [
      "Stopping at Epoch 6157\n",
      "AUC predicting P(win):\t\t\t\t 0.7255353312748958\n",
      "Estimated Utility\t Mean Error:\t\t\t 0.014197174719040712\n",
      "Estimated Utility\t Mean Absolute Error:\t 0.34908201850145626\n"
     ]
    },
    {
     "name": "stderr",
     "output_type": "stream",
     "text": [
      "\n",
      " ... (more hidden) ...\u001b[A\n",
      " ... (more hidden) ...\u001b[A\n",
      " ... (more hidden) ...\u001b[A\n",
      " ... (more hidden) ...\u001b[A\n",
      " ... (more hidden) ...\u001b[A\n",
      " ... (more hidden) ...\u001b[A\n",
      " ... (more hidden) ...\u001b[A\n",
      " ... (more hidden) ...\u001b[A\n",
      " ... (more hidden) ...\u001b[A\n",
      "DR 2:   2%|███▋                                                                                                                                                              | 741/32768 [00:01<01:04, 497.99it/s]\n"
     ]
    },
    {
     "name": "stdout",
     "output_type": "stream",
     "text": [
      "Stopping at Epoch 741\n",
      "DR 2 Number of samples:  torch.Size([6709, 2])\n",
      "DR 2 Predicted Gammas:  0.6550904 1.0 0.8851906\n"
     ]
    },
    {
     "name": "stderr",
     "output_type": "stream",
     "text": [
      "\n",
      " ... (more hidden) ...\u001b[A\n",
      " ... (more hidden) ...\u001b[A\n",
      "DR 3:   6%|██████████                                                                                                                                                      | 1025/16384 [00:00<00:04, 3810.05it/s]\n",
      "/opt/homebrew/lib/python3.11/site-packages/torch/optim/lr_scheduler.py:28: UserWarning: The verbose parameter is deprecated. Please use get_last_lr() to access the learning rate.\n",
      "  warnings.warn(\"The verbose parameter is deprecated. Please use get_last_lr() \"\n"
     ]
    },
    {
     "name": "stdout",
     "output_type": "stream",
     "text": [
      "Stopping at Epoch 1025\n",
      "AUC predicting P(win):\t\t\t\t 0.7871760404836236\n",
      "Estimated Utility\t Mean Error:\t\t\t -0.005590968904556743\n",
      "Estimated Utility\t Mean Absolute Error:\t 0.2607798325795341\n"
     ]
    },
    {
     "name": "stderr",
     "output_type": "stream",
     "text": [
      "\n",
      " ... (more hidden) ...\u001b[A\n",
      " ... (more hidden) ...\u001b[A\n",
      " ... (more hidden) ...\u001b[A\n",
      " ... (more hidden) ...\u001b[A\n",
      " ... (more hidden) ...\u001b[A\n",
      " ... (more hidden) ...\u001b[A\n",
      "DR 3:   8%|█████████████▍                                                                                                                                                  | 2762/32768 [00:00<00:07, 4047.61it/s]\n",
      "/opt/homebrew/lib/python3.11/site-packages/torch/optim/lr_scheduler.py:28: UserWarning: The verbose parameter is deprecated. Please use get_last_lr() to access the learning rate.\n",
      "  warnings.warn(\"The verbose parameter is deprecated. Please use get_last_lr() \"\n"
     ]
    },
    {
     "name": "stdout",
     "output_type": "stream",
     "text": [
      "Stopping at Epoch 2762\n",
      "AUC predicting P(win):\t\t\t\t 0.7981817026311795\n",
      "Estimated Utility\t Mean Error:\t\t\t -0.0009866512354412557\n",
      "Estimated Utility\t Mean Absolute Error:\t 0.2584927578893589\n"
     ]
    },
    {
     "name": "stderr",
     "output_type": "stream",
     "text": [
      "\n",
      " ... (more hidden) ...\u001b[A\n",
      " ... (more hidden) ...\u001b[A\n",
      " ... (more hidden) ...\u001b[A\n",
      " ... (more hidden) ...\u001b[A\n",
      " ... (more hidden) ...\u001b[A\n",
      " ... (more hidden) ...\u001b[A\n",
      " ... (more hidden) ...\u001b[A\n",
      " ... (more hidden) ...\u001b[A\n",
      " ... (more hidden) ...\u001b[A\n",
      " ... (more hidden) ...\u001b[A\n",
      " ... (more hidden) ...\u001b[A\n",
      " ... (more hidden) ...\u001b[A\n",
      " ... (more hidden) ...\u001b[A\n",
      " ... (more hidden) ...\u001b[A\n",
      " ... (more hidden) ...\u001b[A\n",
      " ... (more hidden) ...\u001b[A\n",
      " ... (more hidden) ...\u001b[A\n",
      " ... (more hidden) ...\u001b[A\n",
      " ... (more hidden) ...\u001b[A\n",
      " ... (more hidden) ...\u001b[A\n",
      " ... (more hidden) ...\u001b[A\n",
      " ... (more hidden) ...\u001b[A\n",
      " ... (more hidden) ...\u001b[A\n",
      " ... (more hidden) ...\u001b[A\n",
      " ... (more hidden) ...\u001b[A\n",
      " ... (more hidden) ...\u001b[A\n",
      " ... (more hidden) ...\u001b[A\n",
      " ... (more hidden) ...\u001b[A\n",
      " ... (more hidden) ...\u001b[A\n",
      " ... (more hidden) ...\u001b[A\n",
      " ... (more hidden) ...\u001b[A\n",
      " ... (more hidden) ...\u001b[A\n",
      " ... (more hidden) ...\u001b[A\n",
      " ... (more hidden) ...\u001b[A\n",
      " ... (more hidden) ...\u001b[A\n",
      " ... (more hidden) ...\u001b[A\n",
      " ... (more hidden) ...\u001b[A\n",
      "DR 3:   9%|██████████████▋                                                                                                                                                  | 2986/32768 [00:04<00:40, 726.86it/s]\n"
     ]
    },
    {
     "name": "stdout",
     "output_type": "stream",
     "text": [
      "Stopping at Epoch 2986\n",
      "DR 3 Number of samples:  torch.Size([6668, 2])\n",
      "DR 3 Predicted Gammas:  0.59252036 0.7951918 0.69600934\n"
     ]
    },
    {
     "name": "stderr",
     "output_type": "stream",
     "text": [
      "\n",
      " ... (more hidden) ...\u001b[A\n",
      " ... (more hidden) ...\u001b[A\n",
      " ... (more hidden) ...\u001b[A\n",
      " ... (more hidden) ...\u001b[A\n",
      "DR 1:   6%|██████████                                                                                                                                                      | 1025/16384 [00:00<00:07, 2148.63it/s]\n",
      "/opt/homebrew/lib/python3.11/site-packages/torch/optim/lr_scheduler.py:28: UserWarning: The verbose parameter is deprecated. Please use get_last_lr() to access the learning rate.\n",
      "  warnings.warn(\"The verbose parameter is deprecated. Please use get_last_lr() \"\n"
     ]
    },
    {
     "name": "stdout",
     "output_type": "stream",
     "text": [
      "Stopping at Epoch 1025\n",
      "AUC predicting P(win):\t\t\t\t 0.7286636392282625\n",
      "Estimated Utility\t Mean Error:\t\t\t 0.005449137234540548\n",
      "Estimated Utility\t Mean Absolute Error:\t 0.20067226196112356\n"
     ]
    },
    {
     "name": "stderr",
     "output_type": "stream",
     "text": [
      "\n",
      " ... (more hidden) ...\u001b[A\n",
      " ... (more hidden) ...\u001b[A\n",
      " ... (more hidden) ...\u001b[A\n",
      " ... (more hidden) ...\u001b[A\n",
      " ... (more hidden) ...\u001b[A\n",
      "DR 1:   6%|████████▉                                                                                                                                                       | 1826/32768 [00:00<00:08, 3488.79it/s]\n",
      "/opt/homebrew/lib/python3.11/site-packages/torch/optim/lr_scheduler.py:28: UserWarning: The verbose parameter is deprecated. Please use get_last_lr() to access the learning rate.\n",
      "  warnings.warn(\"The verbose parameter is deprecated. Please use get_last_lr() \"\n"
     ]
    },
    {
     "name": "stdout",
     "output_type": "stream",
     "text": [
      "Stopping at Epoch 1826\n",
      "AUC predicting P(win):\t\t\t\t 0.7388756596345535\n",
      "Estimated Utility\t Mean Error:\t\t\t 0.0038716805662073785\n",
      "Estimated Utility\t Mean Absolute Error:\t 0.199694554584837\n"
     ]
    },
    {
     "name": "stderr",
     "output_type": "stream",
     "text": [
      "\n",
      " ... (more hidden) ...\u001b[A\n",
      " ... (more hidden) ...\u001b[A\n",
      " ... (more hidden) ...\u001b[A\n",
      " ... (more hidden) ...\u001b[A\n",
      " ... (more hidden) ...\u001b[A\n",
      " ... (more hidden) ...\u001b[A\n",
      " ... (more hidden) ...\u001b[A\n",
      " ... (more hidden) ...\u001b[A\n",
      " ... (more hidden) ...\u001b[A\n",
      " ... (more hidden) ...\u001b[A\n",
      " ... (more hidden) ...\u001b[A\n",
      " ... (more hidden) ...\u001b[A\n",
      " ... (more hidden) ...\u001b[A\n",
      " ... (more hidden) ...\u001b[A\n",
      " ... (more hidden) ...\u001b[A\n",
      " ... (more hidden) ...\u001b[A\n",
      " ... (more hidden) ...\u001b[A\n",
      "DR 1:   4%|██████                                                                                                                                                           | 1235/32768 [00:01<00:45, 694.63it/s]\n"
     ]
    },
    {
     "name": "stdout",
     "output_type": "stream",
     "text": [
      "Stopping at Epoch 1235\n",
      "DR 1 Number of samples:  torch.Size([6646, 2])\n",
      "DR 1 Predicted Gammas:  0.4593222 1.0 0.82282144\n"
     ]
    },
    {
     "name": "stderr",
     "output_type": "stream",
     "text": [
      "\n",
      " ... (more hidden) ...\u001b[A\n",
      " ... (more hidden) ...\u001b[A\n",
      " ... (more hidden) ...\u001b[A\n",
      "DR 2:   6%|██████████                                                                                                                                                      | 1025/16384 [00:00<00:04, 3301.90it/s]\n",
      "/opt/homebrew/lib/python3.11/site-packages/torch/optim/lr_scheduler.py:28: UserWarning: The verbose parameter is deprecated. Please use get_last_lr() to access the learning rate.\n",
      "  warnings.warn(\"The verbose parameter is deprecated. Please use get_last_lr() \"\n"
     ]
    },
    {
     "name": "stdout",
     "output_type": "stream",
     "text": [
      "Stopping at Epoch 1025\n",
      "AUC predicting P(win):\t\t\t\t 0.7313989387760355\n",
      "Estimated Utility\t Mean Error:\t\t\t -0.0016890864627244723\n",
      "Estimated Utility\t Mean Absolute Error:\t 0.35380306987116167\n"
     ]
    },
    {
     "name": "stderr",
     "output_type": "stream",
     "text": [
      "\n",
      " ... (more hidden) ...\u001b[A\n",
      " ... (more hidden) ...\u001b[A\n",
      " ... (more hidden) ...\u001b[A\n",
      " ... (more hidden) ...\u001b[A\n",
      " ... (more hidden) ...\u001b[A\n",
      " ... (more hidden) ...\u001b[A\n",
      " ... (more hidden) ...\u001b[A\n",
      " ... (more hidden) ...\u001b[A\n",
      " ... (more hidden) ...\u001b[A\n",
      " ... (more hidden) ...\u001b[A\n",
      " ... (more hidden) ...\u001b[A\n",
      " ... (more hidden) ...\u001b[A\n",
      "DR 2:  16%|█████████████████████████▏                                                                                                                                      | 5154/32768 [00:01<00:06, 4094.09it/s]\n",
      "/opt/homebrew/lib/python3.11/site-packages/torch/optim/lr_scheduler.py:28: UserWarning: The verbose parameter is deprecated. Please use get_last_lr() to access the learning rate.\n",
      "  warnings.warn(\"The verbose parameter is deprecated. Please use get_last_lr() \"\n"
     ]
    },
    {
     "name": "stdout",
     "output_type": "stream",
     "text": [
      "Stopping at Epoch 5154\n",
      "AUC predicting P(win):\t\t\t\t 0.742111618571307\n",
      "Estimated Utility\t Mean Error:\t\t\t -0.003413654109122385\n",
      "Estimated Utility\t Mean Absolute Error:\t 0.35279090524662454\n"
     ]
    },
    {
     "name": "stderr",
     "output_type": "stream",
     "text": [
      "\n",
      " ... (more hidden) ...\u001b[A\n",
      " ... (more hidden) ...\u001b[A\n",
      " ... (more hidden) ...\u001b[A\n",
      " ... (more hidden) ...\u001b[A\n",
      " ... (more hidden) ...\u001b[A\n",
      " ... (more hidden) ...\u001b[A\n",
      " ... (more hidden) ...\u001b[A\n",
      " ... (more hidden) ...\u001b[A\n",
      " ... (more hidden) ...\u001b[A\n",
      " ... (more hidden) ...\u001b[A\n",
      " ... (more hidden) ...\u001b[A\n",
      " ... (more hidden) ...\u001b[A\n",
      " ... (more hidden) ...\u001b[A\n",
      " ... (more hidden) ...\u001b[A\n",
      " ... (more hidden) ...\u001b[A\n",
      " ... (more hidden) ...\u001b[A\n",
      "DR 2:   4%|█████▋                                                                                                                                                           | 1157/32768 [00:01<00:51, 612.90it/s]\n"
     ]
    },
    {
     "name": "stdout",
     "output_type": "stream",
     "text": [
      "Stopping at Epoch 1157\n",
      "DR 2 Number of samples:  torch.Size([6690, 2])\n",
      "DR 2 Predicted Gammas:  0.49112403 0.98382854 0.7787905\n"
     ]
    },
    {
     "name": "stderr",
     "output_type": "stream",
     "text": [
      "\n",
      " ... (more hidden) ...\u001b[A\n",
      " ... (more hidden) ...\u001b[A\n",
      " ... (more hidden) ...\u001b[A\n",
      "DR 3:   6%|██████████                                                                                                                                                      | 1025/16384 [00:00<00:04, 3343.58it/s]\n",
      "/opt/homebrew/lib/python3.11/site-packages/torch/optim/lr_scheduler.py:28: UserWarning: The verbose parameter is deprecated. Please use get_last_lr() to access the learning rate.\n",
      "  warnings.warn(\"The verbose parameter is deprecated. Please use get_last_lr() \"\n"
     ]
    },
    {
     "name": "stdout",
     "output_type": "stream",
     "text": [
      "Stopping at Epoch 1025\n",
      "AUC predicting P(win):\t\t\t\t 0.7938463089206897\n",
      "Estimated Utility\t Mean Error:\t\t\t -0.0003637140150819239\n",
      "Estimated Utility\t Mean Absolute Error:\t 0.27269014104287714\n"
     ]
    },
    {
     "name": "stderr",
     "output_type": "stream",
     "text": [
      "\n",
      " ... (more hidden) ...\u001b[A\n",
      " ... (more hidden) ...\u001b[A\n",
      " ... (more hidden) ...\u001b[A\n",
      " ... (more hidden) ...\u001b[A\n",
      " ... (more hidden) ...\u001b[A\n",
      " ... (more hidden) ...\u001b[A\n",
      "DR 3:   7%|███████████▍                                                                                                                                                    | 2340/32768 [00:00<00:08, 3591.40it/s]\n",
      "/opt/homebrew/lib/python3.11/site-packages/torch/optim/lr_scheduler.py:28: UserWarning: The verbose parameter is deprecated. Please use get_last_lr() to access the learning rate.\n",
      "  warnings.warn(\"The verbose parameter is deprecated. Please use get_last_lr() \"\n"
     ]
    },
    {
     "name": "stdout",
     "output_type": "stream",
     "text": [
      "Stopping at Epoch 2340\n",
      "AUC predicting P(win):\t\t\t\t 0.8018419019691735\n",
      "Estimated Utility\t Mean Error:\t\t\t -0.0063119979734848316\n",
      "Estimated Utility\t Mean Absolute Error:\t 0.2688100980079208\n"
     ]
    },
    {
     "name": "stderr",
     "output_type": "stream",
     "text": [
      "\n",
      " ... (more hidden) ...\u001b[A\n",
      " ... (more hidden) ...\u001b[A\n",
      " ... (more hidden) ...\u001b[A\n",
      " ... (more hidden) ...\u001b[A\n",
      " ... (more hidden) ...\u001b[A\n",
      " ... (more hidden) ...\u001b[A\n",
      " ... (more hidden) ...\u001b[A\n",
      " ... (more hidden) ...\u001b[A\n",
      " ... (more hidden) ...\u001b[A\n",
      " ... (more hidden) ...\u001b[A\n",
      " ... (more hidden) ...\u001b[A\n",
      " ... (more hidden) ...\u001b[A\n",
      " ... (more hidden) ...\u001b[A\n",
      " ... (more hidden) ...\u001b[A\n",
      " ... (more hidden) ...\u001b[A\n",
      " ... (more hidden) ...\u001b[A\n",
      " ... (more hidden) ...\u001b[A\n",
      " ... (more hidden) ...\u001b[A\n",
      " ... (more hidden) ...\u001b[A\n",
      " ... (more hidden) ...\u001b[A\n",
      " ... (more hidden) ...\u001b[A\n",
      " ... (more hidden) ...\u001b[A\n",
      " ... (more hidden) ...\u001b[A\n",
      " ... (more hidden) ...\u001b[A\n",
      " ... (more hidden) ...\u001b[A\n",
      " ... (more hidden) ...\u001b[A\n",
      " ... (more hidden) ...\u001b[A\n",
      " ... (more hidden) ...\u001b[A\n",
      " ... (more hidden) ...\u001b[A\n",
      " ... (more hidden) ...\u001b[A\n",
      " ... (more hidden) ...\u001b[A\n",
      " ... (more hidden) ...\u001b[A\n",
      "DR 3:   7%|███████████▋                                                                                                                                                     | 2379/32768 [00:03<00:44, 675.60it/s]\n"
     ]
    },
    {
     "name": "stdout",
     "output_type": "stream",
     "text": [
      "Stopping at Epoch 2379\n",
      "DR 3 Number of samples:  torch.Size([6664, 2])\n",
      "DR 3 Predicted Gammas:  0.5906691 0.7637133 0.67552334\n"
     ]
    },
    {
     "name": "stderr",
     "output_type": "stream",
     "text": [
      "\n",
      " ... (more hidden) ...\u001b[A\n",
      " ... (more hidden) ...\u001b[A\n",
      "DR 1:   6%|██████████                                                                                                                                                      | 1025/16384 [00:00<00:03, 3869.23it/s]\n",
      "/opt/homebrew/lib/python3.11/site-packages/torch/optim/lr_scheduler.py:28: UserWarning: The verbose parameter is deprecated. Please use get_last_lr() to access the learning rate.\n",
      "  warnings.warn(\"The verbose parameter is deprecated. Please use get_last_lr() \"\n"
     ]
    },
    {
     "name": "stdout",
     "output_type": "stream",
     "text": [
      "Stopping at Epoch 1025\n",
      "AUC predicting P(win):\t\t\t\t 0.8075474879069657\n",
      "Estimated Utility\t Mean Error:\t\t\t 0.0024450158971127357\n",
      "Estimated Utility\t Mean Absolute Error:\t 0.21876171813101639\n"
     ]
    },
    {
     "name": "stderr",
     "output_type": "stream",
     "text": [
      "\n",
      " ... (more hidden) ...\u001b[A\n",
      " ... (more hidden) ...\u001b[A\n",
      " ... (more hidden) ...\u001b[A\n",
      " ... (more hidden) ...\u001b[A\n",
      " ... (more hidden) ...\u001b[A\n",
      " ... (more hidden) ...\u001b[A\n",
      " ... (more hidden) ...\u001b[A\n",
      "DR 1:   9%|█████████████▋                                                                                                                                                  | 2799/32768 [00:00<00:07, 3746.86it/s]\n",
      "/opt/homebrew/lib/python3.11/site-packages/torch/optim/lr_scheduler.py:28: UserWarning: The verbose parameter is deprecated. Please use get_last_lr() to access the learning rate.\n",
      "  warnings.warn(\"The verbose parameter is deprecated. Please use get_last_lr() \"\n"
     ]
    },
    {
     "name": "stdout",
     "output_type": "stream",
     "text": [
      "Stopping at Epoch 2799\n",
      "AUC predicting P(win):\t\t\t\t 0.8294670754669907\n",
      "Estimated Utility\t Mean Error:\t\t\t 0.007709367238883008\n",
      "Estimated Utility\t Mean Absolute Error:\t 0.21856210896343425\n"
     ]
    },
    {
     "name": "stderr",
     "output_type": "stream",
     "text": [
      "\n",
      " ... (more hidden) ...\u001b[A\n",
      " ... (more hidden) ...\u001b[A\n",
      " ... (more hidden) ...\u001b[A\n",
      " ... (more hidden) ...\u001b[A\n",
      " ... (more hidden) ...\u001b[A\n",
      " ... (more hidden) ...\u001b[A\n",
      " ... (more hidden) ...\u001b[A\n",
      " ... (more hidden) ...\u001b[A\n",
      " ... (more hidden) ...\u001b[A\n",
      " ... (more hidden) ...\u001b[A\n",
      " ... (more hidden) ...\u001b[A\n",
      " ... (more hidden) ...\u001b[A\n",
      " ... (more hidden) ...\u001b[A\n",
      " ... (more hidden) ...\u001b[A\n",
      " ... (more hidden) ...\u001b[A\n",
      " ... (more hidden) ...\u001b[A\n",
      " ... (more hidden) ...\u001b[A\n",
      " ... (more hidden) ...\u001b[A\n",
      " ... (more hidden) ...\u001b[A\n",
      " ... (more hidden) ...\u001b[A\n",
      " ... (more hidden) ...\u001b[A\n",
      " ... (more hidden) ...\u001b[A\n",
      " ... (more hidden) ...\u001b[A\n",
      " ... (more hidden) ...\u001b[A\n",
      " ... (more hidden) ...\u001b[A\n",
      " ... (more hidden) ...\u001b[A\n",
      " ... (more hidden) ...\u001b[A\n",
      " ... (more hidden) ...\u001b[A\n",
      " ... (more hidden) ...\u001b[A\n",
      " ... (more hidden) ...\u001b[A\n",
      " ... (more hidden) ...\u001b[A\n",
      " ... (more hidden) ...\u001b[A\n",
      " ... (more hidden) ...\u001b[A\n",
      " ... (more hidden) ...\u001b[A\n",
      " ... (more hidden) ...\u001b[A\n",
      " ... (more hidden) ...\u001b[A\n",
      " ... (more hidden) ...\u001b[A\n",
      " ... (more hidden) ...\u001b[A\n",
      " ... (more hidden) ...\u001b[A\n",
      " ... (more hidden) ...\u001b[A\n",
      " ... (more hidden) ...\u001b[A\n",
      " ... (more hidden) ...\u001b[A\n",
      " ... (more hidden) ...\u001b[A\n",
      " ... (more hidden) ...\u001b[A\n",
      " ... (more hidden) ...\u001b[A\n",
      " ... (more hidden) ...\u001b[A\n",
      " ... (more hidden) ...\u001b[A\n",
      " ... (more hidden) ...\u001b[A\n",
      " ... (more hidden) ...\u001b[A\n",
      " ... (more hidden) ...\u001b[A\n",
      " ... (more hidden) ...\u001b[A\n",
      " ... (more hidden) ...\u001b[A\n",
      " ... (more hidden) ...\u001b[A\n",
      " ... (more hidden) ...\u001b[A\n",
      " ... (more hidden) ...\u001b[A\n",
      " ... (more hidden) ...\u001b[A\n",
      " ... (more hidden) ...\u001b[A\n",
      " ... (more hidden) ...\u001b[A\n",
      " ... (more hidden) ...\u001b[A\n",
      " ... (more hidden) ...\u001b[A\n",
      " ... (more hidden) ...\u001b[A\n",
      " ... (more hidden) ...\u001b[A\n",
      " ... (more hidden) ...\u001b[A\n",
      " ... (more hidden) ...\u001b[A\n",
      "DR 1:  16%|█████████████████████████▌                                                                                                                                       | 5193/32768 [00:06<00:35, 775.47it/s]\n"
     ]
    },
    {
     "name": "stdout",
     "output_type": "stream",
     "text": [
      "Stopping at Epoch 5193\n",
      "DR 1 Number of samples:  torch.Size([6676, 2])\n",
      "DR 1 Predicted Gammas:  0.496358 1.0 0.8444754\n"
     ]
    },
    {
     "name": "stderr",
     "output_type": "stream",
     "text": [
      "\n",
      " ... (more hidden) ...\u001b[A\n",
      " ... (more hidden) ...\u001b[A\n",
      "DR 2:   6%|██████████                                                                                                                                                      | 1025/16384 [00:00<00:04, 3447.72it/s]\n",
      "/opt/homebrew/lib/python3.11/site-packages/torch/optim/lr_scheduler.py:28: UserWarning: The verbose parameter is deprecated. Please use get_last_lr() to access the learning rate.\n",
      "  warnings.warn(\"The verbose parameter is deprecated. Please use get_last_lr() \"\n"
     ]
    },
    {
     "name": "stdout",
     "output_type": "stream",
     "text": [
      "Stopping at Epoch 1025\n",
      "AUC predicting P(win):\t\t\t\t 0.6343045554190851\n",
      "Estimated Utility\t Mean Error:\t\t\t 0.00878147788290012\n",
      "Estimated Utility\t Mean Absolute Error:\t 0.30956158101003695\n"
     ]
    },
    {
     "name": "stderr",
     "output_type": "stream",
     "text": [
      "\n",
      " ... (more hidden) ...\u001b[A\n",
      " ... (more hidden) ...\u001b[A\n",
      " ... (more hidden) ...\u001b[A\n",
      " ... (more hidden) ...\u001b[A\n",
      " ... (more hidden) ...\u001b[A\n",
      " ... (more hidden) ...\u001b[A\n",
      " ... (more hidden) ...\u001b[A\n",
      " ... (more hidden) ...\u001b[A\n",
      " ... (more hidden) ...\u001b[A\n",
      " ... (more hidden) ...\u001b[A\n",
      "DR 2:  13%|████████████████████▎                                                                                                                                           | 4152/32768 [00:01<00:07, 4019.30it/s]\n",
      "/opt/homebrew/lib/python3.11/site-packages/torch/optim/lr_scheduler.py:28: UserWarning: The verbose parameter is deprecated. Please use get_last_lr() to access the learning rate.\n",
      "  warnings.warn(\"The verbose parameter is deprecated. Please use get_last_lr() \"\n"
     ]
    },
    {
     "name": "stdout",
     "output_type": "stream",
     "text": [
      "Stopping at Epoch 4152\n",
      "AUC predicting P(win):\t\t\t\t 0.6338429293945871\n",
      "Estimated Utility\t Mean Error:\t\t\t 0.014675697464889849\n",
      "Estimated Utility\t Mean Absolute Error:\t 0.31339550791736986\n"
     ]
    },
    {
     "name": "stderr",
     "output_type": "stream",
     "text": [
      "\n",
      " ... (more hidden) ...\u001b[A\n",
      " ... (more hidden) ...\u001b[A\n",
      " ... (more hidden) ...\u001b[A\n",
      " ... (more hidden) ...\u001b[A\n",
      " ... (more hidden) ...\u001b[A\n",
      " ... (more hidden) ...\u001b[A\n",
      " ... (more hidden) ...\u001b[A\n",
      " ... (more hidden) ...\u001b[A\n",
      " ... (more hidden) ...\u001b[A\n",
      " ... (more hidden) ...\u001b[A\n",
      " ... (more hidden) ...\u001b[A\n",
      " ... (more hidden) ...\u001b[A\n",
      " ... (more hidden) ...\u001b[A\n",
      " ... (more hidden) ...\u001b[A\n",
      " ... (more hidden) ...\u001b[A\n",
      " ... (more hidden) ...\u001b[A\n",
      " ... (more hidden) ...\u001b[A\n",
      " ... (more hidden) ...\u001b[A\n",
      " ... (more hidden) ...\u001b[A\n",
      " ... (more hidden) ...\u001b[A\n",
      " ... (more hidden) ...\u001b[A\n",
      " ... (more hidden) ...\u001b[A\n",
      " ... (more hidden) ...\u001b[A\n",
      " ... (more hidden) ...\u001b[A\n",
      " ... (more hidden) ...\u001b[A\n",
      " ... (more hidden) ...\u001b[A\n",
      " ... (more hidden) ...\u001b[A\n",
      " ... (more hidden) ...\u001b[A\n",
      " ... (more hidden) ...\u001b[A\n",
      " ... (more hidden) ...\u001b[A\n",
      " ... (more hidden) ...\u001b[A\n",
      " ... (more hidden) ...\u001b[A\n",
      " ... (more hidden) ...\u001b[A\n",
      " ... (more hidden) ...\u001b[A\n",
      " ... (more hidden) ...\u001b[A\n",
      " ... (more hidden) ...\u001b[A\n",
      " ... (more hidden) ...\u001b[A\n",
      " ... (more hidden) ...\u001b[A\n",
      " ... (more hidden) ...\u001b[A\n",
      " ... (more hidden) ...\u001b[A\n",
      " ... (more hidden) ...\u001b[A\n",
      " ... (more hidden) ...\u001b[A\n",
      " ... (more hidden) ...\u001b[A\n",
      " ... (more hidden) ...\u001b[A\n",
      " ... (more hidden) ...\u001b[A\n",
      " ... (more hidden) ...\u001b[A\n",
      " ... (more hidden) ...\u001b[A\n",
      " ... (more hidden) ...\u001b[A\n",
      " ... (more hidden) ...\u001b[A\n",
      " ... (more hidden) ...\u001b[A\n",
      " ... (more hidden) ...\u001b[A\n",
      " ... (more hidden) ...\u001b[A\n",
      " ... (more hidden) ...\u001b[A\n",
      " ... (more hidden) ...\u001b[A\n",
      " ... (more hidden) ...\u001b[A\n",
      " ... (more hidden) ...\u001b[A\n",
      " ... (more hidden) ...\u001b[A\n",
      " ... (more hidden) ...\u001b[A\n",
      " ... (more hidden) ...\u001b[A\n",
      " ... (more hidden) ...\u001b[A\n",
      " ... (more hidden) ...\u001b[A\n",
      " ... (more hidden) ...\u001b[A\n",
      " ... (more hidden) ...\u001b[A\n",
      " ... (more hidden) ...\u001b[A\n",
      " ... (more hidden) ...\u001b[A\n",
      " ... (more hidden) ...\u001b[A\n",
      " ... (more hidden) ...\u001b[A\n",
      " ... (more hidden) ...\u001b[A\n",
      " ... (more hidden) ...\u001b[A\n",
      " ... (more hidden) ...\u001b[A\n",
      " ... (more hidden) ...\u001b[A\n",
      " ... (more hidden) ...\u001b[A\n",
      " ... (more hidden) ...\u001b[A\n",
      " ... (more hidden) ...\u001b[A\n",
      " ... (more hidden) ...\u001b[A\n",
      " ... (more hidden) ...\u001b[A\n",
      " ... (more hidden) ...\u001b[A\n",
      " ... (more hidden) ...\u001b[A\n",
      " ... (more hidden) ...\u001b[A\n",
      " ... (more hidden) ...\u001b[A\n",
      " ... (more hidden) ...\u001b[A\n",
      " ... (more hidden) ...\u001b[A\n",
      " ... (more hidden) ...\u001b[A\n",
      " ... (more hidden) ...\u001b[A\n",
      " ... (more hidden) ...\u001b[A\n",
      " ... (more hidden) ...\u001b[A\n",
      " ... (more hidden) ...\u001b[A\n",
      " ... (more hidden) ...\u001b[A\n",
      " ... (more hidden) ...\u001b[A\n",
      " ... (more hidden) ...\u001b[A\n",
      " ... (more hidden) ...\u001b[A\n",
      "DR 2:  22%|██████████████████████████████████▋                                                                                                                              | 7048/32768 [00:09<00:36, 709.86it/s]\n"
     ]
    },
    {
     "name": "stdout",
     "output_type": "stream",
     "text": [
      "Stopping at Epoch 7048\n",
      "DR 2 Number of samples:  torch.Size([6676, 2])\n",
      "DR 2 Predicted Gammas:  0.54874086 0.978434 0.8083006\n"
     ]
    },
    {
     "name": "stderr",
     "output_type": "stream",
     "text": [
      "\n",
      " ... (more hidden) ...\u001b[A\n",
      " ... (more hidden) ...\u001b[A\n",
      "DR 3:   6%|██████████                                                                                                                                                      | 1025/16384 [00:00<00:03, 3989.41it/s]\n",
      "/opt/homebrew/lib/python3.11/site-packages/torch/optim/lr_scheduler.py:28: UserWarning: The verbose parameter is deprecated. Please use get_last_lr() to access the learning rate.\n",
      "  warnings.warn(\"The verbose parameter is deprecated. Please use get_last_lr() \"\n"
     ]
    },
    {
     "name": "stdout",
     "output_type": "stream",
     "text": [
      "Stopping at Epoch 1025\n",
      "AUC predicting P(win):\t\t\t\t 0.8277341093076083\n",
      "Estimated Utility\t Mean Error:\t\t\t -0.008529650166707151\n",
      "Estimated Utility\t Mean Absolute Error:\t 0.2792157495165087\n"
     ]
    },
    {
     "name": "stderr",
     "output_type": "stream",
     "text": [
      "\n",
      " ... (more hidden) ...\u001b[A\n",
      " ... (more hidden) ...\u001b[A\n",
      " ... (more hidden) ...\u001b[A\n",
      " ... (more hidden) ...\u001b[A\n",
      " ... (more hidden) ...\u001b[A\n",
      "DR 3:   6%|█████████▊                                                                                                                                                      | 2014/32768 [00:00<00:08, 3685.24it/s]\n",
      "/opt/homebrew/lib/python3.11/site-packages/torch/optim/lr_scheduler.py:28: UserWarning: The verbose parameter is deprecated. Please use get_last_lr() to access the learning rate.\n",
      "  warnings.warn(\"The verbose parameter is deprecated. Please use get_last_lr() \"\n"
     ]
    },
    {
     "name": "stdout",
     "output_type": "stream",
     "text": [
      "Stopping at Epoch 2014\n",
      "AUC predicting P(win):\t\t\t\t 0.8285282625580009\n",
      "Estimated Utility\t Mean Error:\t\t\t 0.0016593944974476562\n",
      "Estimated Utility\t Mean Absolute Error:\t 0.2825422941418347\n"
     ]
    },
    {
     "name": "stderr",
     "output_type": "stream",
     "text": [
      "\n",
      " ... (more hidden) ...\u001b[A\n",
      " ... (more hidden) ...\u001b[A\n",
      " ... (more hidden) ...\u001b[A\n",
      " ... (more hidden) ...\u001b[A\n",
      " ... (more hidden) ...\u001b[A\n",
      " ... (more hidden) ...\u001b[A\n",
      " ... (more hidden) ...\u001b[A\n",
      " ... (more hidden) ...\u001b[A\n",
      " ... (more hidden) ...\u001b[A\n",
      " ... (more hidden) ...\u001b[A\n",
      " ... (more hidden) ...\u001b[A\n",
      " ... (more hidden) ...\u001b[A\n",
      " ... (more hidden) ...\u001b[A\n",
      " ... (more hidden) ...\u001b[A\n",
      " ... (more hidden) ...\u001b[A\n",
      " ... (more hidden) ...\u001b[A\n",
      " ... (more hidden) ...\u001b[A\n",
      " ... (more hidden) ...\u001b[A\n",
      " ... (more hidden) ...\u001b[A\n",
      " ... (more hidden) ...\u001b[A\n",
      " ... (more hidden) ...\u001b[A\n",
      " ... (more hidden) ...\u001b[A\n",
      " ... (more hidden) ...\u001b[A\n",
      " ... (more hidden) ...\u001b[A\n",
      " ... (more hidden) ...\u001b[A\n",
      " ... (more hidden) ...\u001b[A\n",
      " ... (more hidden) ...\u001b[A\n",
      " ... (more hidden) ...\u001b[A\n",
      " ... (more hidden) ...\u001b[A\n",
      " ... (more hidden) ...\u001b[A\n",
      " ... (more hidden) ...\u001b[A\n",
      " ... (more hidden) ...\u001b[A\n",
      " ... (more hidden) ...\u001b[A\n",
      " ... (more hidden) ...\u001b[A\n",
      " ... (more hidden) ...\u001b[A\n",
      " ... (more hidden) ...\u001b[A\n",
      " ... (more hidden) ...\u001b[A\n",
      " ... (more hidden) ...\u001b[A\n",
      " ... (more hidden) ...\u001b[A\n",
      " ... (more hidden) ...\u001b[A\n",
      " ... (more hidden) ...\u001b[A\n",
      "DR 3:  10%|████████████████▊                                                                                                                                                | 3415/32768 [00:04<00:36, 812.12it/s]\n"
     ]
    },
    {
     "name": "stdout",
     "output_type": "stream",
     "text": [
      "Stopping at Epoch 3415\n",
      "DR 3 Number of samples:  torch.Size([6648, 2])\n",
      "DR 3 Predicted Gammas:  0.48659092 0.8070864 0.6406273\n"
     ]
    },
    {
     "name": "stderr",
     "output_type": "stream",
     "text": [
      "\n",
      " ... (more hidden) ...\u001b[A\n",
      " ... (more hidden) ...\u001b[A\n",
      "DR 1:   6%|██████████                                                                                                                                                      | 1025/16384 [00:00<00:03, 4103.89it/s]\n",
      "/opt/homebrew/lib/python3.11/site-packages/torch/optim/lr_scheduler.py:28: UserWarning: The verbose parameter is deprecated. Please use get_last_lr() to access the learning rate.\n",
      "  warnings.warn(\"The verbose parameter is deprecated. Please use get_last_lr() \"\n"
     ]
    },
    {
     "name": "stdout",
     "output_type": "stream",
     "text": [
      "Stopping at Epoch 1025\n",
      "AUC predicting P(win):\t\t\t\t 0.8607846690660388\n",
      "Estimated Utility\t Mean Error:\t\t\t -0.007863333227921314\n",
      "Estimated Utility\t Mean Absolute Error:\t 0.23007790276703083\n"
     ]
    },
    {
     "name": "stderr",
     "output_type": "stream",
     "text": [
      "\n",
      " ... (more hidden) ...\u001b[A\n",
      " ... (more hidden) ...\u001b[A\n",
      " ... (more hidden) ...\u001b[A\n",
      " ... (more hidden) ...\u001b[A\n",
      " ... (more hidden) ...\u001b[A\n",
      " ... (more hidden) ...\u001b[A\n",
      " ... (more hidden) ...\u001b[A\n",
      " ... (more hidden) ...\u001b[A\n",
      " ... (more hidden) ...\u001b[A\n",
      " ... (more hidden) ...\u001b[A\n",
      " ... (more hidden) ...\u001b[A\n",
      "DR 1:  14%|██████████████████████                                                                                                                                          | 4507/32768 [00:01<00:07, 3850.68it/s]\n",
      "/opt/homebrew/lib/python3.11/site-packages/torch/optim/lr_scheduler.py:28: UserWarning: The verbose parameter is deprecated. Please use get_last_lr() to access the learning rate.\n",
      "  warnings.warn(\"The verbose parameter is deprecated. Please use get_last_lr() \"\n"
     ]
    },
    {
     "name": "stdout",
     "output_type": "stream",
     "text": [
      "Stopping at Epoch 4507\n",
      "AUC predicting P(win):\t\t\t\t 0.8598013832670872\n",
      "Estimated Utility\t Mean Error:\t\t\t -0.005773900150993785\n",
      "Estimated Utility\t Mean Absolute Error:\t 0.22942628259086775\n"
     ]
    },
    {
     "name": "stderr",
     "output_type": "stream",
     "text": [
      "\n",
      " ... (more hidden) ...\u001b[A\n",
      " ... (more hidden) ...\u001b[A\n",
      " ... (more hidden) ...\u001b[A\n",
      " ... (more hidden) ...\u001b[A\n",
      " ... (more hidden) ...\u001b[A\n",
      " ... (more hidden) ...\u001b[A\n",
      " ... (more hidden) ...\u001b[A\n",
      " ... (more hidden) ...\u001b[A\n",
      " ... (more hidden) ...\u001b[A\n",
      " ... (more hidden) ...\u001b[A\n",
      " ... (more hidden) ...\u001b[A\n",
      " ... (more hidden) ...\u001b[A\n",
      " ... (more hidden) ...\u001b[A\n",
      " ... (more hidden) ...\u001b[A\n",
      " ... (more hidden) ...\u001b[A\n",
      " ... (more hidden) ...\u001b[A\n",
      " ... (more hidden) ...\u001b[A\n",
      " ... (more hidden) ...\u001b[A\n",
      " ... (more hidden) ...\u001b[A\n",
      " ... (more hidden) ...\u001b[A\n",
      " ... (more hidden) ...\u001b[A\n",
      " ... (more hidden) ...\u001b[A\n",
      " ... (more hidden) ...\u001b[A\n",
      " ... (more hidden) ...\u001b[A\n",
      " ... (more hidden) ...\u001b[A\n",
      " ... (more hidden) ...\u001b[A\n",
      " ... (more hidden) ...\u001b[A\n",
      " ... (more hidden) ...\u001b[A\n",
      " ... (more hidden) ...\u001b[A\n",
      " ... (more hidden) ...\u001b[A\n",
      " ... (more hidden) ...\u001b[A\n",
      " ... (more hidden) ...\u001b[A\n",
      " ... (more hidden) ...\u001b[A\n",
      " ... (more hidden) ...\u001b[A\n",
      " ... (more hidden) ...\u001b[A\n",
      " ... (more hidden) ...\u001b[A\n",
      " ... (more hidden) ...\u001b[A\n",
      " ... (more hidden) ...\u001b[A\n",
      " ... (more hidden) ...\u001b[A\n",
      " ... (more hidden) ...\u001b[A\n",
      " ... (more hidden) ...\u001b[A\n",
      " ... (more hidden) ...\u001b[A\n",
      " ... (more hidden) ...\u001b[A\n",
      " ... (more hidden) ...\u001b[A\n",
      " ... (more hidden) ...\u001b[A\n",
      " ... (more hidden) ...\u001b[A\n",
      " ... (more hidden) ...\u001b[A\n",
      " ... (more hidden) ...\u001b[A\n",
      " ... (more hidden) ...\u001b[A\n",
      " ... (more hidden) ...\u001b[A\n",
      " ... (more hidden) ...\u001b[A\n",
      " ... (more hidden) ...\u001b[A\n",
      " ... (more hidden) ...\u001b[A\n",
      " ... (more hidden) ...\u001b[A\n",
      " ... (more hidden) ...\u001b[A\n",
      " ... (more hidden) ...\u001b[A\n",
      " ... (more hidden) ...\u001b[A\n",
      " ... (more hidden) ...\u001b[A\n",
      "DR 1:  14%|██████████████████████▊                                                                                                                                          | 4640/32768 [00:06<00:36, 765.12it/s]\n"
     ]
    },
    {
     "name": "stdout",
     "output_type": "stream",
     "text": [
      "Stopping at Epoch 4640\n",
      "DR 1 Number of samples:  torch.Size([6611, 2])\n",
      "DR 1 Predicted Gammas:  0.44695997 1.0 0.8421987\n"
     ]
    },
    {
     "name": "stderr",
     "output_type": "stream",
     "text": [
      "\n",
      " ... (more hidden) ...\u001b[A\n",
      " ... (more hidden) ...\u001b[A\n",
      "DR 2:   6%|██████████                                                                                                                                                      | 1025/16384 [00:00<00:04, 3570.36it/s]\n",
      "/opt/homebrew/lib/python3.11/site-packages/torch/optim/lr_scheduler.py:28: UserWarning: The verbose parameter is deprecated. Please use get_last_lr() to access the learning rate.\n",
      "  warnings.warn(\"The verbose parameter is deprecated. Please use get_last_lr() \"\n"
     ]
    },
    {
     "name": "stdout",
     "output_type": "stream",
     "text": [
      "Stopping at Epoch 1025\n",
      "AUC predicting P(win):\t\t\t\t 0.6276759864309817\n",
      "Estimated Utility\t Mean Error:\t\t\t -0.0015143456131282047\n",
      "Estimated Utility\t Mean Absolute Error:\t 0.3196282041142009\n"
     ]
    },
    {
     "name": "stderr",
     "output_type": "stream",
     "text": [
      "\n",
      " ... (more hidden) ...\u001b[A\n",
      " ... (more hidden) ...\u001b[A\n",
      " ... (more hidden) ...\u001b[A\n",
      " ... (more hidden) ...\u001b[A\n",
      " ... (more hidden) ...\u001b[A\n",
      "DR 2:   7%|███████████▍                                                                                                                                                    | 2349/32768 [00:00<00:07, 3984.51it/s]\n",
      "/opt/homebrew/lib/python3.11/site-packages/torch/optim/lr_scheduler.py:28: UserWarning: The verbose parameter is deprecated. Please use get_last_lr() to access the learning rate.\n",
      "  warnings.warn(\"The verbose parameter is deprecated. Please use get_last_lr() \"\n"
     ]
    },
    {
     "name": "stdout",
     "output_type": "stream",
     "text": [
      "Stopping at Epoch 2349\n",
      "AUC predicting P(win):\t\t\t\t 0.6432435444416192\n",
      "Estimated Utility\t Mean Error:\t\t\t -0.002591265089231748\n",
      "Estimated Utility\t Mean Absolute Error:\t 0.3186664516883136\n"
     ]
    },
    {
     "name": "stderr",
     "output_type": "stream",
     "text": [
      "\n",
      " ... (more hidden) ...\u001b[A\n",
      " ... (more hidden) ...\u001b[A\n",
      " ... (more hidden) ...\u001b[A\n",
      " ... (more hidden) ...\u001b[A\n",
      " ... (more hidden) ...\u001b[A\n",
      " ... (more hidden) ...\u001b[A\n",
      " ... (more hidden) ...\u001b[A\n",
      " ... (more hidden) ...\u001b[A\n",
      " ... (more hidden) ...\u001b[A\n",
      " ... (more hidden) ...\u001b[A\n",
      " ... (more hidden) ...\u001b[A\n",
      " ... (more hidden) ...\u001b[A\n",
      " ... (more hidden) ...\u001b[A\n",
      " ... (more hidden) ...\u001b[A\n",
      " ... (more hidden) ...\u001b[A\n",
      " ... (more hidden) ...\u001b[A\n",
      " ... (more hidden) ...\u001b[A\n",
      " ... (more hidden) ...\u001b[A\n",
      " ... (more hidden) ...\u001b[A\n",
      " ... (more hidden) ...\u001b[A\n",
      " ... (more hidden) ...\u001b[A\n",
      " ... (more hidden) ...\u001b[A\n",
      " ... (more hidden) ...\u001b[A\n",
      " ... (more hidden) ...\u001b[A\n",
      " ... (more hidden) ...\u001b[A\n",
      " ... (more hidden) ...\u001b[A\n",
      " ... (more hidden) ...\u001b[A\n",
      " ... (more hidden) ...\u001b[A\n",
      " ... (more hidden) ...\u001b[A\n",
      " ... (more hidden) ...\u001b[A\n",
      " ... (more hidden) ...\u001b[A\n",
      " ... (more hidden) ...\u001b[A\n",
      " ... (more hidden) ...\u001b[A\n",
      " ... (more hidden) ...\u001b[A\n",
      " ... (more hidden) ...\u001b[A\n",
      " ... (more hidden) ...\u001b[A\n",
      " ... (more hidden) ...\u001b[A\n",
      " ... (more hidden) ...\u001b[A\n",
      " ... (more hidden) ...\u001b[A\n",
      " ... (more hidden) ...\u001b[A\n",
      " ... (more hidden) ...\u001b[A\n",
      " ... (more hidden) ...\u001b[A\n",
      " ... (more hidden) ...\u001b[A\n",
      " ... (more hidden) ...\u001b[A\n",
      " ... (more hidden) ...\u001b[A\n",
      " ... (more hidden) ...\u001b[A\n",
      " ... (more hidden) ...\u001b[A\n",
      " ... (more hidden) ...\u001b[A\n",
      " ... (more hidden) ...\u001b[A\n",
      " ... (more hidden) ...\u001b[A\n",
      " ... (more hidden) ...\u001b[A\n",
      " ... (more hidden) ...\u001b[A\n",
      " ... (more hidden) ...\u001b[A\n",
      " ... (more hidden) ...\u001b[A\n",
      " ... (more hidden) ...\u001b[A\n",
      " ... (more hidden) ...\u001b[A\n",
      " ... (more hidden) ...\u001b[A\n",
      " ... (more hidden) ...\u001b[A\n",
      " ... (more hidden) ...\u001b[A\n",
      " ... (more hidden) ...\u001b[A\n",
      " ... (more hidden) ...\u001b[A\n",
      " ... (more hidden) ...\u001b[A\n",
      " ... (more hidden) ...\u001b[A\n",
      " ... (more hidden) ...\u001b[A\n",
      " ... (more hidden) ...\u001b[A\n",
      " ... (more hidden) ...\u001b[A\n",
      " ... (more hidden) ...\u001b[A\n",
      " ... (more hidden) ...\u001b[A\n",
      " ... (more hidden) ...\u001b[A\n",
      " ... (more hidden) ...\u001b[A\n",
      " ... (more hidden) ...\u001b[A\n",
      " ... (more hidden) ...\u001b[A\n",
      " ... (more hidden) ...\u001b[A\n",
      " ... (more hidden) ...\u001b[A\n",
      " ... (more hidden) ...\u001b[A\n",
      " ... (more hidden) ...\u001b[A\n",
      " ... (more hidden) ...\u001b[A\n",
      " ... (more hidden) ...\u001b[A\n",
      " ... (more hidden) ...\u001b[A\n",
      " ... (more hidden) ...\u001b[A\n",
      " ... (more hidden) ...\u001b[A\n",
      " ... (more hidden) ...\u001b[A\n",
      " ... (more hidden) ...\u001b[A\n",
      " ... (more hidden) ...\u001b[A\n",
      "DR 2:  21%|█████████████████████████████████▏                                                                                                                               | 6760/32768 [00:08<00:34, 754.16it/s]\n"
     ]
    },
    {
     "name": "stdout",
     "output_type": "stream",
     "text": [
      "Stopping at Epoch 6760\n",
      "DR 2 Number of samples:  torch.Size([6776, 2])\n",
      "DR 2 Predicted Gammas:  0.5373567 1.0 0.81909937\n"
     ]
    },
    {
     "name": "stderr",
     "output_type": "stream",
     "text": [
      "\n",
      " ... (more hidden) ...\u001b[A\n",
      " ... (more hidden) ...\u001b[A\n",
      "DR 3:   6%|██████████                                                                                                                                                      | 1025/16384 [00:00<00:03, 4145.65it/s]\n",
      "/opt/homebrew/lib/python3.11/site-packages/torch/optim/lr_scheduler.py:28: UserWarning: The verbose parameter is deprecated. Please use get_last_lr() to access the learning rate.\n",
      "  warnings.warn(\"The verbose parameter is deprecated. Please use get_last_lr() \"\n"
     ]
    },
    {
     "name": "stdout",
     "output_type": "stream",
     "text": [
      "Stopping at Epoch 1025\n",
      "AUC predicting P(win):\t\t\t\t 0.7589585000244556\n",
      "Estimated Utility\t Mean Error:\t\t\t 0.0024667364983237453\n",
      "Estimated Utility\t Mean Absolute Error:\t 0.27742114922677447\n"
     ]
    },
    {
     "name": "stderr",
     "output_type": "stream",
     "text": [
      "\n",
      " ... (more hidden) ...\u001b[A\n",
      " ... (more hidden) ...\u001b[A\n",
      " ... (more hidden) ...\u001b[A\n",
      " ... (more hidden) ...\u001b[A\n",
      "DR 3:   6%|█████████▋                                                                                                                                                      | 1982/32768 [00:00<00:07, 4009.10it/s]\n",
      "/opt/homebrew/lib/python3.11/site-packages/torch/optim/lr_scheduler.py:28: UserWarning: The verbose parameter is deprecated. Please use get_last_lr() to access the learning rate.\n",
      "  warnings.warn(\"The verbose parameter is deprecated. Please use get_last_lr() \"\n"
     ]
    },
    {
     "name": "stdout",
     "output_type": "stream",
     "text": [
      "Stopping at Epoch 1982\n",
      "AUC predicting P(win):\t\t\t\t 0.7579127179904595\n",
      "Estimated Utility\t Mean Error:\t\t\t 0.005871221422245649\n",
      "Estimated Utility\t Mean Absolute Error:\t 0.27915433523030103\n"
     ]
    },
    {
     "name": "stderr",
     "output_type": "stream",
     "text": [
      "\n",
      " ... (more hidden) ...\u001b[A\n",
      " ... (more hidden) ...\u001b[A\n",
      " ... (more hidden) ...\u001b[A\n",
      " ... (more hidden) ...\u001b[A\n",
      " ... (more hidden) ...\u001b[A\n",
      " ... (more hidden) ...\u001b[A\n",
      " ... (more hidden) ...\u001b[A\n",
      " ... (more hidden) ...\u001b[A\n",
      " ... (more hidden) ...\u001b[A\n",
      " ... (more hidden) ...\u001b[A\n",
      " ... (more hidden) ...\u001b[A\n",
      " ... (more hidden) ...\u001b[A\n",
      " ... (more hidden) ...\u001b[A\n",
      " ... (more hidden) ...\u001b[A\n",
      " ... (more hidden) ...\u001b[A\n",
      " ... (more hidden) ...\u001b[A\n",
      "DR 3:   4%|██████▌                                                                                                                                                          | 1333/32768 [00:01<00:42, 734.12it/s]\n"
     ]
    },
    {
     "name": "stdout",
     "output_type": "stream",
     "text": [
      "Stopping at Epoch 1333\n",
      "DR 3 Number of samples:  torch.Size([6613, 2])\n",
      "DR 3 Predicted Gammas:  0.54908967 0.81159115 0.694264\n"
     ]
    },
    {
     "name": "stderr",
     "output_type": "stream",
     "text": [
      "\n",
      " ... (more hidden) ...\u001b[A\n",
      " ... (more hidden) ...\u001b[A\n",
      "DR 1:   6%|██████████                                                                                                                                                      | 1025/16384 [00:00<00:03, 4061.10it/s]\n",
      "/opt/homebrew/lib/python3.11/site-packages/torch/optim/lr_scheduler.py:28: UserWarning: The verbose parameter is deprecated. Please use get_last_lr() to access the learning rate.\n",
      "  warnings.warn(\"The verbose parameter is deprecated. Please use get_last_lr() \"\n"
     ]
    },
    {
     "name": "stdout",
     "output_type": "stream",
     "text": [
      "Stopping at Epoch 1025\n",
      "AUC predicting P(win):\t\t\t\t 0.8054850160112874\n",
      "Estimated Utility\t Mean Error:\t\t\t 0.0136507927767956\n",
      "Estimated Utility\t Mean Absolute Error:\t 0.23391209634277835\n"
     ]
    },
    {
     "name": "stderr",
     "output_type": "stream",
     "text": [
      "\n",
      " ... (more hidden) ...\u001b[A\n",
      " ... (more hidden) ...\u001b[A\n",
      " ... (more hidden) ...\u001b[A\n",
      " ... (more hidden) ...\u001b[A\n",
      " ... (more hidden) ...\u001b[A\n",
      " ... (more hidden) ...\u001b[A\n",
      " ... (more hidden) ...\u001b[A\n",
      "DR 1:   9%|█████████████▋                                                                                                                                                  | 2813/32768 [00:00<00:09, 3187.61it/s]\n",
      "/opt/homebrew/lib/python3.11/site-packages/torch/optim/lr_scheduler.py:28: UserWarning: The verbose parameter is deprecated. Please use get_last_lr() to access the learning rate.\n",
      "  warnings.warn(\"The verbose parameter is deprecated. Please use get_last_lr() \"\n"
     ]
    },
    {
     "name": "stdout",
     "output_type": "stream",
     "text": [
      "Stopping at Epoch 2813\n",
      "AUC predicting P(win):\t\t\t\t 0.7981011311738844\n",
      "Estimated Utility\t Mean Error:\t\t\t 0.00788564816698902\n",
      "Estimated Utility\t Mean Absolute Error:\t 0.23335706939091147\n"
     ]
    },
    {
     "name": "stderr",
     "output_type": "stream",
     "text": [
      "\n",
      " ... (more hidden) ...\u001b[A\n",
      " ... (more hidden) ...\u001b[A\n",
      " ... (more hidden) ...\u001b[A\n",
      " ... (more hidden) ...\u001b[A\n",
      " ... (more hidden) ...\u001b[A\n",
      " ... (more hidden) ...\u001b[A\n",
      " ... (more hidden) ...\u001b[A\n",
      " ... (more hidden) ...\u001b[A\n",
      " ... (more hidden) ...\u001b[A\n",
      " ... (more hidden) ...\u001b[A\n",
      " ... (more hidden) ...\u001b[A\n",
      " ... (more hidden) ...\u001b[A\n",
      " ... (more hidden) ...\u001b[A\n",
      " ... (more hidden) ...\u001b[A\n",
      "DR 1:   3%|█████▌                                                                                                                                                           | 1140/32768 [00:01<00:42, 752.00it/s]\n"
     ]
    },
    {
     "name": "stdout",
     "output_type": "stream",
     "text": [
      "Stopping at Epoch 1140\n",
      "DR 1 Number of samples:  torch.Size([6575, 2])\n",
      "DR 1 Predicted Gammas:  0.50349844 1.0 0.85534173\n"
     ]
    },
    {
     "name": "stderr",
     "output_type": "stream",
     "text": [
      "\n",
      " ... (more hidden) ...\u001b[A\n",
      " ... (more hidden) ...\u001b[A\n",
      " ... (more hidden) ...\u001b[A\n",
      " ... (more hidden) ...\u001b[A\n",
      "DR 2:   6%|██████████                                                                                                                                                      | 1025/16384 [00:00<00:07, 2162.90it/s]\n",
      "/opt/homebrew/lib/python3.11/site-packages/torch/optim/lr_scheduler.py:28: UserWarning: The verbose parameter is deprecated. Please use get_last_lr() to access the learning rate.\n",
      "  warnings.warn(\"The verbose parameter is deprecated. Please use get_last_lr() \"\n"
     ]
    },
    {
     "name": "stdout",
     "output_type": "stream",
     "text": [
      "Stopping at Epoch 1025\n",
      "AUC predicting P(win):\t\t\t\t 0.6882238945444712\n",
      "Estimated Utility\t Mean Error:\t\t\t -0.0006908529948829016\n",
      "Estimated Utility\t Mean Absolute Error:\t 0.3200254408578318\n"
     ]
    },
    {
     "name": "stderr",
     "output_type": "stream",
     "text": [
      "\n",
      " ... (more hidden) ...\u001b[A\n",
      " ... (more hidden) ...\u001b[A\n",
      " ... (more hidden) ...\u001b[A\n",
      " ... (more hidden) ...\u001b[A\n",
      " ... (more hidden) ...\u001b[A\n",
      " ... (more hidden) ...\u001b[A\n",
      " ... (more hidden) ...\u001b[A\n",
      "DR 2:   7%|██████████▉                                                                                                                                                     | 2228/32768 [00:01<00:21, 1424.27it/s]\n",
      "/opt/homebrew/lib/python3.11/site-packages/torch/optim/lr_scheduler.py:28: UserWarning: The verbose parameter is deprecated. Please use get_last_lr() to access the learning rate.\n",
      "  warnings.warn(\"The verbose parameter is deprecated. Please use get_last_lr() \"\n"
     ]
    },
    {
     "name": "stdout",
     "output_type": "stream",
     "text": [
      "Stopping at Epoch 2228\n",
      "AUC predicting P(win):\t\t\t\t 0.6895418342260139\n",
      "Estimated Utility\t Mean Error:\t\t\t -0.0005413426881866513\n",
      "Estimated Utility\t Mean Absolute Error:\t 0.31938710628383604\n"
     ]
    },
    {
     "name": "stderr",
     "output_type": "stream",
     "text": [
      "\n",
      " ... (more hidden) ...\u001b[A\n",
      " ... (more hidden) ...\u001b[A\n",
      " ... (more hidden) ...\u001b[A\n",
      " ... (more hidden) ...\u001b[A\n",
      " ... (more hidden) ...\u001b[A\n",
      " ... (more hidden) ...\u001b[A\n",
      " ... (more hidden) ...\u001b[A\n",
      " ... (more hidden) ...\u001b[A\n",
      "DR 2:   2%|██▌                                                                                                                                                               | 514/32768 [00:00<00:51, 625.54it/s]\n"
     ]
    },
    {
     "name": "stdout",
     "output_type": "stream",
     "text": [
      "Stopping at Epoch 514\n",
      "DR 2 Number of samples:  torch.Size([6732, 2])\n",
      "DR 2 Predicted Gammas:  0.461451 0.9812129 0.7507524\n"
     ]
    },
    {
     "name": "stderr",
     "output_type": "stream",
     "text": [
      "\n",
      " ... (more hidden) ...\u001b[A\n",
      " ... (more hidden) ...\u001b[A\n",
      " ... (more hidden) ...\u001b[A\n",
      "DR 3:   6%|██████████                                                                                                                                                      | 1025/16384 [00:00<00:04, 3281.40it/s]\n",
      "/opt/homebrew/lib/python3.11/site-packages/torch/optim/lr_scheduler.py:28: UserWarning: The verbose parameter is deprecated. Please use get_last_lr() to access the learning rate.\n",
      "  warnings.warn(\"The verbose parameter is deprecated. Please use get_last_lr() \"\n"
     ]
    },
    {
     "name": "stdout",
     "output_type": "stream",
     "text": [
      "Stopping at Epoch 1025\n",
      "AUC predicting P(win):\t\t\t\t 0.7944868171622399\n",
      "Estimated Utility\t Mean Error:\t\t\t 0.007082588649938223\n",
      "Estimated Utility\t Mean Absolute Error:\t 0.2761899035772143\n"
     ]
    },
    {
     "name": "stderr",
     "output_type": "stream",
     "text": [
      "\n",
      " ... (more hidden) ...\u001b[A\n",
      " ... (more hidden) ...\u001b[A\n",
      " ... (more hidden) ...\u001b[A\n",
      " ... (more hidden) ...\u001b[A\n",
      " ... (more hidden) ...\u001b[A\n",
      " ... (more hidden) ...\u001b[A\n",
      " ... (more hidden) ...\u001b[A\n",
      " ... (more hidden) ...\u001b[A\n",
      "DR 3:  10%|████████████████                                                                                                                                                | 3281/32768 [00:00<00:07, 3742.87it/s]\n",
      "/opt/homebrew/lib/python3.11/site-packages/torch/optim/lr_scheduler.py:28: UserWarning: The verbose parameter is deprecated. Please use get_last_lr() to access the learning rate.\n",
      "  warnings.warn(\"The verbose parameter is deprecated. Please use get_last_lr() \"\n"
     ]
    },
    {
     "name": "stdout",
     "output_type": "stream",
     "text": [
      "Stopping at Epoch 3281\n",
      "AUC predicting P(win):\t\t\t\t 0.7963734437188793\n",
      "Estimated Utility\t Mean Error:\t\t\t -0.003887241014220312\n",
      "Estimated Utility\t Mean Absolute Error:\t 0.27055643201644974\n"
     ]
    },
    {
     "name": "stderr",
     "output_type": "stream",
     "text": [
      "\n",
      " ... (more hidden) ...\u001b[A\n",
      " ... (more hidden) ...\u001b[A\n",
      " ... (more hidden) ...\u001b[A\n",
      " ... (more hidden) ...\u001b[A\n",
      " ... (more hidden) ...\u001b[A\n",
      " ... (more hidden) ...\u001b[A\n",
      " ... (more hidden) ...\u001b[A\n",
      " ... (more hidden) ...\u001b[A\n",
      " ... (more hidden) ...\u001b[A\n",
      " ... (more hidden) ...\u001b[A\n",
      " ... (more hidden) ...\u001b[A\n",
      " ... (more hidden) ...\u001b[A\n",
      " ... (more hidden) ...\u001b[A\n",
      " ... (more hidden) ...\u001b[A\n",
      " ... (more hidden) ...\u001b[A\n",
      " ... (more hidden) ...\u001b[A\n",
      " ... (more hidden) ...\u001b[A\n",
      " ... (more hidden) ...\u001b[A\n",
      " ... (more hidden) ...\u001b[A\n",
      " ... (more hidden) ...\u001b[A\n",
      " ... (more hidden) ...\u001b[A\n",
      " ... (more hidden) ...\u001b[A\n",
      " ... (more hidden) ...\u001b[A\n",
      " ... (more hidden) ...\u001b[A\n",
      " ... (more hidden) ...\u001b[A\n",
      " ... (more hidden) ...\u001b[A\n",
      " ... (more hidden) ...\u001b[A\n",
      " ... (more hidden) ...\u001b[A\n",
      " ... (more hidden) ...\u001b[A\n",
      " ... (more hidden) ...\u001b[A\n",
      " ... (more hidden) ...\u001b[A\n",
      " ... (more hidden) ...\u001b[A\n",
      " ... (more hidden) ...\u001b[A\n",
      " ... (more hidden) ...\u001b[A\n",
      " ... (more hidden) ...\u001b[A\n",
      " ... (more hidden) ...\u001b[A\n",
      " ... (more hidden) ...\u001b[A\n",
      " ... (more hidden) ...\u001b[A\n",
      " ... (more hidden) ...\u001b[A\n",
      " ... (more hidden) ...\u001b[A\n",
      " ... (more hidden) ...\u001b[A\n",
      " ... (more hidden) ...\u001b[A\n",
      " ... (more hidden) ...\u001b[A\n",
      " ... (more hidden) ...\u001b[A\n",
      " ... (more hidden) ...\u001b[A\n",
      " ... (more hidden) ...\u001b[A\n",
      " ... (more hidden) ...\u001b[A\n",
      " ... (more hidden) ...\u001b[A\n",
      " ... (more hidden) ...\u001b[A\n",
      " ... (more hidden) ...\u001b[A\n",
      " ... (more hidden) ...\u001b[A\n",
      " ... (more hidden) ...\u001b[A\n",
      " ... (more hidden) ...\u001b[A\n",
      " ... (more hidden) ...\u001b[A\n",
      " ... (more hidden) ...\u001b[A\n",
      " ... (more hidden) ...\u001b[A\n",
      "DR 3:  13%|█████████████████████                                                                                                                                            | 4294/32768 [00:06<00:40, 702.31it/s]\n"
     ]
    },
    {
     "name": "stdout",
     "output_type": "stream",
     "text": [
      "Stopping at Epoch 4294\n",
      "DR 3 Number of samples:  torch.Size([6693, 2])\n",
      "DR 3 Predicted Gammas:  0.5070797 0.82074195 0.6760522\n"
     ]
    },
    {
     "name": "stderr",
     "output_type": "stream",
     "text": [
      "\n",
      " ... (more hidden) ...\u001b[A\n",
      " ... (more hidden) ...\u001b[A\n",
      "DR 1:   6%|██████████                                                                                                                                                      | 1025/16384 [00:00<00:04, 3617.76it/s]\n",
      "/opt/homebrew/lib/python3.11/site-packages/torch/optim/lr_scheduler.py:28: UserWarning: The verbose parameter is deprecated. Please use get_last_lr() to access the learning rate.\n",
      "  warnings.warn(\"The verbose parameter is deprecated. Please use get_last_lr() \"\n"
     ]
    },
    {
     "name": "stdout",
     "output_type": "stream",
     "text": [
      "Stopping at Epoch 1025\n",
      "AUC predicting P(win):\t\t\t\t 0.8727501425111887\n",
      "Estimated Utility\t Mean Error:\t\t\t -0.002343484587995407\n",
      "Estimated Utility\t Mean Absolute Error:\t 0.23008263747022883\n"
     ]
    },
    {
     "name": "stderr",
     "output_type": "stream",
     "text": [
      "\n",
      " ... (more hidden) ...\u001b[A\n",
      " ... (more hidden) ...\u001b[A\n",
      " ... (more hidden) ...\u001b[A\n",
      " ... (more hidden) ...\u001b[A\n",
      " ... (more hidden) ...\u001b[A\n",
      " ... (more hidden) ...\u001b[A\n",
      " ... (more hidden) ...\u001b[A\n",
      " ... (more hidden) ...\u001b[A\n",
      " ... (more hidden) ...\u001b[A\n",
      " ... (more hidden) ...\u001b[A\n",
      " ... (more hidden) ...\u001b[A\n",
      " ... (more hidden) ...\u001b[A\n",
      " ... (more hidden) ...\u001b[A\n",
      " ... (more hidden) ...\u001b[A\n",
      " ... (more hidden) ...\u001b[A\n",
      " ... (more hidden) ...\u001b[A\n",
      " ... (more hidden) ...\u001b[A\n",
      " ... (more hidden) ...\u001b[A\n",
      "DR 1:  21%|██████████████████████████████████▍                                                                                                                             | 7040/32768 [00:01<00:06, 3736.34it/s]\n",
      "/opt/homebrew/lib/python3.11/site-packages/torch/optim/lr_scheduler.py:28: UserWarning: The verbose parameter is deprecated. Please use get_last_lr() to access the learning rate.\n",
      "  warnings.warn(\"The verbose parameter is deprecated. Please use get_last_lr() \"\n"
     ]
    },
    {
     "name": "stdout",
     "output_type": "stream",
     "text": [
      "Stopping at Epoch 7040\n",
      "AUC predicting P(win):\t\t\t\t 0.8805168185254623\n",
      "Estimated Utility\t Mean Error:\t\t\t 0.002441114228790616\n",
      "Estimated Utility\t Mean Absolute Error:\t 0.22952172054066933\n"
     ]
    },
    {
     "name": "stderr",
     "output_type": "stream",
     "text": [
      "\n",
      " ... (more hidden) ...\u001b[A\n",
      " ... (more hidden) ...\u001b[A\n",
      " ... (more hidden) ...\u001b[A\n",
      " ... (more hidden) ...\u001b[A\n",
      " ... (more hidden) ...\u001b[A\n",
      " ... (more hidden) ...\u001b[A\n",
      " ... (more hidden) ...\u001b[A\n",
      " ... (more hidden) ...\u001b[A\n",
      " ... (more hidden) ...\u001b[A\n",
      " ... (more hidden) ...\u001b[A\n",
      " ... (more hidden) ...\u001b[A\n",
      " ... (more hidden) ...\u001b[A\n",
      " ... (more hidden) ...\u001b[A\n",
      " ... (more hidden) ...\u001b[A\n",
      " ... (more hidden) ...\u001b[A\n",
      " ... (more hidden) ...\u001b[A\n",
      "DR 1:   4%|██████▍                                                                                                                                                          | 1307/32768 [00:01<00:44, 704.08it/s]\n"
     ]
    },
    {
     "name": "stdout",
     "output_type": "stream",
     "text": [
      "Stopping at Epoch 1307\n",
      "DR 1 Number of samples:  torch.Size([6607, 2])\n",
      "DR 1 Predicted Gammas:  0.44258952 1.0 0.83459485\n"
     ]
    },
    {
     "name": "stderr",
     "output_type": "stream",
     "text": [
      "\n",
      " ... (more hidden) ...\u001b[A\n",
      " ... (more hidden) ...\u001b[A\n",
      "DR 2:   6%|██████████                                                                                                                                                      | 1025/16384 [00:00<00:04, 3712.55it/s]\n",
      "/opt/homebrew/lib/python3.11/site-packages/torch/optim/lr_scheduler.py:28: UserWarning: The verbose parameter is deprecated. Please use get_last_lr() to access the learning rate.\n",
      "  warnings.warn(\"The verbose parameter is deprecated. Please use get_last_lr() \"\n"
     ]
    },
    {
     "name": "stdout",
     "output_type": "stream",
     "text": [
      "Stopping at Epoch 1025\n",
      "AUC predicting P(win):\t\t\t\t 0.6361734591841837\n",
      "Estimated Utility\t Mean Error:\t\t\t 0.0003780174820682866\n",
      "Estimated Utility\t Mean Absolute Error:\t 0.28775230238158783\n"
     ]
    },
    {
     "name": "stderr",
     "output_type": "stream",
     "text": [
      "\n",
      " ... (more hidden) ...\u001b[A\n",
      " ... (more hidden) ...\u001b[A\n",
      " ... (more hidden) ...\u001b[A\n",
      " ... (more hidden) ...\u001b[A\n",
      " ... (more hidden) ...\u001b[A\n",
      " ... (more hidden) ...\u001b[A\n",
      "DR 2:   8%|████████████▌                                                                                                                                                   | 2561/32768 [00:00<00:08, 3705.05it/s]\n",
      "/opt/homebrew/lib/python3.11/site-packages/torch/optim/lr_scheduler.py:28: UserWarning: The verbose parameter is deprecated. Please use get_last_lr() to access the learning rate.\n",
      "  warnings.warn(\"The verbose parameter is deprecated. Please use get_last_lr() \"\n"
     ]
    },
    {
     "name": "stdout",
     "output_type": "stream",
     "text": [
      "Stopping at Epoch 2561\n",
      "AUC predicting P(win):\t\t\t\t 0.6189938717349847\n",
      "Estimated Utility\t Mean Error:\t\t\t 0.002152828131925749\n",
      "Estimated Utility\t Mean Absolute Error:\t 0.29004223857824524\n"
     ]
    },
    {
     "name": "stderr",
     "output_type": "stream",
     "text": [
      "\n",
      " ... (more hidden) ...\u001b[A\n",
      " ... (more hidden) ...\u001b[A\n",
      " ... (more hidden) ...\u001b[A\n",
      " ... (more hidden) ...\u001b[A\n",
      " ... (more hidden) ...\u001b[A\n",
      " ... (more hidden) ...\u001b[A\n",
      " ... (more hidden) ...\u001b[A\n",
      " ... (more hidden) ...\u001b[A\n",
      " ... (more hidden) ...\u001b[A\n",
      " ... (more hidden) ...\u001b[A\n",
      " ... (more hidden) ...\u001b[A\n",
      " ... (more hidden) ...\u001b[A\n",
      " ... (more hidden) ...\u001b[A\n",
      " ... (more hidden) ...\u001b[A\n",
      " ... (more hidden) ...\u001b[A\n",
      " ... (more hidden) ...\u001b[A\n",
      " ... (more hidden) ...\u001b[A\n",
      " ... (more hidden) ...\u001b[A\n",
      " ... (more hidden) ...\u001b[A\n",
      " ... (more hidden) ...\u001b[A\n",
      " ... (more hidden) ...\u001b[A\n",
      " ... (more hidden) ...\u001b[A\n",
      " ... (more hidden) ...\u001b[A\n",
      " ... (more hidden) ...\u001b[A\n",
      " ... (more hidden) ...\u001b[A\n",
      " ... (more hidden) ...\u001b[A\n",
      " ... (more hidden) ...\u001b[A\n",
      " ... (more hidden) ...\u001b[A\n",
      " ... (more hidden) ...\u001b[A\n",
      " ... (more hidden) ...\u001b[A\n",
      " ... (more hidden) ...\u001b[A\n",
      " ... (more hidden) ...\u001b[A\n",
      " ... (more hidden) ...\u001b[A\n",
      " ... (more hidden) ...\u001b[A\n",
      " ... (more hidden) ...\u001b[A\n",
      " ... (more hidden) ...\u001b[A\n",
      " ... (more hidden) ...\u001b[A\n",
      " ... (more hidden) ...\u001b[A\n",
      " ... (more hidden) ...\u001b[A\n",
      "DR 2:   9%|██████████████▍                                                                                                                                                  | 2936/32768 [00:04<00:41, 723.47it/s]\n"
     ]
    },
    {
     "name": "stdout",
     "output_type": "stream",
     "text": [
      "Stopping at Epoch 2936\n",
      "DR 2 Number of samples:  torch.Size([6694, 2])\n",
      "DR 2 Predicted Gammas:  0.489507 0.97043806 0.73142576\n"
     ]
    },
    {
     "name": "stderr",
     "output_type": "stream",
     "text": [
      "\n",
      " ... (more hidden) ...\u001b[A\n",
      " ... (more hidden) ...\u001b[A\n",
      "DR 3:   6%|██████████                                                                                                                                                      | 1025/16384 [00:00<00:04, 3595.36it/s]\n",
      "/opt/homebrew/lib/python3.11/site-packages/torch/optim/lr_scheduler.py:28: UserWarning: The verbose parameter is deprecated. Please use get_last_lr() to access the learning rate.\n",
      "  warnings.warn(\"The verbose parameter is deprecated. Please use get_last_lr() \"\n"
     ]
    },
    {
     "name": "stdout",
     "output_type": "stream",
     "text": [
      "Stopping at Epoch 1025\n",
      "AUC predicting P(win):\t\t\t\t 0.7772715708626203\n",
      "Estimated Utility\t Mean Error:\t\t\t -0.008345918171743218\n",
      "Estimated Utility\t Mean Absolute Error:\t 0.29637780015766574\n"
     ]
    },
    {
     "name": "stderr",
     "output_type": "stream",
     "text": [
      "\n",
      " ... (more hidden) ...\u001b[A\n",
      " ... (more hidden) ...\u001b[A\n",
      " ... (more hidden) ...\u001b[A\n",
      " ... (more hidden) ...\u001b[A\n",
      " ... (more hidden) ...\u001b[A\n",
      "DR 3:   6%|██████████▏                                                                                                                                                     | 2079/32768 [00:00<00:08, 3735.05it/s]\n",
      "/opt/homebrew/lib/python3.11/site-packages/torch/optim/lr_scheduler.py:28: UserWarning: The verbose parameter is deprecated. Please use get_last_lr() to access the learning rate.\n",
      "  warnings.warn(\"The verbose parameter is deprecated. Please use get_last_lr() \"\n"
     ]
    },
    {
     "name": "stdout",
     "output_type": "stream",
     "text": [
      "Stopping at Epoch 2079\n",
      "AUC predicting P(win):\t\t\t\t 0.7777725804695074\n",
      "Estimated Utility\t Mean Error:\t\t\t 0.00013343694085442195\n",
      "Estimated Utility\t Mean Absolute Error:\t 0.2988509828325341\n"
     ]
    },
    {
     "name": "stderr",
     "output_type": "stream",
     "text": [
      "\n",
      " ... (more hidden) ...\u001b[A\n",
      " ... (more hidden) ...\u001b[A\n",
      " ... (more hidden) ...\u001b[A\n",
      " ... (more hidden) ...\u001b[A\n",
      " ... (more hidden) ...\u001b[A\n",
      " ... (more hidden) ...\u001b[A\n",
      " ... (more hidden) ...\u001b[A\n",
      " ... (more hidden) ...\u001b[A\n",
      " ... (more hidden) ...\u001b[A\n",
      " ... (more hidden) ...\u001b[A\n",
      " ... (more hidden) ...\u001b[A\n",
      " ... (more hidden) ...\u001b[A\n",
      "DR 3:   3%|████▌                                                                                                                                                             | 914/32768 [00:01<00:43, 724.84it/s]\n"
     ]
    },
    {
     "name": "stdout",
     "output_type": "stream",
     "text": [
      "Stopping at Epoch 914\n",
      "DR 3 Number of samples:  torch.Size([6699, 2])\n",
      "DR 3 Predicted Gammas:  0.4727523 0.80249715 0.658378\n"
     ]
    },
    {
     "name": "stderr",
     "output_type": "stream",
     "text": [
      "\n",
      " ... (more hidden) ...\u001b[A\n",
      " ... (more hidden) ...\u001b[A\n",
      "DR 1:   6%|██████████                                                                                                                                                      | 1025/16384 [00:00<00:03, 3961.83it/s]\n",
      "/opt/homebrew/lib/python3.11/site-packages/torch/optim/lr_scheduler.py:28: UserWarning: The verbose parameter is deprecated. Please use get_last_lr() to access the learning rate.\n",
      "  warnings.warn(\"The verbose parameter is deprecated. Please use get_last_lr() \"\n"
     ]
    },
    {
     "name": "stdout",
     "output_type": "stream",
     "text": [
      "Stopping at Epoch 1025\n",
      "AUC predicting P(win):\t\t\t\t 0.8599864078232777\n",
      "Estimated Utility\t Mean Error:\t\t\t 0.0011749113904703816\n",
      "Estimated Utility\t Mean Absolute Error:\t 0.23654358401955436\n"
     ]
    },
    {
     "name": "stderr",
     "output_type": "stream",
     "text": [
      "\n",
      " ... (more hidden) ...\u001b[A\n",
      " ... (more hidden) ...\u001b[A\n",
      " ... (more hidden) ...\u001b[A\n",
      " ... (more hidden) ...\u001b[A\n",
      "DR 1:   5%|████████▋                                                                                                                                                       | 1778/32768 [00:00<00:09, 3311.55it/s]\n",
      "/opt/homebrew/lib/python3.11/site-packages/torch/optim/lr_scheduler.py:28: UserWarning: The verbose parameter is deprecated. Please use get_last_lr() to access the learning rate.\n",
      "  warnings.warn(\"The verbose parameter is deprecated. Please use get_last_lr() \"\n"
     ]
    },
    {
     "name": "stdout",
     "output_type": "stream",
     "text": [
      "Stopping at Epoch 1778\n",
      "AUC predicting P(win):\t\t\t\t 0.8583426010751347\n",
      "Estimated Utility\t Mean Error:\t\t\t 0.003927864783192569\n",
      "Estimated Utility\t Mean Absolute Error:\t 0.2373004425224223\n"
     ]
    },
    {
     "name": "stderr",
     "output_type": "stream",
     "text": [
      "\n",
      " ... (more hidden) ...\u001b[A\n",
      " ... (more hidden) ...\u001b[A\n",
      " ... (more hidden) ...\u001b[A\n",
      " ... (more hidden) ...\u001b[A\n",
      " ... (more hidden) ...\u001b[A\n",
      " ... (more hidden) ...\u001b[A\n",
      " ... (more hidden) ...\u001b[A\n",
      " ... (more hidden) ...\u001b[A\n",
      " ... (more hidden) ...\u001b[A\n",
      " ... (more hidden) ...\u001b[A\n",
      " ... (more hidden) ...\u001b[A\n",
      " ... (more hidden) ...\u001b[A\n",
      " ... (more hidden) ...\u001b[A\n",
      " ... (more hidden) ...\u001b[A\n",
      " ... (more hidden) ...\u001b[A\n",
      " ... (more hidden) ...\u001b[A\n",
      " ... (more hidden) ...\u001b[A\n",
      " ... (more hidden) ...\u001b[A\n",
      " ... (more hidden) ...\u001b[A\n",
      " ... (more hidden) ...\u001b[A\n",
      " ... (more hidden) ...\u001b[A\n",
      " ... (more hidden) ...\u001b[A\n",
      " ... (more hidden) ...\u001b[A\n",
      " ... (more hidden) ...\u001b[A\n",
      " ... (more hidden) ...\u001b[A\n",
      " ... (more hidden) ...\u001b[A\n",
      " ... (more hidden) ...\u001b[A\n",
      " ... (more hidden) ...\u001b[A\n",
      " ... (more hidden) ...\u001b[A\n",
      " ... (more hidden) ...\u001b[A\n",
      " ... (more hidden) ...\u001b[A\n",
      " ... (more hidden) ...\u001b[A\n",
      " ... (more hidden) ...\u001b[A\n",
      " ... (more hidden) ...\u001b[A\n",
      " ... (more hidden) ...\u001b[A\n",
      " ... (more hidden) ...\u001b[A\n",
      " ... (more hidden) ...\u001b[A\n",
      " ... (more hidden) ...\u001b[A\n",
      " ... (more hidden) ...\u001b[A\n",
      " ... (more hidden) ...\u001b[A\n",
      " ... (more hidden) ...\u001b[A\n",
      " ... (more hidden) ...\u001b[A\n",
      " ... (more hidden) ...\u001b[A\n",
      " ... (more hidden) ...\u001b[A\n",
      " ... (more hidden) ...\u001b[A\n",
      " ... (more hidden) ...\u001b[A\n",
      " ... (more hidden) ...\u001b[A\n",
      " ... (more hidden) ...\u001b[A\n",
      " ... (more hidden) ...\u001b[A\n",
      " ... (more hidden) ...\u001b[A\n",
      " ... (more hidden) ...\u001b[A\n",
      " ... (more hidden) ...\u001b[A\n",
      " ... (more hidden) ...\u001b[A\n",
      " ... (more hidden) ...\u001b[A\n",
      " ... (more hidden) ...\u001b[A\n",
      " ... (more hidden) ...\u001b[A\n",
      " ... (more hidden) ...\u001b[A\n",
      " ... (more hidden) ...\u001b[A\n",
      " ... (more hidden) ...\u001b[A\n",
      " ... (more hidden) ...\u001b[A\n",
      " ... (more hidden) ...\u001b[A\n",
      " ... (more hidden) ...\u001b[A\n",
      " ... (more hidden) ...\u001b[A\n",
      " ... (more hidden) ...\u001b[A\n",
      " ... (more hidden) ...\u001b[A\n",
      " ... (more hidden) ...\u001b[A\n",
      " ... (more hidden) ...\u001b[A\n",
      " ... (more hidden) ...\u001b[A\n",
      " ... (more hidden) ...\u001b[A\n",
      " ... (more hidden) ...\u001b[A\n",
      " ... (more hidden) ...\u001b[A\n",
      " ... (more hidden) ...\u001b[A\n",
      " ... (more hidden) ...\u001b[A\n",
      " ... (more hidden) ...\u001b[A\n",
      " ... (more hidden) ...\u001b[A\n",
      " ... (more hidden) ...\u001b[A\n",
      " ... (more hidden) ...\u001b[A\n",
      " ... (more hidden) ...\u001b[A\n",
      " ... (more hidden) ...\u001b[A\n",
      " ... (more hidden) ...\u001b[A\n",
      " ... (more hidden) ...\u001b[A\n",
      " ... (more hidden) ...\u001b[A\n",
      " ... (more hidden) ...\u001b[A\n",
      " ... (more hidden) ...\u001b[A\n",
      " ... (more hidden) ...\u001b[A\n",
      " ... (more hidden) ...\u001b[A\n",
      " ... (more hidden) ...\u001b[A\n",
      " ... (more hidden) ...\u001b[A\n",
      " ... (more hidden) ...\u001b[A\n",
      " ... (more hidden) ...\u001b[A\n",
      " ... (more hidden) ...\u001b[A\n",
      " ... (more hidden) ...\u001b[A\n",
      " ... (more hidden) ...\u001b[A\n",
      " ... (more hidden) ...\u001b[A\n",
      " ... (more hidden) ...\u001b[A\n",
      " ... (more hidden) ...\u001b[A\n",
      " ... (more hidden) ...\u001b[A\n",
      " ... (more hidden) ...\u001b[A\n",
      " ... (more hidden) ...\u001b[A\n",
      " ... (more hidden) ...\u001b[A\n",
      " ... (more hidden) ...\u001b[A\n",
      " ... (more hidden) ...\u001b[A\n",
      " ... (more hidden) ...\u001b[A\n",
      " ... (more hidden) ...\u001b[A\n",
      " ... (more hidden) ...\u001b[A\n",
      " ... (more hidden) ...\u001b[A\n",
      " ... (more hidden) ...\u001b[A\n",
      " ... (more hidden) ...\u001b[A\n",
      " ... (more hidden) ...\u001b[A\n",
      " ... (more hidden) ...\u001b[A\n",
      " ... (more hidden) ...\u001b[A\n",
      " ... (more hidden) ...\u001b[A\n",
      " ... (more hidden) ...\u001b[A\n",
      "DR 1:  27%|██████████████████████████████████████████▉                                                                                                                      | 8746/32768 [00:12<00:34, 695.94it/s]\n"
     ]
    },
    {
     "name": "stdout",
     "output_type": "stream",
     "text": [
      "Stopping at Epoch 8746\n",
      "DR 1 Number of samples:  torch.Size([6606, 2])\n",
      "DR 1 Predicted Gammas:  0.446943 1.0 0.84389687\n"
     ]
    },
    {
     "name": "stderr",
     "output_type": "stream",
     "text": [
      "\n",
      " ... (more hidden) ...\u001b[A\n",
      " ... (more hidden) ...\u001b[A\n",
      "DR 2:   6%|██████████                                                                                                                                                      | 1025/16384 [00:00<00:04, 3285.47it/s]\n",
      "/opt/homebrew/lib/python3.11/site-packages/torch/optim/lr_scheduler.py:28: UserWarning: The verbose parameter is deprecated. Please use get_last_lr() to access the learning rate.\n",
      "  warnings.warn(\"The verbose parameter is deprecated. Please use get_last_lr() \"\n"
     ]
    },
    {
     "name": "stdout",
     "output_type": "stream",
     "text": [
      "Stopping at Epoch 1025\n",
      "AUC predicting P(win):\t\t\t\t 0.6333862374384224\n",
      "Estimated Utility\t Mean Error:\t\t\t -0.002294002521514398\n",
      "Estimated Utility\t Mean Absolute Error:\t 0.2822340463063698\n"
     ]
    },
    {
     "name": "stderr",
     "output_type": "stream",
     "text": [
      "\n",
      " ... (more hidden) ...\u001b[A\n",
      " ... (more hidden) ...\u001b[A\n",
      " ... (more hidden) ...\u001b[A\n",
      " ... (more hidden) ...\u001b[A\n",
      " ... (more hidden) ...\u001b[A\n",
      " ... (more hidden) ...\u001b[A\n",
      "DR 2:   7%|███████████▉                                                                                                                                                    | 2450/32768 [00:00<00:07, 3911.43it/s]\n",
      "/opt/homebrew/lib/python3.11/site-packages/torch/optim/lr_scheduler.py:28: UserWarning: The verbose parameter is deprecated. Please use get_last_lr() to access the learning rate.\n",
      "  warnings.warn(\"The verbose parameter is deprecated. Please use get_last_lr() \"\n"
     ]
    },
    {
     "name": "stdout",
     "output_type": "stream",
     "text": [
      "Stopping at Epoch 2450\n",
      "AUC predicting P(win):\t\t\t\t 0.6360218749291859\n",
      "Estimated Utility\t Mean Error:\t\t\t 0.005396298893080596\n",
      "Estimated Utility\t Mean Absolute Error:\t 0.2850288466901053\n"
     ]
    },
    {
     "name": "stderr",
     "output_type": "stream",
     "text": [
      "\n",
      " ... (more hidden) ...\u001b[A\n",
      " ... (more hidden) ...\u001b[A\n",
      " ... (more hidden) ...\u001b[A\n",
      " ... (more hidden) ...\u001b[A\n",
      " ... (more hidden) ...\u001b[A\n",
      " ... (more hidden) ...\u001b[A\n",
      " ... (more hidden) ...\u001b[A\n",
      " ... (more hidden) ...\u001b[A\n",
      " ... (more hidden) ...\u001b[A\n",
      " ... (more hidden) ...\u001b[A\n",
      " ... (more hidden) ...\u001b[A\n",
      " ... (more hidden) ...\u001b[A\n",
      " ... (more hidden) ...\u001b[A\n",
      " ... (more hidden) ...\u001b[A\n",
      " ... (more hidden) ...\u001b[A\n",
      " ... (more hidden) ...\u001b[A\n",
      " ... (more hidden) ...\u001b[A\n",
      " ... (more hidden) ...\u001b[A\n",
      " ... (more hidden) ...\u001b[A\n",
      " ... (more hidden) ...\u001b[A\n",
      " ... (more hidden) ...\u001b[A\n",
      " ... (more hidden) ...\u001b[A\n",
      " ... (more hidden) ...\u001b[A\n",
      " ... (more hidden) ...\u001b[A\n",
      " ... (more hidden) ...\u001b[A\n",
      " ... (more hidden) ...\u001b[A\n",
      " ... (more hidden) ...\u001b[A\n",
      " ... (more hidden) ...\u001b[A\n",
      " ... (more hidden) ...\u001b[A\n",
      " ... (more hidden) ...\u001b[A\n",
      " ... (more hidden) ...\u001b[A\n",
      "DR 2:   7%|███████████▉                                                                                                                                                     | 2421/32768 [00:03<00:41, 736.41it/s]\n"
     ]
    },
    {
     "name": "stdout",
     "output_type": "stream",
     "text": [
      "Stopping at Epoch 2421\n",
      "DR 2 Number of samples:  torch.Size([6714, 2])\n",
      "DR 2 Predicted Gammas:  0.4532235 0.92533994 0.70472467\n"
     ]
    },
    {
     "name": "stderr",
     "output_type": "stream",
     "text": [
      "\n",
      " ... (more hidden) ...\u001b[A\n",
      " ... (more hidden) ...\u001b[A\n",
      "DR 3:   6%|██████████                                                                                                                                                      | 1025/16384 [00:00<00:04, 3687.70it/s]\n",
      "/opt/homebrew/lib/python3.11/site-packages/torch/optim/lr_scheduler.py:28: UserWarning: The verbose parameter is deprecated. Please use get_last_lr() to access the learning rate.\n",
      "  warnings.warn(\"The verbose parameter is deprecated. Please use get_last_lr() \"\n"
     ]
    },
    {
     "name": "stdout",
     "output_type": "stream",
     "text": [
      "Stopping at Epoch 1025\n",
      "AUC predicting P(win):\t\t\t\t 0.7565404692713378\n",
      "Estimated Utility\t Mean Error:\t\t\t -0.008292640755495836\n",
      "Estimated Utility\t Mean Absolute Error:\t 0.29503759741138125\n"
     ]
    },
    {
     "name": "stderr",
     "output_type": "stream",
     "text": [
      "\n",
      " ... (more hidden) ...\u001b[A\n",
      " ... (more hidden) ...\u001b[A\n",
      " ... (more hidden) ...\u001b[A\n",
      " ... (more hidden) ...\u001b[A\n",
      " ... (more hidden) ...\u001b[A\n",
      "DR 3:   6%|█████████▎                                                                                                                                                      | 1914/32768 [00:00<00:08, 3449.62it/s]\n",
      "/opt/homebrew/lib/python3.11/site-packages/torch/optim/lr_scheduler.py:28: UserWarning: The verbose parameter is deprecated. Please use get_last_lr() to access the learning rate.\n",
      "  warnings.warn(\"The verbose parameter is deprecated. Please use get_last_lr() \"\n"
     ]
    },
    {
     "name": "stdout",
     "output_type": "stream",
     "text": [
      "Stopping at Epoch 1914\n",
      "AUC predicting P(win):\t\t\t\t 0.7545303698920103\n",
      "Estimated Utility\t Mean Error:\t\t\t -0.0016810279103314442\n",
      "Estimated Utility\t Mean Absolute Error:\t 0.29788899710369565\n"
     ]
    },
    {
     "name": "stderr",
     "output_type": "stream",
     "text": [
      "\n",
      " ... (more hidden) ...\u001b[A\n",
      " ... (more hidden) ...\u001b[A\n",
      " ... (more hidden) ...\u001b[A\n",
      " ... (more hidden) ...\u001b[A\n",
      " ... (more hidden) ...\u001b[A\n",
      " ... (more hidden) ...\u001b[A\n",
      " ... (more hidden) ...\u001b[A\n",
      " ... (more hidden) ...\u001b[A\n",
      " ... (more hidden) ...\u001b[A\n",
      " ... (more hidden) ...\u001b[A\n",
      " ... (more hidden) ...\u001b[A\n",
      " ... (more hidden) ...\u001b[A\n",
      " ... (more hidden) ...\u001b[A\n",
      " ... (more hidden) ...\u001b[A\n",
      " ... (more hidden) ...\u001b[A\n",
      " ... (more hidden) ...\u001b[A\n",
      " ... (more hidden) ...\u001b[A\n",
      " ... (more hidden) ...\u001b[A\n",
      " ... (more hidden) ...\u001b[A\n",
      " ... (more hidden) ...\u001b[A\n",
      " ... (more hidden) ...\u001b[A\n",
      " ... (more hidden) ...\u001b[A\n",
      " ... (more hidden) ...\u001b[A\n",
      " ... (more hidden) ...\u001b[A\n",
      " ... (more hidden) ...\u001b[A\n",
      " ... (more hidden) ...\u001b[A\n",
      " ... (more hidden) ...\u001b[A\n",
      " ... (more hidden) ...\u001b[A\n",
      " ... (more hidden) ...\u001b[A\n",
      " ... (more hidden) ...\u001b[A\n",
      " ... (more hidden) ...\u001b[A\n",
      " ... (more hidden) ...\u001b[A\n",
      " ... (more hidden) ...\u001b[A\n",
      " ... (more hidden) ...\u001b[A\n",
      " ... (more hidden) ...\u001b[A\n",
      " ... (more hidden) ...\u001b[A\n",
      " ... (more hidden) ...\u001b[A\n",
      " ... (more hidden) ...\u001b[A\n",
      " ... (more hidden) ...\u001b[A\n",
      " ... (more hidden) ...\u001b[A\n",
      " ... (more hidden) ...\u001b[A\n",
      "DR 3:  10%|███████████████▍                                                                                                                                                 | 3142/32768 [00:04<00:41, 709.36it/s]\n"
     ]
    },
    {
     "name": "stdout",
     "output_type": "stream",
     "text": [
      "Stopping at Epoch 3142\n",
      "DR 3 Number of samples:  torch.Size([6680, 2])\n",
      "DR 3 Predicted Gammas:  0.5089252 0.84212315 0.6957784\n"
     ]
    },
    {
     "name": "stderr",
     "output_type": "stream",
     "text": [
      "\n",
      " ... (more hidden) ...\u001b[A\n",
      " ... (more hidden) ...\u001b[A\n",
      "DR 1:   6%|██████████                                                                                                                                                      | 1025/16384 [00:00<00:04, 3295.51it/s]\n",
      "/opt/homebrew/lib/python3.11/site-packages/torch/optim/lr_scheduler.py:28: UserWarning: The verbose parameter is deprecated. Please use get_last_lr() to access the learning rate.\n",
      "  warnings.warn(\"The verbose parameter is deprecated. Please use get_last_lr() \"\n"
     ]
    },
    {
     "name": "stdout",
     "output_type": "stream",
     "text": [
      "Stopping at Epoch 1025\n",
      "AUC predicting P(win):\t\t\t\t 0.8613551188094831\n",
      "Estimated Utility\t Mean Error:\t\t\t 0.004877934479509137\n",
      "Estimated Utility\t Mean Absolute Error:\t 0.2352316450460522\n"
     ]
    },
    {
     "name": "stderr",
     "output_type": "stream",
     "text": [
      "\n",
      " ... (more hidden) ...\u001b[A\n",
      " ... (more hidden) ...\u001b[A\n",
      " ... (more hidden) ...\u001b[A\n",
      " ... (more hidden) ...\u001b[A\n",
      " ... (more hidden) ...\u001b[A\n",
      " ... (more hidden) ...\u001b[A\n",
      "DR 1:   7%|███████████▎                                                                                                                                                    | 2322/32768 [00:00<00:08, 3682.19it/s]\n",
      "/opt/homebrew/lib/python3.11/site-packages/torch/optim/lr_scheduler.py:28: UserWarning: The verbose parameter is deprecated. Please use get_last_lr() to access the learning rate.\n",
      "  warnings.warn(\"The verbose parameter is deprecated. Please use get_last_lr() \"\n"
     ]
    },
    {
     "name": "stdout",
     "output_type": "stream",
     "text": [
      "Stopping at Epoch 2322\n",
      "AUC predicting P(win):\t\t\t\t 0.8623464088050877\n",
      "Estimated Utility\t Mean Error:\t\t\t 0.00582301675445921\n",
      "Estimated Utility\t Mean Absolute Error:\t 0.23503498501479117\n"
     ]
    },
    {
     "name": "stderr",
     "output_type": "stream",
     "text": [
      "\n",
      " ... (more hidden) ...\u001b[A\n",
      " ... (more hidden) ...\u001b[A\n",
      " ... (more hidden) ...\u001b[A\n",
      " ... (more hidden) ...\u001b[A\n",
      " ... (more hidden) ...\u001b[A\n",
      " ... (more hidden) ...\u001b[A\n",
      " ... (more hidden) ...\u001b[A\n",
      " ... (more hidden) ...\u001b[A\n",
      " ... (more hidden) ...\u001b[A\n",
      " ... (more hidden) ...\u001b[A\n",
      " ... (more hidden) ...\u001b[A\n",
      " ... (more hidden) ...\u001b[A\n",
      " ... (more hidden) ...\u001b[A\n",
      " ... (more hidden) ...\u001b[A\n",
      " ... (more hidden) ...\u001b[A\n",
      " ... (more hidden) ...\u001b[A\n",
      " ... (more hidden) ...\u001b[A\n",
      " ... (more hidden) ...\u001b[A\n",
      " ... (more hidden) ...\u001b[A\n",
      " ... (more hidden) ...\u001b[A\n",
      " ... (more hidden) ...\u001b[A\n",
      "DR 1:   4%|██████▊                                                                                                                                                          | 1390/32768 [00:02<01:04, 483.89it/s]\n"
     ]
    },
    {
     "name": "stdout",
     "output_type": "stream",
     "text": [
      "Stopping at Epoch 1390\n",
      "DR 1 Number of samples:  torch.Size([6679, 2])\n",
      "DR 1 Predicted Gammas:  0.47791013 1.0 0.87927514\n"
     ]
    },
    {
     "name": "stderr",
     "output_type": "stream",
     "text": [
      "\n",
      " ... (more hidden) ...\u001b[A\n",
      " ... (more hidden) ...\u001b[A\n",
      "DR 2:   6%|██████████                                                                                                                                                      | 1025/16384 [00:00<00:04, 3308.75it/s]\n",
      "/opt/homebrew/lib/python3.11/site-packages/torch/optim/lr_scheduler.py:28: UserWarning: The verbose parameter is deprecated. Please use get_last_lr() to access the learning rate.\n",
      "  warnings.warn(\"The verbose parameter is deprecated. Please use get_last_lr() \"\n"
     ]
    },
    {
     "name": "stdout",
     "output_type": "stream",
     "text": [
      "Stopping at Epoch 1025\n",
      "AUC predicting P(win):\t\t\t\t 0.6155020296087393\n",
      "Estimated Utility\t Mean Error:\t\t\t 0.0016787434880653027\n",
      "Estimated Utility\t Mean Absolute Error:\t 0.2579370122084811\n"
     ]
    },
    {
     "name": "stderr",
     "output_type": "stream",
     "text": [
      "\n",
      " ... (more hidden) ...\u001b[A\n",
      " ... (more hidden) ...\u001b[A\n",
      " ... (more hidden) ...\u001b[A\n",
      " ... (more hidden) ...\u001b[A\n",
      " ... (more hidden) ...\u001b[A\n",
      " ... (more hidden) ...\u001b[A\n",
      " ... (more hidden) ...\u001b[A\n",
      "DR 2:   9%|██████████████                                                                                                                                                  | 2871/32768 [00:00<00:08, 3629.53it/s]\n",
      "/opt/homebrew/lib/python3.11/site-packages/torch/optim/lr_scheduler.py:28: UserWarning: The verbose parameter is deprecated. Please use get_last_lr() to access the learning rate.\n",
      "  warnings.warn(\"The verbose parameter is deprecated. Please use get_last_lr() \"\n"
     ]
    },
    {
     "name": "stdout",
     "output_type": "stream",
     "text": [
      "Stopping at Epoch 2871\n",
      "AUC predicting P(win):\t\t\t\t 0.6030414625806704\n",
      "Estimated Utility\t Mean Error:\t\t\t -0.004941761923473209\n",
      "Estimated Utility\t Mean Absolute Error:\t 0.25618725105670465\n"
     ]
    },
    {
     "name": "stderr",
     "output_type": "stream",
     "text": [
      "\n",
      " ... (more hidden) ...\u001b[A\n",
      " ... (more hidden) ...\u001b[A\n",
      " ... (more hidden) ...\u001b[A\n",
      " ... (more hidden) ...\u001b[A\n",
      " ... (more hidden) ...\u001b[A\n",
      " ... (more hidden) ...\u001b[A\n",
      " ... (more hidden) ...\u001b[A\n",
      " ... (more hidden) ...\u001b[A\n",
      " ... (more hidden) ...\u001b[A\n",
      " ... (more hidden) ...\u001b[A\n",
      " ... (more hidden) ...\u001b[A\n",
      " ... (more hidden) ...\u001b[A\n",
      " ... (more hidden) ...\u001b[A\n",
      " ... (more hidden) ...\u001b[A\n",
      " ... (more hidden) ...\u001b[A\n",
      " ... (more hidden) ...\u001b[A\n",
      " ... (more hidden) ...\u001b[A\n",
      " ... (more hidden) ...\u001b[A\n",
      " ... (more hidden) ...\u001b[A\n",
      " ... (more hidden) ...\u001b[A\n",
      "DR 2:   5%|███████▋                                                                                                                                                         | 1557/32768 [00:02<00:41, 748.50it/s]\n"
     ]
    },
    {
     "name": "stdout",
     "output_type": "stream",
     "text": [
      "Stopping at Epoch 1557\n",
      "DR 2 Number of samples:  torch.Size([6597, 2])\n",
      "DR 2 Predicted Gammas:  0.42747232 0.8902029 0.69937193\n"
     ]
    },
    {
     "name": "stderr",
     "output_type": "stream",
     "text": [
      "\n",
      " ... (more hidden) ...\u001b[A\n",
      " ... (more hidden) ...\u001b[A\n",
      " ... (more hidden) ...\u001b[A\n",
      "DR 3:   6%|██████████                                                                                                                                                      | 1025/16384 [00:00<00:04, 3249.55it/s]\n",
      "/opt/homebrew/lib/python3.11/site-packages/torch/optim/lr_scheduler.py:28: UserWarning: The verbose parameter is deprecated. Please use get_last_lr() to access the learning rate.\n",
      "  warnings.warn(\"The verbose parameter is deprecated. Please use get_last_lr() \"\n"
     ]
    },
    {
     "name": "stdout",
     "output_type": "stream",
     "text": [
      "Stopping at Epoch 1025\n",
      "AUC predicting P(win):\t\t\t\t 0.77993899155028\n",
      "Estimated Utility\t Mean Error:\t\t\t 0.0006486994454297675\n",
      "Estimated Utility\t Mean Absolute Error:\t 0.3201147981215372\n"
     ]
    },
    {
     "name": "stderr",
     "output_type": "stream",
     "text": [
      "\n",
      " ... (more hidden) ...\u001b[A\n",
      " ... (more hidden) ...\u001b[A\n",
      " ... (more hidden) ...\u001b[A\n",
      " ... (more hidden) ...\u001b[A\n",
      " ... (more hidden) ...\u001b[A\n",
      " ... (more hidden) ...\u001b[A\n",
      " ... (more hidden) ...\u001b[A\n",
      " ... (more hidden) ...\u001b[A\n",
      "DR 3:  10%|████████████████▍                                                                                                                                               | 3379/32768 [00:00<00:07, 3713.49it/s]\n",
      "/opt/homebrew/lib/python3.11/site-packages/torch/optim/lr_scheduler.py:28: UserWarning: The verbose parameter is deprecated. Please use get_last_lr() to access the learning rate.\n",
      "  warnings.warn(\"The verbose parameter is deprecated. Please use get_last_lr() \"\n"
     ]
    },
    {
     "name": "stdout",
     "output_type": "stream",
     "text": [
      "Stopping at Epoch 3379\n",
      "AUC predicting P(win):\t\t\t\t 0.7850292288891306\n",
      "Estimated Utility\t Mean Error:\t\t\t -0.0010529200221508046\n",
      "Estimated Utility\t Mean Absolute Error:\t 0.3172455868042953\n"
     ]
    },
    {
     "name": "stderr",
     "output_type": "stream",
     "text": [
      "\n",
      " ... (more hidden) ...\u001b[A\n",
      " ... (more hidden) ...\u001b[A\n",
      " ... (more hidden) ...\u001b[A\n",
      " ... (more hidden) ...\u001b[A\n",
      " ... (more hidden) ...\u001b[A\n",
      " ... (more hidden) ...\u001b[A\n",
      " ... (more hidden) ...\u001b[A\n",
      " ... (more hidden) ...\u001b[A\n",
      " ... (more hidden) ...\u001b[A\n",
      " ... (more hidden) ...\u001b[A\n",
      " ... (more hidden) ...\u001b[A\n",
      " ... (more hidden) ...\u001b[A\n",
      " ... (more hidden) ...\u001b[A\n",
      " ... (more hidden) ...\u001b[A\n",
      " ... (more hidden) ...\u001b[A\n",
      " ... (more hidden) ...\u001b[A\n",
      " ... (more hidden) ...\u001b[A\n",
      " ... (more hidden) ...\u001b[A\n",
      " ... (more hidden) ...\u001b[A\n",
      " ... (more hidden) ...\u001b[A\n",
      " ... (more hidden) ...\u001b[A\n",
      " ... (more hidden) ...\u001b[A\n",
      " ... (more hidden) ...\u001b[A\n",
      " ... (more hidden) ...\u001b[A\n",
      " ... (more hidden) ...\u001b[A\n",
      " ... (more hidden) ...\u001b[A\n",
      " ... (more hidden) ...\u001b[A\n",
      " ... (more hidden) ...\u001b[A\n",
      " ... (more hidden) ...\u001b[A\n",
      " ... (more hidden) ...\u001b[A\n",
      " ... (more hidden) ...\u001b[A\n",
      " ... (more hidden) ...\u001b[A\n",
      " ... (more hidden) ...\u001b[A\n",
      " ... (more hidden) ...\u001b[A\n",
      " ... (more hidden) ...\u001b[A\n",
      " ... (more hidden) ...\u001b[A\n",
      " ... (more hidden) ...\u001b[A\n",
      " ... (more hidden) ...\u001b[A\n",
      " ... (more hidden) ...\u001b[A\n",
      " ... (more hidden) ...\u001b[A\n",
      " ... (more hidden) ...\u001b[A\n",
      " ... (more hidden) ...\u001b[A\n",
      " ... (more hidden) ...\u001b[A\n",
      " ... (more hidden) ...\u001b[A\n",
      " ... (more hidden) ...\u001b[A\n",
      " ... (more hidden) ...\u001b[A\n",
      " ... (more hidden) ...\u001b[A\n",
      " ... (more hidden) ...\u001b[A\n",
      " ... (more hidden) ...\u001b[A\n",
      " ... (more hidden) ...\u001b[A\n",
      " ... (more hidden) ...\u001b[A\n",
      " ... (more hidden) ...\u001b[A\n",
      " ... (more hidden) ...\u001b[A\n",
      " ... (more hidden) ...\u001b[A\n",
      " ... (more hidden) ...\u001b[A\n",
      " ... (more hidden) ...\u001b[A\n",
      " ... (more hidden) ...\u001b[A\n",
      " ... (more hidden) ...\u001b[A\n",
      " ... (more hidden) ...\u001b[A\n",
      " ... (more hidden) ...\u001b[A\n",
      " ... (more hidden) ...\u001b[A\n",
      " ... (more hidden) ...\u001b[A\n",
      " ... (more hidden) ...\u001b[A\n",
      " ... (more hidden) ...\u001b[A\n",
      " ... (more hidden) ...\u001b[A\n",
      " ... (more hidden) ...\u001b[A\n",
      " ... (more hidden) ...\u001b[A\n",
      " ... (more hidden) ...\u001b[A\n",
      " ... (more hidden) ...\u001b[A\n",
      " ... (more hidden) ...\u001b[A\n",
      " ... (more hidden) ...\u001b[A\n",
      " ... (more hidden) ...\u001b[A\n",
      " ... (more hidden) ...\u001b[A\n",
      " ... (more hidden) ...\u001b[A\n",
      " ... (more hidden) ...\u001b[A\n",
      " ... (more hidden) ...\u001b[A\n",
      " ... (more hidden) ...\u001b[A\n",
      " ... (more hidden) ...\u001b[A\n",
      " ... (more hidden) ...\u001b[A\n",
      " ... (more hidden) ...\u001b[A\n",
      " ... (more hidden) ...\u001b[A\n",
      " ... (more hidden) ...\u001b[A\n",
      " ... (more hidden) ...\u001b[A\n",
      " ... (more hidden) ...\u001b[A\n",
      " ... (more hidden) ...\u001b[A\n",
      " ... (more hidden) ...\u001b[A\n",
      " ... (more hidden) ...\u001b[A\n",
      " ... (more hidden) ...\u001b[A\n",
      " ... (more hidden) ...\u001b[A\n",
      " ... (more hidden) ...\u001b[A\n",
      " ... (more hidden) ...\u001b[A\n",
      " ... (more hidden) ...\u001b[A\n",
      " ... (more hidden) ...\u001b[A\n",
      " ... (more hidden) ...\u001b[A\n",
      " ... (more hidden) ...\u001b[A\n",
      " ... (more hidden) ...\u001b[A\n",
      " ... (more hidden) ...\u001b[A\n",
      " ... (more hidden) ...\u001b[A\n",
      " ... (more hidden) ...\u001b[A\n",
      " ... (more hidden) ...\u001b[A\n",
      "DR 3:  23%|█████████████████████████████████████▎                                                                                                                           | 7586/32768 [00:11<00:36, 681.39it/s]\n"
     ]
    },
    {
     "name": "stdout",
     "output_type": "stream",
     "text": [
      "Stopping at Epoch 7586\n",
      "DR 3 Number of samples:  torch.Size([6724, 2])\n",
      "DR 3 Predicted Gammas:  0.5372358 1.0 0.70958114\n"
     ]
    },
    {
     "name": "stderr",
     "output_type": "stream",
     "text": [
      "\n",
      " ... (more hidden) ...\u001b[A\n",
      " ... (more hidden) ...\u001b[A\n",
      "DR 1:   6%|██████████                                                                                                                                                      | 1025/16384 [00:00<00:04, 3495.79it/s]\n",
      "/opt/homebrew/lib/python3.11/site-packages/torch/optim/lr_scheduler.py:28: UserWarning: The verbose parameter is deprecated. Please use get_last_lr() to access the learning rate.\n",
      "  warnings.warn(\"The verbose parameter is deprecated. Please use get_last_lr() \"\n"
     ]
    },
    {
     "name": "stdout",
     "output_type": "stream",
     "text": [
      "Stopping at Epoch 1025\n",
      "AUC predicting P(win):\t\t\t\t 0.8893357199218681\n",
      "Estimated Utility\t Mean Error:\t\t\t -0.00035992477613565734\n",
      "Estimated Utility\t Mean Absolute Error:\t 0.24362727114861255\n"
     ]
    },
    {
     "name": "stderr",
     "output_type": "stream",
     "text": [
      "\n",
      " ... (more hidden) ...\u001b[A\n",
      " ... (more hidden) ...\u001b[A\n",
      " ... (more hidden) ...\u001b[A\n",
      " ... (more hidden) ...\u001b[A\n",
      " ... (more hidden) ...\u001b[A\n",
      " ... (more hidden) ...\u001b[A\n",
      " ... (more hidden) ...\u001b[A\n",
      " ... (more hidden) ...\u001b[A\n",
      " ... (more hidden) ...\u001b[A\n",
      " ... (more hidden) ...\u001b[A\n",
      " ... (more hidden) ...\u001b[A\n",
      " ... (more hidden) ...\u001b[A\n",
      " ... (more hidden) ...\u001b[A\n",
      " ... (more hidden) ...\u001b[A\n",
      " ... (more hidden) ...\u001b[A\n",
      " ... (more hidden) ...\u001b[A\n",
      " ... (more hidden) ...\u001b[A\n",
      " ... (more hidden) ...\u001b[A\n",
      " ... (more hidden) ...\u001b[A\n",
      " ... (more hidden) ...\u001b[A\n",
      " ... (more hidden) ...\u001b[A\n",
      " ... (more hidden) ...\u001b[A\n",
      "DR 1:  26%|█████████████████████████████████████████▋                                                                                                                      | 8531/32768 [00:02<00:06, 3608.90it/s]\n",
      "/opt/homebrew/lib/python3.11/site-packages/torch/optim/lr_scheduler.py:28: UserWarning: The verbose parameter is deprecated. Please use get_last_lr() to access the learning rate.\n",
      "  warnings.warn(\"The verbose parameter is deprecated. Please use get_last_lr() \"\n"
     ]
    },
    {
     "name": "stdout",
     "output_type": "stream",
     "text": [
      "Stopping at Epoch 8531\n",
      "AUC predicting P(win):\t\t\t\t 0.8900616962557979\n",
      "Estimated Utility\t Mean Error:\t\t\t -0.0022933951026989255\n",
      "Estimated Utility\t Mean Absolute Error:\t 0.24322361736114842\n"
     ]
    },
    {
     "name": "stderr",
     "output_type": "stream",
     "text": [
      "\n",
      " ... (more hidden) ...\u001b[A\n",
      " ... (more hidden) ...\u001b[A\n",
      " ... (more hidden) ...\u001b[A\n",
      " ... (more hidden) ...\u001b[A\n",
      " ... (more hidden) ...\u001b[A\n",
      " ... (more hidden) ...\u001b[A\n",
      " ... (more hidden) ...\u001b[A\n",
      "DR 1:   2%|██▊                                                                                                                                                               | 567/32768 [00:00<00:42, 760.80it/s]\n"
     ]
    },
    {
     "name": "stdout",
     "output_type": "stream",
     "text": [
      "Stopping at Epoch 567\n",
      "DR 1 Number of samples:  torch.Size([6660, 2])\n",
      "DR 1 Predicted Gammas:  0.40705216 1.0 0.8315757\n"
     ]
    },
    {
     "name": "stderr",
     "output_type": "stream",
     "text": [
      "\n",
      " ... (more hidden) ...\u001b[A\n",
      " ... (more hidden) ...\u001b[A\n",
      "DR 2:   6%|██████████                                                                                                                                                      | 1025/16384 [00:00<00:03, 4273.07it/s]\n",
      "/opt/homebrew/lib/python3.11/site-packages/torch/optim/lr_scheduler.py:28: UserWarning: The verbose parameter is deprecated. Please use get_last_lr() to access the learning rate.\n",
      "  warnings.warn(\"The verbose parameter is deprecated. Please use get_last_lr() \"\n"
     ]
    },
    {
     "name": "stdout",
     "output_type": "stream",
     "text": [
      "Stopping at Epoch 1025\n",
      "AUC predicting P(win):\t\t\t\t 0.5932176356958536\n",
      "Estimated Utility\t Mean Error:\t\t\t -0.006329596170234192\n",
      "Estimated Utility\t Mean Absolute Error:\t 0.2578026685600633\n"
     ]
    },
    {
     "name": "stderr",
     "output_type": "stream",
     "text": [
      "\n",
      " ... (more hidden) ...\u001b[A\n",
      " ... (more hidden) ...\u001b[A\n",
      " ... (more hidden) ...\u001b[A\n",
      " ... (more hidden) ...\u001b[A\n",
      "DR 2:   5%|████████▌                                                                                                                                                       | 1762/32768 [00:00<00:07, 4170.46it/s]\n",
      "/opt/homebrew/lib/python3.11/site-packages/torch/optim/lr_scheduler.py:28: UserWarning: The verbose parameter is deprecated. Please use get_last_lr() to access the learning rate.\n",
      "  warnings.warn(\"The verbose parameter is deprecated. Please use get_last_lr() \"\n"
     ]
    },
    {
     "name": "stdout",
     "output_type": "stream",
     "text": [
      "Stopping at Epoch 1762\n",
      "AUC predicting P(win):\t\t\t\t 0.5933754343586886\n",
      "Estimated Utility\t Mean Error:\t\t\t -0.0053342587109458505\n",
      "Estimated Utility\t Mean Absolute Error:\t 0.25844434964625007\n"
     ]
    },
    {
     "name": "stderr",
     "output_type": "stream",
     "text": [
      "\n",
      " ... (more hidden) ...\u001b[A\n",
      " ... (more hidden) ...\u001b[A\n",
      " ... (more hidden) ...\u001b[A\n",
      " ... (more hidden) ...\u001b[A\n",
      " ... (more hidden) ...\u001b[A\n",
      " ... (more hidden) ...\u001b[A\n",
      " ... (more hidden) ...\u001b[A\n",
      " ... (more hidden) ...\u001b[A\n",
      " ... (more hidden) ...\u001b[A\n",
      " ... (more hidden) ...\u001b[A\n",
      " ... (more hidden) ...\u001b[A\n",
      " ... (more hidden) ...\u001b[A\n",
      " ... (more hidden) ...\u001b[A\n",
      " ... (more hidden) ...\u001b[A\n",
      " ... (more hidden) ...\u001b[A\n",
      " ... (more hidden) ...\u001b[A\n",
      " ... (more hidden) ...\u001b[A\n",
      " ... (more hidden) ...\u001b[A\n",
      " ... (more hidden) ...\u001b[A\n",
      " ... (more hidden) ...\u001b[A\n",
      " ... (more hidden) ...\u001b[A\n",
      " ... (more hidden) ...\u001b[A\n",
      " ... (more hidden) ...\u001b[A\n",
      " ... (more hidden) ...\u001b[A\n",
      " ... (more hidden) ...\u001b[A\n",
      " ... (more hidden) ...\u001b[A\n",
      " ... (more hidden) ...\u001b[A\n",
      " ... (more hidden) ...\u001b[A\n",
      " ... (more hidden) ...\u001b[A\n",
      " ... (more hidden) ...\u001b[A\n",
      " ... (more hidden) ...\u001b[A\n",
      " ... (more hidden) ...\u001b[A\n",
      " ... (more hidden) ...\u001b[A\n",
      " ... (more hidden) ...\u001b[A\n",
      " ... (more hidden) ...\u001b[A\n",
      " ... (more hidden) ...\u001b[A\n",
      " ... (more hidden) ...\u001b[A\n",
      " ... (more hidden) ...\u001b[A\n",
      " ... (more hidden) ...\u001b[A\n",
      " ... (more hidden) ...\u001b[A\n",
      " ... (more hidden) ...\u001b[A\n",
      " ... (more hidden) ...\u001b[A\n",
      " ... (more hidden) ...\u001b[A\n",
      " ... (more hidden) ...\u001b[A\n",
      " ... (more hidden) ...\u001b[A\n",
      " ... (more hidden) ...\u001b[A\n",
      " ... (more hidden) ...\u001b[A\n",
      " ... (more hidden) ...\u001b[A\n",
      " ... (more hidden) ...\u001b[A\n",
      " ... (more hidden) ...\u001b[A\n",
      " ... (more hidden) ...\u001b[A\n",
      " ... (more hidden) ...\u001b[A\n",
      " ... (more hidden) ...\u001b[A\n",
      " ... (more hidden) ...\u001b[A\n",
      " ... (more hidden) ...\u001b[A\n",
      " ... (more hidden) ...\u001b[A\n",
      " ... (more hidden) ...\u001b[A\n",
      " ... (more hidden) ...\u001b[A\n",
      " ... (more hidden) ...\u001b[A\n",
      " ... (more hidden) ...\u001b[A\n",
      " ... (more hidden) ...\u001b[A\n",
      " ... (more hidden) ...\u001b[A\n",
      " ... (more hidden) ...\u001b[A\n",
      "DR 2:  15%|███████████████████████▉                                                                                                                                         | 4863/32768 [00:06<00:37, 735.36it/s]\n"
     ]
    },
    {
     "name": "stdout",
     "output_type": "stream",
     "text": [
      "Stopping at Epoch 4863\n",
      "DR 2 Number of samples:  torch.Size([6666, 2])\n",
      "DR 2 Predicted Gammas:  0.38992763 0.94578624 0.6957662\n"
     ]
    },
    {
     "name": "stderr",
     "output_type": "stream",
     "text": [
      "\n",
      " ... (more hidden) ...\u001b[A\n",
      " ... (more hidden) ...\u001b[A\n",
      " ... (more hidden) ...\u001b[A\n",
      "DR 3:   6%|██████████                                                                                                                                                      | 1025/16384 [00:00<00:04, 3342.20it/s]\n",
      "/opt/homebrew/lib/python3.11/site-packages/torch/optim/lr_scheduler.py:28: UserWarning: The verbose parameter is deprecated. Please use get_last_lr() to access the learning rate.\n",
      "  warnings.warn(\"The verbose parameter is deprecated. Please use get_last_lr() \"\n"
     ]
    },
    {
     "name": "stdout",
     "output_type": "stream",
     "text": [
      "Stopping at Epoch 1025\n",
      "AUC predicting P(win):\t\t\t\t 0.7960584374800521\n",
      "Estimated Utility\t Mean Error:\t\t\t 0.007551970762825041\n",
      "Estimated Utility\t Mean Absolute Error:\t 0.30604593635532573\n"
     ]
    },
    {
     "name": "stderr",
     "output_type": "stream",
     "text": [
      "\n",
      " ... (more hidden) ...\u001b[A\n",
      " ... (more hidden) ...\u001b[A\n",
      " ... (more hidden) ...\u001b[A\n",
      " ... (more hidden) ...\u001b[A\n",
      " ... (more hidden) ...\u001b[A\n",
      " ... (more hidden) ...\u001b[A\n",
      "DR 3:   8%|████████████▉                                                                                                                                                   | 2654/32768 [00:00<00:07, 3843.16it/s]\n",
      "/opt/homebrew/lib/python3.11/site-packages/torch/optim/lr_scheduler.py:28: UserWarning: The verbose parameter is deprecated. Please use get_last_lr() to access the learning rate.\n",
      "  warnings.warn(\"The verbose parameter is deprecated. Please use get_last_lr() \"\n"
     ]
    },
    {
     "name": "stdout",
     "output_type": "stream",
     "text": [
      "Stopping at Epoch 2654\n",
      "AUC predicting P(win):\t\t\t\t 0.7983952066404015\n",
      "Estimated Utility\t Mean Error:\t\t\t 0.003770404465011515\n",
      "Estimated Utility\t Mean Absolute Error:\t 0.3037979653754444\n"
     ]
    },
    {
     "name": "stderr",
     "output_type": "stream",
     "text": [
      "\n",
      " ... (more hidden) ...\u001b[A\n",
      " ... (more hidden) ...\u001b[A\n",
      " ... (more hidden) ...\u001b[A\n",
      " ... (more hidden) ...\u001b[A\n",
      " ... (more hidden) ...\u001b[A\n",
      " ... (more hidden) ...\u001b[A\n",
      " ... (more hidden) ...\u001b[A\n",
      " ... (more hidden) ...\u001b[A\n",
      " ... (more hidden) ...\u001b[A\n",
      " ... (more hidden) ...\u001b[A\n",
      " ... (more hidden) ...\u001b[A\n",
      " ... (more hidden) ...\u001b[A\n",
      " ... (more hidden) ...\u001b[A\n",
      " ... (more hidden) ...\u001b[A\n",
      " ... (more hidden) ...\u001b[A\n",
      " ... (more hidden) ...\u001b[A\n",
      " ... (more hidden) ...\u001b[A\n",
      " ... (more hidden) ...\u001b[A\n",
      " ... (more hidden) ...\u001b[A\n",
      " ... (more hidden) ...\u001b[A\n",
      " ... (more hidden) ...\u001b[A\n",
      " ... (more hidden) ...\u001b[A\n",
      " ... (more hidden) ...\u001b[A\n",
      " ... (more hidden) ...\u001b[A\n",
      " ... (more hidden) ...\u001b[A\n",
      " ... (more hidden) ...\u001b[A\n",
      " ... (more hidden) ...\u001b[A\n",
      " ... (more hidden) ...\u001b[A\n",
      " ... (more hidden) ...\u001b[A\n",
      " ... (more hidden) ...\u001b[A\n",
      " ... (more hidden) ...\u001b[A\n",
      " ... (more hidden) ...\u001b[A\n",
      " ... (more hidden) ...\u001b[A\n",
      " ... (more hidden) ...\u001b[A\n",
      " ... (more hidden) ...\u001b[A\n",
      " ... (more hidden) ...\u001b[A\n",
      " ... (more hidden) ...\u001b[A\n",
      " ... (more hidden) ...\u001b[A\n",
      "DR 3:   9%|██████████████▋                                                                                                                                                  | 3002/32768 [00:04<00:40, 741.14it/s]\n"
     ]
    },
    {
     "name": "stdout",
     "output_type": "stream",
     "text": [
      "Stopping at Epoch 3002\n",
      "DR 3 Number of samples:  torch.Size([6674, 2])\n",
      "DR 3 Predicted Gammas:  0.5731789 0.9867163 0.7060559\n"
     ]
    },
    {
     "name": "stderr",
     "output_type": "stream",
     "text": [
      "\n",
      " ... (more hidden) ...\u001b[A\n",
      " ... (more hidden) ...\u001b[A\n",
      "DR 1:   6%|██████████                                                                                                                                                      | 1025/16384 [00:00<00:04, 3665.66it/s]\n",
      "/opt/homebrew/lib/python3.11/site-packages/torch/optim/lr_scheduler.py:28: UserWarning: The verbose parameter is deprecated. Please use get_last_lr() to access the learning rate.\n",
      "  warnings.warn(\"The verbose parameter is deprecated. Please use get_last_lr() \"\n"
     ]
    },
    {
     "name": "stdout",
     "output_type": "stream",
     "text": [
      "Stopping at Epoch 1025\n",
      "AUC predicting P(win):\t\t\t\t 0.8597108063571478\n",
      "Estimated Utility\t Mean Error:\t\t\t -0.0057887487554765015\n",
      "Estimated Utility\t Mean Absolute Error:\t 0.23394838811678198\n"
     ]
    },
    {
     "name": "stderr",
     "output_type": "stream",
     "text": [
      "\n",
      " ... (more hidden) ...\u001b[A\n",
      " ... (more hidden) ...\u001b[A\n",
      " ... (more hidden) ...\u001b[A\n",
      " ... (more hidden) ...\u001b[A\n",
      "DR 1:   5%|████████▍                                                                                                                                                       | 1726/32768 [00:00<00:08, 3671.15it/s]\n",
      "/opt/homebrew/lib/python3.11/site-packages/torch/optim/lr_scheduler.py:28: UserWarning: The verbose parameter is deprecated. Please use get_last_lr() to access the learning rate.\n",
      "  warnings.warn(\"The verbose parameter is deprecated. Please use get_last_lr() \"\n"
     ]
    },
    {
     "name": "stdout",
     "output_type": "stream",
     "text": [
      "Stopping at Epoch 1726\n",
      "AUC predicting P(win):\t\t\t\t 0.8592282910662702\n",
      "Estimated Utility\t Mean Error:\t\t\t 0.002767820360320939\n",
      "Estimated Utility\t Mean Absolute Error:\t 0.23515946321614414\n"
     ]
    },
    {
     "name": "stderr",
     "output_type": "stream",
     "text": [
      "\n",
      " ... (more hidden) ...\u001b[A\n",
      " ... (more hidden) ...\u001b[A\n",
      " ... (more hidden) ...\u001b[A\n",
      " ... (more hidden) ...\u001b[A\n",
      " ... (more hidden) ...\u001b[A\n",
      " ... (more hidden) ...\u001b[A\n",
      " ... (more hidden) ...\u001b[A\n",
      " ... (more hidden) ...\u001b[A\n",
      " ... (more hidden) ...\u001b[A\n",
      " ... (more hidden) ...\u001b[A\n",
      " ... (more hidden) ...\u001b[A\n",
      " ... (more hidden) ...\u001b[A\n",
      " ... (more hidden) ...\u001b[A\n",
      " ... (more hidden) ...\u001b[A\n",
      "DR 1:   3%|█████▌                                                                                                                                                           | 1139/32768 [00:01<00:43, 720.36it/s]\n"
     ]
    },
    {
     "name": "stdout",
     "output_type": "stream",
     "text": [
      "Stopping at Epoch 1139\n",
      "DR 1 Number of samples:  torch.Size([6726, 2])\n",
      "DR 1 Predicted Gammas:  0.47414967 1.0 0.8314021\n"
     ]
    },
    {
     "name": "stderr",
     "output_type": "stream",
     "text": [
      "\n",
      " ... (more hidden) ...\u001b[A\n",
      " ... (more hidden) ...\u001b[A\n",
      "DR 2:   6%|██████████                                                                                                                                                      | 1025/16384 [00:00<00:08, 1730.80it/s]\n",
      "/opt/homebrew/lib/python3.11/site-packages/torch/optim/lr_scheduler.py:28: UserWarning: The verbose parameter is deprecated. Please use get_last_lr() to access the learning rate.\n",
      "  warnings.warn(\"The verbose parameter is deprecated. Please use get_last_lr() \"\n"
     ]
    },
    {
     "name": "stdout",
     "output_type": "stream",
     "text": [
      "Stopping at Epoch 1025\n",
      "AUC predicting P(win):\t\t\t\t 0.5153442149111308\n",
      "Estimated Utility\t Mean Error:\t\t\t -0.005923967431870004\n",
      "Estimated Utility\t Mean Absolute Error:\t 0.27032064467954847\n"
     ]
    },
    {
     "name": "stderr",
     "output_type": "stream",
     "text": [
      "\n",
      " ... (more hidden) ...\u001b[A\n",
      " ... (more hidden) ...\u001b[A\n",
      " ... (more hidden) ...\u001b[A\n",
      " ... (more hidden) ...\u001b[A\n",
      " ... (more hidden) ...\u001b[A\n",
      " ... (more hidden) ...\u001b[A\n",
      " ... (more hidden) ...\u001b[A\n",
      " ... (more hidden) ...\u001b[A\n",
      " ... (more hidden) ...\u001b[A\n",
      "DR 2:   9%|██████████████▉                                                                                                                                                 | 3052/32768 [00:01<00:10, 2895.32it/s]\n",
      "/opt/homebrew/lib/python3.11/site-packages/torch/optim/lr_scheduler.py:28: UserWarning: The verbose parameter is deprecated. Please use get_last_lr() to access the learning rate.\n",
      "  warnings.warn(\"The verbose parameter is deprecated. Please use get_last_lr() \"\n"
     ]
    },
    {
     "name": "stdout",
     "output_type": "stream",
     "text": [
      "Stopping at Epoch 3052\n",
      "AUC predicting P(win):\t\t\t\t 0.5346463149435025\n",
      "Estimated Utility\t Mean Error:\t\t\t 0.003372042231558944\n",
      "Estimated Utility\t Mean Absolute Error:\t 0.27374155231165187\n"
     ]
    },
    {
     "name": "stderr",
     "output_type": "stream",
     "text": [
      "\n",
      " ... (more hidden) ...\u001b[A\n",
      " ... (more hidden) ...\u001b[A\n",
      " ... (more hidden) ...\u001b[A\n",
      " ... (more hidden) ...\u001b[A\n",
      " ... (more hidden) ...\u001b[A\n",
      " ... (more hidden) ...\u001b[A\n",
      " ... (more hidden) ...\u001b[A\n",
      " ... (more hidden) ...\u001b[A\n",
      " ... (more hidden) ...\u001b[A\n",
      "DR 2:   2%|███▌                                                                                                                                                              | 730/32768 [00:01<00:45, 703.37it/s]\n"
     ]
    },
    {
     "name": "stdout",
     "output_type": "stream",
     "text": [
      "Stopping at Epoch 730\n",
      "DR 2 Number of samples:  torch.Size([6615, 2])\n",
      "DR 2 Predicted Gammas:  0.4372126 0.9483117 0.7004844\n"
     ]
    },
    {
     "name": "stderr",
     "output_type": "stream",
     "text": [
      "\n",
      " ... (more hidden) ...\u001b[A\n",
      " ... (more hidden) ...\u001b[A\n",
      " ... (more hidden) ...\u001b[A\n",
      "DR 3:   6%|██████████                                                                                                                                                      | 1025/16384 [00:00<00:04, 3099.85it/s]\n",
      "/opt/homebrew/lib/python3.11/site-packages/torch/optim/lr_scheduler.py:28: UserWarning: The verbose parameter is deprecated. Please use get_last_lr() to access the learning rate.\n",
      "  warnings.warn(\"The verbose parameter is deprecated. Please use get_last_lr() \"\n"
     ]
    },
    {
     "name": "stdout",
     "output_type": "stream",
     "text": [
      "Stopping at Epoch 1025\n",
      "AUC predicting P(win):\t\t\t\t 0.8265329207609057\n",
      "Estimated Utility\t Mean Error:\t\t\t -0.013926443729821124\n",
      "Estimated Utility\t Mean Absolute Error:\t 0.30840468308192\n"
     ]
    },
    {
     "name": "stderr",
     "output_type": "stream",
     "text": [
      "\n",
      " ... (more hidden) ...\u001b[A\n",
      " ... (more hidden) ...\u001b[A\n",
      " ... (more hidden) ...\u001b[A\n",
      " ... (more hidden) ...\u001b[A\n",
      " ... (more hidden) ...\u001b[A\n",
      " ... (more hidden) ...\u001b[A\n",
      " ... (more hidden) ...\u001b[A\n",
      " ... (more hidden) ...\u001b[A\n",
      " ... (more hidden) ...\u001b[A\n",
      " ... (more hidden) ...\u001b[A\n",
      " ... (more hidden) ...\u001b[A\n",
      "DR 3:  14%|██████████████████████                                                                                                                                          | 4520/32768 [00:01<00:07, 3844.89it/s]\n",
      "/opt/homebrew/lib/python3.11/site-packages/torch/optim/lr_scheduler.py:28: UserWarning: The verbose parameter is deprecated. Please use get_last_lr() to access the learning rate.\n",
      "  warnings.warn(\"The verbose parameter is deprecated. Please use get_last_lr() \"\n"
     ]
    },
    {
     "name": "stdout",
     "output_type": "stream",
     "text": [
      "Stopping at Epoch 4520\n",
      "AUC predicting P(win):\t\t\t\t 0.8291741013358044\n",
      "Estimated Utility\t Mean Error:\t\t\t -0.007265125255519683\n",
      "Estimated Utility\t Mean Absolute Error:\t 0.3094338212524223\n"
     ]
    },
    {
     "name": "stderr",
     "output_type": "stream",
     "text": [
      "\n",
      " ... (more hidden) ...\u001b[A\n",
      " ... (more hidden) ...\u001b[A\n",
      " ... (more hidden) ...\u001b[A\n",
      " ... (more hidden) ...\u001b[A\n",
      " ... (more hidden) ...\u001b[A\n",
      " ... (more hidden) ...\u001b[A\n",
      " ... (more hidden) ...\u001b[A\n",
      " ... (more hidden) ...\u001b[A\n",
      " ... (more hidden) ...\u001b[A\n",
      " ... (more hidden) ...\u001b[A\n",
      " ... (more hidden) ...\u001b[A\n",
      " ... (more hidden) ...\u001b[A\n",
      " ... (more hidden) ...\u001b[A\n",
      " ... (more hidden) ...\u001b[A\n",
      " ... (more hidden) ...\u001b[A\n",
      " ... (more hidden) ...\u001b[A\n",
      " ... (more hidden) ...\u001b[A\n",
      " ... (more hidden) ...\u001b[A\n",
      " ... (more hidden) ...\u001b[A\n",
      " ... (more hidden) ...\u001b[A\n",
      " ... (more hidden) ...\u001b[A\n",
      " ... (more hidden) ...\u001b[A\n",
      " ... (more hidden) ...\u001b[A\n",
      " ... (more hidden) ...\u001b[A\n",
      " ... (more hidden) ...\u001b[A\n",
      " ... (more hidden) ...\u001b[A\n",
      " ... (more hidden) ...\u001b[A\n",
      " ... (more hidden) ...\u001b[A\n",
      " ... (more hidden) ...\u001b[A\n",
      " ... (more hidden) ...\u001b[A\n",
      " ... (more hidden) ...\u001b[A\n",
      " ... (more hidden) ...\u001b[A\n",
      " ... (more hidden) ...\u001b[A\n",
      " ... (more hidden) ...\u001b[A\n",
      " ... (more hidden) ...\u001b[A\n",
      " ... (more hidden) ...\u001b[A\n",
      " ... (more hidden) ...\u001b[A\n",
      " ... (more hidden) ...\u001b[A\n",
      " ... (more hidden) ...\u001b[A\n",
      " ... (more hidden) ...\u001b[A\n",
      " ... (more hidden) ...\u001b[A\n",
      " ... (more hidden) ...\u001b[A\n",
      " ... (more hidden) ...\u001b[A\n",
      " ... (more hidden) ...\u001b[A\n",
      " ... (more hidden) ...\u001b[A\n",
      " ... (more hidden) ...\u001b[A\n",
      " ... (more hidden) ...\u001b[A\n",
      " ... (more hidden) ...\u001b[A\n",
      " ... (more hidden) ...\u001b[A\n",
      " ... (more hidden) ...\u001b[A\n",
      " ... (more hidden) ...\u001b[A\n",
      " ... (more hidden) ...\u001b[A\n",
      " ... (more hidden) ...\u001b[A\n",
      " ... (more hidden) ...\u001b[A\n",
      " ... (more hidden) ...\u001b[A\n",
      " ... (more hidden) ...\u001b[A\n",
      " ... (more hidden) ...\u001b[A\n",
      " ... (more hidden) ...\u001b[A\n",
      " ... (more hidden) ...\u001b[A\n",
      " ... (more hidden) ...\u001b[A\n",
      " ... (more hidden) ...\u001b[A\n",
      " ... (more hidden) ...\u001b[A\n",
      "DR 3:  15%|███████████████████████▌                                                                                                                                         | 4784/32768 [00:06<00:38, 720.40it/s]\n"
     ]
    },
    {
     "name": "stdout",
     "output_type": "stream",
     "text": [
      "Stopping at Epoch 4784\n",
      "DR 3 Number of samples:  torch.Size([6659, 2])\n",
      "DR 3 Predicted Gammas:  0.50069195 0.7935149 0.67448837\n"
     ]
    },
    {
     "name": "stderr",
     "output_type": "stream",
     "text": [
      "\n",
      " ... (more hidden) ...\u001b[A\n",
      " ... (more hidden) ...\u001b[A\n",
      "DR 1:   6%|██████████                                                                                                                                                      | 1025/16384 [00:00<00:04, 3248.45it/s]\n",
      "/opt/homebrew/lib/python3.11/site-packages/torch/optim/lr_scheduler.py:28: UserWarning: The verbose parameter is deprecated. Please use get_last_lr() to access the learning rate.\n",
      "  warnings.warn(\"The verbose parameter is deprecated. Please use get_last_lr() \"\n"
     ]
    },
    {
     "name": "stdout",
     "output_type": "stream",
     "text": [
      "Stopping at Epoch 1025\n",
      "AUC predicting P(win):\t\t\t\t 0.8839305951913239\n",
      "Estimated Utility\t Mean Error:\t\t\t 0.004427418057272357\n",
      "Estimated Utility\t Mean Absolute Error:\t 0.2307862879665269\n"
     ]
    },
    {
     "name": "stderr",
     "output_type": "stream",
     "text": [
      "\n",
      " ... (more hidden) ...\u001b[A\n",
      " ... (more hidden) ...\u001b[A\n",
      " ... (more hidden) ...\u001b[A\n",
      "DR 1:   4%|██████▌                                                                                                                                                         | 1348/32768 [00:00<00:08, 3786.21it/s]\n",
      "/opt/homebrew/lib/python3.11/site-packages/torch/optim/lr_scheduler.py:28: UserWarning: The verbose parameter is deprecated. Please use get_last_lr() to access the learning rate.\n",
      "  warnings.warn(\"The verbose parameter is deprecated. Please use get_last_lr() \"\n"
     ]
    },
    {
     "name": "stdout",
     "output_type": "stream",
     "text": [
      "Stopping at Epoch 1348\n",
      "AUC predicting P(win):\t\t\t\t 0.882881431607972\n",
      "Estimated Utility\t Mean Error:\t\t\t 0.0052033600577156905\n",
      "Estimated Utility\t Mean Absolute Error:\t 0.23122759540665713\n"
     ]
    },
    {
     "name": "stderr",
     "output_type": "stream",
     "text": [
      "\n",
      " ... (more hidden) ...\u001b[A\n",
      " ... (more hidden) ...\u001b[A\n",
      " ... (more hidden) ...\u001b[A\n",
      " ... (more hidden) ...\u001b[A\n",
      " ... (more hidden) ...\u001b[A\n",
      " ... (more hidden) ...\u001b[A\n",
      " ... (more hidden) ...\u001b[A\n",
      " ... (more hidden) ...\u001b[A\n",
      " ... (more hidden) ...\u001b[A\n",
      " ... (more hidden) ...\u001b[A\n",
      " ... (more hidden) ...\u001b[A\n",
      " ... (more hidden) ...\u001b[A\n",
      " ... (more hidden) ...\u001b[A\n",
      " ... (more hidden) ...\u001b[A\n",
      " ... (more hidden) ...\u001b[A\n",
      " ... (more hidden) ...\u001b[A\n",
      " ... (more hidden) ...\u001b[A\n",
      " ... (more hidden) ...\u001b[A\n",
      " ... (more hidden) ...\u001b[A\n",
      " ... (more hidden) ...\u001b[A\n",
      " ... (more hidden) ...\u001b[A\n",
      " ... (more hidden) ...\u001b[A\n",
      " ... (more hidden) ...\u001b[A\n",
      " ... (more hidden) ...\u001b[A\n",
      " ... (more hidden) ...\u001b[A\n",
      " ... (more hidden) ...\u001b[A\n",
      " ... (more hidden) ...\u001b[A\n",
      " ... (more hidden) ...\u001b[A\n",
      " ... (more hidden) ...\u001b[A\n",
      " ... (more hidden) ...\u001b[A\n",
      " ... (more hidden) ...\u001b[A\n",
      " ... (more hidden) ...\u001b[A\n",
      " ... (more hidden) ...\u001b[A\n",
      " ... (more hidden) ...\u001b[A\n",
      " ... (more hidden) ...\u001b[A\n",
      " ... (more hidden) ...\u001b[A\n",
      " ... (more hidden) ...\u001b[A\n",
      " ... (more hidden) ...\u001b[A\n",
      " ... (more hidden) ...\u001b[A\n",
      " ... (more hidden) ...\u001b[A\n",
      " ... (more hidden) ...\u001b[A\n",
      " ... (more hidden) ...\u001b[A\n",
      " ... (more hidden) ...\u001b[A\n",
      " ... (more hidden) ...\u001b[A\n",
      " ... (more hidden) ...\u001b[A\n",
      " ... (more hidden) ...\u001b[A\n",
      " ... (more hidden) ...\u001b[A\n",
      " ... (more hidden) ...\u001b[A\n",
      " ... (more hidden) ...\u001b[A\n",
      " ... (more hidden) ...\u001b[A\n",
      " ... (more hidden) ...\u001b[A\n",
      " ... (more hidden) ...\u001b[A\n",
      " ... (more hidden) ...\u001b[A\n",
      " ... (more hidden) ...\u001b[A\n",
      " ... (more hidden) ...\u001b[A\n",
      " ... (more hidden) ...\u001b[A\n",
      " ... (more hidden) ...\u001b[A\n",
      " ... (more hidden) ...\u001b[A\n",
      " ... (more hidden) ...\u001b[A\n",
      " ... (more hidden) ...\u001b[A\n",
      " ... (more hidden) ...\u001b[A\n",
      " ... (more hidden) ...\u001b[A\n",
      " ... (more hidden) ...\u001b[A\n",
      " ... (more hidden) ...\u001b[A\n",
      " ... (more hidden) ...\u001b[A\n",
      " ... (more hidden) ...\u001b[A\n",
      " ... (more hidden) ...\u001b[A\n",
      " ... (more hidden) ...\u001b[A\n",
      " ... (more hidden) ...\u001b[A\n",
      " ... (more hidden) ...\u001b[A\n",
      " ... (more hidden) ...\u001b[A\n",
      " ... (more hidden) ...\u001b[A\n",
      " ... (more hidden) ...\u001b[A\n",
      " ... (more hidden) ...\u001b[A\n",
      " ... (more hidden) ...\u001b[A\n",
      " ... (more hidden) ...\u001b[A\n",
      " ... (more hidden) ...\u001b[A\n",
      " ... (more hidden) ...\u001b[A\n",
      " ... (more hidden) ...\u001b[A\n",
      " ... (more hidden) ...\u001b[A\n",
      " ... (more hidden) ...\u001b[A\n",
      " ... (more hidden) ...\u001b[A\n",
      " ... (more hidden) ...\u001b[A\n",
      " ... (more hidden) ...\u001b[A\n",
      " ... (more hidden) ...\u001b[A\n",
      " ... (more hidden) ...\u001b[A\n",
      " ... (more hidden) ...\u001b[A\n",
      " ... (more hidden) ...\u001b[A\n",
      " ... (more hidden) ...\u001b[A\n",
      " ... (more hidden) ...\u001b[A\n",
      " ... (more hidden) ...\u001b[A\n",
      " ... (more hidden) ...\u001b[A\n",
      " ... (more hidden) ...\u001b[A\n",
      " ... (more hidden) ...\u001b[A\n",
      " ... (more hidden) ...\u001b[A\n",
      " ... (more hidden) ...\u001b[A\n",
      " ... (more hidden) ...\u001b[A\n",
      " ... (more hidden) ...\u001b[A\n",
      " ... (more hidden) ...\u001b[A\n",
      " ... (more hidden) ...\u001b[A\n",
      " ... (more hidden) ...\u001b[A\n",
      " ... (more hidden) ...\u001b[A\n",
      " ... (more hidden) ...\u001b[A\n",
      " ... (more hidden) ...\u001b[A\n",
      " ... (more hidden) ...\u001b[A\n",
      " ... (more hidden) ...\u001b[A\n",
      " ... (more hidden) ...\u001b[A\n",
      " ... (more hidden) ...\u001b[A\n",
      " ... (more hidden) ...\u001b[A\n",
      " ... (more hidden) ...\u001b[A\n",
      " ... (more hidden) ...\u001b[A\n",
      " ... (more hidden) ...\u001b[A\n",
      " ... (more hidden) ...\u001b[A\n",
      " ... (more hidden) ...\u001b[A\n",
      " ... (more hidden) ...\u001b[A\n",
      " ... (more hidden) ...\u001b[A\n",
      " ... (more hidden) ...\u001b[A\n",
      " ... (more hidden) ...\u001b[A\n",
      " ... (more hidden) ...\u001b[A\n",
      " ... (more hidden) ...\u001b[A\n",
      " ... (more hidden) ...\u001b[A\n",
      " ... (more hidden) ...\u001b[A\n",
      " ... (more hidden) ...\u001b[A\n",
      " ... (more hidden) ...\u001b[A\n",
      " ... (more hidden) ...\u001b[A\n",
      " ... (more hidden) ...\u001b[A\n",
      " ... (more hidden) ...\u001b[A\n",
      " ... (more hidden) ...\u001b[A\n",
      " ... (more hidden) ...\u001b[A\n",
      " ... (more hidden) ...\u001b[A\n",
      " ... (more hidden) ...\u001b[A\n",
      " ... (more hidden) ...\u001b[A\n",
      " ... (more hidden) ...\u001b[A\n",
      " ... (more hidden) ...\u001b[A\n",
      " ... (more hidden) ...\u001b[A\n",
      " ... (more hidden) ...\u001b[A\n",
      " ... (more hidden) ...\u001b[A\n",
      " ... (more hidden) ...\u001b[A\n",
      " ... (more hidden) ...\u001b[A\n",
      " ... (more hidden) ...\u001b[A\n",
      " ... (more hidden) ...\u001b[A\n",
      " ... (more hidden) ...\u001b[A\n",
      " ... (more hidden) ...\u001b[A\n",
      " ... (more hidden) ...\u001b[A\n",
      " ... (more hidden) ...\u001b[A\n",
      " ... (more hidden) ...\u001b[A\n",
      " ... (more hidden) ...\u001b[A\n",
      " ... (more hidden) ...\u001b[A\n",
      " ... (more hidden) ...\u001b[A\n",
      " ... (more hidden) ...\u001b[A\n",
      " ... (more hidden) ...\u001b[A\n",
      " ... (more hidden) ...\u001b[A\n",
      " ... (more hidden) ...\u001b[A\n",
      " ... (more hidden) ...\u001b[A\n",
      " ... (more hidden) ...\u001b[A\n",
      " ... (more hidden) ...\u001b[A\n",
      " ... (more hidden) ...\u001b[A\n",
      " ... (more hidden) ...\u001b[A\n",
      " ... (more hidden) ...\u001b[A\n",
      " ... (more hidden) ...\u001b[A\n",
      " ... (more hidden) ...\u001b[A\n",
      " ... (more hidden) ...\u001b[A\n",
      " ... (more hidden) ...\u001b[A\n",
      " ... (more hidden) ...\u001b[A\n",
      " ... (more hidden) ...\u001b[A\n",
      " ... (more hidden) ...\u001b[A\n",
      " ... (more hidden) ...\u001b[A\n",
      " ... (more hidden) ...\u001b[A\n",
      " ... (more hidden) ...\u001b[A\n",
      " ... (more hidden) ...\u001b[A\n",
      " ... (more hidden) ...\u001b[A\n",
      " ... (more hidden) ...\u001b[A\n",
      " ... (more hidden) ...\u001b[A\n",
      " ... (more hidden) ...\u001b[A\n",
      " ... (more hidden) ...\u001b[A\n",
      " ... (more hidden) ...\u001b[A\n",
      " ... (more hidden) ...\u001b[A\n",
      " ... (more hidden) ...\u001b[A\n",
      " ... (more hidden) ...\u001b[A\n",
      " ... (more hidden) ...\u001b[A\n",
      " ... (more hidden) ...\u001b[A\n",
      " ... (more hidden) ...\u001b[A\n",
      " ... (more hidden) ...\u001b[A\n",
      " ... (more hidden) ...\u001b[A\n",
      " ... (more hidden) ...\u001b[A\n",
      " ... (more hidden) ...\u001b[A\n",
      " ... (more hidden) ...\u001b[A\n",
      " ... (more hidden) ...\u001b[A\n",
      " ... (more hidden) ...\u001b[A\n",
      " ... (more hidden) ...\u001b[A\n",
      " ... (more hidden) ...\u001b[A\n",
      " ... (more hidden) ...\u001b[A\n",
      " ... (more hidden) ...\u001b[A\n",
      " ... (more hidden) ...\u001b[A\n",
      " ... (more hidden) ...\u001b[A\n",
      " ... (more hidden) ...\u001b[A\n",
      " ... (more hidden) ...\u001b[A\n",
      " ... (more hidden) ...\u001b[A\n",
      " ... (more hidden) ...\u001b[A\n",
      " ... (more hidden) ...\u001b[A\n",
      " ... (more hidden) ...\u001b[A\n",
      " ... (more hidden) ...\u001b[A\n",
      " ... (more hidden) ...\u001b[A\n",
      " ... (more hidden) ...\u001b[A\n",
      " ... (more hidden) ...\u001b[A\n",
      " ... (more hidden) ...\u001b[A\n",
      " ... (more hidden) ...\u001b[A\n",
      " ... (more hidden) ...\u001b[A\n",
      " ... (more hidden) ...\u001b[A\n",
      " ... (more hidden) ...\u001b[A\n",
      " ... (more hidden) ...\u001b[A\n",
      " ... (more hidden) ...\u001b[A\n",
      " ... (more hidden) ...\u001b[A\n",
      " ... (more hidden) ...\u001b[A\n",
      " ... (more hidden) ...\u001b[A\n",
      " ... (more hidden) ...\u001b[A\n",
      " ... (more hidden) ...\u001b[A\n",
      " ... (more hidden) ...\u001b[A\n",
      " ... (more hidden) ...\u001b[A\n",
      " ... (more hidden) ...\u001b[A\n",
      " ... (more hidden) ...\u001b[A\n",
      " ... (more hidden) ...\u001b[A\n",
      " ... (more hidden) ...\u001b[A\n",
      " ... (more hidden) ...\u001b[A\n",
      " ... (more hidden) ...\u001b[A\n",
      " ... (more hidden) ...\u001b[A\n",
      " ... (more hidden) ...\u001b[A\n",
      " ... (more hidden) ...\u001b[A\n",
      " ... (more hidden) ...\u001b[A\n",
      " ... (more hidden) ...\u001b[A\n",
      " ... (more hidden) ...\u001b[A\n",
      " ... (more hidden) ...\u001b[A\n",
      " ... (more hidden) ...\u001b[A\n",
      " ... (more hidden) ...\u001b[A\n",
      " ... (more hidden) ...\u001b[A\n",
      " ... (more hidden) ...\u001b[A\n",
      " ... (more hidden) ...\u001b[A\n",
      " ... (more hidden) ...\u001b[A\n",
      " ... (more hidden) ...\u001b[A\n",
      " ... (more hidden) ...\u001b[A\n",
      " ... (more hidden) ...\u001b[A\n",
      " ... (more hidden) ...\u001b[A\n",
      " ... (more hidden) ...\u001b[A\n",
      " ... (more hidden) ...\u001b[A\n",
      " ... (more hidden) ...\u001b[A\n",
      " ... (more hidden) ...\u001b[A\n",
      " ... (more hidden) ...\u001b[A\n",
      " ... (more hidden) ...\u001b[A\n",
      " ... (more hidden) ...\u001b[A\n",
      " ... (more hidden) ...\u001b[A\n",
      " ... (more hidden) ...\u001b[A\n",
      " ... (more hidden) ...\u001b[A\n",
      " ... (more hidden) ...\u001b[A\n",
      " ... (more hidden) ...\u001b[A\n",
      " ... (more hidden) ...\u001b[A\n",
      " ... (more hidden) ...\u001b[A\n",
      " ... (more hidden) ...\u001b[A\n",
      " ... (more hidden) ...\u001b[A\n",
      " ... (more hidden) ...\u001b[A\n",
      " ... (more hidden) ...\u001b[A\n",
      " ... (more hidden) ...\u001b[A\n",
      " ... (more hidden) ...\u001b[A\n",
      " ... (more hidden) ...\u001b[A\n",
      " ... (more hidden) ...\u001b[A\n",
      " ... (more hidden) ...\u001b[A\n",
      " ... (more hidden) ...\u001b[A\n",
      " ... (more hidden) ...\u001b[A\n",
      " ... (more hidden) ...\u001b[A\n",
      " ... (more hidden) ...\u001b[A\n",
      " ... (more hidden) ...\u001b[A\n",
      " ... (more hidden) ...\u001b[A\n",
      " ... (more hidden) ...\u001b[A\n",
      " ... (more hidden) ...\u001b[A\n",
      " ... (more hidden) ...\u001b[A\n",
      " ... (more hidden) ...\u001b[A\n",
      " ... (more hidden) ...\u001b[A\n",
      " ... (more hidden) ...\u001b[A\n",
      " ... (more hidden) ...\u001b[A\n",
      " ... (more hidden) ...\u001b[A\n",
      " ... (more hidden) ...\u001b[A\n",
      " ... (more hidden) ...\u001b[A\n",
      " ... (more hidden) ...\u001b[A\n",
      " ... (more hidden) ...\u001b[A\n",
      " ... (more hidden) ...\u001b[A\n",
      " ... (more hidden) ...\u001b[A\n",
      " ... (more hidden) ...\u001b[A\n",
      " ... (more hidden) ...\u001b[A\n",
      " ... (more hidden) ...\u001b[A\n",
      " ... (more hidden) ...\u001b[A\n",
      " ... (more hidden) ...\u001b[A\n",
      " ... (more hidden) ...\u001b[A\n",
      " ... (more hidden) ...\u001b[A\n",
      " ... (more hidden) ...\u001b[A\n",
      " ... (more hidden) ...\u001b[A\n",
      " ... (more hidden) ...\u001b[A\n",
      " ... (more hidden) ...\u001b[A\n",
      " ... (more hidden) ...\u001b[A\n",
      " ... (more hidden) ...\u001b[A\n",
      " ... (more hidden) ...\u001b[A\n",
      " ... (more hidden) ...\u001b[A\n",
      " ... (more hidden) ...\u001b[A\n",
      " ... (more hidden) ...\u001b[A\n",
      " ... (more hidden) ...\u001b[A\n",
      " ... (more hidden) ...\u001b[A\n",
      " ... (more hidden) ...\u001b[A\n",
      " ... (more hidden) ...\u001b[A\n",
      " ... (more hidden) ...\u001b[A\n",
      " ... (more hidden) ...\u001b[A\n",
      " ... (more hidden) ...\u001b[A\n",
      " ... (more hidden) ...\u001b[A\n",
      " ... (more hidden) ...\u001b[A\n",
      " ... (more hidden) ...\u001b[A\n",
      " ... (more hidden) ...\u001b[A\n",
      " ... (more hidden) ...\u001b[A\n",
      " ... (more hidden) ...\u001b[A\n",
      " ... (more hidden) ...\u001b[A\n",
      " ... (more hidden) ...\u001b[A\n",
      " ... (more hidden) ...\u001b[A\n",
      " ... (more hidden) ...\u001b[A\n",
      " ... (more hidden) ...\u001b[A\n",
      "DR 1:  74%|██████████████████████████████████████████████████████████████████████████████████████████████████████████████████████▊                                         | 24341/32768 [00:34<00:11, 713.78it/s]\n"
     ]
    },
    {
     "name": "stdout",
     "output_type": "stream",
     "text": [
      "Stopping at Epoch 24341\n",
      "DR 1 Number of samples:  torch.Size([6671, 2])\n",
      "DR 1 Predicted Gammas:  0.33137143 1.0 0.8048412\n"
     ]
    },
    {
     "name": "stderr",
     "output_type": "stream",
     "text": [
      "\n",
      " ... (more hidden) ...\u001b[A\n",
      " ... (more hidden) ...\u001b[A\n",
      "DR 2:   6%|██████████                                                                                                                                                      | 1025/16384 [00:00<00:04, 3652.63it/s]\n",
      "/opt/homebrew/lib/python3.11/site-packages/torch/optim/lr_scheduler.py:28: UserWarning: The verbose parameter is deprecated. Please use get_last_lr() to access the learning rate.\n",
      "  warnings.warn(\"The verbose parameter is deprecated. Please use get_last_lr() \"\n"
     ]
    },
    {
     "name": "stdout",
     "output_type": "stream",
     "text": [
      "Stopping at Epoch 1025\n",
      "AUC predicting P(win):\t\t\t\t 0.59325345192568\n",
      "Estimated Utility\t Mean Error:\t\t\t 0.009449181412559092\n",
      "Estimated Utility\t Mean Absolute Error:\t 0.27755839587782544\n"
     ]
    },
    {
     "name": "stderr",
     "output_type": "stream",
     "text": [
      "\n",
      " ... (more hidden) ...\u001b[A\n",
      " ... (more hidden) ...\u001b[A\n",
      " ... (more hidden) ...\u001b[A\n",
      " ... (more hidden) ...\u001b[A\n",
      " ... (more hidden) ...\u001b[A\n",
      "DR 2:   6%|██████████▏                                                                                                                                                     | 2074/32768 [00:00<00:08, 3628.18it/s]\n",
      "/opt/homebrew/lib/python3.11/site-packages/torch/optim/lr_scheduler.py:28: UserWarning: The verbose parameter is deprecated. Please use get_last_lr() to access the learning rate.\n",
      "  warnings.warn(\"The verbose parameter is deprecated. Please use get_last_lr() \"\n"
     ]
    },
    {
     "name": "stdout",
     "output_type": "stream",
     "text": [
      "Stopping at Epoch 2074\n",
      "AUC predicting P(win):\t\t\t\t 0.593302019055302\n",
      "Estimated Utility\t Mean Error:\t\t\t 0.007528545232684929\n",
      "Estimated Utility\t Mean Absolute Error:\t 0.2765059720654449\n"
     ]
    },
    {
     "name": "stderr",
     "output_type": "stream",
     "text": [
      "\n",
      " ... (more hidden) ...\u001b[A\n",
      " ... (more hidden) ...\u001b[A\n",
      " ... (more hidden) ...\u001b[A\n",
      " ... (more hidden) ...\u001b[A\n",
      " ... (more hidden) ...\u001b[A\n",
      " ... (more hidden) ...\u001b[A\n",
      "DR 2:   2%|██▌                                                                                                                                                               | 513/32768 [00:00<00:42, 755.20it/s]\n"
     ]
    },
    {
     "name": "stdout",
     "output_type": "stream",
     "text": [
      "Stopping at Epoch 513\n",
      "DR 2 Number of samples:  torch.Size([6668, 2])\n",
      "DR 2 Predicted Gammas:  0.35314202 0.8794343 0.63814366\n"
     ]
    },
    {
     "name": "stderr",
     "output_type": "stream",
     "text": [
      "\n",
      " ... (more hidden) ...\u001b[A\n",
      " ... (more hidden) ...\u001b[A\n",
      "DR 3:   6%|██████████                                                                                                                                                      | 1025/16384 [00:00<00:04, 3798.91it/s]\n",
      "/opt/homebrew/lib/python3.11/site-packages/torch/optim/lr_scheduler.py:28: UserWarning: The verbose parameter is deprecated. Please use get_last_lr() to access the learning rate.\n",
      "  warnings.warn(\"The verbose parameter is deprecated. Please use get_last_lr() \"\n"
     ]
    },
    {
     "name": "stdout",
     "output_type": "stream",
     "text": [
      "Stopping at Epoch 1025\n",
      "AUC predicting P(win):\t\t\t\t 0.7800979552585393\n",
      "Estimated Utility\t Mean Error:\t\t\t -0.005501721453778447\n",
      "Estimated Utility\t Mean Absolute Error:\t 0.30096778440042515\n"
     ]
    },
    {
     "name": "stderr",
     "output_type": "stream",
     "text": [
      "\n",
      " ... (more hidden) ...\u001b[A\n",
      " ... (more hidden) ...\u001b[A\n",
      " ... (more hidden) ...\u001b[A\n",
      " ... (more hidden) ...\u001b[A\n",
      " ... (more hidden) ...\u001b[A\n",
      " ... (more hidden) ...\u001b[A\n",
      " ... (more hidden) ...\u001b[A\n",
      "DR 3:   8%|████████████▋                                                                                                                                                   | 2594/32768 [00:00<00:08, 3459.72it/s]\n",
      "/opt/homebrew/lib/python3.11/site-packages/torch/optim/lr_scheduler.py:28: UserWarning: The verbose parameter is deprecated. Please use get_last_lr() to access the learning rate.\n",
      "  warnings.warn(\"The verbose parameter is deprecated. Please use get_last_lr() \"\n"
     ]
    },
    {
     "name": "stdout",
     "output_type": "stream",
     "text": [
      "Stopping at Epoch 2594\n",
      "AUC predicting P(win):\t\t\t\t 0.7803373695201367\n",
      "Estimated Utility\t Mean Error:\t\t\t -0.003318478479799725\n",
      "Estimated Utility\t Mean Absolute Error:\t 0.30426374877104967\n"
     ]
    },
    {
     "name": "stderr",
     "output_type": "stream",
     "text": [
      "\n",
      " ... (more hidden) ...\u001b[A\n",
      " ... (more hidden) ...\u001b[A\n",
      " ... (more hidden) ...\u001b[A\n",
      " ... (more hidden) ...\u001b[A\n",
      " ... (more hidden) ...\u001b[A\n",
      " ... (more hidden) ...\u001b[A\n",
      " ... (more hidden) ...\u001b[A\n",
      " ... (more hidden) ...\u001b[A\n",
      " ... (more hidden) ...\u001b[A\n",
      " ... (more hidden) ...\u001b[A\n",
      " ... (more hidden) ...\u001b[A\n",
      " ... (more hidden) ...\u001b[A\n",
      " ... (more hidden) ...\u001b[A\n",
      " ... (more hidden) ...\u001b[A\n",
      " ... (more hidden) ...\u001b[A\n",
      " ... (more hidden) ...\u001b[A\n",
      " ... (more hidden) ...\u001b[A\n",
      " ... (more hidden) ...\u001b[A\n",
      " ... (more hidden) ...\u001b[A\n",
      " ... (more hidden) ...\u001b[A\n",
      " ... (more hidden) ...\u001b[A\n",
      " ... (more hidden) ...\u001b[A\n",
      " ... (more hidden) ...\u001b[A\n",
      " ... (more hidden) ...\u001b[A\n",
      " ... (more hidden) ...\u001b[A\n",
      " ... (more hidden) ...\u001b[A\n",
      " ... (more hidden) ...\u001b[A\n",
      " ... (more hidden) ...\u001b[A\n",
      " ... (more hidden) ...\u001b[A\n",
      " ... (more hidden) ...\u001b[A\n",
      " ... (more hidden) ...\u001b[A\n",
      " ... (more hidden) ...\u001b[A\n",
      " ... (more hidden) ...\u001b[A\n",
      " ... (more hidden) ...\u001b[A\n",
      " ... (more hidden) ...\u001b[A\n",
      " ... (more hidden) ...\u001b[A\n",
      " ... (more hidden) ...\u001b[A\n",
      " ... (more hidden) ...\u001b[A\n",
      " ... (more hidden) ...\u001b[A\n",
      " ... (more hidden) ...\u001b[A\n",
      " ... (more hidden) ...\u001b[A\n",
      " ... (more hidden) ...\u001b[A\n",
      " ... (more hidden) ...\u001b[A\n",
      " ... (more hidden) ...\u001b[A\n",
      " ... (more hidden) ...\u001b[A\n",
      " ... (more hidden) ...\u001b[A\n",
      " ... (more hidden) ...\u001b[A\n",
      " ... (more hidden) ...\u001b[A\n",
      " ... (more hidden) ...\u001b[A\n",
      " ... (more hidden) ...\u001b[A\n",
      " ... (more hidden) ...\u001b[A\n",
      " ... (more hidden) ...\u001b[A\n",
      " ... (more hidden) ...\u001b[A\n",
      " ... (more hidden) ...\u001b[A\n",
      " ... (more hidden) ...\u001b[A\n",
      " ... (more hidden) ...\u001b[A\n",
      " ... (more hidden) ...\u001b[A\n",
      " ... (more hidden) ...\u001b[A\n",
      " ... (more hidden) ...\u001b[A\n",
      " ... (more hidden) ...\u001b[A\n",
      " ... (more hidden) ...\u001b[A\n",
      " ... (more hidden) ...\u001b[A\n",
      " ... (more hidden) ...\u001b[A\n",
      " ... (more hidden) ...\u001b[A\n",
      " ... (more hidden) ...\u001b[A\n",
      " ... (more hidden) ...\u001b[A\n",
      " ... (more hidden) ...\u001b[A\n",
      " ... (more hidden) ...\u001b[A\n",
      " ... (more hidden) ...\u001b[A\n",
      " ... (more hidden) ...\u001b[A\n",
      " ... (more hidden) ...\u001b[A\n",
      " ... (more hidden) ...\u001b[A\n",
      " ... (more hidden) ...\u001b[A\n",
      " ... (more hidden) ...\u001b[A\n",
      " ... (more hidden) ...\u001b[A\n",
      " ... (more hidden) ...\u001b[A\n",
      " ... (more hidden) ...\u001b[A\n",
      " ... (more hidden) ...\u001b[A\n",
      " ... (more hidden) ...\u001b[A\n",
      " ... (more hidden) ...\u001b[A\n",
      " ... (more hidden) ...\u001b[A\n",
      " ... (more hidden) ...\u001b[A\n",
      " ... (more hidden) ...\u001b[A\n",
      " ... (more hidden) ...\u001b[A\n",
      " ... (more hidden) ...\u001b[A\n",
      " ... (more hidden) ...\u001b[A\n",
      " ... (more hidden) ...\u001b[A\n",
      " ... (more hidden) ...\u001b[A\n",
      " ... (more hidden) ...\u001b[A\n",
      " ... (more hidden) ...\u001b[A\n",
      " ... (more hidden) ...\u001b[A\n",
      " ... (more hidden) ...\u001b[A\n",
      " ... (more hidden) ...\u001b[A\n",
      " ... (more hidden) ...\u001b[A\n",
      " ... (more hidden) ...\u001b[A\n",
      " ... (more hidden) ...\u001b[A\n",
      " ... (more hidden) ...\u001b[A\n",
      " ... (more hidden) ...\u001b[A\n",
      " ... (more hidden) ...\u001b[A\n",
      " ... (more hidden) ...\u001b[A\n",
      " ... (more hidden) ...\u001b[A\n",
      " ... (more hidden) ...\u001b[A\n",
      " ... (more hidden) ...\u001b[A\n",
      " ... (more hidden) ...\u001b[A\n",
      " ... (more hidden) ...\u001b[A\n",
      " ... (more hidden) ...\u001b[A\n",
      " ... (more hidden) ...\u001b[A\n",
      " ... (more hidden) ...\u001b[A\n",
      " ... (more hidden) ...\u001b[A\n",
      " ... (more hidden) ...\u001b[A\n",
      " ... (more hidden) ...\u001b[A\n",
      " ... (more hidden) ...\u001b[A\n",
      " ... (more hidden) ...\u001b[A\n",
      " ... (more hidden) ...\u001b[A\n",
      " ... (more hidden) ...\u001b[A\n",
      " ... (more hidden) ...\u001b[A\n",
      " ... (more hidden) ...\u001b[A\n",
      " ... (more hidden) ...\u001b[A\n",
      " ... (more hidden) ...\u001b[A\n",
      " ... (more hidden) ...\u001b[A\n",
      " ... (more hidden) ...\u001b[A\n",
      " ... (more hidden) ...\u001b[A\n",
      " ... (more hidden) ...\u001b[A\n",
      " ... (more hidden) ...\u001b[A\n",
      " ... (more hidden) ...\u001b[A\n",
      " ... (more hidden) ...\u001b[A\n",
      " ... (more hidden) ...\u001b[A\n",
      " ... (more hidden) ...\u001b[A\n",
      " ... (more hidden) ...\u001b[A\n",
      " ... (more hidden) ...\u001b[A\n",
      " ... (more hidden) ...\u001b[A\n",
      " ... (more hidden) ...\u001b[A\n",
      " ... (more hidden) ...\u001b[A\n",
      " ... (more hidden) ...\u001b[A\n",
      " ... (more hidden) ...\u001b[A\n",
      " ... (more hidden) ...\u001b[A\n",
      " ... (more hidden) ...\u001b[A\n",
      " ... (more hidden) ...\u001b[A\n",
      " ... (more hidden) ...\u001b[A\n",
      " ... (more hidden) ...\u001b[A\n",
      " ... (more hidden) ...\u001b[A\n",
      " ... (more hidden) ...\u001b[A\n",
      " ... (more hidden) ...\u001b[A\n",
      " ... (more hidden) ...\u001b[A\n",
      " ... (more hidden) ...\u001b[A\n",
      " ... (more hidden) ...\u001b[A\n",
      " ... (more hidden) ...\u001b[A\n",
      " ... (more hidden) ...\u001b[A\n",
      " ... (more hidden) ...\u001b[A\n",
      " ... (more hidden) ...\u001b[A\n",
      " ... (more hidden) ...\u001b[A\n",
      " ... (more hidden) ...\u001b[A\n",
      " ... (more hidden) ...\u001b[A\n",
      " ... (more hidden) ...\u001b[A\n",
      " ... (more hidden) ...\u001b[A\n",
      " ... (more hidden) ...\u001b[A\n",
      " ... (more hidden) ...\u001b[A\n",
      " ... (more hidden) ...\u001b[A\n",
      " ... (more hidden) ...\u001b[A\n",
      " ... (more hidden) ...\u001b[A\n",
      " ... (more hidden) ...\u001b[A\n",
      " ... (more hidden) ...\u001b[A\n",
      " ... (more hidden) ...\u001b[A\n",
      " ... (more hidden) ...\u001b[A\n",
      " ... (more hidden) ...\u001b[A\n",
      " ... (more hidden) ...\u001b[A\n",
      " ... (more hidden) ...\u001b[A\n",
      " ... (more hidden) ...\u001b[A\n",
      " ... (more hidden) ...\u001b[A\n",
      " ... (more hidden) ...\u001b[A\n",
      " ... (more hidden) ...\u001b[A\n",
      " ... (more hidden) ...\u001b[A\n",
      " ... (more hidden) ...\u001b[A\n",
      " ... (more hidden) ...\u001b[A\n",
      " ... (more hidden) ...\u001b[A\n",
      " ... (more hidden) ...\u001b[A\n",
      " ... (more hidden) ...\u001b[A\n",
      " ... (more hidden) ...\u001b[A\n",
      " ... (more hidden) ...\u001b[A\n",
      " ... (more hidden) ...\u001b[A\n",
      " ... (more hidden) ...\u001b[A\n",
      " ... (more hidden) ...\u001b[A\n",
      " ... (more hidden) ...\u001b[A\n",
      " ... (more hidden) ...\u001b[A\n",
      " ... (more hidden) ...\u001b[A\n",
      " ... (more hidden) ...\u001b[A\n",
      " ... (more hidden) ...\u001b[A\n",
      " ... (more hidden) ...\u001b[A\n",
      " ... (more hidden) ...\u001b[A\n",
      " ... (more hidden) ...\u001b[A\n",
      " ... (more hidden) ...\u001b[A\n",
      " ... (more hidden) ...\u001b[A\n",
      " ... (more hidden) ...\u001b[A\n",
      " ... (more hidden) ...\u001b[A\n",
      " ... (more hidden) ...\u001b[A\n",
      " ... (more hidden) ...\u001b[A\n",
      " ... (more hidden) ...\u001b[A\n",
      " ... (more hidden) ...\u001b[A\n",
      " ... (more hidden) ...\u001b[A\n",
      " ... (more hidden) ...\u001b[A\n",
      " ... (more hidden) ...\u001b[A\n",
      " ... (more hidden) ...\u001b[A\n",
      " ... (more hidden) ...\u001b[A\n",
      " ... (more hidden) ...\u001b[A\n",
      " ... (more hidden) ...\u001b[A\n",
      " ... (more hidden) ...\u001b[A\n",
      " ... (more hidden) ...\u001b[A\n",
      " ... (more hidden) ...\u001b[A\n",
      " ... (more hidden) ...\u001b[A\n",
      " ... (more hidden) ...\u001b[A\n",
      " ... (more hidden) ...\u001b[A\n",
      " ... (more hidden) ...\u001b[A\n",
      " ... (more hidden) ...\u001b[A\n",
      " ... (more hidden) ...\u001b[A\n",
      " ... (more hidden) ...\u001b[A\n",
      " ... (more hidden) ...\u001b[A\n",
      " ... (more hidden) ...\u001b[A\n",
      " ... (more hidden) ...\u001b[A\n",
      " ... (more hidden) ...\u001b[A\n",
      " ... (more hidden) ...\u001b[A\n",
      " ... (more hidden) ...\u001b[A\n",
      " ... (more hidden) ...\u001b[A\n",
      " ... (more hidden) ...\u001b[A\n",
      " ... (more hidden) ...\u001b[A\n",
      " ... (more hidden) ...\u001b[A\n",
      " ... (more hidden) ...\u001b[A\n",
      " ... (more hidden) ...\u001b[A\n",
      " ... (more hidden) ...\u001b[A\n",
      " ... (more hidden) ...\u001b[A\n",
      " ... (more hidden) ...\u001b[A\n",
      " ... (more hidden) ...\u001b[A\n",
      " ... (more hidden) ...\u001b[A\n",
      " ... (more hidden) ...\u001b[A\n",
      " ... (more hidden) ...\u001b[A\n",
      " ... (more hidden) ...\u001b[A\n",
      " ... (more hidden) ...\u001b[A\n",
      " ... (more hidden) ...\u001b[A\n",
      " ... (more hidden) ...\u001b[A\n",
      " ... (more hidden) ...\u001b[A\n",
      " ... (more hidden) ...\u001b[A\n",
      " ... (more hidden) ...\u001b[A\n",
      " ... (more hidden) ...\u001b[A\n",
      " ... (more hidden) ...\u001b[A\n",
      " ... (more hidden) ...\u001b[A\n",
      " ... (more hidden) ...\u001b[A\n",
      " ... (more hidden) ...\u001b[A\n",
      " ... (more hidden) ...\u001b[A\n",
      " ... (more hidden) ...\u001b[A\n",
      " ... (more hidden) ...\u001b[A\n",
      " ... (more hidden) ...\u001b[A\n",
      " ... (more hidden) ...\u001b[A\n",
      " ... (more hidden) ...\u001b[A\n",
      " ... (more hidden) ...\u001b[A\n",
      " ... (more hidden) ...\u001b[A\n",
      " ... (more hidden) ...\u001b[A\n",
      " ... (more hidden) ...\u001b[A\n",
      " ... (more hidden) ...\u001b[A\n",
      " ... (more hidden) ...\u001b[A\n",
      " ... (more hidden) ...\u001b[A\n",
      " ... (more hidden) ...\u001b[A\n",
      " ... (more hidden) ...\u001b[A\n",
      " ... (more hidden) ...\u001b[A\n",
      " ... (more hidden) ...\u001b[A\n",
      " ... (more hidden) ...\u001b[A\n",
      " ... (more hidden) ...\u001b[A\n",
      " ... (more hidden) ...\u001b[A\n",
      " ... (more hidden) ...\u001b[A\n",
      " ... (more hidden) ...\u001b[A\n",
      " ... (more hidden) ...\u001b[A\n",
      " ... (more hidden) ...\u001b[A\n",
      " ... (more hidden) ...\u001b[A\n",
      " ... (more hidden) ...\u001b[A\n",
      " ... (more hidden) ...\u001b[A\n",
      " ... (more hidden) ...\u001b[A\n",
      " ... (more hidden) ...\u001b[A\n",
      " ... (more hidden) ...\u001b[A\n",
      " ... (more hidden) ...\u001b[A\n",
      " ... (more hidden) ...\u001b[A\n",
      " ... (more hidden) ...\u001b[A\n",
      " ... (more hidden) ...\u001b[A\n",
      " ... (more hidden) ...\u001b[A\n",
      " ... (more hidden) ...\u001b[A\n",
      " ... (more hidden) ...\u001b[A\n",
      " ... (more hidden) ...\u001b[A\n",
      " ... (more hidden) ...\u001b[A\n",
      " ... (more hidden) ...\u001b[A\n",
      " ... (more hidden) ...\u001b[A\n",
      " ... (more hidden) ...\u001b[A\n",
      " ... (more hidden) ...\u001b[A\n",
      " ... (more hidden) ...\u001b[A\n",
      " ... (more hidden) ...\u001b[A\n",
      " ... (more hidden) ...\u001b[A\n",
      " ... (more hidden) ...\u001b[A\n",
      " ... (more hidden) ...\u001b[A\n",
      " ... (more hidden) ...\u001b[A\n",
      " ... (more hidden) ...\u001b[A\n",
      " ... (more hidden) ...\u001b[A\n",
      " ... (more hidden) ...\u001b[A\n",
      " ... (more hidden) ...\u001b[A\n",
      " ... (more hidden) ...\u001b[A\n",
      " ... (more hidden) ...\u001b[A\n",
      " ... (more hidden) ...\u001b[A\n",
      " ... (more hidden) ...\u001b[A\n",
      " ... (more hidden) ...\u001b[A\n",
      " ... (more hidden) ...\u001b[A\n",
      " ... (more hidden) ...\u001b[A\n",
      " ... (more hidden) ...\u001b[A\n",
      " ... (more hidden) ...\u001b[A\n",
      " ... (more hidden) ...\u001b[A\n",
      " ... (more hidden) ...\u001b[A\n",
      " ... (more hidden) ...\u001b[A\n",
      " ... (more hidden) ...\u001b[A\n",
      " ... (more hidden) ...\u001b[A\n",
      " ... (more hidden) ...\u001b[A\n",
      " ... (more hidden) ...\u001b[A\n",
      " ... (more hidden) ...\u001b[A\n",
      " ... (more hidden) ...\u001b[A\n",
      " ... (more hidden) ...\u001b[A\n",
      " ... (more hidden) ...\u001b[A\n",
      " ... (more hidden) ...\u001b[A\n",
      " ... (more hidden) ...\u001b[A\n",
      " ... (more hidden) ...\u001b[A\n",
      " ... (more hidden) ...\u001b[A\n",
      " ... (more hidden) ...\u001b[A\n",
      " ... (more hidden) ...\u001b[A\n",
      " ... (more hidden) ...\u001b[A\n",
      " ... (more hidden) ...\u001b[A\n",
      " ... (more hidden) ...\u001b[A\n",
      " ... (more hidden) ...\u001b[A\n",
      " ... (more hidden) ...\u001b[A\n",
      " ... (more hidden) ...\u001b[A\n",
      " ... (more hidden) ...\u001b[A\n",
      " ... (more hidden) ...\u001b[A\n",
      " ... (more hidden) ...\u001b[A\n",
      "DR 3:  73%|█████████████████████████████████████████████████████████████████████████████████████████████████████████████████████                                           | 23980/32768 [00:35<00:12, 678.94it/s]\n"
     ]
    },
    {
     "name": "stdout",
     "output_type": "stream",
     "text": [
      "Stopping at Epoch 23980\n",
      "DR 3 Number of samples:  torch.Size([6661, 2])\n",
      "DR 3 Predicted Gammas:  0.4889957 0.7794879 0.6784845\n"
     ]
    },
    {
     "name": "stderr",
     "output_type": "stream",
     "text": [
      "\n",
      " ... (more hidden) ...\u001b[A\n",
      " ... (more hidden) ...\u001b[A\n",
      "DR 1:   6%|██████████                                                                                                                                                      | 1025/16384 [00:00<00:04, 3804.92it/s]\n",
      "/opt/homebrew/lib/python3.11/site-packages/torch/optim/lr_scheduler.py:28: UserWarning: The verbose parameter is deprecated. Please use get_last_lr() to access the learning rate.\n",
      "  warnings.warn(\"The verbose parameter is deprecated. Please use get_last_lr() \"\n"
     ]
    },
    {
     "name": "stdout",
     "output_type": "stream",
     "text": [
      "Stopping at Epoch 1025\n",
      "AUC predicting P(win):\t\t\t\t 0.8197832598248078\n",
      "Estimated Utility\t Mean Error:\t\t\t 0.001379599529101457\n",
      "Estimated Utility\t Mean Absolute Error:\t 0.25209031932287873\n"
     ]
    },
    {
     "name": "stderr",
     "output_type": "stream",
     "text": [
      "\n",
      " ... (more hidden) ...\u001b[A\n",
      " ... (more hidden) ...\u001b[A\n",
      " ... (more hidden) ...\u001b[A\n",
      " ... (more hidden) ...\u001b[A\n",
      " ... (more hidden) ...\u001b[A\n",
      " ... (more hidden) ...\u001b[A\n",
      " ... (more hidden) ...\u001b[A\n",
      " ... (more hidden) ...\u001b[A\n",
      " ... (more hidden) ...\u001b[A\n",
      " ... (more hidden) ...\u001b[A\n",
      "DR 1:  13%|████████████████████▍                                                                                                                                           | 4193/32768 [00:01<00:07, 3842.63it/s]\n",
      "/opt/homebrew/lib/python3.11/site-packages/torch/optim/lr_scheduler.py:28: UserWarning: The verbose parameter is deprecated. Please use get_last_lr() to access the learning rate.\n",
      "  warnings.warn(\"The verbose parameter is deprecated. Please use get_last_lr() \"\n"
     ]
    },
    {
     "name": "stdout",
     "output_type": "stream",
     "text": [
      "Stopping at Epoch 4193\n",
      "AUC predicting P(win):\t\t\t\t 0.8280307426853032\n",
      "Estimated Utility\t Mean Error:\t\t\t 0.0029449849685735797\n",
      "Estimated Utility\t Mean Absolute Error:\t 0.2523456544676042\n"
     ]
    },
    {
     "name": "stderr",
     "output_type": "stream",
     "text": [
      "\n",
      " ... (more hidden) ...\u001b[A\n",
      " ... (more hidden) ...\u001b[A\n",
      " ... (more hidden) ...\u001b[A\n",
      " ... (more hidden) ...\u001b[A\n",
      " ... (more hidden) ...\u001b[A\n",
      " ... (more hidden) ...\u001b[A\n",
      " ... (more hidden) ...\u001b[A\n",
      " ... (more hidden) ...\u001b[A\n",
      " ... (more hidden) ...\u001b[A\n",
      " ... (more hidden) ...\u001b[A\n",
      " ... (more hidden) ...\u001b[A\n",
      " ... (more hidden) ...\u001b[A\n",
      " ... (more hidden) ...\u001b[A\n",
      " ... (more hidden) ...\u001b[A\n",
      "DR 1:   4%|█████▋                                                                                                                                                           | 1148/32768 [00:01<00:41, 770.15it/s]\n"
     ]
    },
    {
     "name": "stdout",
     "output_type": "stream",
     "text": [
      "Stopping at Epoch 1148\n",
      "DR 1 Number of samples:  torch.Size([6685, 2])\n",
      "DR 1 Predicted Gammas:  0.36205772 1.0 0.8406314\n"
     ]
    },
    {
     "name": "stderr",
     "output_type": "stream",
     "text": [
      "\n",
      " ... (more hidden) ...\u001b[A\n",
      " ... (more hidden) ...\u001b[A\n",
      "DR 2:   6%|██████████                                                                                                                                                      | 1025/16384 [00:00<00:03, 3974.05it/s]\n",
      "/opt/homebrew/lib/python3.11/site-packages/torch/optim/lr_scheduler.py:28: UserWarning: The verbose parameter is deprecated. Please use get_last_lr() to access the learning rate.\n",
      "  warnings.warn(\"The verbose parameter is deprecated. Please use get_last_lr() \"\n"
     ]
    },
    {
     "name": "stdout",
     "output_type": "stream",
     "text": [
      "Stopping at Epoch 1025\n",
      "AUC predicting P(win):\t\t\t\t 0.6004537060324913\n",
      "Estimated Utility\t Mean Error:\t\t\t -0.010030410429412422\n",
      "Estimated Utility\t Mean Absolute Error:\t 0.23166628052230456\n"
     ]
    },
    {
     "name": "stderr",
     "output_type": "stream",
     "text": [
      "\n",
      " ... (more hidden) ...\u001b[A\n",
      " ... (more hidden) ...\u001b[A\n",
      " ... (more hidden) ...\u001b[A\n",
      " ... (more hidden) ...\u001b[A\n",
      "DR 2:   6%|█████████▋                                                                                                                                                      | 1989/32768 [00:00<00:07, 4172.28it/s]\n",
      "/opt/homebrew/lib/python3.11/site-packages/torch/optim/lr_scheduler.py:28: UserWarning: The verbose parameter is deprecated. Please use get_last_lr() to access the learning rate.\n",
      "  warnings.warn(\"The verbose parameter is deprecated. Please use get_last_lr() \"\n"
     ]
    },
    {
     "name": "stdout",
     "output_type": "stream",
     "text": [
      "Stopping at Epoch 1989\n",
      "AUC predicting P(win):\t\t\t\t 0.6023225095169784\n",
      "Estimated Utility\t Mean Error:\t\t\t 0.0032319244205177883\n",
      "Estimated Utility\t Mean Absolute Error:\t 0.23829882768863792\n"
     ]
    },
    {
     "name": "stderr",
     "output_type": "stream",
     "text": [
      "\n",
      " ... (more hidden) ...\u001b[A\n",
      " ... (more hidden) ...\u001b[A\n",
      " ... (more hidden) ...\u001b[A\n",
      " ... (more hidden) ...\u001b[A\n",
      " ... (more hidden) ...\u001b[A\n",
      " ... (more hidden) ...\u001b[A\n",
      " ... (more hidden) ...\u001b[A\n",
      " ... (more hidden) ...\u001b[A\n",
      " ... (more hidden) ...\u001b[A\n",
      " ... (more hidden) ...\u001b[A\n",
      " ... (more hidden) ...\u001b[A\n",
      " ... (more hidden) ...\u001b[A\n",
      " ... (more hidden) ...\u001b[A\n",
      " ... (more hidden) ...\u001b[A\n",
      " ... (more hidden) ...\u001b[A\n",
      " ... (more hidden) ...\u001b[A\n",
      " ... (more hidden) ...\u001b[A\n",
      " ... (more hidden) ...\u001b[A\n",
      " ... (more hidden) ...\u001b[A\n",
      " ... (more hidden) ...\u001b[A\n",
      " ... (more hidden) ...\u001b[A\n",
      " ... (more hidden) ...\u001b[A\n",
      " ... (more hidden) ...\u001b[A\n",
      " ... (more hidden) ...\u001b[A\n",
      " ... (more hidden) ...\u001b[A\n",
      " ... (more hidden) ...\u001b[A\n",
      " ... (more hidden) ...\u001b[A\n",
      " ... (more hidden) ...\u001b[A\n",
      " ... (more hidden) ...\u001b[A\n",
      " ... (more hidden) ...\u001b[A\n",
      " ... (more hidden) ...\u001b[A\n",
      " ... (more hidden) ...\u001b[A\n",
      " ... (more hidden) ...\u001b[A\n",
      " ... (more hidden) ...\u001b[A\n",
      " ... (more hidden) ...\u001b[A\n",
      " ... (more hidden) ...\u001b[A\n",
      " ... (more hidden) ...\u001b[A\n",
      " ... (more hidden) ...\u001b[A\n",
      " ... (more hidden) ...\u001b[A\n",
      " ... (more hidden) ...\u001b[A\n",
      " ... (more hidden) ...\u001b[A\n",
      " ... (more hidden) ...\u001b[A\n",
      " ... (more hidden) ...\u001b[A\n",
      " ... (more hidden) ...\u001b[A\n",
      " ... (more hidden) ...\u001b[A\n",
      " ... (more hidden) ...\u001b[A\n",
      " ... (more hidden) ...\u001b[A\n",
      " ... (more hidden) ...\u001b[A\n",
      " ... (more hidden) ...\u001b[A\n",
      " ... (more hidden) ...\u001b[A\n",
      " ... (more hidden) ...\u001b[A\n",
      " ... (more hidden) ...\u001b[A\n",
      " ... (more hidden) ...\u001b[A\n",
      " ... (more hidden) ...\u001b[A\n",
      " ... (more hidden) ...\u001b[A\n",
      " ... (more hidden) ...\u001b[A\n",
      " ... (more hidden) ...\u001b[A\n",
      " ... (more hidden) ...\u001b[A\n",
      " ... (more hidden) ...\u001b[A\n",
      " ... (more hidden) ...\u001b[A\n",
      " ... (more hidden) ...\u001b[A\n",
      " ... (more hidden) ...\u001b[A\n",
      " ... (more hidden) ...\u001b[A\n",
      " ... (more hidden) ...\u001b[A\n",
      " ... (more hidden) ...\u001b[A\n",
      " ... (more hidden) ...\u001b[A\n",
      " ... (more hidden) ...\u001b[A\n",
      " ... (more hidden) ...\u001b[A\n",
      " ... (more hidden) ...\u001b[A\n",
      " ... (more hidden) ...\u001b[A\n",
      " ... (more hidden) ...\u001b[A\n",
      "DR 2:  16%|█████████████████████████▊                                                                                                                                       | 5246/32768 [00:07<00:38, 706.19it/s]\n"
     ]
    },
    {
     "name": "stdout",
     "output_type": "stream",
     "text": [
      "Stopping at Epoch 5246\n",
      "DR 2 Number of samples:  torch.Size([6568, 2])\n",
      "DR 2 Predicted Gammas:  0.39366606 1.0 0.7079237\n"
     ]
    },
    {
     "name": "stderr",
     "output_type": "stream",
     "text": [
      "\n",
      " ... (more hidden) ...\u001b[A\n",
      " ... (more hidden) ...\u001b[A\n",
      "DR 3:   6%|██████████                                                                                                                                                      | 1025/16384 [00:00<00:04, 3591.85it/s]\n",
      "/opt/homebrew/lib/python3.11/site-packages/torch/optim/lr_scheduler.py:28: UserWarning: The verbose parameter is deprecated. Please use get_last_lr() to access the learning rate.\n",
      "  warnings.warn(\"The verbose parameter is deprecated. Please use get_last_lr() \"\n"
     ]
    },
    {
     "name": "stdout",
     "output_type": "stream",
     "text": [
      "Stopping at Epoch 1025\n",
      "AUC predicting P(win):\t\t\t\t 0.8375137893644888\n",
      "Estimated Utility\t Mean Error:\t\t\t -0.012664017942412606\n",
      "Estimated Utility\t Mean Absolute Error:\t 0.33231359305712405\n"
     ]
    },
    {
     "name": "stderr",
     "output_type": "stream",
     "text": [
      "\n",
      " ... (more hidden) ...\u001b[A\n",
      " ... (more hidden) ...\u001b[A\n",
      " ... (more hidden) ...\u001b[A\n",
      " ... (more hidden) ...\u001b[A\n",
      " ... (more hidden) ...\u001b[A\n",
      " ... (more hidden) ...\u001b[A\n",
      " ... (more hidden) ...\u001b[A\n",
      " ... (more hidden) ...\u001b[A\n",
      " ... (more hidden) ...\u001b[A\n",
      " ... (more hidden) ...\u001b[A\n",
      " ... (more hidden) ...\u001b[A\n",
      " ... (more hidden) ...\u001b[A\n",
      " ... (more hidden) ...\u001b[A\n",
      " ... (more hidden) ...\u001b[A\n",
      " ... (more hidden) ...\u001b[A\n",
      " ... (more hidden) ...\u001b[A\n",
      " ... (more hidden) ...\u001b[A\n",
      "DR 3:  20%|████████████████████████████████                                                                                                                                | 6572/32768 [00:01<00:06, 3762.03it/s]\n",
      "/opt/homebrew/lib/python3.11/site-packages/torch/optim/lr_scheduler.py:28: UserWarning: The verbose parameter is deprecated. Please use get_last_lr() to access the learning rate.\n",
      "  warnings.warn(\"The verbose parameter is deprecated. Please use get_last_lr() \"\n"
     ]
    },
    {
     "name": "stdout",
     "output_type": "stream",
     "text": [
      "Stopping at Epoch 6572\n",
      "AUC predicting P(win):\t\t\t\t 0.839079433207913\n",
      "Estimated Utility\t Mean Error:\t\t\t -0.0049591393319423265\n",
      "Estimated Utility\t Mean Absolute Error:\t 0.3338465226281837\n"
     ]
    },
    {
     "name": "stderr",
     "output_type": "stream",
     "text": [
      "\n",
      " ... (more hidden) ...\u001b[A\n",
      " ... (more hidden) ...\u001b[A\n",
      " ... (more hidden) ...\u001b[A\n",
      " ... (more hidden) ...\u001b[A\n",
      " ... (more hidden) ...\u001b[A\n",
      " ... (more hidden) ...\u001b[A\n",
      "DR 3:   2%|██▌                                                                                                                                                               | 513/32768 [00:00<00:41, 780.77it/s]\n"
     ]
    },
    {
     "name": "stdout",
     "output_type": "stream",
     "text": [
      "Stopping at Epoch 513\n",
      "DR 3 Number of samples:  torch.Size([6747, 2])\n",
      "DR 3 Predicted Gammas:  0.519892 0.8466021 0.72712207\n"
     ]
    },
    {
     "name": "stderr",
     "output_type": "stream",
     "text": [
      "\n",
      " ... (more hidden) ...\u001b[A\n",
      " ... (more hidden) ...\u001b[A\n",
      "DR 1:   6%|██████████                                                                                                                                                      | 1025/16384 [00:00<00:04, 3815.20it/s]\n",
      "/opt/homebrew/lib/python3.11/site-packages/torch/optim/lr_scheduler.py:28: UserWarning: The verbose parameter is deprecated. Please use get_last_lr() to access the learning rate.\n",
      "  warnings.warn(\"The verbose parameter is deprecated. Please use get_last_lr() \"\n"
     ]
    },
    {
     "name": "stdout",
     "output_type": "stream",
     "text": [
      "Stopping at Epoch 1025\n",
      "AUC predicting P(win):\t\t\t\t 0.8408062294080509\n",
      "Estimated Utility\t Mean Error:\t\t\t 0.008193538437444789\n",
      "Estimated Utility\t Mean Absolute Error:\t 0.23781309038442885\n"
     ]
    },
    {
     "name": "stderr",
     "output_type": "stream",
     "text": [
      "\n",
      " ... (more hidden) ...\u001b[A\n",
      " ... (more hidden) ...\u001b[A\n",
      " ... (more hidden) ...\u001b[A\n",
      " ... (more hidden) ...\u001b[A\n",
      " ... (more hidden) ...\u001b[A\n",
      " ... (more hidden) ...\u001b[A\n",
      "DR 1:   8%|████████████▍                                                                                                                                                   | 2552/32768 [00:00<00:07, 3905.25it/s]\n",
      "/opt/homebrew/lib/python3.11/site-packages/torch/optim/lr_scheduler.py:28: UserWarning: The verbose parameter is deprecated. Please use get_last_lr() to access the learning rate.\n",
      "  warnings.warn(\"The verbose parameter is deprecated. Please use get_last_lr() \"\n"
     ]
    },
    {
     "name": "stdout",
     "output_type": "stream",
     "text": [
      "Stopping at Epoch 2552\n",
      "AUC predicting P(win):\t\t\t\t 0.8401960187887475\n",
      "Estimated Utility\t Mean Error:\t\t\t -0.0013884688080761582\n",
      "Estimated Utility\t Mean Absolute Error:\t 0.23720956368357343\n"
     ]
    },
    {
     "name": "stderr",
     "output_type": "stream",
     "text": [
      "\n",
      " ... (more hidden) ...\u001b[A\n",
      " ... (more hidden) ...\u001b[A\n",
      " ... (more hidden) ...\u001b[A\n",
      " ... (more hidden) ...\u001b[A\n",
      " ... (more hidden) ...\u001b[A\n",
      " ... (more hidden) ...\u001b[A\n",
      " ... (more hidden) ...\u001b[A\n",
      " ... (more hidden) ...\u001b[A\n",
      " ... (more hidden) ...\u001b[A\n",
      " ... (more hidden) ...\u001b[A\n",
      " ... (more hidden) ...\u001b[A\n",
      " ... (more hidden) ...\u001b[A\n",
      " ... (more hidden) ...\u001b[A\n",
      " ... (more hidden) ...\u001b[A\n",
      " ... (more hidden) ...\u001b[A\n",
      " ... (more hidden) ...\u001b[A\n",
      " ... (more hidden) ...\u001b[A\n",
      " ... (more hidden) ...\u001b[A\n",
      " ... (more hidden) ...\u001b[A\n",
      " ... (more hidden) ...\u001b[A\n",
      " ... (more hidden) ...\u001b[A\n",
      " ... (more hidden) ...\u001b[A\n",
      " ... (more hidden) ...\u001b[A\n",
      " ... (more hidden) ...\u001b[A\n",
      " ... (more hidden) ...\u001b[A\n",
      " ... (more hidden) ...\u001b[A\n",
      " ... (more hidden) ...\u001b[A\n",
      " ... (more hidden) ...\u001b[A\n",
      " ... (more hidden) ...\u001b[A\n",
      " ... (more hidden) ...\u001b[A\n",
      " ... (more hidden) ...\u001b[A\n",
      " ... (more hidden) ...\u001b[A\n",
      " ... (more hidden) ...\u001b[A\n",
      " ... (more hidden) ...\u001b[A\n",
      " ... (more hidden) ...\u001b[A\n",
      " ... (more hidden) ...\u001b[A\n",
      " ... (more hidden) ...\u001b[A\n",
      " ... (more hidden) ...\u001b[A\n",
      " ... (more hidden) ...\u001b[A\n",
      " ... (more hidden) ...\u001b[A\n",
      " ... (more hidden) ...\u001b[A\n",
      " ... (more hidden) ...\u001b[A\n",
      " ... (more hidden) ...\u001b[A\n",
      " ... (more hidden) ...\u001b[A\n",
      " ... (more hidden) ...\u001b[A\n",
      " ... (more hidden) ...\u001b[A\n",
      " ... (more hidden) ...\u001b[A\n",
      " ... (more hidden) ...\u001b[A\n",
      " ... (more hidden) ...\u001b[A\n",
      " ... (more hidden) ...\u001b[A\n",
      " ... (more hidden) ...\u001b[A\n",
      " ... (more hidden) ...\u001b[A\n",
      " ... (more hidden) ...\u001b[A\n",
      " ... (more hidden) ...\u001b[A\n",
      " ... (more hidden) ...\u001b[A\n",
      " ... (more hidden) ...\u001b[A\n",
      " ... (more hidden) ...\u001b[A\n",
      " ... (more hidden) ...\u001b[A\n",
      " ... (more hidden) ...\u001b[A\n",
      " ... (more hidden) ...\u001b[A\n",
      " ... (more hidden) ...\u001b[A\n",
      " ... (more hidden) ...\u001b[A\n",
      " ... (more hidden) ...\u001b[A\n",
      " ... (more hidden) ...\u001b[A\n",
      " ... (more hidden) ...\u001b[A\n",
      " ... (more hidden) ...\u001b[A\n",
      " ... (more hidden) ...\u001b[A\n",
      " ... (more hidden) ...\u001b[A\n",
      " ... (more hidden) ...\u001b[A\n",
      " ... (more hidden) ...\u001b[A\n",
      " ... (more hidden) ...\u001b[A\n",
      " ... (more hidden) ...\u001b[A\n",
      "DR 1:  17%|███████████████████████████▏                                                                                                                                     | 5546/32768 [00:08<00:40, 670.25it/s]\n"
     ]
    },
    {
     "name": "stdout",
     "output_type": "stream",
     "text": [
      "Stopping at Epoch 5546\n",
      "DR 1 Number of samples:  torch.Size([6675, 2])\n",
      "DR 1 Predicted Gammas:  0.39386216 1.0 0.8409033\n"
     ]
    },
    {
     "name": "stderr",
     "output_type": "stream",
     "text": [
      "\n",
      " ... (more hidden) ...\u001b[A\n",
      " ... (more hidden) ...\u001b[A\n",
      "DR 2:   6%|██████████                                                                                                                                                      | 1025/16384 [00:00<00:04, 3417.45it/s]\n",
      "/opt/homebrew/lib/python3.11/site-packages/torch/optim/lr_scheduler.py:28: UserWarning: The verbose parameter is deprecated. Please use get_last_lr() to access the learning rate.\n",
      "  warnings.warn(\"The verbose parameter is deprecated. Please use get_last_lr() \"\n"
     ]
    },
    {
     "name": "stdout",
     "output_type": "stream",
     "text": [
      "Stopping at Epoch 1025\n",
      "AUC predicting P(win):\t\t\t\t 0.5306664918530091\n",
      "Estimated Utility\t Mean Error:\t\t\t 0.006512996545962482\n",
      "Estimated Utility\t Mean Absolute Error:\t 0.24495622582752186\n"
     ]
    },
    {
     "name": "stderr",
     "output_type": "stream",
     "text": [
      "\n",
      " ... (more hidden) ...\u001b[A\n",
      " ... (more hidden) ...\u001b[A\n",
      " ... (more hidden) ...\u001b[A\n",
      " ... (more hidden) ...\u001b[A\n",
      " ... (more hidden) ...\u001b[A\n",
      " ... (more hidden) ...\u001b[A\n",
      "DR 2:   8%|█████████████▌                                                                                                                                                  | 2782/32768 [00:00<00:07, 3925.51it/s]\n",
      "/opt/homebrew/lib/python3.11/site-packages/torch/optim/lr_scheduler.py:28: UserWarning: The verbose parameter is deprecated. Please use get_last_lr() to access the learning rate.\n",
      "  warnings.warn(\"The verbose parameter is deprecated. Please use get_last_lr() \"\n"
     ]
    },
    {
     "name": "stdout",
     "output_type": "stream",
     "text": [
      "Stopping at Epoch 2782\n",
      "AUC predicting P(win):\t\t\t\t 0.5529799029895076\n",
      "Estimated Utility\t Mean Error:\t\t\t -0.005400403457986229\n",
      "Estimated Utility\t Mean Absolute Error:\t 0.2377960640737221\n"
     ]
    },
    {
     "name": "stderr",
     "output_type": "stream",
     "text": [
      "\n",
      " ... (more hidden) ...\u001b[A\n",
      " ... (more hidden) ...\u001b[A\n",
      " ... (more hidden) ...\u001b[A\n",
      " ... (more hidden) ...\u001b[A\n",
      " ... (more hidden) ...\u001b[A\n",
      " ... (more hidden) ...\u001b[A\n",
      " ... (more hidden) ...\u001b[A\n",
      " ... (more hidden) ...\u001b[A\n",
      " ... (more hidden) ...\u001b[A\n",
      " ... (more hidden) ...\u001b[A\n",
      " ... (more hidden) ...\u001b[A\n",
      " ... (more hidden) ...\u001b[A\n",
      " ... (more hidden) ...\u001b[A\n",
      " ... (more hidden) ...\u001b[A\n",
      " ... (more hidden) ...\u001b[A\n",
      " ... (more hidden) ...\u001b[A\n",
      " ... (more hidden) ...\u001b[A\n",
      " ... (more hidden) ...\u001b[A\n",
      " ... (more hidden) ...\u001b[A\n",
      "DR 2:   4%|██████▉                                                                                                                                                          | 1423/32768 [00:02<00:46, 667.31it/s]\n"
     ]
    },
    {
     "name": "stdout",
     "output_type": "stream",
     "text": [
      "Stopping at Epoch 1423\n",
      "DR 2 Number of samples:  torch.Size([6694, 2])\n",
      "DR 2 Predicted Gammas:  0.34421283 1.0 0.70388675\n"
     ]
    },
    {
     "name": "stderr",
     "output_type": "stream",
     "text": [
      "\n",
      " ... (more hidden) ...\u001b[A\n",
      " ... (more hidden) ...\u001b[A\n",
      " ... (more hidden) ...\u001b[A\n",
      "DR 3:   6%|██████████                                                                                                                                                      | 1025/16384 [00:00<00:04, 3171.10it/s]\n",
      "/opt/homebrew/lib/python3.11/site-packages/torch/optim/lr_scheduler.py:28: UserWarning: The verbose parameter is deprecated. Please use get_last_lr() to access the learning rate.\n",
      "  warnings.warn(\"The verbose parameter is deprecated. Please use get_last_lr() \"\n"
     ]
    },
    {
     "name": "stdout",
     "output_type": "stream",
     "text": [
      "Stopping at Epoch 1025\n",
      "AUC predicting P(win):\t\t\t\t 0.8461187633190803\n",
      "Estimated Utility\t Mean Error:\t\t\t 0.013099249955588494\n",
      "Estimated Utility\t Mean Absolute Error:\t 0.35066570584636597\n"
     ]
    },
    {
     "name": "stderr",
     "output_type": "stream",
     "text": [
      "\n",
      " ... (more hidden) ...\u001b[A\n",
      " ... (more hidden) ...\u001b[A\n",
      " ... (more hidden) ...\u001b[A\n",
      " ... (more hidden) ...\u001b[A\n",
      " ... (more hidden) ...\u001b[A\n",
      " ... (more hidden) ...\u001b[A\n",
      " ... (more hidden) ...\u001b[A\n",
      " ... (more hidden) ...\u001b[A\n",
      "DR 3:  10%|███████████████▋                                                                                                                                                | 3205/32768 [00:01<00:10, 2754.17it/s]\n",
      "/opt/homebrew/lib/python3.11/site-packages/torch/optim/lr_scheduler.py:28: UserWarning: The verbose parameter is deprecated. Please use get_last_lr() to access the learning rate.\n",
      "  warnings.warn(\"The verbose parameter is deprecated. Please use get_last_lr() \"\n"
     ]
    },
    {
     "name": "stdout",
     "output_type": "stream",
     "text": [
      "Stopping at Epoch 3205\n",
      "AUC predicting P(win):\t\t\t\t 0.846502096553845\n",
      "Estimated Utility\t Mean Error:\t\t\t 0.002563701736456295\n",
      "Estimated Utility\t Mean Absolute Error:\t 0.34543223310382587\n"
     ]
    },
    {
     "name": "stderr",
     "output_type": "stream",
     "text": [
      "\n",
      " ... (more hidden) ...\u001b[A\n",
      " ... (more hidden) ...\u001b[A\n",
      " ... (more hidden) ...\u001b[A\n",
      " ... (more hidden) ...\u001b[A\n",
      " ... (more hidden) ...\u001b[A\n",
      " ... (more hidden) ...\u001b[A\n",
      " ... (more hidden) ...\u001b[A\n",
      " ... (more hidden) ...\u001b[A\n",
      " ... (more hidden) ...\u001b[A\n",
      " ... (more hidden) ...\u001b[A\n",
      " ... (more hidden) ...\u001b[A\n",
      " ... (more hidden) ...\u001b[A\n",
      " ... (more hidden) ...\u001b[A\n",
      " ... (more hidden) ...\u001b[A\n",
      " ... (more hidden) ...\u001b[A\n",
      " ... (more hidden) ...\u001b[A\n",
      "DR 3:   4%|██████▌                                                                                                                                                          | 1327/32768 [00:01<00:39, 789.43it/s]\n"
     ]
    },
    {
     "name": "stdout",
     "output_type": "stream",
     "text": [
      "Stopping at Epoch 1327\n",
      "DR 3 Number of samples:  torch.Size([6631, 2])\n",
      "DR 3 Predicted Gammas:  0.56260157 0.8665998 0.7645348\n"
     ]
    },
    {
     "name": "stderr",
     "output_type": "stream",
     "text": [
      "\n",
      " ... (more hidden) ...\u001b[A\n",
      " ... (more hidden) ...\u001b[A\n",
      "DR 1:   6%|██████████                                                                                                                                                      | 1025/16384 [00:00<00:04, 3685.19it/s]\n",
      "/opt/homebrew/lib/python3.11/site-packages/torch/optim/lr_scheduler.py:28: UserWarning: The verbose parameter is deprecated. Please use get_last_lr() to access the learning rate.\n",
      "  warnings.warn(\"The verbose parameter is deprecated. Please use get_last_lr() \"\n"
     ]
    },
    {
     "name": "stdout",
     "output_type": "stream",
     "text": [
      "Stopping at Epoch 1025\n",
      "AUC predicting P(win):\t\t\t\t 0.8531848423488573\n",
      "Estimated Utility\t Mean Error:\t\t\t 0.00633605890976369\n",
      "Estimated Utility\t Mean Absolute Error:\t 0.24031691224075885\n"
     ]
    },
    {
     "name": "stderr",
     "output_type": "stream",
     "text": [
      "\n",
      " ... (more hidden) ...\u001b[A\n",
      " ... (more hidden) ...\u001b[A\n",
      " ... (more hidden) ...\u001b[A\n",
      " ... (more hidden) ...\u001b[A\n",
      " ... (more hidden) ...\u001b[A\n",
      " ... (more hidden) ...\u001b[A\n",
      "DR 1:   8%|████████████▋                                                                                                                                                   | 2602/32768 [00:00<00:08, 3418.41it/s]\n",
      "/opt/homebrew/lib/python3.11/site-packages/torch/optim/lr_scheduler.py:28: UserWarning: The verbose parameter is deprecated. Please use get_last_lr() to access the learning rate.\n",
      "  warnings.warn(\"The verbose parameter is deprecated. Please use get_last_lr() \"\n"
     ]
    },
    {
     "name": "stdout",
     "output_type": "stream",
     "text": [
      "Stopping at Epoch 2602\n",
      "AUC predicting P(win):\t\t\t\t 0.8538688818077665\n",
      "Estimated Utility\t Mean Error:\t\t\t 0.009472275178779292\n",
      "Estimated Utility\t Mean Absolute Error:\t 0.24073307513413358\n"
     ]
    },
    {
     "name": "stderr",
     "output_type": "stream",
     "text": [
      "\n",
      " ... (more hidden) ...\u001b[A\n",
      " ... (more hidden) ...\u001b[A\n",
      " ... (more hidden) ...\u001b[A\n",
      " ... (more hidden) ...\u001b[A\n",
      " ... (more hidden) ...\u001b[A\n",
      " ... (more hidden) ...\u001b[A\n",
      " ... (more hidden) ...\u001b[A\n",
      " ... (more hidden) ...\u001b[A\n",
      " ... (more hidden) ...\u001b[A\n",
      " ... (more hidden) ...\u001b[A\n",
      " ... (more hidden) ...\u001b[A\n",
      " ... (more hidden) ...\u001b[A\n",
      " ... (more hidden) ...\u001b[A\n",
      " ... (more hidden) ...\u001b[A\n",
      " ... (more hidden) ...\u001b[A\n",
      " ... (more hidden) ...\u001b[A\n",
      " ... (more hidden) ...\u001b[A\n",
      " ... (more hidden) ...\u001b[A\n",
      " ... (more hidden) ...\u001b[A\n",
      " ... (more hidden) ...\u001b[A\n",
      " ... (more hidden) ...\u001b[A\n",
      " ... (more hidden) ...\u001b[A\n",
      " ... (more hidden) ...\u001b[A\n",
      " ... (more hidden) ...\u001b[A\n",
      " ... (more hidden) ...\u001b[A\n",
      " ... (more hidden) ...\u001b[A\n",
      " ... (more hidden) ...\u001b[A\n",
      " ... (more hidden) ...\u001b[A\n",
      " ... (more hidden) ...\u001b[A\n",
      " ... (more hidden) ...\u001b[A\n",
      " ... (more hidden) ...\u001b[A\n",
      " ... (more hidden) ...\u001b[A\n",
      " ... (more hidden) ...\u001b[A\n",
      " ... (more hidden) ...\u001b[A\n",
      " ... (more hidden) ...\u001b[A\n",
      " ... (more hidden) ...\u001b[A\n",
      " ... (more hidden) ...\u001b[A\n",
      " ... (more hidden) ...\u001b[A\n",
      " ... (more hidden) ...\u001b[A\n",
      " ... (more hidden) ...\u001b[A\n",
      " ... (more hidden) ...\u001b[A\n",
      " ... (more hidden) ...\u001b[A\n",
      " ... (more hidden) ...\u001b[A\n",
      " ... (more hidden) ...\u001b[A\n",
      " ... (more hidden) ...\u001b[A\n",
      " ... (more hidden) ...\u001b[A\n",
      " ... (more hidden) ...\u001b[A\n",
      " ... (more hidden) ...\u001b[A\n",
      " ... (more hidden) ...\u001b[A\n",
      " ... (more hidden) ...\u001b[A\n",
      " ... (more hidden) ...\u001b[A\n",
      " ... (more hidden) ...\u001b[A\n",
      " ... (more hidden) ...\u001b[A\n",
      " ... (more hidden) ...\u001b[A\n",
      " ... (more hidden) ...\u001b[A\n",
      " ... (more hidden) ...\u001b[A\n",
      " ... (more hidden) ...\u001b[A\n",
      " ... (more hidden) ...\u001b[A\n",
      " ... (more hidden) ...\u001b[A\n",
      " ... (more hidden) ...\u001b[A\n",
      " ... (more hidden) ...\u001b[A\n",
      " ... (more hidden) ...\u001b[A\n",
      " ... (more hidden) ...\u001b[A\n",
      " ... (more hidden) ...\u001b[A\n",
      " ... (more hidden) ...\u001b[A\n",
      " ... (more hidden) ...\u001b[A\n",
      " ... (more hidden) ...\u001b[A\n",
      " ... (more hidden) ...\u001b[A\n",
      " ... (more hidden) ...\u001b[A\n",
      " ... (more hidden) ...\u001b[A\n",
      " ... (more hidden) ...\u001b[A\n",
      " ... (more hidden) ...\u001b[A\n",
      " ... (more hidden) ...\u001b[A\n",
      " ... (more hidden) ...\u001b[A\n",
      " ... (more hidden) ...\u001b[A\n",
      " ... (more hidden) ...\u001b[A\n",
      " ... (more hidden) ...\u001b[A\n",
      " ... (more hidden) ...\u001b[A\n",
      " ... (more hidden) ...\u001b[A\n",
      " ... (more hidden) ...\u001b[A\n",
      " ... (more hidden) ...\u001b[A\n",
      " ... (more hidden) ...\u001b[A\n",
      " ... (more hidden) ...\u001b[A\n",
      " ... (more hidden) ...\u001b[A\n",
      " ... (more hidden) ...\u001b[A\n",
      " ... (more hidden) ...\u001b[A\n",
      " ... (more hidden) ...\u001b[A\n",
      " ... (more hidden) ...\u001b[A\n",
      " ... (more hidden) ...\u001b[A\n",
      " ... (more hidden) ...\u001b[A\n",
      " ... (more hidden) ...\u001b[A\n",
      "DR 1:  21%|██████████████████████████████████▍                                                                                                                              | 7018/32768 [00:09<00:35, 734.48it/s]\n"
     ]
    },
    {
     "name": "stdout",
     "output_type": "stream",
     "text": [
      "Stopping at Epoch 7018\n",
      "DR 1 Number of samples:  torch.Size([6632, 2])\n",
      "DR 1 Predicted Gammas:  0.3653952 1.0 0.8075254\n"
     ]
    },
    {
     "name": "stderr",
     "output_type": "stream",
     "text": [
      "\n",
      " ... (more hidden) ...\u001b[A\n",
      " ... (more hidden) ...\u001b[A\n",
      "DR 2:   6%|██████████                                                                                                                                                      | 1025/16384 [00:00<00:03, 4300.94it/s]\n",
      "/opt/homebrew/lib/python3.11/site-packages/torch/optim/lr_scheduler.py:28: UserWarning: The verbose parameter is deprecated. Please use get_last_lr() to access the learning rate.\n",
      "  warnings.warn(\"The verbose parameter is deprecated. Please use get_last_lr() \"\n"
     ]
    },
    {
     "name": "stdout",
     "output_type": "stream",
     "text": [
      "Stopping at Epoch 1025\n",
      "AUC predicting P(win):\t\t\t\t 0.4902027041114624\n",
      "Estimated Utility\t Mean Error:\t\t\t 0.0053272222406485934\n",
      "Estimated Utility\t Mean Absolute Error:\t 0.23289510781347808\n"
     ]
    },
    {
     "name": "stderr",
     "output_type": "stream",
     "text": [
      "\n",
      " ... (more hidden) ...\u001b[A\n",
      " ... (more hidden) ...\u001b[A\n",
      " ... (more hidden) ...\u001b[A\n",
      " ... (more hidden) ...\u001b[A\n",
      " ... (more hidden) ...\u001b[A\n",
      " ... (more hidden) ...\u001b[A\n",
      " ... (more hidden) ...\u001b[A\n",
      " ... (more hidden) ...\u001b[A\n",
      " ... (more hidden) ...\u001b[A\n",
      "DR 2:  13%|████████████████████▎                                                                                                                                           | 4149/32768 [00:00<00:06, 4232.26it/s]\n",
      "/opt/homebrew/lib/python3.11/site-packages/torch/optim/lr_scheduler.py:28: UserWarning: The verbose parameter is deprecated. Please use get_last_lr() to access the learning rate.\n",
      "  warnings.warn(\"The verbose parameter is deprecated. Please use get_last_lr() \"\n"
     ]
    },
    {
     "name": "stdout",
     "output_type": "stream",
     "text": [
      "Stopping at Epoch 4149\n",
      "AUC predicting P(win):\t\t\t\t 0.4726152056739734\n",
      "Estimated Utility\t Mean Error:\t\t\t -0.004483767057507097\n",
      "Estimated Utility\t Mean Absolute Error:\t 0.22840917902344687\n"
     ]
    },
    {
     "name": "stderr",
     "output_type": "stream",
     "text": [
      "\n",
      " ... (more hidden) ...\u001b[A\n",
      " ... (more hidden) ...\u001b[A\n",
      " ... (more hidden) ...\u001b[A\n",
      " ... (more hidden) ...\u001b[A\n",
      " ... (more hidden) ...\u001b[A\n",
      " ... (more hidden) ...\u001b[A\n",
      " ... (more hidden) ...\u001b[A\n",
      " ... (more hidden) ...\u001b[A\n",
      " ... (more hidden) ...\u001b[A\n",
      " ... (more hidden) ...\u001b[A\n",
      " ... (more hidden) ...\u001b[A\n",
      " ... (more hidden) ...\u001b[A\n",
      " ... (more hidden) ...\u001b[A\n",
      " ... (more hidden) ...\u001b[A\n",
      " ... (more hidden) ...\u001b[A\n",
      " ... (more hidden) ...\u001b[A\n",
      " ... (more hidden) ...\u001b[A\n",
      " ... (more hidden) ...\u001b[A\n",
      " ... (more hidden) ...\u001b[A\n",
      " ... (more hidden) ...\u001b[A\n",
      " ... (more hidden) ...\u001b[A\n",
      " ... (more hidden) ...\u001b[A\n",
      " ... (more hidden) ...\u001b[A\n",
      " ... (more hidden) ...\u001b[A\n",
      " ... (more hidden) ...\u001b[A\n",
      " ... (more hidden) ...\u001b[A\n",
      " ... (more hidden) ...\u001b[A\n",
      " ... (more hidden) ...\u001b[A\n",
      " ... (more hidden) ...\u001b[A\n",
      " ... (more hidden) ...\u001b[A\n",
      " ... (more hidden) ...\u001b[A\n",
      " ... (more hidden) ...\u001b[A\n",
      " ... (more hidden) ...\u001b[A\n",
      " ... (more hidden) ...\u001b[A\n",
      " ... (more hidden) ...\u001b[A\n",
      " ... (more hidden) ...\u001b[A\n",
      " ... (more hidden) ...\u001b[A\n",
      "DR 2:   9%|██████████████▎                                                                                                                                                  | 2916/32768 [00:03<00:39, 759.65it/s]\n"
     ]
    },
    {
     "name": "stdout",
     "output_type": "stream",
     "text": [
      "Stopping at Epoch 2916\n",
      "DR 2 Number of samples:  torch.Size([6632, 2])\n",
      "DR 2 Predicted Gammas:  0.30807042 1.0 0.69686157\n"
     ]
    },
    {
     "name": "stderr",
     "output_type": "stream",
     "text": [
      "\n",
      " ... (more hidden) ...\u001b[A\n",
      " ... (more hidden) ...\u001b[A\n",
      "DR 3:   6%|██████████                                                                                                                                                      | 1025/16384 [00:00<00:04, 3464.64it/s]\n",
      "/opt/homebrew/lib/python3.11/site-packages/torch/optim/lr_scheduler.py:28: UserWarning: The verbose parameter is deprecated. Please use get_last_lr() to access the learning rate.\n",
      "  warnings.warn(\"The verbose parameter is deprecated. Please use get_last_lr() \"\n"
     ]
    },
    {
     "name": "stdout",
     "output_type": "stream",
     "text": [
      "Stopping at Epoch 1025\n",
      "AUC predicting P(win):\t\t\t\t 0.8641325049969251\n",
      "Estimated Utility\t Mean Error:\t\t\t 0.014503481996261516\n",
      "Estimated Utility\t Mean Absolute Error:\t 0.3497746204318461\n"
     ]
    },
    {
     "name": "stderr",
     "output_type": "stream",
     "text": [
      "\n",
      " ... (more hidden) ...\u001b[A\n",
      " ... (more hidden) ...\u001b[A\n",
      " ... (more hidden) ...\u001b[A\n",
      " ... (more hidden) ...\u001b[A\n",
      " ... (more hidden) ...\u001b[A\n",
      " ... (more hidden) ...\u001b[A\n",
      " ... (more hidden) ...\u001b[A\n",
      " ... (more hidden) ...\u001b[A\n",
      " ... (more hidden) ...\u001b[A\n",
      " ... (more hidden) ...\u001b[A\n",
      " ... (more hidden) ...\u001b[A\n",
      " ... (more hidden) ...\u001b[A\n",
      "DR 3:  15%|███████████████████████▋                                                                                                                                        | 4860/32768 [00:01<00:07, 3720.23it/s]\n",
      "/opt/homebrew/lib/python3.11/site-packages/torch/optim/lr_scheduler.py:28: UserWarning: The verbose parameter is deprecated. Please use get_last_lr() to access the learning rate.\n",
      "  warnings.warn(\"The verbose parameter is deprecated. Please use get_last_lr() \"\n"
     ]
    },
    {
     "name": "stdout",
     "output_type": "stream",
     "text": [
      "Stopping at Epoch 4860\n",
      "AUC predicting P(win):\t\t\t\t 0.8638635359009841\n",
      "Estimated Utility\t Mean Error:\t\t\t 0.009659492575927606\n",
      "Estimated Utility\t Mean Absolute Error:\t 0.34636977384561496\n"
     ]
    },
    {
     "name": "stderr",
     "output_type": "stream",
     "text": [
      "\n",
      " ... (more hidden) ...\u001b[A\n",
      " ... (more hidden) ...\u001b[A\n",
      " ... (more hidden) ...\u001b[A\n",
      " ... (more hidden) ...\u001b[A\n",
      " ... (more hidden) ...\u001b[A\n",
      " ... (more hidden) ...\u001b[A\n",
      " ... (more hidden) ...\u001b[A\n",
      " ... (more hidden) ...\u001b[A\n",
      " ... (more hidden) ...\u001b[A\n",
      " ... (more hidden) ...\u001b[A\n",
      " ... (more hidden) ...\u001b[A\n",
      " ... (more hidden) ...\u001b[A\n",
      " ... (more hidden) ...\u001b[A\n",
      " ... (more hidden) ...\u001b[A\n",
      " ... (more hidden) ...\u001b[A\n",
      " ... (more hidden) ...\u001b[A\n",
      " ... (more hidden) ...\u001b[A\n",
      " ... (more hidden) ...\u001b[A\n",
      " ... (more hidden) ...\u001b[A\n",
      " ... (more hidden) ...\u001b[A\n",
      " ... (more hidden) ...\u001b[A\n",
      " ... (more hidden) ...\u001b[A\n",
      " ... (more hidden) ...\u001b[A\n",
      " ... (more hidden) ...\u001b[A\n",
      " ... (more hidden) ...\u001b[A\n",
      " ... (more hidden) ...\u001b[A\n",
      " ... (more hidden) ...\u001b[A\n",
      " ... (more hidden) ...\u001b[A\n",
      " ... (more hidden) ...\u001b[A\n",
      " ... (more hidden) ...\u001b[A\n",
      " ... (more hidden) ...\u001b[A\n",
      " ... (more hidden) ...\u001b[A\n",
      " ... (more hidden) ...\u001b[A\n",
      " ... (more hidden) ...\u001b[A\n",
      " ... (more hidden) ...\u001b[A\n",
      " ... (more hidden) ...\u001b[A\n",
      " ... (more hidden) ...\u001b[A\n",
      " ... (more hidden) ...\u001b[A\n",
      " ... (more hidden) ...\u001b[A\n",
      " ... (more hidden) ...\u001b[A\n",
      " ... (more hidden) ...\u001b[A\n",
      " ... (more hidden) ...\u001b[A\n",
      " ... (more hidden) ...\u001b[A\n",
      " ... (more hidden) ...\u001b[A\n",
      " ... (more hidden) ...\u001b[A\n",
      " ... (more hidden) ...\u001b[A\n",
      " ... (more hidden) ...\u001b[A\n",
      " ... (more hidden) ...\u001b[A\n",
      " ... (more hidden) ...\u001b[A\n",
      " ... (more hidden) ...\u001b[A\n",
      " ... (more hidden) ...\u001b[A\n",
      " ... (more hidden) ...\u001b[A\n",
      " ... (more hidden) ...\u001b[A\n",
      " ... (more hidden) ...\u001b[A\n",
      " ... (more hidden) ...\u001b[A\n",
      " ... (more hidden) ...\u001b[A\n",
      " ... (more hidden) ...\u001b[A\n",
      " ... (more hidden) ...\u001b[A\n",
      " ... (more hidden) ...\u001b[A\n",
      " ... (more hidden) ...\u001b[A\n",
      " ... (more hidden) ...\u001b[A\n",
      " ... (more hidden) ...\u001b[A\n",
      " ... (more hidden) ...\u001b[A\n",
      " ... (more hidden) ...\u001b[A\n",
      " ... (more hidden) ...\u001b[A\n",
      " ... (more hidden) ...\u001b[A\n",
      " ... (more hidden) ...\u001b[A\n",
      " ... (more hidden) ...\u001b[A\n",
      " ... (more hidden) ...\u001b[A\n",
      " ... (more hidden) ...\u001b[A\n",
      " ... (more hidden) ...\u001b[A\n",
      " ... (more hidden) ...\u001b[A\n",
      " ... (more hidden) ...\u001b[A\n",
      " ... (more hidden) ...\u001b[A\n",
      " ... (more hidden) ...\u001b[A\n",
      " ... (more hidden) ...\u001b[A\n",
      " ... (more hidden) ...\u001b[A\n",
      " ... (more hidden) ...\u001b[A\n",
      " ... (more hidden) ...\u001b[A\n",
      " ... (more hidden) ...\u001b[A\n",
      " ... (more hidden) ...\u001b[A\n",
      " ... (more hidden) ...\u001b[A\n",
      " ... (more hidden) ...\u001b[A\n",
      " ... (more hidden) ...\u001b[A\n",
      " ... (more hidden) ...\u001b[A\n",
      " ... (more hidden) ...\u001b[A\n",
      " ... (more hidden) ...\u001b[A\n",
      " ... (more hidden) ...\u001b[A\n",
      "DR 3:  20%|███████████████████████████████▍                                                                                                                                 | 6390/32768 [00:09<00:38, 685.73it/s]\n"
     ]
    },
    {
     "name": "stdout",
     "output_type": "stream",
     "text": [
      "Stopping at Epoch 6390\n",
      "DR 3 Number of samples:  torch.Size([6736, 2])\n",
      "DR 3 Predicted Gammas:  0.37586835 0.815803 0.6912428\n"
     ]
    },
    {
     "name": "stderr",
     "output_type": "stream",
     "text": [
      "\n",
      " ... (more hidden) ...\u001b[A\n",
      " ... (more hidden) ...\u001b[A\n",
      "DR 1:   6%|██████████                                                                                                                                                      | 1025/16384 [00:00<00:03, 3947.91it/s]\n",
      "/opt/homebrew/lib/python3.11/site-packages/torch/optim/lr_scheduler.py:28: UserWarning: The verbose parameter is deprecated. Please use get_last_lr() to access the learning rate.\n",
      "  warnings.warn(\"The verbose parameter is deprecated. Please use get_last_lr() \"\n"
     ]
    },
    {
     "name": "stdout",
     "output_type": "stream",
     "text": [
      "Stopping at Epoch 1025\n",
      "AUC predicting P(win):\t\t\t\t 0.8581181562861993\n",
      "Estimated Utility\t Mean Error:\t\t\t -0.010538025735528426\n",
      "Estimated Utility\t Mean Absolute Error:\t 0.2357710000396774\n"
     ]
    },
    {
     "name": "stderr",
     "output_type": "stream",
     "text": [
      "\n",
      " ... (more hidden) ...\u001b[A\n",
      " ... (more hidden) ...\u001b[A\n",
      " ... (more hidden) ...\u001b[A\n",
      " ... (more hidden) ...\u001b[A\n",
      " ... (more hidden) ...\u001b[A\n",
      " ... (more hidden) ...\u001b[A\n",
      " ... (more hidden) ...\u001b[A\n",
      " ... (more hidden) ...\u001b[A\n",
      " ... (more hidden) ...\u001b[A\n",
      " ... (more hidden) ...\u001b[A\n",
      " ... (more hidden) ...\u001b[A\n",
      " ... (more hidden) ...\u001b[A\n",
      " ... (more hidden) ...\u001b[A\n",
      " ... (more hidden) ...\u001b[A\n",
      " ... (more hidden) ...\u001b[A\n",
      " ... (more hidden) ...\u001b[A\n",
      "DR 1:  20%|████████████████████████████████▋                                                                                                                               | 6699/32768 [00:01<00:06, 3977.64it/s]\n",
      "/opt/homebrew/lib/python3.11/site-packages/torch/optim/lr_scheduler.py:28: UserWarning: The verbose parameter is deprecated. Please use get_last_lr() to access the learning rate.\n",
      "  warnings.warn(\"The verbose parameter is deprecated. Please use get_last_lr() \"\n"
     ]
    },
    {
     "name": "stdout",
     "output_type": "stream",
     "text": [
      "Stopping at Epoch 6699\n",
      "AUC predicting P(win):\t\t\t\t 0.8772386639322166\n",
      "Estimated Utility\t Mean Error:\t\t\t 0.00035453821806100057\n",
      "Estimated Utility\t Mean Absolute Error:\t 0.23604647779933569\n"
     ]
    },
    {
     "name": "stderr",
     "output_type": "stream",
     "text": [
      "\n",
      " ... (more hidden) ...\u001b[A\n",
      " ... (more hidden) ...\u001b[A\n",
      " ... (more hidden) ...\u001b[A\n",
      " ... (more hidden) ...\u001b[A\n",
      " ... (more hidden) ...\u001b[A\n",
      " ... (more hidden) ...\u001b[A\n",
      " ... (more hidden) ...\u001b[A\n",
      " ... (more hidden) ...\u001b[A\n",
      " ... (more hidden) ...\u001b[A\n",
      " ... (more hidden) ...\u001b[A\n",
      " ... (more hidden) ...\u001b[A\n",
      " ... (more hidden) ...\u001b[A\n",
      " ... (more hidden) ...\u001b[A\n",
      " ... (more hidden) ...\u001b[A\n",
      " ... (more hidden) ...\u001b[A\n",
      " ... (more hidden) ...\u001b[A\n",
      " ... (more hidden) ...\u001b[A\n",
      " ... (more hidden) ...\u001b[A\n",
      " ... (more hidden) ...\u001b[A\n",
      " ... (more hidden) ...\u001b[A\n",
      " ... (more hidden) ...\u001b[A\n",
      " ... (more hidden) ...\u001b[A\n",
      " ... (more hidden) ...\u001b[A\n",
      " ... (more hidden) ...\u001b[A\n",
      " ... (more hidden) ...\u001b[A\n",
      " ... (more hidden) ...\u001b[A\n",
      " ... (more hidden) ...\u001b[A\n",
      " ... (more hidden) ...\u001b[A\n",
      " ... (more hidden) ...\u001b[A\n",
      " ... (more hidden) ...\u001b[A\n",
      " ... (more hidden) ...\u001b[A\n",
      " ... (more hidden) ...\u001b[A\n",
      " ... (more hidden) ...\u001b[A\n",
      " ... (more hidden) ...\u001b[A\n",
      " ... (more hidden) ...\u001b[A\n",
      " ... (more hidden) ...\u001b[A\n",
      " ... (more hidden) ...\u001b[A\n",
      " ... (more hidden) ...\u001b[A\n",
      " ... (more hidden) ...\u001b[A\n",
      " ... (more hidden) ...\u001b[A\n",
      " ... (more hidden) ...\u001b[A\n",
      " ... (more hidden) ...\u001b[A\n",
      " ... (more hidden) ...\u001b[A\n",
      " ... (more hidden) ...\u001b[A\n",
      " ... (more hidden) ...\u001b[A\n",
      " ... (more hidden) ...\u001b[A\n",
      " ... (more hidden) ...\u001b[A\n",
      " ... (more hidden) ...\u001b[A\n",
      " ... (more hidden) ...\u001b[A\n",
      " ... (more hidden) ...\u001b[A\n",
      " ... (more hidden) ...\u001b[A\n",
      " ... (more hidden) ...\u001b[A\n",
      " ... (more hidden) ...\u001b[A\n",
      " ... (more hidden) ...\u001b[A\n",
      " ... (more hidden) ...\u001b[A\n",
      " ... (more hidden) ...\u001b[A\n",
      " ... (more hidden) ...\u001b[A\n",
      " ... (more hidden) ...\u001b[A\n",
      " ... (more hidden) ...\u001b[A\n",
      " ... (more hidden) ...\u001b[A\n",
      " ... (more hidden) ...\u001b[A\n",
      " ... (more hidden) ...\u001b[A\n",
      " ... (more hidden) ...\u001b[A\n",
      " ... (more hidden) ...\u001b[A\n",
      " ... (more hidden) ...\u001b[A\n",
      " ... (more hidden) ...\u001b[A\n",
      " ... (more hidden) ...\u001b[A\n",
      " ... (more hidden) ...\u001b[A\n",
      " ... (more hidden) ...\u001b[A\n",
      " ... (more hidden) ...\u001b[A\n",
      " ... (more hidden) ...\u001b[A\n",
      " ... (more hidden) ...\u001b[A\n",
      " ... (more hidden) ...\u001b[A\n",
      " ... (more hidden) ...\u001b[A\n",
      " ... (more hidden) ...\u001b[A\n",
      " ... (more hidden) ...\u001b[A\n",
      " ... (more hidden) ...\u001b[A\n",
      " ... (more hidden) ...\u001b[A\n",
      " ... (more hidden) ...\u001b[A\n",
      " ... (more hidden) ...\u001b[A\n",
      " ... (more hidden) ...\u001b[A\n",
      " ... (more hidden) ...\u001b[A\n",
      " ... (more hidden) ...\u001b[A\n",
      " ... (more hidden) ...\u001b[A\n",
      " ... (more hidden) ...\u001b[A\n",
      " ... (more hidden) ...\u001b[A\n",
      " ... (more hidden) ...\u001b[A\n",
      " ... (more hidden) ...\u001b[A\n",
      " ... (more hidden) ...\u001b[A\n",
      " ... (more hidden) ...\u001b[A\n",
      " ... (more hidden) ...\u001b[A\n",
      " ... (more hidden) ...\u001b[A\n",
      " ... (more hidden) ...\u001b[A\n",
      " ... (more hidden) ...\u001b[A\n",
      " ... (more hidden) ...\u001b[A\n",
      " ... (more hidden) ...\u001b[A\n",
      " ... (more hidden) ...\u001b[A\n",
      " ... (more hidden) ...\u001b[A\n",
      " ... (more hidden) ...\u001b[A\n",
      " ... (more hidden) ...\u001b[A\n",
      " ... (more hidden) ...\u001b[A\n",
      " ... (more hidden) ...\u001b[A\n",
      " ... (more hidden) ...\u001b[A\n",
      " ... (more hidden) ...\u001b[A\n",
      " ... (more hidden) ...\u001b[A\n",
      " ... (more hidden) ...\u001b[A\n",
      "DR 1:  24%|██████████████████████████████████████▊                                                                                                                          | 7900/32768 [00:11<00:36, 675.33it/s]\n"
     ]
    },
    {
     "name": "stdout",
     "output_type": "stream",
     "text": [
      "Stopping at Epoch 7900\n",
      "DR 1 Number of samples:  torch.Size([6634, 2])\n",
      "DR 1 Predicted Gammas:  0.38300088 1.0 0.8112872\n"
     ]
    },
    {
     "name": "stderr",
     "output_type": "stream",
     "text": [
      "\n",
      " ... (more hidden) ...\u001b[A\n",
      " ... (more hidden) ...\u001b[A\n",
      "DR 2:   6%|██████████                                                                                                                                                      | 1025/16384 [00:00<00:03, 4073.73it/s]\n",
      "/opt/homebrew/lib/python3.11/site-packages/torch/optim/lr_scheduler.py:28: UserWarning: The verbose parameter is deprecated. Please use get_last_lr() to access the learning rate.\n",
      "  warnings.warn(\"The verbose parameter is deprecated. Please use get_last_lr() \"\n"
     ]
    },
    {
     "name": "stdout",
     "output_type": "stream",
     "text": [
      "Stopping at Epoch 1025\n",
      "AUC predicting P(win):\t\t\t\t 0.47630935989411427\n",
      "Estimated Utility\t Mean Error:\t\t\t -0.020951090138702368\n",
      "Estimated Utility\t Mean Absolute Error:\t 0.2672118504844202\n"
     ]
    },
    {
     "name": "stderr",
     "output_type": "stream",
     "text": [
      "\n",
      " ... (more hidden) ...\u001b[A\n",
      " ... (more hidden) ...\u001b[A\n",
      " ... (more hidden) ...\u001b[A\n",
      " ... (more hidden) ...\u001b[A\n",
      " ... (more hidden) ...\u001b[A\n",
      " ... (more hidden) ...\u001b[A\n",
      " ... (more hidden) ...\u001b[A\n",
      "DR 2:  10%|███████████████▍                                                                                                                                                | 3156/32768 [00:00<00:07, 4205.14it/s]\n",
      "/opt/homebrew/lib/python3.11/site-packages/torch/optim/lr_scheduler.py:28: UserWarning: The verbose parameter is deprecated. Please use get_last_lr() to access the learning rate.\n",
      "  warnings.warn(\"The verbose parameter is deprecated. Please use get_last_lr() \"\n"
     ]
    },
    {
     "name": "stdout",
     "output_type": "stream",
     "text": [
      "Stopping at Epoch 3156\n",
      "AUC predicting P(win):\t\t\t\t 0.5072856797013642\n",
      "Estimated Utility\t Mean Error:\t\t\t -0.003974544345123337\n",
      "Estimated Utility\t Mean Absolute Error:\t 0.2742619925272158\n"
     ]
    },
    {
     "name": "stderr",
     "output_type": "stream",
     "text": [
      "\n",
      " ... (more hidden) ...\u001b[A\n",
      " ... (more hidden) ...\u001b[A\n",
      " ... (more hidden) ...\u001b[A\n",
      " ... (more hidden) ...\u001b[A\n",
      " ... (more hidden) ...\u001b[A\n",
      " ... (more hidden) ...\u001b[A\n",
      " ... (more hidden) ...\u001b[A\n",
      " ... (more hidden) ...\u001b[A\n",
      " ... (more hidden) ...\u001b[A\n",
      " ... (more hidden) ...\u001b[A\n",
      " ... (more hidden) ...\u001b[A\n",
      " ... (more hidden) ...\u001b[A\n",
      " ... (more hidden) ...\u001b[A\n",
      " ... (more hidden) ...\u001b[A\n",
      " ... (more hidden) ...\u001b[A\n",
      " ... (more hidden) ...\u001b[A\n",
      " ... (more hidden) ...\u001b[A\n",
      " ... (more hidden) ...\u001b[A\n",
      " ... (more hidden) ...\u001b[A\n",
      " ... (more hidden) ...\u001b[A\n",
      " ... (more hidden) ...\u001b[A\n",
      " ... (more hidden) ...\u001b[A\n",
      " ... (more hidden) ...\u001b[A\n",
      " ... (more hidden) ...\u001b[A\n",
      " ... (more hidden) ...\u001b[A\n",
      " ... (more hidden) ...\u001b[A\n",
      " ... (more hidden) ...\u001b[A\n",
      " ... (more hidden) ...\u001b[A\n",
      " ... (more hidden) ...\u001b[A\n",
      " ... (more hidden) ...\u001b[A\n",
      " ... (more hidden) ...\u001b[A\n",
      " ... (more hidden) ...\u001b[A\n",
      " ... (more hidden) ...\u001b[A\n",
      " ... (more hidden) ...\u001b[A\n",
      " ... (more hidden) ...\u001b[A\n",
      " ... (more hidden) ...\u001b[A\n",
      " ... (more hidden) ...\u001b[A\n",
      " ... (more hidden) ...\u001b[A\n",
      " ... (more hidden) ...\u001b[A\n",
      " ... (more hidden) ...\u001b[A\n",
      " ... (more hidden) ...\u001b[A\n",
      " ... (more hidden) ...\u001b[A\n",
      " ... (more hidden) ...\u001b[A\n",
      " ... (more hidden) ...\u001b[A\n",
      " ... (more hidden) ...\u001b[A\n",
      " ... (more hidden) ...\u001b[A\n",
      " ... (more hidden) ...\u001b[A\n",
      " ... (more hidden) ...\u001b[A\n",
      " ... (more hidden) ...\u001b[A\n",
      " ... (more hidden) ...\u001b[A\n",
      " ... (more hidden) ...\u001b[A\n",
      " ... (more hidden) ...\u001b[A\n",
      " ... (more hidden) ...\u001b[A\n",
      " ... (more hidden) ...\u001b[A\n",
      " ... (more hidden) ...\u001b[A\n",
      " ... (more hidden) ...\u001b[A\n",
      " ... (more hidden) ...\u001b[A\n",
      " ... (more hidden) ...\u001b[A\n",
      " ... (more hidden) ...\u001b[A\n",
      " ... (more hidden) ...\u001b[A\n",
      " ... (more hidden) ...\u001b[A\n",
      " ... (more hidden) ...\u001b[A\n",
      " ... (more hidden) ...\u001b[A\n",
      " ... (more hidden) ...\u001b[A\n",
      " ... (more hidden) ...\u001b[A\n",
      " ... (more hidden) ...\u001b[A\n",
      " ... (more hidden) ...\u001b[A\n",
      " ... (more hidden) ...\u001b[A\n",
      " ... (more hidden) ...\u001b[A\n",
      " ... (more hidden) ...\u001b[A\n",
      " ... (more hidden) ...\u001b[A\n",
      " ... (more hidden) ...\u001b[A\n",
      " ... (more hidden) ...\u001b[A\n",
      " ... (more hidden) ...\u001b[A\n",
      " ... (more hidden) ...\u001b[A\n",
      " ... (more hidden) ...\u001b[A\n",
      " ... (more hidden) ...\u001b[A\n",
      " ... (more hidden) ...\u001b[A\n",
      " ... (more hidden) ...\u001b[A\n",
      " ... (more hidden) ...\u001b[A\n",
      " ... (more hidden) ...\u001b[A\n",
      " ... (more hidden) ...\u001b[A\n",
      " ... (more hidden) ...\u001b[A\n",
      " ... (more hidden) ...\u001b[A\n",
      " ... (more hidden) ...\u001b[A\n",
      " ... (more hidden) ...\u001b[A\n",
      " ... (more hidden) ...\u001b[A\n",
      " ... (more hidden) ...\u001b[A\n",
      " ... (more hidden) ...\u001b[A\n",
      " ... (more hidden) ...\u001b[A\n",
      " ... (more hidden) ...\u001b[A\n",
      " ... (more hidden) ...\u001b[A\n",
      " ... (more hidden) ...\u001b[A\n",
      " ... (more hidden) ...\u001b[A\n",
      " ... (more hidden) ...\u001b[A\n",
      " ... (more hidden) ...\u001b[A\n",
      " ... (more hidden) ...\u001b[A\n",
      " ... (more hidden) ...\u001b[A\n",
      " ... (more hidden) ...\u001b[A\n",
      " ... (more hidden) ...\u001b[A\n",
      " ... (more hidden) ...\u001b[A\n",
      " ... (more hidden) ...\u001b[A\n",
      " ... (more hidden) ...\u001b[A\n",
      " ... (more hidden) ...\u001b[A\n",
      " ... (more hidden) ...\u001b[A\n",
      " ... (more hidden) ...\u001b[A\n",
      " ... (more hidden) ...\u001b[A\n",
      " ... (more hidden) ...\u001b[A\n",
      " ... (more hidden) ...\u001b[A\n",
      " ... (more hidden) ...\u001b[A\n",
      " ... (more hidden) ...\u001b[A\n",
      " ... (more hidden) ...\u001b[A\n",
      " ... (more hidden) ...\u001b[A\n",
      " ... (more hidden) ...\u001b[A\n",
      " ... (more hidden) ...\u001b[A\n",
      " ... (more hidden) ...\u001b[A\n",
      " ... (more hidden) ...\u001b[A\n",
      " ... (more hidden) ...\u001b[A\n",
      " ... (more hidden) ...\u001b[A\n",
      " ... (more hidden) ...\u001b[A\n",
      " ... (more hidden) ...\u001b[A\n",
      " ... (more hidden) ...\u001b[A\n",
      " ... (more hidden) ...\u001b[A\n",
      " ... (more hidden) ...\u001b[A\n",
      " ... (more hidden) ...\u001b[A\n",
      " ... (more hidden) ...\u001b[A\n",
      " ... (more hidden) ...\u001b[A\n",
      " ... (more hidden) ...\u001b[A\n",
      " ... (more hidden) ...\u001b[A\n",
      " ... (more hidden) ...\u001b[A\n",
      " ... (more hidden) ...\u001b[A\n",
      " ... (more hidden) ...\u001b[A\n",
      " ... (more hidden) ...\u001b[A\n",
      " ... (more hidden) ...\u001b[A\n",
      " ... (more hidden) ...\u001b[A\n",
      " ... (more hidden) ...\u001b[A\n",
      " ... (more hidden) ...\u001b[A\n",
      " ... (more hidden) ...\u001b[A\n",
      " ... (more hidden) ...\u001b[A\n",
      " ... (more hidden) ...\u001b[A\n",
      " ... (more hidden) ...\u001b[A\n",
      " ... (more hidden) ...\u001b[A\n",
      " ... (more hidden) ...\u001b[A\n",
      " ... (more hidden) ...\u001b[A\n",
      " ... (more hidden) ...\u001b[A\n",
      " ... (more hidden) ...\u001b[A\n",
      " ... (more hidden) ...\u001b[A\n",
      " ... (more hidden) ...\u001b[A\n",
      " ... (more hidden) ...\u001b[A\n",
      " ... (more hidden) ...\u001b[A\n",
      " ... (more hidden) ...\u001b[A\n",
      " ... (more hidden) ...\u001b[A\n",
      " ... (more hidden) ...\u001b[A\n",
      " ... (more hidden) ...\u001b[A\n",
      " ... (more hidden) ...\u001b[A\n",
      " ... (more hidden) ...\u001b[A\n",
      " ... (more hidden) ...\u001b[A\n",
      " ... (more hidden) ...\u001b[A\n",
      " ... (more hidden) ...\u001b[A\n",
      " ... (more hidden) ...\u001b[A\n",
      " ... (more hidden) ...\u001b[A\n",
      " ... (more hidden) ...\u001b[A\n",
      " ... (more hidden) ...\u001b[A\n",
      " ... (more hidden) ...\u001b[A\n",
      " ... (more hidden) ...\u001b[A\n",
      " ... (more hidden) ...\u001b[A\n",
      " ... (more hidden) ...\u001b[A\n",
      " ... (more hidden) ...\u001b[A\n",
      " ... (more hidden) ...\u001b[A\n",
      " ... (more hidden) ...\u001b[A\n",
      " ... (more hidden) ...\u001b[A\n",
      " ... (more hidden) ...\u001b[A\n",
      " ... (more hidden) ...\u001b[A\n",
      " ... (more hidden) ...\u001b[A\n",
      " ... (more hidden) ...\u001b[A\n",
      " ... (more hidden) ...\u001b[A\n",
      " ... (more hidden) ...\u001b[A\n",
      " ... (more hidden) ...\u001b[A\n",
      " ... (more hidden) ...\u001b[A\n",
      " ... (more hidden) ...\u001b[A\n",
      " ... (more hidden) ...\u001b[A\n",
      " ... (more hidden) ...\u001b[A\n",
      " ... (more hidden) ...\u001b[A\n",
      " ... (more hidden) ...\u001b[A\n",
      " ... (more hidden) ...\u001b[A\n",
      " ... (more hidden) ...\u001b[A\n",
      " ... (more hidden) ...\u001b[A\n",
      " ... (more hidden) ...\u001b[A\n",
      " ... (more hidden) ...\u001b[A\n",
      "DR 2:  44%|███████████████████████████████████████████████████████████████████████                                                                                         | 14544/32768 [00:19<00:24, 743.69it/s]\n"
     ]
    },
    {
     "name": "stdout",
     "output_type": "stream",
     "text": [
      "Stopping at Epoch 14544\n",
      "DR 2 Number of samples:  torch.Size([6686, 2])\n",
      "DR 2 Predicted Gammas:  0.39132532 1.0 0.6952327\n"
     ]
    },
    {
     "name": "stderr",
     "output_type": "stream",
     "text": [
      "\n",
      " ... (more hidden) ...\u001b[A\n",
      " ... (more hidden) ...\u001b[A\n",
      "DR 3:   6%|██████████                                                                                                                                                      | 1025/16384 [00:00<00:04, 3728.97it/s]\n",
      "/opt/homebrew/lib/python3.11/site-packages/torch/optim/lr_scheduler.py:28: UserWarning: The verbose parameter is deprecated. Please use get_last_lr() to access the learning rate.\n",
      "  warnings.warn(\"The verbose parameter is deprecated. Please use get_last_lr() \"\n"
     ]
    },
    {
     "name": "stdout",
     "output_type": "stream",
     "text": [
      "Stopping at Epoch 1025\n",
      "AUC predicting P(win):\t\t\t\t 0.8356100826912234\n",
      "Estimated Utility\t Mean Error:\t\t\t -0.01596810824274964\n",
      "Estimated Utility\t Mean Absolute Error:\t 0.3116764875103418\n"
     ]
    },
    {
     "name": "stderr",
     "output_type": "stream",
     "text": [
      "\n",
      " ... (more hidden) ...\u001b[A\n",
      " ... (more hidden) ...\u001b[A\n",
      " ... (more hidden) ...\u001b[A\n",
      " ... (more hidden) ...\u001b[A\n",
      " ... (more hidden) ...\u001b[A\n",
      " ... (more hidden) ...\u001b[A\n",
      " ... (more hidden) ...\u001b[A\n",
      " ... (more hidden) ...\u001b[A\n",
      " ... (more hidden) ...\u001b[A\n",
      " ... (more hidden) ...\u001b[A\n",
      " ... (more hidden) ...\u001b[A\n",
      " ... (more hidden) ...\u001b[A\n",
      " ... (more hidden) ...\u001b[A\n",
      " ... (more hidden) ...\u001b[A\n",
      " ... (more hidden) ...\u001b[A\n",
      "DR 3:  19%|██████████████████████████████                                                                                                                                  | 6153/32768 [00:01<00:07, 3788.76it/s]\n",
      "/opt/homebrew/lib/python3.11/site-packages/torch/optim/lr_scheduler.py:28: UserWarning: The verbose parameter is deprecated. Please use get_last_lr() to access the learning rate.\n",
      "  warnings.warn(\"The verbose parameter is deprecated. Please use get_last_lr() \"\n"
     ]
    },
    {
     "name": "stdout",
     "output_type": "stream",
     "text": [
      "Stopping at Epoch 6153\n",
      "AUC predicting P(win):\t\t\t\t 0.8402502644196099\n",
      "Estimated Utility\t Mean Error:\t\t\t -0.0028301025265759163\n",
      "Estimated Utility\t Mean Absolute Error:\t 0.3150060697730006\n"
     ]
    },
    {
     "name": "stderr",
     "output_type": "stream",
     "text": [
      "\n",
      " ... (more hidden) ...\u001b[A\n",
      " ... (more hidden) ...\u001b[A\n",
      " ... (more hidden) ...\u001b[A\n",
      " ... (more hidden) ...\u001b[A\n",
      " ... (more hidden) ...\u001b[A\n",
      " ... (more hidden) ...\u001b[A\n",
      " ... (more hidden) ...\u001b[A\n",
      " ... (more hidden) ...\u001b[A\n",
      " ... (more hidden) ...\u001b[A\n",
      " ... (more hidden) ...\u001b[A\n",
      " ... (more hidden) ...\u001b[A\n",
      " ... (more hidden) ...\u001b[A\n",
      " ... (more hidden) ...\u001b[A\n",
      " ... (more hidden) ...\u001b[A\n",
      " ... (more hidden) ...\u001b[A\n",
      " ... (more hidden) ...\u001b[A\n",
      " ... (more hidden) ...\u001b[A\n",
      " ... (more hidden) ...\u001b[A\n",
      " ... (more hidden) ...\u001b[A\n",
      " ... (more hidden) ...\u001b[A\n",
      " ... (more hidden) ...\u001b[A\n",
      " ... (more hidden) ...\u001b[A\n",
      " ... (more hidden) ...\u001b[A\n",
      " ... (more hidden) ...\u001b[A\n",
      " ... (more hidden) ...\u001b[A\n",
      " ... (more hidden) ...\u001b[A\n",
      " ... (more hidden) ...\u001b[A\n",
      " ... (more hidden) ...\u001b[A\n",
      " ... (more hidden) ...\u001b[A\n",
      " ... (more hidden) ...\u001b[A\n",
      " ... (more hidden) ...\u001b[A\n",
      " ... (more hidden) ...\u001b[A\n",
      " ... (more hidden) ...\u001b[A\n",
      " ... (more hidden) ...\u001b[A\n",
      " ... (more hidden) ...\u001b[A\n",
      " ... (more hidden) ...\u001b[A\n",
      " ... (more hidden) ...\u001b[A\n",
      " ... (more hidden) ...\u001b[A\n",
      " ... (more hidden) ...\u001b[A\n",
      " ... (more hidden) ...\u001b[A\n",
      " ... (more hidden) ...\u001b[A\n",
      " ... (more hidden) ...\u001b[A\n",
      " ... (more hidden) ...\u001b[A\n",
      " ... (more hidden) ...\u001b[A\n",
      " ... (more hidden) ...\u001b[A\n",
      " ... (more hidden) ...\u001b[A\n",
      " ... (more hidden) ...\u001b[A\n",
      " ... (more hidden) ...\u001b[A\n",
      " ... (more hidden) ...\u001b[A\n",
      " ... (more hidden) ...\u001b[A\n",
      " ... (more hidden) ...\u001b[A\n",
      " ... (more hidden) ...\u001b[A\n",
      " ... (more hidden) ...\u001b[A\n",
      " ... (more hidden) ...\u001b[A\n",
      " ... (more hidden) ...\u001b[A\n",
      " ... (more hidden) ...\u001b[A\n",
      " ... (more hidden) ...\u001b[A\n",
      " ... (more hidden) ...\u001b[A\n",
      " ... (more hidden) ...\u001b[A\n",
      " ... (more hidden) ...\u001b[A\n",
      "DR 3:  14%|██████████████████████▊                                                                                                                                          | 4647/32768 [00:06<00:37, 748.30it/s]\n"
     ]
    },
    {
     "name": "stdout",
     "output_type": "stream",
     "text": [
      "Stopping at Epoch 4647\n",
      "DR 3 Number of samples:  torch.Size([6680, 2])\n",
      "DR 3 Predicted Gammas:  0.335043 0.81775534 0.6942021\n"
     ]
    },
    {
     "name": "stderr",
     "output_type": "stream",
     "text": [
      "\n",
      " ... (more hidden) ...\u001b[A\n",
      " ... (more hidden) ...\u001b[A\n",
      "DR 1:   6%|██████████                                                                                                                                                      | 1025/16384 [00:00<00:03, 4040.68it/s]\n",
      "/opt/homebrew/lib/python3.11/site-packages/torch/optim/lr_scheduler.py:28: UserWarning: The verbose parameter is deprecated. Please use get_last_lr() to access the learning rate.\n",
      "  warnings.warn(\"The verbose parameter is deprecated. Please use get_last_lr() \"\n"
     ]
    },
    {
     "name": "stdout",
     "output_type": "stream",
     "text": [
      "Stopping at Epoch 1025\n",
      "AUC predicting P(win):\t\t\t\t 0.8889716065549035\n",
      "Estimated Utility\t Mean Error:\t\t\t 0.01242938006439116\n",
      "Estimated Utility\t Mean Absolute Error:\t 0.23265231799919092\n"
     ]
    },
    {
     "name": "stderr",
     "output_type": "stream",
     "text": [
      "\n",
      " ... (more hidden) ...\u001b[A\n",
      " ... (more hidden) ...\u001b[A\n",
      " ... (more hidden) ...\u001b[A\n",
      " ... (more hidden) ...\u001b[A\n",
      " ... (more hidden) ...\u001b[A\n",
      " ... (more hidden) ...\u001b[A\n",
      " ... (more hidden) ...\u001b[A\n",
      " ... (more hidden) ...\u001b[A\n",
      " ... (more hidden) ...\u001b[A\n",
      " ... (more hidden) ...\u001b[A\n",
      " ... (more hidden) ...\u001b[A\n",
      " ... (more hidden) ...\u001b[A\n",
      " ... (more hidden) ...\u001b[A\n",
      " ... (more hidden) ...\u001b[A\n",
      " ... (more hidden) ...\u001b[A\n",
      " ... (more hidden) ...\u001b[A\n",
      " ... (more hidden) ...\u001b[A\n",
      " ... (more hidden) ...\u001b[A\n",
      " ... (more hidden) ...\u001b[A\n",
      " ... (more hidden) ...\u001b[A\n",
      " ... (more hidden) ...\u001b[A\n",
      " ... (more hidden) ...\u001b[A\n",
      " ... (more hidden) ...\u001b[A\n",
      "DR 1:  28%|████████████████████████████████████████████▉                                                                                                                   | 9209/32768 [00:02<00:05, 3984.81it/s]\n",
      "/opt/homebrew/lib/python3.11/site-packages/torch/optim/lr_scheduler.py:28: UserWarning: The verbose parameter is deprecated. Please use get_last_lr() to access the learning rate.\n",
      "  warnings.warn(\"The verbose parameter is deprecated. Please use get_last_lr() \"\n"
     ]
    },
    {
     "name": "stdout",
     "output_type": "stream",
     "text": [
      "Stopping at Epoch 9209\n",
      "AUC predicting P(win):\t\t\t\t 0.8885486776849113\n",
      "Estimated Utility\t Mean Error:\t\t\t 0.009444594193407284\n",
      "Estimated Utility\t Mean Absolute Error:\t 0.23279096858481008\n"
     ]
    },
    {
     "name": "stderr",
     "output_type": "stream",
     "text": [
      "\n",
      " ... (more hidden) ...\u001b[A\n",
      " ... (more hidden) ...\u001b[A\n",
      " ... (more hidden) ...\u001b[A\n",
      " ... (more hidden) ...\u001b[A\n",
      " ... (more hidden) ...\u001b[A\n",
      " ... (more hidden) ...\u001b[A\n",
      " ... (more hidden) ...\u001b[A\n",
      "DR 1:   2%|██▌                                                                                                                                                               | 519/32768 [00:00<00:45, 716.02it/s]\n"
     ]
    },
    {
     "name": "stdout",
     "output_type": "stream",
     "text": [
      "Stopping at Epoch 519\n",
      "DR 1 Number of samples:  torch.Size([6687, 2])\n",
      "DR 1 Predicted Gammas:  0.326504 0.93690604 0.74434364\n"
     ]
    },
    {
     "name": "stderr",
     "output_type": "stream",
     "text": [
      "\n",
      " ... (more hidden) ...\u001b[A\n",
      " ... (more hidden) ...\u001b[A\n",
      "DR 2:   6%|██████████                                                                                                                                                      | 1025/16384 [00:00<00:03, 4248.92it/s]\n",
      "/opt/homebrew/lib/python3.11/site-packages/torch/optim/lr_scheduler.py:28: UserWarning: The verbose parameter is deprecated. Please use get_last_lr() to access the learning rate.\n",
      "  warnings.warn(\"The verbose parameter is deprecated. Please use get_last_lr() \"\n"
     ]
    },
    {
     "name": "stdout",
     "output_type": "stream",
     "text": [
      "Stopping at Epoch 1025\n",
      "AUC predicting P(win):\t\t\t\t 0.5568603985382384\n",
      "Estimated Utility\t Mean Error:\t\t\t -0.006104345784124711\n",
      "Estimated Utility\t Mean Absolute Error:\t 0.2755154922045245\n"
     ]
    },
    {
     "name": "stderr",
     "output_type": "stream",
     "text": [
      "\n",
      " ... (more hidden) ...\u001b[A\n",
      " ... (more hidden) ...\u001b[A\n",
      " ... (more hidden) ...\u001b[A\n",
      " ... (more hidden) ...\u001b[A\n",
      " ... (more hidden) ...\u001b[A\n",
      " ... (more hidden) ...\u001b[A\n",
      "DR 2:   8%|█████████████                                                                                                                                                   | 2684/32768 [00:00<00:07, 4001.15it/s]\n",
      "/opt/homebrew/lib/python3.11/site-packages/torch/optim/lr_scheduler.py:28: UserWarning: The verbose parameter is deprecated. Please use get_last_lr() to access the learning rate.\n",
      "  warnings.warn(\"The verbose parameter is deprecated. Please use get_last_lr() \"\n"
     ]
    },
    {
     "name": "stdout",
     "output_type": "stream",
     "text": [
      "Stopping at Epoch 2684\n",
      "AUC predicting P(win):\t\t\t\t 0.5549986448551161\n",
      "Estimated Utility\t Mean Error:\t\t\t -0.0022816140104039468\n",
      "Estimated Utility\t Mean Absolute Error:\t 0.2767184932950553\n"
     ]
    },
    {
     "name": "stderr",
     "output_type": "stream",
     "text": [
      "\n",
      " ... (more hidden) ...\u001b[A\n",
      " ... (more hidden) ...\u001b[A\n",
      " ... (more hidden) ...\u001b[A\n",
      " ... (more hidden) ...\u001b[A\n",
      " ... (more hidden) ...\u001b[A\n",
      " ... (more hidden) ...\u001b[A\n",
      " ... (more hidden) ...\u001b[A\n",
      " ... (more hidden) ...\u001b[A\n",
      " ... (more hidden) ...\u001b[A\n",
      " ... (more hidden) ...\u001b[A\n",
      " ... (more hidden) ...\u001b[A\n",
      " ... (more hidden) ...\u001b[A\n",
      " ... (more hidden) ...\u001b[A\n",
      " ... (more hidden) ...\u001b[A\n",
      " ... (more hidden) ...\u001b[A\n",
      " ... (more hidden) ...\u001b[A\n",
      " ... (more hidden) ...\u001b[A\n",
      " ... (more hidden) ...\u001b[A\n",
      " ... (more hidden) ...\u001b[A\n",
      " ... (more hidden) ...\u001b[A\n",
      " ... (more hidden) ...\u001b[A\n",
      " ... (more hidden) ...\u001b[A\n",
      " ... (more hidden) ...\u001b[A\n",
      " ... (more hidden) ...\u001b[A\n",
      " ... (more hidden) ...\u001b[A\n",
      " ... (more hidden) ...\u001b[A\n",
      " ... (more hidden) ...\u001b[A\n",
      " ... (more hidden) ...\u001b[A\n",
      " ... (more hidden) ...\u001b[A\n",
      " ... (more hidden) ...\u001b[A\n",
      " ... (more hidden) ...\u001b[A\n",
      " ... (more hidden) ...\u001b[A\n",
      " ... (more hidden) ...\u001b[A\n",
      " ... (more hidden) ...\u001b[A\n",
      " ... (more hidden) ...\u001b[A\n",
      " ... (more hidden) ...\u001b[A\n",
      " ... (more hidden) ...\u001b[A\n",
      " ... (more hidden) ...\u001b[A\n",
      " ... (more hidden) ...\u001b[A\n",
      " ... (more hidden) ...\u001b[A\n",
      " ... (more hidden) ...\u001b[A\n",
      " ... (more hidden) ...\u001b[A\n",
      " ... (more hidden) ...\u001b[A\n",
      " ... (more hidden) ...\u001b[A\n",
      " ... (more hidden) ...\u001b[A\n",
      " ... (more hidden) ...\u001b[A\n",
      " ... (more hidden) ...\u001b[A\n",
      " ... (more hidden) ...\u001b[A\n",
      " ... (more hidden) ...\u001b[A\n",
      " ... (more hidden) ...\u001b[A\n",
      " ... (more hidden) ...\u001b[A\n",
      " ... (more hidden) ...\u001b[A\n",
      " ... (more hidden) ...\u001b[A\n",
      " ... (more hidden) ...\u001b[A\n",
      " ... (more hidden) ...\u001b[A\n",
      " ... (more hidden) ...\u001b[A\n",
      " ... (more hidden) ...\u001b[A\n",
      " ... (more hidden) ...\u001b[A\n",
      " ... (more hidden) ...\u001b[A\n",
      " ... (more hidden) ...\u001b[A\n",
      " ... (more hidden) ...\u001b[A\n",
      " ... (more hidden) ...\u001b[A\n",
      " ... (more hidden) ...\u001b[A\n",
      " ... (more hidden) ...\u001b[A\n",
      " ... (more hidden) ...\u001b[A\n",
      " ... (more hidden) ...\u001b[A\n",
      " ... (more hidden) ...\u001b[A\n",
      " ... (more hidden) ...\u001b[A\n",
      " ... (more hidden) ...\u001b[A\n",
      " ... (more hidden) ...\u001b[A\n",
      " ... (more hidden) ...\u001b[A\n",
      " ... (more hidden) ...\u001b[A\n",
      " ... (more hidden) ...\u001b[A\n",
      " ... (more hidden) ...\u001b[A\n",
      "DR 2:  18%|█████████████████████████████                                                                                                                                    | 5904/32768 [00:07<00:35, 748.83it/s]\n"
     ]
    },
    {
     "name": "stdout",
     "output_type": "stream",
     "text": [
      "Stopping at Epoch 5904\n",
      "DR 2 Number of samples:  torch.Size([6684, 2])\n",
      "DR 2 Predicted Gammas:  0.4168417 1.0 0.71029216\n"
     ]
    },
    {
     "name": "stderr",
     "output_type": "stream",
     "text": [
      "\n",
      " ... (more hidden) ...\u001b[A\n",
      " ... (more hidden) ...\u001b[A\n",
      "DR 3:   6%|██████████                                                                                                                                                      | 1025/16384 [00:00<00:03, 3909.23it/s]\n",
      "/opt/homebrew/lib/python3.11/site-packages/torch/optim/lr_scheduler.py:28: UserWarning: The verbose parameter is deprecated. Please use get_last_lr() to access the learning rate.\n",
      "  warnings.warn(\"The verbose parameter is deprecated. Please use get_last_lr() \"\n"
     ]
    },
    {
     "name": "stdout",
     "output_type": "stream",
     "text": [
      "Stopping at Epoch 1025\n",
      "AUC predicting P(win):\t\t\t\t 0.7681918751350676\n",
      "Estimated Utility\t Mean Error:\t\t\t 0.0074171610229368905\n",
      "Estimated Utility\t Mean Absolute Error:\t 0.32626386174283833\n"
     ]
    },
    {
     "name": "stderr",
     "output_type": "stream",
     "text": [
      "\n",
      " ... (more hidden) ...\u001b[A\n",
      " ... (more hidden) ...\u001b[A\n",
      " ... (more hidden) ...\u001b[A\n",
      " ... (more hidden) ...\u001b[A\n",
      " ... (more hidden) ...\u001b[A\n",
      " ... (more hidden) ...\u001b[A\n",
      " ... (more hidden) ...\u001b[A\n",
      " ... (more hidden) ...\u001b[A\n",
      " ... (more hidden) ...\u001b[A\n",
      " ... (more hidden) ...\u001b[A\n",
      " ... (more hidden) ...\u001b[A\n",
      " ... (more hidden) ...\u001b[A\n",
      " ... (more hidden) ...\u001b[A\n",
      " ... (more hidden) ...\u001b[A\n",
      " ... (more hidden) ...\u001b[A\n",
      " ... (more hidden) ...\u001b[A\n",
      " ... (more hidden) ...\u001b[A\n",
      " ... (more hidden) ...\u001b[A\n",
      " ... (more hidden) ...\u001b[A\n",
      " ... (more hidden) ...\u001b[A\n",
      " ... (more hidden) ...\u001b[A\n",
      " ... (more hidden) ...\u001b[A\n",
      " ... (more hidden) ...\u001b[A\n",
      " ... (more hidden) ...\u001b[A\n",
      " ... (more hidden) ...\u001b[A\n",
      " ... (more hidden) ...\u001b[A\n",
      " ... (more hidden) ...\u001b[A\n",
      "DR 3:  34%|██████████████████████████████████████████████████████                                                                                                         | 11146/32768 [00:02<00:05, 4049.05it/s]\n",
      "/opt/homebrew/lib/python3.11/site-packages/torch/optim/lr_scheduler.py:28: UserWarning: The verbose parameter is deprecated. Please use get_last_lr() to access the learning rate.\n",
      "  warnings.warn(\"The verbose parameter is deprecated. Please use get_last_lr() \"\n"
     ]
    },
    {
     "name": "stdout",
     "output_type": "stream",
     "text": [
      "Stopping at Epoch 11146\n",
      "AUC predicting P(win):\t\t\t\t 0.7760962431064736\n",
      "Estimated Utility\t Mean Error:\t\t\t -0.001170348848373756\n",
      "Estimated Utility\t Mean Absolute Error:\t 0.32652318757565074\n"
     ]
    },
    {
     "name": "stderr",
     "output_type": "stream",
     "text": [
      "\n",
      " ... (more hidden) ...\u001b[A\n",
      " ... (more hidden) ...\u001b[A\n",
      " ... (more hidden) ...\u001b[A\n",
      " ... (more hidden) ...\u001b[A\n",
      " ... (more hidden) ...\u001b[A\n",
      " ... (more hidden) ...\u001b[A\n",
      " ... (more hidden) ...\u001b[A\n",
      " ... (more hidden) ...\u001b[A\n",
      " ... (more hidden) ...\u001b[A\n",
      " ... (more hidden) ...\u001b[A\n",
      " ... (more hidden) ...\u001b[A\n",
      " ... (more hidden) ...\u001b[A\n",
      " ... (more hidden) ...\u001b[A\n",
      " ... (more hidden) ...\u001b[A\n",
      " ... (more hidden) ...\u001b[A\n",
      " ... (more hidden) ...\u001b[A\n",
      " ... (more hidden) ...\u001b[A\n",
      " ... (more hidden) ...\u001b[A\n",
      " ... (more hidden) ...\u001b[A\n",
      " ... (more hidden) ...\u001b[A\n",
      " ... (more hidden) ...\u001b[A\n",
      " ... (more hidden) ...\u001b[A\n",
      " ... (more hidden) ...\u001b[A\n",
      " ... (more hidden) ...\u001b[A\n",
      " ... (more hidden) ...\u001b[A\n",
      " ... (more hidden) ...\u001b[A\n",
      " ... (more hidden) ...\u001b[A\n",
      " ... (more hidden) ...\u001b[A\n",
      " ... (more hidden) ...\u001b[A\n",
      " ... (more hidden) ...\u001b[A\n",
      " ... (more hidden) ...\u001b[A\n",
      " ... (more hidden) ...\u001b[A\n",
      " ... (more hidden) ...\u001b[A\n",
      " ... (more hidden) ...\u001b[A\n",
      " ... (more hidden) ...\u001b[A\n",
      " ... (more hidden) ...\u001b[A\n",
      " ... (more hidden) ...\u001b[A\n",
      " ... (more hidden) ...\u001b[A\n",
      " ... (more hidden) ...\u001b[A\n",
      " ... (more hidden) ...\u001b[A\n",
      " ... (more hidden) ...\u001b[A\n",
      " ... (more hidden) ...\u001b[A\n",
      " ... (more hidden) ...\u001b[A\n",
      " ... (more hidden) ...\u001b[A\n",
      " ... (more hidden) ...\u001b[A\n",
      " ... (more hidden) ...\u001b[A\n",
      " ... (more hidden) ...\u001b[A\n",
      " ... (more hidden) ...\u001b[A\n",
      " ... (more hidden) ...\u001b[A\n",
      " ... (more hidden) ...\u001b[A\n",
      " ... (more hidden) ...\u001b[A\n",
      " ... (more hidden) ...\u001b[A\n",
      " ... (more hidden) ...\u001b[A\n",
      " ... (more hidden) ...\u001b[A\n",
      " ... (more hidden) ...\u001b[A\n",
      " ... (more hidden) ...\u001b[A\n",
      " ... (more hidden) ...\u001b[A\n",
      " ... (more hidden) ...\u001b[A\n",
      " ... (more hidden) ...\u001b[A\n",
      " ... (more hidden) ...\u001b[A\n",
      " ... (more hidden) ...\u001b[A\n",
      " ... (more hidden) ...\u001b[A\n",
      " ... (more hidden) ...\u001b[A\n",
      " ... (more hidden) ...\u001b[A\n",
      " ... (more hidden) ...\u001b[A\n",
      " ... (more hidden) ...\u001b[A\n",
      " ... (more hidden) ...\u001b[A\n",
      " ... (more hidden) ...\u001b[A\n",
      "DR 3:  16%|██████████████████████████                                                                                                                                       | 5293/32768 [00:07<00:36, 749.09it/s]\n"
     ]
    },
    {
     "name": "stdout",
     "output_type": "stream",
     "text": [
      "Stopping at Epoch 5293\n",
      "DR 3 Number of samples:  torch.Size([6629, 2])\n",
      "DR 3 Predicted Gammas:  0.39321816 0.8924096 0.7396737\n"
     ]
    },
    {
     "data": {
      "image/png": "[encoded data removed]",
      "text/plain": [
       "<Figure size 640x480 with 1 Axes>"
      ]
     },
     "metadata": {},
     "output_type": "display_data"
    },
    {
     "data": {
      "image/png": "[encoded data removed]",
      "text/plain": [
       "<Figure size 640x480 with 1 Axes>"
      ]
     },
     "metadata": {},
     "output_type": "display_data"
    },
    {
     "data": {
      "image/png": "[encoded data removed]",
      "text/plain": [
       "<Figure size 640x480 with 1 Axes>"
      ]
     },
     "metadata": {},
     "output_type": "display_data"
    }
   ],
   "source": [
    "shaded_revenue, shaded_welfare, shaded_surplus = run_repeated_auctions()"
   ]
  },
  {
   "cell_type": "code",
   "execution_count": 15,
   "id": "df4d59a7",
   "metadata": {
    "scrolled": true
   },
   "outputs": [
    {
     "name": "stdout",
     "output_type": "stream",
     "text": [
      "self.item_values.shape =  (12,)\n",
      "self.item_values.shape =  (12,)\n",
      "self.item_values.shape =  (12,)\n"
     ]
    },
    {
     "data": {
      "application/vnd.jupyter.widget-view+json": {
       "model_id": "c22048fd0369403883799c9ff0289fa3",
       "version_major": 2,
       "version_minor": 0
      },
      "text/plain": [
       "  0%|          | 0/30 [00:00<?, ?it/s]"
      ]
     },
     "metadata": {},
     "output_type": "display_data"
    },
    {
     "name": "stderr",
     "output_type": "stream",
     "text": [
      "\n",
      " ... (more hidden) ...\u001b[A\n",
      " ... (more hidden) ...\u001b[A\n",
      " ... (more hidden) ...\u001b[A\n",
      " ... (more hidden) ...\u001b[A\n",
      " ... (more hidden) ...\u001b[A\n",
      " ... (more hidden) ...\u001b[A\n",
      " ... (more hidden) ...\u001b[A\n",
      " ... (more hidden) ...\u001b[A\n",
      " ... (more hidden) ...\u001b[A\n",
      " ... (more hidden) ...\u001b[A\n",
      " ... (more hidden) ...\u001b[A\n",
      " ... (more hidden) ...\u001b[A\n",
      " ... (more hidden) ...\u001b[A\n",
      "DR 1:  33%|████████████████████████████████████████████████████▏                                                                                                           | 5340/16384 [00:01<00:02, 3963.71it/s]\n"
     ]
    },
    {
     "name": "stdout",
     "output_type": "stream",
     "text": [
      "Stopping at Epoch 5340\n"
     ]
    },
    {
     "name": "stderr",
     "output_type": "stream",
     "text": [
      "\n",
      " ... (more hidden) ...\u001b[A\n",
      " ... (more hidden) ...\u001b[A\n",
      " ... (more hidden) ...\u001b[A\n",
      " ... (more hidden) ...\u001b[A\n",
      " ... (more hidden) ...\u001b[A\n",
      " ... (more hidden) ...\u001b[A\n",
      " ... (more hidden) ...\u001b[A\n",
      " ... (more hidden) ...\u001b[A\n",
      " ... (more hidden) ...\u001b[A\n",
      "DR 2:  24%|██████████████████████████████████████▋                                                                                                                         | 3964/16384 [00:01<00:03, 3841.21it/s]\n"
     ]
    },
    {
     "name": "stdout",
     "output_type": "stream",
     "text": [
      "Stopping at Epoch 3964\n"
     ]
    },
    {
     "name": "stderr",
     "output_type": "stream",
     "text": [
      "\n",
      " ... (more hidden) ...\u001b[A\n",
      " ... (more hidden) ...\u001b[A\n",
      " ... (more hidden) ...\u001b[A\n",
      " ... (more hidden) ...\u001b[A\n",
      " ... (more hidden) ...\u001b[A\n",
      " ... (more hidden) ...\u001b[A\n",
      " ... (more hidden) ...\u001b[A\n",
      " ... (more hidden) ...\u001b[A\n",
      " ... (more hidden) ...\u001b[A\n",
      " ... (more hidden) ...\u001b[A\n",
      " ... (more hidden) ...\u001b[A\n",
      " ... (more hidden) ...\u001b[A\n",
      " ... (more hidden) ...\u001b[A\n",
      " ... (more hidden) ...\u001b[A\n",
      " ... (more hidden) ...\u001b[A\n",
      " ... (more hidden) ...\u001b[A\n",
      "DR 3:  34%|███████████████████████████████████████████████████████                                                                                                         | 5643/16384 [00:01<00:03, 3271.61it/s]\n"
     ]
    },
    {
     "name": "stdout",
     "output_type": "stream",
     "text": [
      "Stopping at Epoch 5643\n"
     ]
    },
    {
     "name": "stderr",
     "output_type": "stream",
     "text": [
      "\n",
      " ... (more hidden) ...\u001b[A\n",
      " ... (more hidden) ...\u001b[A\n",
      " ... (more hidden) ...\u001b[A\n",
      " ... (more hidden) ...\u001b[A\n",
      " ... (more hidden) ...\u001b[A\n",
      "DR 1:  13%|████████████████████                                                                                                                                            | 2055/16384 [00:00<00:05, 2397.26it/s]\n"
     ]
    },
    {
     "name": "stdout",
     "output_type": "stream",
     "text": [
      "Stopping at Epoch 2055\n"
     ]
    },
    {
     "name": "stderr",
     "output_type": "stream",
     "text": [
      "\n",
      " ... (more hidden) ...\u001b[A\n",
      " ... (more hidden) ...\u001b[A\n",
      " ... (more hidden) ...\u001b[A\n",
      " ... (more hidden) ...\u001b[A\n",
      " ... (more hidden) ...\u001b[A\n",
      " ... (more hidden) ...\u001b[A\n",
      " ... (more hidden) ...\u001b[A\n",
      "DR 2:  15%|████████████████████████▎                                                                                                                                       | 2487/16384 [00:00<00:04, 2897.91it/s]\n"
     ]
    },
    {
     "name": "stdout",
     "output_type": "stream",
     "text": [
      "Stopping at Epoch 2487\n"
     ]
    },
    {
     "name": "stderr",
     "output_type": "stream",
     "text": [
      "\n",
      " ... (more hidden) ...\u001b[A\n",
      " ... (more hidden) ...\u001b[A\n",
      " ... (more hidden) ...\u001b[A\n",
      " ... (more hidden) ...\u001b[A\n",
      "DR 3:   8%|█████████████                                                                                                                                                   | 1337/16384 [00:00<00:05, 2827.31it/s]\n"
     ]
    },
    {
     "name": "stdout",
     "output_type": "stream",
     "text": [
      "Stopping at Epoch 1337\n"
     ]
    },
    {
     "name": "stderr",
     "output_type": "stream",
     "text": [
      "\n",
      " ... (more hidden) ...\u001b[A\n",
      " ... (more hidden) ...\u001b[A\n",
      " ... (more hidden) ...\u001b[A\n",
      "DR 1:   6%|██████████                                                                                                                                                      | 1025/16384 [00:00<00:04, 3184.87it/s]\n"
     ]
    },
    {
     "name": "stdout",
     "output_type": "stream",
     "text": [
      "Stopping at Epoch 1025\n"
     ]
    },
    {
     "name": "stderr",
     "output_type": "stream",
     "text": [
      "\n",
      " ... (more hidden) ...\u001b[A\n",
      " ... (more hidden) ...\u001b[A\n",
      "DR 2:   6%|██████████                                                                                                                                                      | 1025/16384 [00:00<00:04, 3475.91it/s]\n"
     ]
    },
    {
     "name": "stdout",
     "output_type": "stream",
     "text": [
      "Stopping at Epoch 1025\n"
     ]
    },
    {
     "name": "stderr",
     "output_type": "stream",
     "text": [
      "\n",
      " ... (more hidden) ...\u001b[A\n",
      " ... (more hidden) ...\u001b[A\n",
      "DR 3:   6%|██████████                                                                                                                                                      | 1025/16384 [00:00<00:04, 3226.93it/s]\n"
     ]
    },
    {
     "name": "stdout",
     "output_type": "stream",
     "text": [
      "Stopping at Epoch 1025\n"
     ]
    },
    {
     "name": "stderr",
     "output_type": "stream",
     "text": [
      "\n",
      " ... (more hidden) ...\u001b[A\n",
      " ... (more hidden) ...\u001b[A\n",
      "DR 1:   6%|██████████                                                                                                                                                      | 1029/16384 [00:00<00:04, 3725.06it/s]\n"
     ]
    },
    {
     "name": "stdout",
     "output_type": "stream",
     "text": [
      "Stopping at Epoch 1029\n"
     ]
    },
    {
     "name": "stderr",
     "output_type": "stream",
     "text": [
      "\n",
      " ... (more hidden) ...\u001b[A\n",
      " ... (more hidden) ...\u001b[A\n",
      " ... (more hidden) ...\u001b[A\n",
      "DR 2:   6%|██████████                                                                                                                                                      | 1025/16384 [00:00<00:04, 3184.74it/s]\n"
     ]
    },
    {
     "name": "stdout",
     "output_type": "stream",
     "text": [
      "Stopping at Epoch 1025\n"
     ]
    },
    {
     "name": "stderr",
     "output_type": "stream",
     "text": [
      "\n",
      " ... (more hidden) ...\u001b[A\n",
      " ... (more hidden) ...\u001b[A\n",
      "DR 3:   6%|██████████                                                                                                                                                      | 1025/16384 [00:00<00:04, 3171.92it/s]\n"
     ]
    },
    {
     "name": "stdout",
     "output_type": "stream",
     "text": [
      "Stopping at Epoch 1025\n"
     ]
    },
    {
     "name": "stderr",
     "output_type": "stream",
     "text": [
      "\n",
      " ... (more hidden) ...\u001b[A\n",
      " ... (more hidden) ...\u001b[A\n",
      "DR 1:   6%|██████████                                                                                                                                                      | 1025/16384 [00:00<00:04, 3770.54it/s]\n"
     ]
    },
    {
     "name": "stdout",
     "output_type": "stream",
     "text": [
      "Stopping at Epoch 1025\n"
     ]
    },
    {
     "name": "stderr",
     "output_type": "stream",
     "text": [
      "\n",
      " ... (more hidden) ...\u001b[A\n",
      " ... (more hidden) ...\u001b[A\n",
      "DR 2:   6%|██████████                                                                                                                                                      | 1025/16384 [00:00<00:04, 3708.01it/s]\n"
     ]
    },
    {
     "name": "stdout",
     "output_type": "stream",
     "text": [
      "Stopping at Epoch 1025\n"
     ]
    },
    {
     "name": "stderr",
     "output_type": "stream",
     "text": [
      "\n",
      " ... (more hidden) ...\u001b[A\n",
      " ... (more hidden) ...\u001b[A\n",
      "DR 3:   6%|██████████                                                                                                                                                      | 1025/16384 [00:00<00:05, 2960.26it/s]\n"
     ]
    },
    {
     "name": "stdout",
     "output_type": "stream",
     "text": [
      "Stopping at Epoch 1025\n"
     ]
    },
    {
     "name": "stderr",
     "output_type": "stream",
     "text": [
      "\n",
      " ... (more hidden) ...\u001b[A\n",
      " ... (more hidden) ...\u001b[A\n",
      "DR 1:   6%|██████████                                                                                                                                                      | 1025/16384 [00:00<00:04, 3758.83it/s]\n"
     ]
    },
    {
     "name": "stdout",
     "output_type": "stream",
     "text": [
      "Stopping at Epoch 1025\n"
     ]
    },
    {
     "name": "stderr",
     "output_type": "stream",
     "text": [
      "\n",
      " ... (more hidden) ...\u001b[A\n",
      " ... (more hidden) ...\u001b[A\n",
      "DR 2:   6%|██████████                                                                                                                                                      | 1025/16384 [00:00<00:04, 3283.54it/s]\n"
     ]
    },
    {
     "name": "stdout",
     "output_type": "stream",
     "text": [
      "Stopping at Epoch 1025\n"
     ]
    },
    {
     "name": "stderr",
     "output_type": "stream",
     "text": [
      "\n",
      " ... (more hidden) ...\u001b[A\n",
      " ... (more hidden) ...\u001b[A\n",
      "DR 3:   6%|██████████                                                                                                                                                      | 1025/16384 [00:00<00:04, 3707.56it/s]\n"
     ]
    },
    {
     "name": "stdout",
     "output_type": "stream",
     "text": [
      "Stopping at Epoch 1025\n"
     ]
    },
    {
     "name": "stderr",
     "output_type": "stream",
     "text": [
      "\n",
      " ... (more hidden) ...\u001b[A\n",
      " ... (more hidden) ...\u001b[A\n",
      "DR 1:   6%|██████████                                                                                                                                                      | 1025/16384 [00:00<00:04, 3267.22it/s]\n"
     ]
    },
    {
     "name": "stdout",
     "output_type": "stream",
     "text": [
      "Stopping at Epoch 1025\n"
     ]
    },
    {
     "name": "stderr",
     "output_type": "stream",
     "text": [
      "\n",
      " ... (more hidden) ...\u001b[A\n",
      " ... (more hidden) ...\u001b[A\n",
      " ... (more hidden) ...\u001b[A\n",
      " ... (more hidden) ...\u001b[A\n",
      " ... (more hidden) ...\u001b[A\n",
      "DR 2:   6%|██████████                                                                                                                                                      | 1025/16384 [00:00<00:09, 1554.61it/s]\n"
     ]
    },
    {
     "name": "stdout",
     "output_type": "stream",
     "text": [
      "Stopping at Epoch 1025\n"
     ]
    },
    {
     "name": "stderr",
     "output_type": "stream",
     "text": [
      "\n",
      " ... (more hidden) ...\u001b[A\n",
      " ... (more hidden) ...\u001b[A\n",
      " ... (more hidden) ...\u001b[A\n",
      " ... (more hidden) ...\u001b[A\n",
      "DR 3:   6%|██████████                                                                                                                                                      | 1025/16384 [00:00<00:07, 2056.14it/s]\n"
     ]
    },
    {
     "name": "stdout",
     "output_type": "stream",
     "text": [
      "Stopping at Epoch 1025\n"
     ]
    },
    {
     "name": "stderr",
     "output_type": "stream",
     "text": [
      "\n",
      " ... (more hidden) ...\u001b[A\n",
      " ... (more hidden) ...\u001b[A\n",
      " ... (more hidden) ...\u001b[A\n",
      "DR 1:   6%|██████████                                                                                                                                                      | 1025/16384 [00:00<00:04, 3226.57it/s]\n"
     ]
    },
    {
     "name": "stdout",
     "output_type": "stream",
     "text": [
      "Stopping at Epoch 1025\n"
     ]
    },
    {
     "name": "stderr",
     "output_type": "stream",
     "text": [
      "\n",
      " ... (more hidden) ...\u001b[A\n",
      " ... (more hidden) ...\u001b[A\n",
      " ... (more hidden) ...\u001b[A\n",
      "DR 2:   6%|██████████                                                                                                                                                      | 1025/16384 [00:00<00:04, 3286.68it/s]\n"
     ]
    },
    {
     "name": "stdout",
     "output_type": "stream",
     "text": [
      "Stopping at Epoch 1025\n"
     ]
    },
    {
     "name": "stderr",
     "output_type": "stream",
     "text": [
      "\n",
      " ... (more hidden) ...\u001b[A\n",
      " ... (more hidden) ...\u001b[A\n",
      "DR 3:   6%|██████████                                                                                                                                                      | 1025/16384 [00:00<00:04, 3689.31it/s]\n"
     ]
    },
    {
     "name": "stdout",
     "output_type": "stream",
     "text": [
      "Stopping at Epoch 1025\n"
     ]
    },
    {
     "name": "stderr",
     "output_type": "stream",
     "text": [
      "\n",
      " ... (more hidden) ...\u001b[A\n",
      " ... (more hidden) ...\u001b[A\n",
      " ... (more hidden) ...\u001b[A\n",
      "DR 1:   6%|██████████                                                                                                                                                      | 1025/16384 [00:00<00:05, 2894.51it/s]\n"
     ]
    },
    {
     "name": "stdout",
     "output_type": "stream",
     "text": [
      "Stopping at Epoch 1025\n"
     ]
    },
    {
     "name": "stderr",
     "output_type": "stream",
     "text": [
      "\n",
      " ... (more hidden) ...\u001b[A\n",
      " ... (more hidden) ...\u001b[A\n",
      "DR 2:   6%|██████████                                                                                                                                                      | 1025/16384 [00:00<00:04, 3511.71it/s]\n"
     ]
    },
    {
     "name": "stdout",
     "output_type": "stream",
     "text": [
      "Stopping at Epoch 1025\n"
     ]
    },
    {
     "name": "stderr",
     "output_type": "stream",
     "text": [
      "\n",
      " ... (more hidden) ...\u001b[A\n",
      " ... (more hidden) ...\u001b[A\n",
      "DR 3:   6%|██████████                                                                                                                                                      | 1025/16384 [00:00<00:04, 3440.64it/s]\n"
     ]
    },
    {
     "name": "stdout",
     "output_type": "stream",
     "text": [
      "Stopping at Epoch 1025\n"
     ]
    },
    {
     "name": "stderr",
     "output_type": "stream",
     "text": [
      "\n",
      " ... (more hidden) ...\u001b[A\n",
      " ... (more hidden) ...\u001b[A\n",
      "DR 1:   6%|██████████                                                                                                                                                      | 1025/16384 [00:00<00:03, 3972.98it/s]\n"
     ]
    },
    {
     "name": "stdout",
     "output_type": "stream",
     "text": [
      "Stopping at Epoch 1025\n"
     ]
    },
    {
     "name": "stderr",
     "output_type": "stream",
     "text": [
      "\n",
      " ... (more hidden) ...\u001b[A\n",
      " ... (more hidden) ...\u001b[A\n",
      "DR 2:   6%|██████████                                                                                                                                                      | 1025/16384 [00:00<00:04, 3468.71it/s]\n"
     ]
    },
    {
     "name": "stdout",
     "output_type": "stream",
     "text": [
      "Stopping at Epoch 1025\n"
     ]
    },
    {
     "name": "stderr",
     "output_type": "stream",
     "text": [
      "\n",
      " ... (more hidden) ...\u001b[A\n",
      " ... (more hidden) ...\u001b[A\n",
      "DR 3:   6%|██████████                                                                                                                                                      | 1025/16384 [00:00<00:04, 3583.81it/s]\n"
     ]
    },
    {
     "name": "stdout",
     "output_type": "stream",
     "text": [
      "Stopping at Epoch 1025\n"
     ]
    },
    {
     "name": "stderr",
     "output_type": "stream",
     "text": [
      "\n",
      " ... (more hidden) ...\u001b[A\n",
      " ... (more hidden) ...\u001b[A\n",
      "DR 1:   6%|██████████                                                                                                                                                      | 1025/16384 [00:00<00:04, 3559.99it/s]\n"
     ]
    },
    {
     "name": "stdout",
     "output_type": "stream",
     "text": [
      "Stopping at Epoch 1025\n"
     ]
    },
    {
     "name": "stderr",
     "output_type": "stream",
     "text": [
      "\n",
      " ... (more hidden) ...\u001b[A\n",
      " ... (more hidden) ...\u001b[A\n",
      "DR 2:   6%|██████████                                                                                                                                                      | 1025/16384 [00:00<00:04, 3573.08it/s]\n"
     ]
    },
    {
     "name": "stdout",
     "output_type": "stream",
     "text": [
      "Stopping at Epoch 1025\n"
     ]
    },
    {
     "name": "stderr",
     "output_type": "stream",
     "text": [
      "\n",
      " ... (more hidden) ...\u001b[A\n",
      " ... (more hidden) ...\u001b[A\n",
      "DR 3:   6%|██████████                                                                                                                                                      | 1025/16384 [00:00<00:04, 3661.46it/s]\n"
     ]
    },
    {
     "name": "stdout",
     "output_type": "stream",
     "text": [
      "Stopping at Epoch 1025\n"
     ]
    },
    {
     "name": "stderr",
     "output_type": "stream",
     "text": [
      "\n",
      " ... (more hidden) ...\u001b[A\n",
      " ... (more hidden) ...\u001b[A\n",
      "DR 1:   6%|██████████                                                                                                                                                      | 1025/16384 [00:00<00:03, 4001.53it/s]\n"
     ]
    },
    {
     "name": "stdout",
     "output_type": "stream",
     "text": [
      "Stopping at Epoch 1025\n"
     ]
    },
    {
     "name": "stderr",
     "output_type": "stream",
     "text": [
      "\n",
      " ... (more hidden) ...\u001b[A\n",
      " ... (more hidden) ...\u001b[A\n",
      "DR 2:   6%|██████████                                                                                                                                                      | 1025/16384 [00:00<00:04, 3815.95it/s]\n"
     ]
    },
    {
     "name": "stdout",
     "output_type": "stream",
     "text": [
      "Stopping at Epoch 1025\n"
     ]
    },
    {
     "name": "stderr",
     "output_type": "stream",
     "text": [
      "\n",
      " ... (more hidden) ...\u001b[A\n",
      " ... (more hidden) ...\u001b[A\n",
      "DR 3:   6%|██████████                                                                                                                                                      | 1025/16384 [00:00<00:04, 3535.54it/s]\n"
     ]
    },
    {
     "name": "stdout",
     "output_type": "stream",
     "text": [
      "Stopping at Epoch 1025\n"
     ]
    },
    {
     "name": "stderr",
     "output_type": "stream",
     "text": [
      "\n",
      " ... (more hidden) ...\u001b[A\n",
      " ... (more hidden) ...\u001b[A\n",
      "DR 1:   6%|██████████                                                                                                                                                      | 1025/16384 [00:00<00:04, 3311.67it/s]\n"
     ]
    },
    {
     "name": "stdout",
     "output_type": "stream",
     "text": [
      "Stopping at Epoch 1025\n"
     ]
    },
    {
     "name": "stderr",
     "output_type": "stream",
     "text": [
      "\n",
      " ... (more hidden) ...\u001b[A\n",
      " ... (more hidden) ...\u001b[A\n",
      "DR 2:   6%|██████████                                                                                                                                                      | 1025/16384 [00:00<00:04, 3610.83it/s]\n"
     ]
    },
    {
     "name": "stdout",
     "output_type": "stream",
     "text": [
      "Stopping at Epoch 1025\n"
     ]
    },
    {
     "name": "stderr",
     "output_type": "stream",
     "text": [
      "\n",
      " ... (more hidden) ...\u001b[A\n",
      " ... (more hidden) ...\u001b[A\n",
      "DR 3:   7%|██████████▌                                                                                                                                                     | 1080/16384 [00:00<00:04, 3667.47it/s]\n"
     ]
    },
    {
     "name": "stdout",
     "output_type": "stream",
     "text": [
      "Stopping at Epoch 1080\n"
     ]
    },
    {
     "name": "stderr",
     "output_type": "stream",
     "text": [
      "\n",
      " ... (more hidden) ...\u001b[A\n",
      " ... (more hidden) ...\u001b[A\n",
      "DR 1:   6%|██████████                                                                                                                                                      | 1025/16384 [00:00<00:04, 3779.15it/s]\n"
     ]
    },
    {
     "name": "stdout",
     "output_type": "stream",
     "text": [
      "Stopping at Epoch 1025\n"
     ]
    },
    {
     "name": "stderr",
     "output_type": "stream",
     "text": [
      "\n",
      " ... (more hidden) ...\u001b[A\n",
      " ... (more hidden) ...\u001b[A\n",
      " ... (more hidden) ...\u001b[A\n",
      " ... (more hidden) ...\u001b[A\n",
      "DR 2:   6%|██████████                                                                                                                                                      | 1025/16384 [00:00<00:11, 1360.58it/s]\n"
     ]
    },
    {
     "name": "stdout",
     "output_type": "stream",
     "text": [
      "Stopping at Epoch 1025\n"
     ]
    },
    {
     "name": "stderr",
     "output_type": "stream",
     "text": [
      "\n",
      " ... (more hidden) ...\u001b[A\n",
      " ... (more hidden) ...\u001b[A\n",
      " ... (more hidden) ...\u001b[A\n",
      "DR 3:   6%|██████████                                                                                                                                                      | 1025/16384 [00:00<00:06, 2392.81it/s]\n"
     ]
    },
    {
     "name": "stdout",
     "output_type": "stream",
     "text": [
      "Stopping at Epoch 1025\n"
     ]
    },
    {
     "name": "stderr",
     "output_type": "stream",
     "text": [
      "\n",
      " ... (more hidden) ...\u001b[A\n",
      " ... (more hidden) ...\u001b[A\n",
      " ... (more hidden) ...\u001b[A\n",
      " ... (more hidden) ...\u001b[A\n",
      "DR 1:   6%|██████████                                                                                                                                                      | 1025/16384 [00:00<00:07, 1975.96it/s]\n"
     ]
    },
    {
     "name": "stdout",
     "output_type": "stream",
     "text": [
      "Stopping at Epoch 1025\n"
     ]
    },
    {
     "name": "stderr",
     "output_type": "stream",
     "text": [
      "\n",
      " ... (more hidden) ...\u001b[A\n",
      " ... (more hidden) ...\u001b[A\n",
      "DR 2:   6%|██████████                                                                                                                                                      | 1025/16384 [00:00<00:05, 2965.57it/s]\n"
     ]
    },
    {
     "name": "stdout",
     "output_type": "stream",
     "text": [
      "Stopping at Epoch 1025\n"
     ]
    },
    {
     "name": "stderr",
     "output_type": "stream",
     "text": [
      "\n",
      " ... (more hidden) ...\u001b[A\n",
      " ... (more hidden) ...\u001b[A\n",
      "DR 3:   6%|██████████                                                                                                                                                      | 1025/16384 [00:00<00:04, 3323.27it/s]\n"
     ]
    },
    {
     "name": "stdout",
     "output_type": "stream",
     "text": [
      "Stopping at Epoch 1025\n"
     ]
    },
    {
     "name": "stderr",
     "output_type": "stream",
     "text": [
      "\n",
      " ... (more hidden) ...\u001b[A\n",
      " ... (more hidden) ...\u001b[A\n",
      "DR 1:   6%|██████████                                                                                                                                                      | 1025/16384 [00:00<00:04, 3772.30it/s]\n"
     ]
    },
    {
     "name": "stdout",
     "output_type": "stream",
     "text": [
      "Stopping at Epoch 1025\n"
     ]
    },
    {
     "name": "stderr",
     "output_type": "stream",
     "text": [
      "\n",
      " ... (more hidden) ...\u001b[A\n",
      " ... (more hidden) ...\u001b[A\n",
      "DR 2:   6%|██████████                                                                                                                                                      | 1025/16384 [00:00<00:04, 3560.59it/s]\n"
     ]
    },
    {
     "name": "stdout",
     "output_type": "stream",
     "text": [
      "Stopping at Epoch 1025\n"
     ]
    },
    {
     "name": "stderr",
     "output_type": "stream",
     "text": [
      "\n",
      " ... (more hidden) ...\u001b[A\n",
      " ... (more hidden) ...\u001b[A\n",
      "DR 3:   6%|██████████                                                                                                                                                      | 1025/16384 [00:00<00:04, 3784.72it/s]\n"
     ]
    },
    {
     "name": "stdout",
     "output_type": "stream",
     "text": [
      "Stopping at Epoch 1025\n"
     ]
    },
    {
     "name": "stderr",
     "output_type": "stream",
     "text": [
      "\n",
      " ... (more hidden) ...\u001b[A\n",
      " ... (more hidden) ...\u001b[A\n",
      "DR 1:   6%|██████████                                                                                                                                                      | 1025/16384 [00:00<00:03, 3974.39it/s]\n"
     ]
    },
    {
     "name": "stdout",
     "output_type": "stream",
     "text": [
      "Stopping at Epoch 1025\n"
     ]
    },
    {
     "name": "stderr",
     "output_type": "stream",
     "text": [
      "\n",
      " ... (more hidden) ...\u001b[A\n",
      " ... (more hidden) ...\u001b[A\n",
      "DR 2:   6%|██████████                                                                                                                                                      | 1025/16384 [00:00<00:04, 3508.93it/s]\n"
     ]
    },
    {
     "name": "stdout",
     "output_type": "stream",
     "text": [
      "Stopping at Epoch 1025\n"
     ]
    },
    {
     "name": "stderr",
     "output_type": "stream",
     "text": [
      "\n",
      " ... (more hidden) ...\u001b[A\n",
      " ... (more hidden) ...\u001b[A\n",
      "DR 3:   6%|██████████                                                                                                                                                      | 1025/16384 [00:00<00:04, 3455.73it/s]\n"
     ]
    },
    {
     "name": "stdout",
     "output_type": "stream",
     "text": [
      "Stopping at Epoch 1025\n"
     ]
    },
    {
     "name": "stderr",
     "output_type": "stream",
     "text": [
      "\n",
      " ... (more hidden) ...\u001b[A\n",
      " ... (more hidden) ...\u001b[A\n",
      "DR 1:   6%|██████████                                                                                                                                                      | 1025/16384 [00:00<00:07, 2111.06it/s]\n"
     ]
    },
    {
     "name": "stdout",
     "output_type": "stream",
     "text": [
      "Stopping at Epoch 1025\n"
     ]
    },
    {
     "name": "stderr",
     "output_type": "stream",
     "text": [
      "\n",
      " ... (more hidden) ...\u001b[A\n",
      " ... (more hidden) ...\u001b[A\n",
      "DR 2:   6%|██████████                                                                                                                                                      | 1025/16384 [00:00<00:04, 3584.72it/s]\n"
     ]
    },
    {
     "name": "stdout",
     "output_type": "stream",
     "text": [
      "Stopping at Epoch 1025\n"
     ]
    },
    {
     "name": "stderr",
     "output_type": "stream",
     "text": [
      "\n",
      " ... (more hidden) ...\u001b[A\n",
      " ... (more hidden) ...\u001b[A\n",
      "DR 3:   6%|██████████                                                                                                                                                      | 1025/16384 [00:00<00:04, 3524.13it/s]\n"
     ]
    },
    {
     "name": "stdout",
     "output_type": "stream",
     "text": [
      "Stopping at Epoch 1025\n"
     ]
    },
    {
     "name": "stderr",
     "output_type": "stream",
     "text": [
      "\n",
      " ... (more hidden) ...\u001b[A\n",
      " ... (more hidden) ...\u001b[A\n",
      "DR 1:   6%|██████████                                                                                                                                                      | 1025/16384 [00:00<00:03, 4150.96it/s]\n"
     ]
    },
    {
     "name": "stdout",
     "output_type": "stream",
     "text": [
      "Stopping at Epoch 1025\n"
     ]
    },
    {
     "name": "stderr",
     "output_type": "stream",
     "text": [
      "\n",
      " ... (more hidden) ...\u001b[A\n",
      " ... (more hidden) ...\u001b[A\n",
      "DR 2:   6%|██████████                                                                                                                                                      | 1025/16384 [00:00<00:04, 3407.45it/s]\n"
     ]
    },
    {
     "name": "stdout",
     "output_type": "stream",
     "text": [
      "Stopping at Epoch 1025\n"
     ]
    },
    {
     "name": "stderr",
     "output_type": "stream",
     "text": [
      "\n",
      " ... (more hidden) ...\u001b[A\n",
      " ... (more hidden) ...\u001b[A\n",
      "DR 3:   6%|██████████                                                                                                                                                      | 1025/16384 [00:00<00:03, 4123.68it/s]\n"
     ]
    },
    {
     "name": "stdout",
     "output_type": "stream",
     "text": [
      "Stopping at Epoch 1025\n"
     ]
    },
    {
     "name": "stderr",
     "output_type": "stream",
     "text": [
      "\n",
      " ... (more hidden) ...\u001b[A\n",
      " ... (more hidden) ...\u001b[A\n",
      "DR 1:   6%|██████████                                                                                                                                                      | 1025/16384 [00:00<00:03, 4269.07it/s]\n"
     ]
    },
    {
     "name": "stdout",
     "output_type": "stream",
     "text": [
      "Stopping at Epoch 1025\n"
     ]
    },
    {
     "name": "stderr",
     "output_type": "stream",
     "text": [
      "\n",
      " ... (more hidden) ...\u001b[A\n",
      " ... (more hidden) ...\u001b[A\n",
      "DR 2:   6%|██████████                                                                                                                                                      | 1025/16384 [00:00<00:04, 3775.62it/s]\n"
     ]
    },
    {
     "name": "stdout",
     "output_type": "stream",
     "text": [
      "Stopping at Epoch 1025\n"
     ]
    },
    {
     "name": "stderr",
     "output_type": "stream",
     "text": [
      "\n",
      " ... (more hidden) ...\u001b[A\n",
      " ... (more hidden) ...\u001b[A\n",
      "DR 3:   6%|██████████                                                                                                                                                      | 1025/16384 [00:00<00:03, 3861.24it/s]\n"
     ]
    },
    {
     "name": "stdout",
     "output_type": "stream",
     "text": [
      "Stopping at Epoch 1025\n"
     ]
    },
    {
     "name": "stderr",
     "output_type": "stream",
     "text": [
      "\n",
      " ... (more hidden) ...\u001b[A\n",
      " ... (more hidden) ...\u001b[A\n",
      "DR 1:   6%|██████████                                                                                                                                                      | 1025/16384 [00:00<00:03, 4160.34it/s]\n"
     ]
    },
    {
     "name": "stdout",
     "output_type": "stream",
     "text": [
      "Stopping at Epoch 1025\n"
     ]
    },
    {
     "name": "stderr",
     "output_type": "stream",
     "text": [
      "\n",
      " ... (more hidden) ...\u001b[A\n",
      " ... (more hidden) ...\u001b[A\n",
      "DR 2:   6%|██████████                                                                                                                                                      | 1025/16384 [00:00<00:04, 3790.03it/s]\n"
     ]
    },
    {
     "name": "stdout",
     "output_type": "stream",
     "text": [
      "Stopping at Epoch 1025\n"
     ]
    },
    {
     "name": "stderr",
     "output_type": "stream",
     "text": [
      "\n",
      " ... (more hidden) ...\u001b[A\n",
      " ... (more hidden) ...\u001b[A\n",
      "DR 3:   6%|██████████                                                                                                                                                      | 1025/16384 [00:00<00:04, 3800.04it/s]\n"
     ]
    },
    {
     "name": "stdout",
     "output_type": "stream",
     "text": [
      "Stopping at Epoch 1025\n"
     ]
    },
    {
     "name": "stderr",
     "output_type": "stream",
     "text": [
      "\n",
      " ... (more hidden) ...\u001b[A\n",
      " ... (more hidden) ...\u001b[A\n",
      "DR 1:   6%|██████████                                                                                                                                                      | 1025/16384 [00:00<00:03, 4039.47it/s]\n"
     ]
    },
    {
     "name": "stdout",
     "output_type": "stream",
     "text": [
      "Stopping at Epoch 1025\n"
     ]
    },
    {
     "name": "stderr",
     "output_type": "stream",
     "text": [
      "\n",
      " ... (more hidden) ...\u001b[A\n",
      " ... (more hidden) ...\u001b[A\n",
      "DR 2:   6%|██████████                                                                                                                                                      | 1025/16384 [00:00<00:04, 3541.66it/s]\n"
     ]
    },
    {
     "name": "stdout",
     "output_type": "stream",
     "text": [
      "Stopping at Epoch 1025\n"
     ]
    },
    {
     "name": "stderr",
     "output_type": "stream",
     "text": [
      "\n",
      " ... (more hidden) ...\u001b[A\n",
      " ... (more hidden) ...\u001b[A\n",
      "DR 3:   6%|██████████                                                                                                                                                      | 1025/16384 [00:00<00:04, 3790.96it/s]\n"
     ]
    },
    {
     "name": "stdout",
     "output_type": "stream",
     "text": [
      "Stopping at Epoch 1025\n"
     ]
    },
    {
     "name": "stderr",
     "output_type": "stream",
     "text": [
      "\n",
      " ... (more hidden) ...\u001b[A\n",
      " ... (more hidden) ...\u001b[A\n",
      "DR 1:   6%|██████████                                                                                                                                                      | 1025/16384 [00:00<00:04, 3592.62it/s]\n"
     ]
    },
    {
     "name": "stdout",
     "output_type": "stream",
     "text": [
      "Stopping at Epoch 1025\n"
     ]
    },
    {
     "name": "stderr",
     "output_type": "stream",
     "text": [
      "\n",
      " ... (more hidden) ...\u001b[A\n",
      " ... (more hidden) ...\u001b[A\n",
      " ... (more hidden) ...\u001b[A\n",
      " ... (more hidden) ...\u001b[A\n",
      " ... (more hidden) ...\u001b[A\n",
      "DR 2:   6%|██████████                                                                                                                                                      | 1025/16384 [00:00<00:08, 1756.13it/s]\n"
     ]
    },
    {
     "name": "stdout",
     "output_type": "stream",
     "text": [
      "Stopping at Epoch 1025\n"
     ]
    },
    {
     "name": "stderr",
     "output_type": "stream",
     "text": [
      "\n",
      " ... (more hidden) ...\u001b[A\n",
      " ... (more hidden) ...\u001b[A\n",
      " ... (more hidden) ...\u001b[A\n",
      "DR 3:   6%|██████████                                                                                                                                                      | 1025/16384 [00:00<00:05, 3017.48it/s]\n"
     ]
    },
    {
     "name": "stdout",
     "output_type": "stream",
     "text": [
      "Stopping at Epoch 1025\n"
     ]
    },
    {
     "name": "stderr",
     "output_type": "stream",
     "text": [
      "\n",
      " ... (more hidden) ...\u001b[A\n",
      " ... (more hidden) ...\u001b[A\n",
      "DR 1:   6%|███████                                                                                                         | 1025/16384 [00:00<00:03, 4041.77it/s]\n"
     ]
    },
    {
     "name": "stdout",
     "output_type": "stream",
     "text": [
      "Stopping at Epoch 1025\n"
     ]
    },
    {
     "name": "stderr",
     "output_type": "stream",
     "text": [
      "\n",
      " ... (more hidden) ...\u001b[A\n",
      " ... (more hidden) ...\u001b[A\n",
      "DR 2:   6%|███████                                                                                                         | 1025/16384 [00:00<00:04, 3453.34it/s]\n"
     ]
    },
    {
     "name": "stdout",
     "output_type": "stream",
     "text": [
      "Stopping at Epoch 1025\n"
     ]
    },
    {
     "name": "stderr",
     "output_type": "stream",
     "text": [
      "\n",
      " ... (more hidden) ...\u001b[A\n",
      " ... (more hidden) ...\u001b[A\n",
      "DR 3:   6%|███████                                                                                                         | 1025/16384 [00:00<00:04, 3732.70it/s]\n"
     ]
    },
    {
     "name": "stdout",
     "output_type": "stream",
     "text": [
      "Stopping at Epoch 1025\n"
     ]
    },
    {
     "name": "stderr",
     "output_type": "stream",
     "text": [
      "\n",
      " ... (more hidden) ...\u001b[A\n",
      " ... (more hidden) ...\u001b[A\n",
      "DR 1:   6%|███████                                                                                                         | 1025/16384 [00:00<00:03, 3930.09it/s]\n"
     ]
    },
    {
     "name": "stdout",
     "output_type": "stream",
     "text": [
      "Stopping at Epoch 1025\n"
     ]
    },
    {
     "name": "stderr",
     "output_type": "stream",
     "text": [
      "\n",
      " ... (more hidden) ...\u001b[A\n",
      " ... (more hidden) ...\u001b[A\n",
      "DR 2:   6%|███████                                                                                                         | 1025/16384 [00:00<00:04, 3448.71it/s]\n"
     ]
    },
    {
     "name": "stdout",
     "output_type": "stream",
     "text": [
      "Stopping at Epoch 1025\n"
     ]
    },
    {
     "name": "stderr",
     "output_type": "stream",
     "text": [
      "\n",
      " ... (more hidden) ...\u001b[A\n",
      " ... (more hidden) ...\u001b[A\n",
      "DR 3:   6%|███████                                                                                                         | 1025/16384 [00:00<00:04, 3685.38it/s]\n"
     ]
    },
    {
     "name": "stdout",
     "output_type": "stream",
     "text": [
      "Stopping at Epoch 1025\n"
     ]
    },
    {
     "name": "stderr",
     "output_type": "stream",
     "text": [
      "\n",
      " ... (more hidden) ...\u001b[A\n",
      " ... (more hidden) ...\u001b[A\n",
      "DR 1:   6%|███████                                                                                                         | 1025/16384 [00:00<00:03, 3961.11it/s]\n"
     ]
    },
    {
     "name": "stdout",
     "output_type": "stream",
     "text": [
      "Stopping at Epoch 1025\n"
     ]
    },
    {
     "name": "stderr",
     "output_type": "stream",
     "text": [
      "\n",
      " ... (more hidden) ...\u001b[A\n",
      " ... (more hidden) ...\u001b[A\n",
      "DR 2:   6%|███████                                                                                                         | 1025/16384 [00:00<00:04, 3585.27it/s]\n"
     ]
    },
    {
     "name": "stdout",
     "output_type": "stream",
     "text": [
      "Stopping at Epoch 1025\n"
     ]
    },
    {
     "name": "stderr",
     "output_type": "stream",
     "text": [
      "\n",
      " ... (more hidden) ...\u001b[A\n",
      " ... (more hidden) ...\u001b[A\n",
      "DR 3:   6%|███████                                                                                                         | 1025/16384 [00:00<00:04, 3626.37it/s]\n"
     ]
    },
    {
     "name": "stdout",
     "output_type": "stream",
     "text": [
      "Stopping at Epoch 1025\n"
     ]
    },
    {
     "name": "stderr",
     "output_type": "stream",
     "text": [
      "\n",
      " ... (more hidden) ...\u001b[A\n",
      " ... (more hidden) ...\u001b[A\n",
      "DR 1:   6%|███████                                                                                                         | 1025/16384 [00:00<00:03, 3983.63it/s]\n"
     ]
    },
    {
     "name": "stdout",
     "output_type": "stream",
     "text": [
      "Stopping at Epoch 1025\n"
     ]
    },
    {
     "name": "stderr",
     "output_type": "stream",
     "text": [
      "\n",
      " ... (more hidden) ...\u001b[A\n",
      " ... (more hidden) ...\u001b[A\n",
      "DR 2:   6%|███████                                                                                                         | 1025/16384 [00:00<00:04, 3450.25it/s]\n"
     ]
    },
    {
     "name": "stdout",
     "output_type": "stream",
     "text": [
      "Stopping at Epoch 1025\n"
     ]
    },
    {
     "name": "stderr",
     "output_type": "stream",
     "text": [
      "\n",
      " ... (more hidden) ...\u001b[A\n",
      " ... (more hidden) ...\u001b[A\n",
      "DR 3:   6%|███████                                                                                                         | 1025/16384 [00:00<00:03, 4031.37it/s]\n"
     ]
    },
    {
     "name": "stdout",
     "output_type": "stream",
     "text": [
      "Stopping at Epoch 1025\n"
     ]
    },
    {
     "name": "stderr",
     "output_type": "stream",
     "text": [
      "\n",
      " ... (more hidden) ...\u001b[A\n",
      " ... (more hidden) ...\u001b[A\n",
      " ... (more hidden) ...\u001b[A\n",
      "DR 1:   6%|███████                                                                                                         | 1025/16384 [00:00<00:04, 3266.13it/s]\n"
     ]
    },
    {
     "name": "stdout",
     "output_type": "stream",
     "text": [
      "Stopping at Epoch 1025\n"
     ]
    },
    {
     "name": "stderr",
     "output_type": "stream",
     "text": [
      "\n",
      " ... (more hidden) ...\u001b[A\n",
      " ... (more hidden) ...\u001b[A\n",
      "DR 2:   6%|███████                                                                                                         | 1025/16384 [00:00<00:03, 3847.04it/s]\n"
     ]
    },
    {
     "name": "stdout",
     "output_type": "stream",
     "text": [
      "Stopping at Epoch 1025\n"
     ]
    },
    {
     "name": "stderr",
     "output_type": "stream",
     "text": [
      "\n",
      " ... (more hidden) ...\u001b[A\n",
      " ... (more hidden) ...\u001b[A\n",
      "DR 3:   6%|███████                                                                                                         | 1025/16384 [00:00<00:03, 4025.80it/s]\n"
     ]
    },
    {
     "name": "stdout",
     "output_type": "stream",
     "text": [
      "Stopping at Epoch 1025\n"
     ]
    },
    {
     "name": "stderr",
     "output_type": "stream",
     "text": [
      "\n",
      " ... (more hidden) ...\u001b[A\n",
      " ... (more hidden) ...\u001b[A\n",
      "DR 1:   6%|███████                                                                                                         | 1025/16384 [00:00<00:03, 4073.99it/s]\n"
     ]
    },
    {
     "name": "stdout",
     "output_type": "stream",
     "text": [
      "Stopping at Epoch 1025\n"
     ]
    },
    {
     "name": "stderr",
     "output_type": "stream",
     "text": [
      "\n",
      " ... (more hidden) ...\u001b[A\n",
      " ... (more hidden) ...\u001b[A\n",
      "DR 2:   6%|███████                                                                                                         | 1025/16384 [00:00<00:04, 3627.57it/s]\n"
     ]
    },
    {
     "name": "stdout",
     "output_type": "stream",
     "text": [
      "Stopping at Epoch 1025\n"
     ]
    },
    {
     "name": "stderr",
     "output_type": "stream",
     "text": [
      "\n",
      " ... (more hidden) ...\u001b[A\n",
      " ... (more hidden) ...\u001b[A\n",
      "DR 3:   6%|███████                                                                                                         | 1025/16384 [00:00<00:03, 3893.71it/s]\n"
     ]
    },
    {
     "name": "stdout",
     "output_type": "stream",
     "text": [
      "Stopping at Epoch 1025\n"
     ]
    },
    {
     "name": "stderr",
     "output_type": "stream",
     "text": [
      "\n",
      " ... (more hidden) ...\u001b[A\n",
      " ... (more hidden) ...\u001b[A\n",
      "DR 1:   6%|███████                                                                                                         | 1025/16384 [00:00<00:03, 4098.23it/s]\n"
     ]
    },
    {
     "name": "stdout",
     "output_type": "stream",
     "text": [
      "Stopping at Epoch 1025\n"
     ]
    },
    {
     "name": "stderr",
     "output_type": "stream",
     "text": [
      "\n",
      " ... (more hidden) ...\u001b[A\n",
      " ... (more hidden) ...\u001b[A\n",
      "DR 2:   6%|███████                                                                                                         | 1025/16384 [00:00<00:03, 3882.82it/s]\n"
     ]
    },
    {
     "name": "stdout",
     "output_type": "stream",
     "text": [
      "Stopping at Epoch 1025\n"
     ]
    },
    {
     "name": "stderr",
     "output_type": "stream",
     "text": [
      "\n",
      " ... (more hidden) ...\u001b[A\n",
      " ... (more hidden) ...\u001b[A\n",
      "DR 3:   6%|███████                                                                                                         | 1025/16384 [00:00<00:03, 3897.40it/s]"
     ]
    },
    {
     "name": "stdout",
     "output_type": "stream",
     "text": [
      "Stopping at Epoch 1025\n"
     ]
    },
    {
     "name": "stderr",
     "output_type": "stream",
     "text": [
      "\n"
     ]
    }
   ],
   "source": [
    "def set_truthful_bidders(agent_configs):\n",
    "    for agent_config in agent_configs:        \n",
    "        agent_config['bidder'] = {\n",
    "            'type': 'TruthfulBidder',\n",
    "            'kwargs': {}\n",
    "        }\n",
    "set_truthful_bidders(agent_configs)\n",
    "truthful_revenue, truthful_welfare, truthful_surplus = run_repeated_auctions()"
   ]
  },
  {
   "cell_type": "code",
   "execution_count": 12,
   "id": "50c735c4-7999-47b9-93c9-66afff096b1e",
   "metadata": {},
   "outputs": [
    {
     "data": {
      "text/plain": [
       "array([0.1478642 , 0.37692871, 0.50646876, 0.50817494, 0.52163981,\n",
       "       0.50696095, 0.51670985, 0.51897723, 0.52551993, 0.53251483,\n",
       "       0.52845093, 0.52723358, 0.53206727, 0.53209373, 0.52478447,\n",
       "       0.53222744, 0.53894868, 0.53817589, 0.52669503, 0.53532998,\n",
       "       0.53729663, 0.53325079, 0.53556152, 0.52189427, 0.52971396,\n",
       "       0.518844  , 0.54138688, 0.53782337, 0.526919  , 0.52513151])"
      ]
     },
     "execution_count": 12,
     "metadata": {},
     "output_type": "execute_result"
    }
   ],
   "source": [
    "shaded_welfare"
   ]
  },
  {
   "cell_type": "code",
   "execution_count": 13,
   "id": "6b609416-2637-43ac-9f75-0481c1f32016",
   "metadata": {},
   "outputs": [
    {
     "data": {
      "text/plain": [
       "(5373.000716755583, -109.90615357976922)"
      ]
     },
     "execution_count": 13,
     "metadata": {},
     "output_type": "execute_result"
    }
   ],
   "source": [
    "max(100 * (truthful_surplus-shaded_surplus)/shaded_surplus), min(100 * (truthful_surplus-shaded_surplus)/shaded_surplus)"
   ]
  },
  {
   "cell_type": "code",
   "execution_count": 14,
   "id": "50efc9f7-bbc8-4f70-ae11-de74c6086c21",
   "metadata": {},
   "outputs": [
    {
     "data": {
      "text/plain": [
       "5.058732755569709"
      ]
     },
     "execution_count": 14,
     "metadata": {},
     "output_type": "execute_result"
    }
   ],
   "source": [
    "100 * (truthful_welfare[-1]-shaded_welfare[-1])/shaded_welfare[-1]"
   ]
  },
  {
   "cell_type": "code",
   "execution_count": 16,
   "id": "17367a6a",
   "metadata": {},
   "outputs": [
    {
     "data": {
      "image/png": "[encoded data removed]",
      "text/plain": [
       "<Figure size 1500x400 with 3 Axes>"
      ]
     },
     "metadata": {},
     "output_type": "display_data"
    }
   ],
   "source": [
    "fontsize=16\n",
    "fig, axes = plt.subplots(1, 3, sharey='row', figsize=(15,4))\n",
    "# fig.grid()\n",
    "plt.style.use(\"ggplot\")\n",
    "plt.grid()\n",
    "axes[0].plot(truthful_welfare, label=f'Truthful')\n",
    "axes[1].plot(truthful_surplus, label=f'Truthful')\n",
    "axes[2].plot(truthful_revenue, label=f'Truthful')\n",
    "\n",
    "axes[0].plot(shaded_welfare, label=f'Shaded')\n",
    "axes[1].plot(shaded_surplus, label=f'Shaded')\n",
    "axes[2].plot(shaded_revenue, label=f'Shaded')\n",
    "plt.style.use(\"ggplot\")\n",
    "plt.grid()\n",
    "\n",
    "# axes[1].set_title('Effects of Bid-Shading in First-Price Auctions with Oracle bidders', fontsize=fontsize+4)\n",
    "for i in range(3):\n",
    "\n",
    "    axes[i].set_xlabel('Iterations', fontsize=fontsize)\n",
    "    axes[i].set_xticks(list(range(0,len(truthful_revenue),2)))\n",
    "    axes[i].grid(True, 'major', 'y', ls='--', lw=.5, c='k', alpha=.3)\n",
    "    axes[i].grid()\n",
    "    \n",
    "axes[0].set_ylabel('Social Welfare', fontsize=fontsize)\n",
    "axes[1].set_ylabel('Social Surplus', fontsize=fontsize)\n",
    "axes[2].set_ylabel('Auction Revenue', fontsize=fontsize)\n",
    "plt.style.use(\"ggplot\")\n",
    "plt.grid()\n",
    "\n",
    "legend = axes[2].legend(loc='upper left',\n",
    "                        bbox_to_anchor=(1.0, 1.0),\n",
    "                        fontsize=fontsize)\n",
    "legend.set_title('Strategy', prop={'size': fontsize})\n",
    "plt.grid()\n",
    "\n",
    "fig.tight_layout()\n",
    "plt.show()"
   ]
  },
  {
   "cell_type": "markdown",
   "id": "faeff496",
   "metadata": {},
   "source": [
    "The leftmost plot shows social welfare (the sum of generated welfare over all participants in the auction).\n",
    "Whether participants shade their bids (or not) does not have affect welfare: indeed, the value that is generated by the ads that are shown remains unchanged.\n",
    "\n",
    "The middle plot shows social surplus.\n",
    "Bidding truthfully in a first-price auction gives an expected surplus of 0.\n",
    "As bidders start to shade their bids, we can see that bidders succesfully generate surplus.\n",
    "\n",
    "The rightmost plot shows revenue for the auctioneer.\n",
    "When bidders bid truthfully, the monetary value for all generated welfare goes to the auctioneer.\n",
    "As bidders start to shade their bids, we can see that revenue diminishes as surplus increases."
   ]
  },
  {
   "cell_type": "code",
   "execution_count": 61,
   "id": "3621f7c1-030f-44af-a85d-81368d321d3c",
   "metadata": {},
   "outputs": [],
   "source": [
    "class OracleAllocator:\n",
    "    def __init__(self, rng, **kwargs):\n",
    "        print(rng, kwargs)\n",
    "        pass\n",
    "\n",
    "class PyTorchLogisticRegressionAllocator:\n",
    "    pass"
   ]
  },
  {
   "cell_type": "code",
   "execution_count": 62,
   "id": "bfe5f2fe-4642-4d95-b37b-4346e66bb694",
   "metadata": {},
   "outputs": [],
   "source": [
    "from enum import Enum, auto\n",
    "# from src.ad_allocation.bidder_allocation import PyTorchLogisticRegressionAllocator, OracleAllocator\n",
    "\n",
    "class AdAllocationEnum(Enum):\n",
    "    ORACLE_BIDDER_ALLOCATOR = auto()\n",
    "    PYTORCH_LOGISTIC_REGRESSION_ALLOCATOR = auto()"
   ]
  },
  {
   "cell_type": "code",
   "execution_count": null,
   "id": "a6cdaca2-62fb-4d5a-b3b7-2ad3cd3de85d",
   "metadata": {},
   "outputs": [],
   "source": []
  },
  {
   "cell_type": "code",
   "execution_count": 63,
   "id": "46492c5b-7f83-4f17-b6a1-4bb4911933f2",
   "metadata": {},
   "outputs": [
    {
     "data": {
      "text/plain": [
       "<AdAllocationEnum.ORACLE_BIDDER_ALLOCATOR: 1>"
      ]
     },
     "execution_count": 63,
     "metadata": {},
     "output_type": "execute_result"
    }
   ],
   "source": [
    "AdAllocationEnum[\"ORACLE_BIDDER_ALLOCATOR\"]"
   ]
  },
  {
   "cell_type": "code",
   "execution_count": 64,
   "id": "31ef8956-f539-4307-ad35-99223de180ad",
   "metadata": {},
   "outputs": [],
   "source": [
    "AdAllocationEnum[\"ORACLE_BIDDER_ALLOCATOR\"]: 2"
   ]
  },
  {
   "cell_type": "code",
   "execution_count": null,
   "id": "2a1150c2-5213-4ae0-bec8-0587543cb5ad",
   "metadata": {},
   "outputs": [],
   "source": []
  },
  {
   "cell_type": "code",
   "execution_count": 65,
   "id": "8fc6889f-902d-4cb5-9552-067b17d0f388",
   "metadata": {},
   "outputs": [
    {
     "name": "stdout",
     "output_type": "stream",
     "text": [
      "3 {'c': 3232, 'd': 12, 'e': 12, 'k': 12}\n"
     ]
    },
    {
     "data": {
      "text/plain": [
       "<__main__.OracleAllocator at 0x2ab89e110>"
      ]
     },
     "execution_count": 65,
     "metadata": {},
     "output_type": "execute_result"
    }
   ],
   "source": [
    "OracleAllocator(3, c=3232, d=12, e=12, k=12)"
   ]
  },
  {
   "cell_type": "code",
   "execution_count": null,
   "id": "b5fda7ec-21e7-438e-a645-228718228bb9",
   "metadata": {},
   "outputs": [],
   "source": []
  }
 ],
 "metadata": {
  "kernelspec": {
   "display_name": "Python 3 (ipykernel)",
   "language": "python",
   "name": "python3"
  },
  "language_info": {
   "codemirror_mode": {
    "name": "ipython",
    "version": 3
   },
   "file_extension": ".py",
   "mimetype": "text/x-python",
   "name": "python",
   "nbconvert_exporter": "python",
   "pygments_lexer": "ipython3",
   "version": "3.11.9"
  }
 },
 "nbformat": 4,
 "nbformat_minor": 5
}
